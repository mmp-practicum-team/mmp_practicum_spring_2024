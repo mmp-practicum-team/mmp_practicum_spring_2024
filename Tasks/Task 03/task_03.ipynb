{
 "cells": [
  {
   "cell_type": "markdown",
   "metadata": {},
   "source": [
    "# `Практикум по программированию на языке Python`\n",
    "\n",
    "## `Задание 03. Рекуррентные Нейронные Сети. Dropout. LM`\n",
    "\n",
    "#### Фамилия, имя: \n",
    "\n",
    "Дата выдачи: <span style=\"color:red\">__30 марта 23:59__</span>.\n",
    "\n",
    "Мягкий дедлайн: <span style=\"color:red\">__13 апреля 23:59__</span>.\n",
    "\n",
    "Стоимость: __10 баллов__ (основная часть заданий) + __7 баллов__ (дополнительные задания).\n",
    "\n",
    "<span style=\"color:red\">__В ноутбуке все клетки должны выполняться без ошибок при последовательном их выполнении.__</span>\n",
    "\n",
    "#### `Москва, 2024`"
   ]
  },
  {
   "cell_type": "markdown",
   "metadata": {},
   "source": [
    "Данное задание будет состоять из двух частей:\n",
    "1. Применение рекуррентной сети для решения задачи классификации текста. Более конкретно -- предсказания рейтинга отзыва фильма.\n",
    "2. Простейшая лингвистическая модель для генерации текста на основе LSTM."
   ]
  },
  {
   "cell_type": "markdown",
   "metadata": {},
   "source": [
    "При выполнении задания вы обучите LSTM с разным уровнем \"коробочности\", а также познакомитесь с различными способами применения DropOut к рекуррентным архитектурам. В рекуррентных архитектурах вариантов, куда можно наложить бинарную маску шума, гораздо больше, чем в нейросетях прямого прохода.\n",
    "\n",
    "Во второй части вы попробуете реализовать простейший рекуррентный декодер для генерации текстов.\n",
    "\n",
    "Задание сделано так, чтобы его можно было выполнять на CPU, однако RNN - это ресурсоёмкая вещь, поэтому на GPU с ними работать приятнее. Можете попробовать использовать [https://colab.research.google.com](https://colab.research.google.com) - бесплатное облако с GPU."
   ]
  },
  {
   "cell_type": "markdown",
   "metadata": {},
   "source": [
    "**Для корректного отображения картинок, вам может понадобится сделать ноутбук доверенным (Trusted) в правом верхнем углу**"
   ]
  },
  {
   "cell_type": "markdown",
   "metadata": {},
   "source": [
    "# `Часть 0. Загрузка и предобработка данных (1 балл)`"
   ]
  },
  {
   "cell_type": "markdown",
   "metadata": {},
   "source": [
    "## `Рекомендуемые гиперпараметры`"
   ]
  },
  {
   "cell_type": "code",
   "execution_count": 1,
   "metadata": {
    "ExecuteTime": {
     "end_time": "2024-03-30T21:23:57.654183Z",
     "start_time": "2024-03-30T21:23:57.649242Z"
    }
   },
   "outputs": [],
   "source": [
    "max_length = 200\n",
    "top_n_words = 5000\n",
    "\n",
    "hidden_dim = 128\n",
    "embedding_dim = 32\n",
    "\n",
    "num_epochs = 15\n",
    "batch_size = 64\n",
    "learning_rate = 1e-3"
   ]
  },
  {
   "cell_type": "markdown",
   "metadata": {},
   "source": [
    "Первое, что нужно сделать — скачать, предобработать данные и организовать их таким образом, чтобы их можно было подавать в нейронную сеть.\n",
    "\n",
    "Для обеих частей задания мы будем использовать [**Large Movie Review Dataset**](https://ai.stanford.edu/~amaas/data/sentiment/)."
   ]
  },
  {
   "cell_type": "markdown",
   "metadata": {},
   "source": [
    "## `Загрузка и предобработка данных`"
   ]
  },
  {
   "cell_type": "markdown",
   "metadata": {},
   "source": [
    "Загрузите данные по ссылке выше. (**tip**: используйте `wget`)"
   ]
  },
  {
   "cell_type": "code",
   "execution_count": 2,
   "metadata": {
    "ExecuteTime": {
     "end_time": "2024-03-30T21:24:30.812994Z",
     "start_time": "2024-03-30T21:23:57.655622Z"
    }
   },
   "outputs": [
    {
     "name": "stdout",
     "output_type": "stream",
     "text": [
      "--2024-03-31 00:23:57--  https://ai.stanford.edu/~amaas/data/sentiment/aclImdb_v1.tar.gz\n",
      "Resolving ai.stanford.edu (ai.stanford.edu)... 171.64.68.10\n",
      "Connecting to ai.stanford.edu (ai.stanford.edu)|171.64.68.10|:443... connected.\n",
      "HTTP request sent, awaiting response... 200 OK\n",
      "Length: 84125825 (80M) [application/x-gzip]\n",
      "Saving to: ‘aclImdb_v1.tar.gz.3’\n",
      "\n",
      "aclImdb_v1.tar.gz.3 100%[===================>]  80.23M  6.36MB/s    in 32s     \n",
      "\n",
      "2024-03-31 00:24:30 (2.52 MB/s) - ‘aclImdb_v1.tar.gz.3’ saved [84125825/84125825]\n",
      "\n"
     ]
    }
   ],
   "source": [
    "# YOUR CODE HERE\n",
    "..."
   ]
  },
  {
   "cell_type": "markdown",
   "metadata": {},
   "source": [
    "Распакуйте скачанные данные в папку `aclImdb` (**tip:** используйте `tar`)"
   ]
  },
  {
   "cell_type": "code",
   "execution_count": 3,
   "metadata": {
    "ExecuteTime": {
     "end_time": "2024-03-30T21:24:34.122786Z",
     "start_time": "2024-03-30T21:24:30.814849Z"
    }
   },
   "outputs": [],
   "source": [
    "# YOUR CODE HERE\n",
    "..."
   ]
  },
  {
   "cell_type": "markdown",
   "metadata": {},
   "source": [
    "Посмотрите в файле `./aclImdb/README` как организованы данные:"
   ]
  },
  {
   "cell_type": "code",
   "execution_count": 4,
   "metadata": {
    "ExecuteTime": {
     "end_time": "2024-03-30T21:24:34.232726Z",
     "start_time": "2024-03-30T21:24:34.124249Z"
    }
   },
   "outputs": [
    {
     "name": "stdout",
     "output_type": "stream",
     "text": [
      "This is not the typical Mel Brooks film. It was much less slapstick than most of his movies and actually had a plot that was followable. Leslie Ann Warren made the movie, she is such a fantastic, under-rated actress. There were some moments that could have been fleshed out a bit more, and some scenes that could probably have been cut to make the room to do so, but all in all, this is worth the price to rent and see it. The acting was good overall, Brooks himself did a good job without his characteristic speaking to directly to the audience. Again, Warren was the best actor in the movie, but \"Fume\" and \"Sailor\" both played their parts well."
     ]
    }
   ],
   "source": [
    "! cat ./aclImdb/train/pos/10003_8.txt"
   ]
  },
  {
   "cell_type": "code",
   "execution_count": 5,
   "metadata": {
    "ExecuteTime": {
     "end_time": "2024-03-30T21:24:34.236779Z",
     "start_time": "2024-03-30T21:24:34.234575Z"
    }
   },
   "outputs": [],
   "source": [
    "test_data_path = './aclImdb/test/'\n",
    "train_data_path = './aclImdb/train/'"
   ]
  },
  {
   "cell_type": "code",
   "execution_count": 6,
   "metadata": {
    "ExecuteTime": {
     "end_time": "2024-03-30T21:24:35.529898Z",
     "start_time": "2024-03-30T21:24:34.238134Z"
    }
   },
   "outputs": [
    {
     "name": "stderr",
     "output_type": "stream",
     "text": [
      "[nltk_data] Downloading package stopwords to\n",
      "[nltk_data]     /home/maksim64/nltk_data...\n",
      "[nltk_data]   Package stopwords is already up-to-date!\n"
     ]
    }
   ],
   "source": [
    "import os\n",
    "from functools import partial\n",
    "from collections import defaultdict\n",
    "\n",
    "from IPython.display import Markdown, display\n",
    "\n",
    "import nltk\n",
    "nltk.download('stopwords')\n",
    "\n",
    "import regex\n",
    "import numpy as np\n",
    "\n",
    "import torch\n",
    "import torchtext\n",
    "from torch.utils.data import Dataset, DataLoader\n",
    "\n",
    "torch.backends.cudnn.benchmark = True\n",
    "torch.use_deterministic_algorithms(False)\n",
    "\n",
    "torch.autograd.profiler.profile(False)\n",
    "torch.autograd.profiler.emit_nvtx(False)\n",
    "torch.autograd.set_detect_anomaly(False)\n",
    "\n",
    "torch.set_float32_matmul_precision('high')\n",
    "torch.backends.cuda.matmul.allow_tf32 = True"
   ]
  },
  {
   "cell_type": "markdown",
   "metadata": {},
   "source": [
    "Стандартной предобработкой данных является токенизация текстов. Полученные токены можно будет закодировать и затем подавать на вход нейронной сети. Ключевым моментом, который влияет на скорость работы нейросети и её размер в памяти — размер словаря, используемого при токенизации. Для задачи классификации мы можем убрать часть слов (стоп слова, редкие слова), ускорив обучение без потери в качестве."
   ]
  },
  {
   "cell_type": "code",
   "execution_count": 7,
   "metadata": {
    "ExecuteTime": {
     "end_time": "2024-03-30T21:24:35.534374Z",
     "start_time": "2024-03-30T21:24:35.531641Z"
    }
   },
   "outputs": [],
   "source": [
    "STOPWORDS = nltk.corpus.stopwords.words('english')"
   ]
  },
  {
   "cell_type": "markdown",
   "metadata": {},
   "source": [
    "Реализуйте функцию для токенизации текста. Выполнять токенизацию можно по-разному, но в данном задании предлагается это делать следующим образом:\n",
    "1. Привести текст к нижнему регистру\n",
    "2. Убрать html разметку из текстов (`<br />`, ...)\n",
    "3. Убрать все символы кроме латинских букв\n",
    "4. Разбить строку по пробелам\n",
    "5. Убрать стоп слова"
   ]
  },
  {
   "cell_type": "code",
   "execution_count": 8,
   "metadata": {
    "ExecuteTime": {
     "end_time": "2024-03-30T21:24:35.544159Z",
     "start_time": "2024-03-30T21:24:35.535637Z"
    }
   },
   "outputs": [],
   "source": [
    "def tokenize(text):\n",
    "    \"\"\"\n",
    "    :param str text: Input text \n",
    "    :return List[str]: List of words\n",
    "    \"\"\"\n",
    "    # YOUR CODE HERE\n",
    "    ..."
   ]
  },
  {
   "cell_type": "code",
   "execution_count": 9,
   "metadata": {
    "ExecuteTime": {
     "end_time": "2024-03-30T21:24:35.555455Z",
     "start_time": "2024-03-30T21:24:35.545516Z"
    }
   },
   "outputs": [
    {
     "data": {
      "text/plain": [
       "['hello', 'words']"
      ]
     },
     "execution_count": 9,
     "metadata": {},
     "output_type": "execute_result"
    }
   ],
   "source": [
    "tokenize('1. Hello <br /> words!! <br />')"
   ]
  },
  {
   "cell_type": "markdown",
   "metadata": {},
   "source": [
    "Теперь мы можем создать словарь, с помощью которого мы будем численно кодировать токены из текста и наоборот.\n",
    "\n",
    "Удобной обёрткой для создания словарей является класс `torchtext.vocab.Vocab` и фабрика для создания таких классов `torchtext.vocab.vocab`."
   ]
  },
  {
   "cell_type": "code",
   "execution_count": 10,
   "metadata": {
    "ExecuteTime": {
     "end_time": "2024-03-30T21:24:35.583404Z",
     "start_time": "2024-03-30T21:24:35.557077Z"
    },
    "scrolled": false
   },
   "outputs": [],
   "source": [
    "torchtext.vocab.vocab??"
   ]
  },
  {
   "cell_type": "markdown",
   "metadata": {
    "ExecuteTime": {
     "end_time": "2021-04-01T19:51:55.300753Z",
     "start_time": "2021-04-01T19:51:55.275188Z"
    }
   },
   "source": [
    "Чтобы создать такой словарь, сначала нужно создать словарь со всеми токенами в тексте и их частотами встречаемости:"
   ]
  },
  {
   "cell_type": "code",
   "execution_count": 11,
   "metadata": {
    "ExecuteTime": {
     "end_time": "2024-03-30T21:24:48.727626Z",
     "start_time": "2024-03-30T21:24:35.585762Z"
    }
   },
   "outputs": [],
   "source": [
    "counter = defaultdict(int)\n",
    "\n",
    "for path in ['./aclImdb/test/neg', './aclImdb/test/pos', './aclImdb/train/neg', './aclImdb/train/pos']:\n",
    "    for file_path in os.listdir(path):\n",
    "        text = open(os.path.join(path, file_path), 'r', encoding='utf-8', errors='ignore').read().strip()\n",
    "        for token in tokenize(text):\n",
    "            counter[token] += 1"
   ]
  },
  {
   "cell_type": "markdown",
   "metadata": {},
   "source": [
    "Для работы с текстами нам необходимо зарезервировать два специальных токена:\n",
    "1. `<pad>` для токена означающего паддинг\n",
    "2. `<unk>` для токенов, которые отсутствуют в словаре"
   ]
  },
  {
   "cell_type": "code",
   "execution_count": 12,
   "metadata": {
    "ExecuteTime": {
     "end_time": "2024-03-30T21:24:48.731428Z",
     "start_time": "2024-03-30T21:24:48.729316Z"
    }
   },
   "outputs": [],
   "source": [
    "specials = ['<pad>', '<unk>']\n",
    "for special in specials:\n",
    "    counter[special] = 0"
   ]
  },
  {
   "cell_type": "markdown",
   "metadata": {},
   "source": [
    "Создайте словарь из словаря частот `counter`. Наименьшие *id* отдайте под специальные токены. \n",
    "\n",
    "Отбросьте низкочастотные слова, оставив только `top_n_words` слов. Можете использовать любой способ реализации этого условия, например:\n",
    "1. Оставить в словаре `counter` нужное число слов\n",
    "2. Подобрать параметр `min_freq`, чтобы оставшееся число слов было близко к необходимому порогу"
   ]
  },
  {
   "cell_type": "code",
   "execution_count": 13,
   "metadata": {
    "ExecuteTime": {
     "end_time": "2024-03-30T21:24:48.744719Z",
     "start_time": "2024-03-30T21:24:48.732795Z"
    }
   },
   "outputs": [
    {
     "data": {
      "text/plain": [
       "'0.17.2+cpu'"
      ]
     },
     "execution_count": 13,
     "metadata": {},
     "output_type": "execute_result"
    }
   ],
   "source": [
    "torchtext.__version__"
   ]
  },
  {
   "cell_type": "code",
   "execution_count": 14,
   "metadata": {
    "ExecuteTime": {
     "end_time": "2024-03-30T21:24:48.792756Z",
     "start_time": "2024-03-30T21:24:48.746601Z"
    }
   },
   "outputs": [],
   "source": [
    "# YOUR CODE HERE\n",
    "vocab = ...\n",
    "..."
   ]
  },
  {
   "cell_type": "code",
   "execution_count": 15,
   "metadata": {
    "ExecuteTime": {
     "end_time": "2024-03-30T21:24:48.802810Z",
     "start_time": "2024-03-30T21:24:48.794116Z"
    }
   },
   "outputs": [
    {
     "data": {
      "text/plain": [
       "[0, 1]"
      ]
     },
     "execution_count": 15,
     "metadata": {},
     "output_type": "execute_result"
    }
   ],
   "source": [
    "vocab.lookup_indices(['<pad>', '<unk>'])"
   ]
  },
  {
   "cell_type": "code",
   "execution_count": 16,
   "metadata": {
    "ExecuteTime": {
     "end_time": "2024-03-30T21:24:48.811851Z",
     "start_time": "2024-03-30T21:24:48.804530Z"
    }
   },
   "outputs": [
    {
     "data": {
      "text/plain": [
       "[1, 5, 1, 447]"
      ]
     },
     "execution_count": 16,
     "metadata": {},
     "output_type": "execute_result"
    }
   ],
   "source": [
    "vocab.lookup_indices(['this', 'film', 'was', 'awful'])"
   ]
  },
  {
   "cell_type": "markdown",
   "metadata": {},
   "source": [
    "Теперь мы готовы создать обёртку-датасет для наших данных. \n",
    "\n",
    "Необходимо добавить несколько опции, которые понадобятся во второй части задания:\n",
    "1. Ограничение на максимальную длину текста в токенах. Если текст оказывается длиннее, то последние токены отбрасываются\n",
    "2. Возможность добавить в специальные токены `<sos>`, `<eos>` в начало и конец токенизированного текста\n",
    "    \n",
    "**tips:**\n",
    "1. Обратите особое внимание, что у длинных текстов не должен обрезаться паддинг\n",
    "2. В исходных данных рейтинг закодирован в названии файла в виде числа от $1$ до $10$. Для удобства, вычтите $1$, чтобы рейтинг был от $0$ до $9$"
   ]
  },
  {
   "cell_type": "code",
   "execution_count": 17,
   "metadata": {
    "ExecuteTime": {
     "end_time": "2024-03-30T21:24:48.821229Z",
     "start_time": "2024-03-30T21:24:48.813451Z"
    }
   },
   "outputs": [],
   "source": [
    "class LargeMovieReviewDataset(Dataset):\n",
    "    def __init__(self, data_path, vocab, max_len, pad_sos=False, pad_eos=False):\n",
    "        \"\"\"\n",
    "        :param str data_path: Path to folder with one of the data splits (train or test)\n",
    "        :param torchtext.vocab.Vocab vocab: dictionary with lookup_indices method\n",
    "        :param int max_len: Maximum length of tokenized text\n",
    "        :param bool pad_sos: If True pad sequence at the beginning with <sos> \n",
    "        :param bool pad_eos: If True pad sequence at the end with <eos>         \n",
    "        \"\"\"\n",
    "        super().__init__()\n",
    "        \n",
    "        self.pad_sos = pad_sos\n",
    "        if self.pad_sos:\n",
    "            self.sos_id = vocab.lookup_indices(['<sos>'])[0]\n",
    "        self.pad_eos = pad_eos\n",
    "        if self.pad_eos:\n",
    "            self.eos_id = vocab.lookup_indices(['<eos>'])[0]\n",
    "        \n",
    "        self.vocab = vocab\n",
    "        self.max_len = max_len\n",
    "        self.data_path = data_path\n",
    "        self.negative_path = os.path.join(data_path, 'neg')\n",
    "        self.positive_path = os.path.join(data_path, 'pos')\n",
    "        \n",
    "        self.negative_paths = []\n",
    "        self.positive_paths = []\n",
    "\n",
    "        for file_path in os.listdir(self.negative_path):\n",
    "            self.negative_paths.append(os.path.join(self.negative_path, file_path))\n",
    "\n",
    "        for file_path in os.listdir(self.positive_path):\n",
    "            self.positive_paths.append(os.path.join(self.positive_path, file_path))\n",
    "        \n",
    "        self.texts = []\n",
    "        self.tokens = []\n",
    "        self.ratings = []\n",
    "        self.labels = [0] * len(self.negative_paths) + [1] * len(self.positive_paths)\n",
    "        \n",
    "        # Read each file in data_path, tokenize it, get tokens ids, its rating and store\n",
    "        for path in self.negative_paths + self.positive_paths:\n",
    "            # YOUR CODE HERE\n",
    "            ...\n",
    "        \n",
    "    def __getitem__(self, idx):\n",
    "        \"\"\"\n",
    "        :param int idx: index of object in dataset\n",
    "        :return dict: Dictionary with all useful object data \n",
    "            {\n",
    "                'text' str: unprocessed text,\n",
    "                'label' torch.Tensor(dtype=torch.long): sentiment of the text (0 for negative, 1 for positive)\n",
    "                'rating' torch.Tensor(dtype=torch.long): rating of the text\n",
    "                'tokens' torch.Tensor(dtype=torch.long): tensor of tokens ids for the text\n",
    "                'tokens_len' torch.Tensor(dtype=torch.long): number of tokens\n",
    "            }\n",
    "        \"\"\"\n",
    "        # YOUR CODE HERE\n",
    "        # Do not forget to add padding if needed!\n",
    "        ...\n",
    "    \n",
    "    def __len__(self):\n",
    "        \"\"\"\n",
    "        :return int: number of objects in dataset \n",
    "        \"\"\"\n",
    "        # YOUR CODE HERE\n",
    "        ..."
   ]
  },
  {
   "cell_type": "markdown",
   "metadata": {},
   "source": [
    "Создайте датасеты для тестовой и обучающей выборки. \n",
    "\n",
    "Обратите внимание, что для задачи классификации нам не потребуется паддинг с помощью `<sos>`, `<eos>`. \n",
    "\n",
    "Не забудьте обрезать длинные тексты, передав параметр `max_length`."
   ]
  },
  {
   "cell_type": "code",
   "execution_count": 18,
   "metadata": {
    "ExecuteTime": {
     "end_time": "2024-03-30T21:25:02.011587Z",
     "start_time": "2024-03-30T21:24:48.822597Z"
    }
   },
   "outputs": [],
   "source": [
    "# YOUR CODE HERE\n",
    "test_dataset = ...\n",
    "train_dataset = ..."
   ]
  },
  {
   "cell_type": "markdown",
   "metadata": {},
   "source": [
    "Посмотрим, как выглядит объект в датасете:"
   ]
  },
  {
   "cell_type": "code",
   "execution_count": 19,
   "metadata": {
    "ExecuteTime": {
     "end_time": "2024-03-30T21:25:02.017429Z",
     "start_time": "2024-03-30T21:25:02.013091Z"
    }
   },
   "outputs": [
    {
     "data": {
      "text/plain": [
       "{'text': 'This is possibly the single worst film i have ever seen - it has no good features at all.<br /><br />It looked as if it was made in about 20 minutes with the other time filled with title graphics.<br /><br />The lead male transformed from deaths door to superman - eh you what<br /><br />Other than that totally predictable and not at all interesting.<br /><br />I left the cinema feeling cheated.<br /><br />Needless to say i could not reccoemnd this film to anyone',\n",
       " 'label': tensor(0),\n",
       " 'tokens': tensor([ 2,  3,  4,  5,  6,  7,  8,  9, 10, 11, 12, 13, 14, 15, 16, 17, 18, 19,\n",
       "         20, 21, 22, 23, 24, 25, 26, 27, 28, 29, 30, 31, 32, 33,  1,  5, 34]),\n",
       " 'tokens_len': tensor(35),\n",
       " 'rating': tensor(0)}"
      ]
     },
     "execution_count": 19,
     "metadata": {},
     "output_type": "execute_result"
    }
   ],
   "source": [
    "test_dataset[0]"
   ]
  },
  {
   "cell_type": "markdown",
   "metadata": {},
   "source": [
    "Теперь нам нужно создать `DataLoader` для наших данных. `DataLoader` умеет из коробки объединять список объектов из датасета в один батч, даже когда датасет возвращает словарь тензоров. Однако, это работает только в случае когда все эти тензоры имеют один и тот же размер во всех батчах. В нашем случае, это не так, так как разные тексты могут иметь разную длину.\n",
    "\n",
    "Чтобы обойти эту проблему у `DataLoader` есть параметр `collate_fn`, который позволяет задать функцию для объединения списка объектов в один батч."
   ]
  },
  {
   "cell_type": "markdown",
   "metadata": {},
   "source": [
    "Чтобы объединить несколько тензоров разной длины в один можно использовать функцию `torch.nn.utils.rnn.pad_sequence`\n",
    "\n",
    "Обратите внимание на её аргументы:\n",
    "1. `batch_first` определяет по какой оси \"складывать\" тензоры. Предпочтительнее использовать `batch_first=False` так как это может упростить выполнение задания в дальнейшем \n",
    "2. `padding_value` — число, которое будет использоваться в качестве паддинга, чтобы сделать все тензоры одинаковой длины"
   ]
  },
  {
   "cell_type": "code",
   "execution_count": 20,
   "metadata": {
    "ExecuteTime": {
     "end_time": "2024-03-30T21:25:02.026862Z",
     "start_time": "2024-03-30T21:25:02.018970Z"
    }
   },
   "outputs": [
    {
     "data": {
      "text/plain": [
       "tensor([[ 1,  4,  6],\n",
       "        [ 2,  5,  7],\n",
       "        [ 3, -1,  8],\n",
       "        [-1, -1,  9]])"
      ]
     },
     "execution_count": 20,
     "metadata": {},
     "output_type": "execute_result"
    }
   ],
   "source": [
    "torch.nn.utils.rnn.pad_sequence([\n",
    "    torch.tensor([1, 2, 3]),\n",
    "    torch.tensor([4, 5]),\n",
    "    torch.tensor([6, 7, 8, 9])\n",
    "], batch_first=False, padding_value=-1)"
   ]
  },
  {
   "cell_type": "code",
   "execution_count": 21,
   "metadata": {
    "ExecuteTime": {
     "end_time": "2024-03-30T21:25:02.036500Z",
     "start_time": "2024-03-30T21:25:02.027955Z"
    }
   },
   "outputs": [],
   "source": [
    "def collate_fn(batch, padding_value, batch_first=False):\n",
    "    \"\"\"\n",
    "    :param List[Dict] batch: List of objects from dataset\n",
    "    :param int padding_value: Value that will be used to pad tokens\n",
    "    :param bool batch_first: If True resulting tensor with tokens must have shape [B, T] otherwise [T, B]\n",
    "    :return dict: Dictionary with all data collated\n",
    "        {\n",
    "            'ratings' torch.Tensor(dtype=torch.long): rating of the text for each object in batch\n",
    "            'labels' torch.Tensor(dtype=torch.long): sentiment of the text for each object in batch\n",
    "            \n",
    "            'texts' List[str]: All texts in one list\n",
    "            'tokens' torch.Tensor(dtype=torch.long): tensor of tokens ids padded with @padding_value\n",
    "            'tokens_lens' torch.Tensor(dtype=torch.long): number of tokens for each object in batch\n",
    "        }\n",
    "    \"\"\"\n",
    "    # YOUR CODE HERE\n",
    "    ..."
   ]
  },
  {
   "cell_type": "markdown",
   "metadata": {},
   "source": [
    "Создайте даталоадеры с использованием `collate_fn`.\n",
    "\n",
    "**tips**:\n",
    "1. Передать в `collate_fn` правильное значение паддинга можно, например, с помощью `functools.partial`\n",
    "2. Если вы работаете в Google Colab, то, возможно, вам будет необходимо установить `num_workers=0` во избежание падения ноутбука."
   ]
  },
  {
   "cell_type": "code",
   "execution_count": 22,
   "metadata": {
    "ExecuteTime": {
     "end_time": "2024-03-30T21:25:02.047505Z",
     "start_time": "2024-03-30T21:25:02.037806Z"
    }
   },
   "outputs": [],
   "source": [
    "# YOUR CODE HERE\n",
    "test_dataloader = ...\n",
    "train_dataloader = ..."
   ]
  },
  {
   "cell_type": "markdown",
   "metadata": {},
   "source": [
    "Посмотрим на какой-нибудь батч:"
   ]
  },
  {
   "cell_type": "code",
   "execution_count": 23,
   "metadata": {
    "ExecuteTime": {
     "end_time": "2024-03-30T21:25:02.506858Z",
     "start_time": "2024-03-30T21:25:02.048584Z"
    }
   },
   "outputs": [
    {
     "data": {
      "text/plain": [
       "(dict_keys(['labels', 'ratings', 'texts', 'tokens', 'tokens_lens']),\n",
       " tensor([0, 0, 0, 0, 0, 0, 0, 0, 0, 0, 0, 0, 0, 0, 0, 0, 0, 0, 0, 0, 0, 0, 0, 0,\n",
       "         0, 0, 0, 0, 0, 0, 0, 0, 0, 0, 0, 0, 0, 0, 0, 0, 0, 0, 0, 0, 0, 0, 0, 0,\n",
       "         0, 0, 0, 0, 0, 0, 0, 0, 0, 0, 0, 0, 0, 0, 0, 0]),\n",
       " tensor([0, 0, 1, 1, 3, 3, 0, 0, 2, 3, 0, 3, 0, 2, 1, 0, 0, 0, 2, 2, 0, 2, 3, 2,\n",
       "         0, 0, 0, 0, 0, 3, 3, 1, 3, 1, 3, 3, 1, 1, 3, 2, 3, 0, 0, 1, 1, 0, 1, 0,\n",
       "         0, 0, 0, 0, 3, 0, 2, 1, 0, 2, 1, 0, 1, 3, 0, 1]),\n",
       " tensor([[   2,   35,  134,  ...,  207, 2896, 1289],\n",
       "         [   3,   36,  135,  ...,   47,  826,  255],\n",
       "         [   4,   37,  136,  ..., 1113,   39,    8],\n",
       "         ...,\n",
       "         [   0,    0,    0,  ...,    0,    0,    0],\n",
       "         [   0,    0,    0,  ...,    0,    0,    0],\n",
       "         [   0,    0,    0,  ...,    0,    0,    0]]),\n",
       " tensor([ 35, 121,  81,  69,  72,  77, 156,  50,  63, 200,  58,  35,  47, 132,\n",
       "         114,  84, 121, 118,  98, 177,  70,  98,  62, 200, 200,  37,  54,  61,\n",
       "         112,  50,  82,  74, 110,  55, 111, 200, 200,  98, 200, 130,  75,  21,\n",
       "          69,  93,  57, 130, 166, 143, 200,  72,  96,  72, 106, 192, 200,  69,\n",
       "          70, 111, 151,  73,  97, 148,  88,  77]))"
      ]
     },
     "execution_count": 23,
     "metadata": {},
     "output_type": "execute_result"
    }
   ],
   "source": [
    "batch = next(iter(test_dataloader))\n",
    "batch.keys(), batch['labels'], batch['ratings'], batch['tokens'], batch['tokens_lens']"
   ]
  },
  {
   "cell_type": "markdown",
   "metadata": {},
   "source": [
    "# `Часть 1. Классификация текстов (4 балла)`"
   ]
  },
  {
   "cell_type": "markdown",
   "metadata": {},
   "source": [
    "## `Сборка и обучение RNN в pytorch (1 балл)`"
   ]
  },
  {
   "cell_type": "markdown",
   "metadata": {},
   "source": [
    "Создадим переменные для device-agnostic кода:"
   ]
  },
  {
   "cell_type": "code",
   "execution_count": 24,
   "metadata": {
    "ExecuteTime": {
     "end_time": "2024-03-30T21:25:02.686316Z",
     "start_time": "2024-03-30T21:25:02.508620Z"
    }
   },
   "outputs": [
    {
     "name": "stdout",
     "output_type": "stream",
     "text": [
      "Using device: cuda:0, dtype: torch.float32\n"
     ]
    }
   ],
   "source": [
    "dtype, device, cuda_device_id = torch.float32, None, 0\n",
    "os.environ[\"CUDA_VISIBLE_DEVICES\"] = '{0}'.format(str(cuda_device_id) if cuda_device_id is not None else '')\n",
    "if cuda_device_id is not None and torch.cuda.is_available():\n",
    "    device = 'cuda:{0:d}'.format(0)\n",
    "else:\n",
    "    device = torch.device('cpu')\n",
    "print(f'Using device: {device}, dtype: {dtype}')"
   ]
  },
  {
   "cell_type": "markdown",
   "metadata": {},
   "source": [
    "Наша нейросеть будет обрабатывать входную последовательность по словам (word level). Мы будем использовать простую и стандартную рекуррентную архитектуру для классификации:\n",
    "1. Слой представлений, превращающий id токена в вектор-эмбеддинг этого слова\n",
    "2. Слой LSTM\n",
    "3. Полносвязный слой, предсказывающий выход по последнему скрытому состоянию\n",
    "\n",
    "Ниже дан код для сборки и обучения нашей нейросети."
   ]
  },
  {
   "cell_type": "markdown",
   "metadata": {},
   "source": [
    "Допишите класс-обёртку над LSTM для задачи классификации. \n",
    "**Не используйте циклы.**"
   ]
  },
  {
   "cell_type": "markdown",
   "metadata": {
    "ExecuteTime": {
     "end_time": "2021-04-01T20:59:16.467178Z",
     "start_time": "2021-04-01T20:59:16.441112Z"
    }
   },
   "source": [
    "**Для каждого тензора в функции `forward` подпишите в комментарии его размеры**"
   ]
  },
  {
   "cell_type": "code",
   "execution_count": 25,
   "metadata": {
    "ExecuteTime": {
     "end_time": "2024-03-30T21:25:02.698015Z",
     "start_time": "2024-03-30T21:25:02.687965Z"
    }
   },
   "outputs": [],
   "source": [
    "class RNNClassifier(torch.nn.Module):\n",
    "    def __init__(\n",
    "        self, embedding_dim, hidden_dim, output_size, vocab,\n",
    "        rec_layer=torch.nn.LSTM, dropout=None, **kwargs\n",
    "    ):\n",
    "        super().__init__()\n",
    "\n",
    "        self.dropout = dropout\n",
    "        \n",
    "        self.vocab = vocab\n",
    "        self.hidden_dim = hidden_dim\n",
    "        self.output_size = output_size\n",
    "        self.embedding_dim = embedding_dim\n",
    "        \n",
    "        # Create a simple lookup table that stores embeddings of a fixed dictionary and size.\n",
    "        #    Use torch.nn.Embedding. Do not forget specify padding_idx!\n",
    "        # YOUR CODE HERE\n",
    "        self.word_embeddings = ...\n",
    "        \n",
    "        if dropout is not None:\n",
    "            self.rnn = ...\n",
    "        else:\n",
    "            self.rnn = ...\n",
    "        \n",
    "        # Create linear layer for classification\n",
    "        # YOUR CODE HERE\n",
    "        self.output = ...\n",
    "    \n",
    "    def forward(self, tokens, tokens_lens):\n",
    "        \"\"\"\n",
    "        :param torch.Tensor(dtype=torch.long) tokens: Batch of texts represented with tokens.\n",
    "        :param torch.Tensor(dtype=torch.long) tokens_lens: Number of non-padding tokens for each object in batch.\n",
    "        :return torch.Tensor(dtype=torch.long): Vector representation for each sequence in batch\n",
    "        \"\"\"\n",
    "        # Evaluate embeddings\n",
    "        # YOUR CODE HERE\n",
    "        ...\n",
    "        \n",
    "        # Make forward pass through recurrent network\n",
    "        # YOUR CODE HERE\n",
    "        ...\n",
    "        \n",
    "        # Pass output from rnn to linear layer \n",
    "        # Note: each object in batch has its own length \n",
    "        #     so we must take rnn hidden state after the last token for each text in batch\n",
    "        # YOUR CODE HERE\n",
    "        ..."
   ]
  },
  {
   "cell_type": "markdown",
   "metadata": {},
   "source": [
    "[Исходный код LSTM](http://pytorch.org/docs/master/_modules/torch/nn/modules/rnn.html#LSTM)"
   ]
  },
  {
   "cell_type": "markdown",
   "metadata": {},
   "source": [
    "Допишите функции для обучения и оценки модели:\n",
    "\n",
    "**tip:**\n",
    "1. В функции `evaluate` при подсчёте метрик учитывайте, что батчи могут иметь разный размер. (в частности последний батч)"
   ]
  },
  {
   "cell_type": "code",
   "execution_count": 26,
   "metadata": {
    "ExecuteTime": {
     "end_time": "2024-03-30T21:25:02.709854Z",
     "start_time": "2024-03-30T21:25:02.699539Z"
    }
   },
   "outputs": [],
   "source": [
    "def train_epoch(dataloader, model, loss_fn, optimizer, device):\n",
    "    model.train()\n",
    "    for idx, data in enumerate(dataloader):\n",
    "        # 1. Take data from batch\n",
    "        # 2. Perform forward pass\n",
    "        # 3. Evaluate loss\n",
    "        # 4. Make optimizer step\n",
    "        # YOUR CODE HERE\n",
    "        ...\n",
    "    \n",
    "def evaluate(dataloader, model, loss_fn, device):\n",
    "    model.eval()\n",
    "    \n",
    "    total_loss = 0.0\n",
    "    total_accuracy = 0.0\n",
    "    with torch.no_grad():\n",
    "        for idx, data in enumerate(dataloader):\n",
    "            # 1. Take data from batch\n",
    "            # 2. Perform forward pass\n",
    "            # 3. Evaluate loss\n",
    "            # 4. Evaluate accuracy\n",
    "            # YOUR CODE HERE\n",
    "            ...\n",
    "        \n",
    "    return total_loss / len(dataloader.dataset), total_accuracy / len(dataloader.dataset)\n",
    "    \n",
    "\n",
    "def train(\n",
    "    train_loader, test_loader, model, loss_fn, optimizer, device, num_epochs\n",
    "):\n",
    "    test_losses = []\n",
    "    train_losses = []\n",
    "    test_accuracies = []\n",
    "    train_accuracies = []\n",
    "    for epoch in range(num_epochs):\n",
    "        train_epoch(train_loader, model, loss_fn, optimizer, device)\n",
    "        \n",
    "        train_loss, train_acc = evaluate(train_loader, model, loss_fn, device)\n",
    "        train_accuracies.append(train_acc)\n",
    "        train_losses.append(train_loss)\n",
    "        \n",
    "        test_loss, test_acc = evaluate(test_loader, model, loss_fn, device)\n",
    "        test_accuracies.append(test_acc)\n",
    "        test_losses.append(test_loss)\n",
    "        \n",
    "        print(\n",
    "            'Epoch: {0:d}/{1:d}. Loss (Train/Test): {2:.3f}/{3:.3f}. Accuracy (Train/Test): {4:.3f}/{5:.3f}'.format(\n",
    "                epoch + 1, num_epochs, train_losses[-1], test_losses[-1], train_accuracies[-1], test_accuracies[-1]\n",
    "            )\n",
    "        )\n",
    "    return train_losses, train_accuracies, test_losses, test_accuracies"
   ]
  },
  {
   "cell_type": "markdown",
   "metadata": {},
   "source": [
    "Создадим модель:"
   ]
  },
  {
   "cell_type": "code",
   "execution_count": 27,
   "metadata": {
    "ExecuteTime": {
     "end_time": "2024-03-30T21:25:03.029866Z",
     "start_time": "2024-03-30T21:25:02.711287Z"
    }
   },
   "outputs": [],
   "source": [
    "model = RNNClassifier(\n",
    "    embedding_dim=embedding_dim, hidden_dim=hidden_dim, output_size=10, vocab=vocab,\n",
    "    rec_layer=torch.nn.LSTM, dropout=None\n",
    ").to(device)"
   ]
  },
  {
   "cell_type": "markdown",
   "metadata": {},
   "source": [
    "Создадим класс для подсчёта функции потерь и оптимизатор:"
   ]
  },
  {
   "cell_type": "code",
   "execution_count": 28,
   "metadata": {
    "ExecuteTime": {
     "end_time": "2024-03-30T21:25:03.541742Z",
     "start_time": "2024-03-30T21:25:03.031367Z"
    }
   },
   "outputs": [],
   "source": [
    "loss_fn = torch.nn.CrossEntropyLoss(reduction='mean')\n",
    "optimizer = torch.optim.Adam(model.parameters(), lr=learning_rate)"
   ]
  },
  {
   "cell_type": "markdown",
   "metadata": {},
   "source": [
    "Попробуем обучить модель:"
   ]
  },
  {
   "cell_type": "markdown",
   "metadata": {},
   "source": [
    "**Сохраните все метрики и время работы модели. Это потребуется в конце первой части для построения графиков обучения и сравнения времени работы для всех моделей в этой секции**"
   ]
  },
  {
   "cell_type": "code",
   "execution_count": 29,
   "metadata": {
    "ExecuteTime": {
     "end_time": "2024-03-30T21:26:14.046392Z",
     "start_time": "2024-03-30T21:25:03.545235Z"
    }
   },
   "outputs": [
    {
     "name": "stdout",
     "output_type": "stream",
     "text": [
      "Epoch: 1/15. Loss (Train/Test): 1.990/2.000. Accuracy (Train/Test): 0.261/0.270\n",
      "Epoch: 2/15. Loss (Train/Test): 1.626/1.702. Accuracy (Train/Test): 0.376/0.352\n",
      "Epoch: 3/15. Loss (Train/Test): 1.499/1.627. Accuracy (Train/Test): 0.423/0.372\n",
      "Epoch: 4/15. Loss (Train/Test): 1.384/1.618. Accuracy (Train/Test): 0.451/0.381\n",
      "Epoch: 5/15. Loss (Train/Test): 1.302/1.605. Accuracy (Train/Test): 0.487/0.388\n",
      "Epoch: 6/15. Loss (Train/Test): 1.231/1.679. Accuracy (Train/Test): 0.515/0.382\n",
      "Epoch: 7/15. Loss (Train/Test): 1.141/1.717. Accuracy (Train/Test): 0.551/0.383\n",
      "Epoch: 8/15. Loss (Train/Test): 1.075/1.742. Accuracy (Train/Test): 0.579/0.377\n",
      "Epoch: 9/15. Loss (Train/Test): 0.959/1.825. Accuracy (Train/Test): 0.637/0.369\n",
      "Epoch: 10/15. Loss (Train/Test): 0.867/1.896. Accuracy (Train/Test): 0.680/0.364\n",
      "Epoch: 11/15. Loss (Train/Test): 0.810/2.060. Accuracy (Train/Test): 0.701/0.353\n",
      "Epoch: 12/15. Loss (Train/Test): 0.666/2.149. Accuracy (Train/Test): 0.774/0.352\n",
      "Epoch: 13/15. Loss (Train/Test): 0.578/2.348. Accuracy (Train/Test): 0.806/0.350\n",
      "Epoch: 14/15. Loss (Train/Test): 0.516/2.455. Accuracy (Train/Test): 0.826/0.356\n",
      "Epoch: 15/15. Loss (Train/Test): 0.432/2.643. Accuracy (Train/Test): 0.862/0.350\n"
     ]
    }
   ],
   "source": [
    "train_losses_pure, train_accuracies_pure, test_losses_pure, test_accuracies_pure = train(\n",
    "    train_dataloader, test_dataloader, model, loss_fn, optimizer, device, num_epochs\n",
    ")"
   ]
  },
  {
   "cell_type": "markdown",
   "metadata": {},
   "source": [
    "Нерегуляризованные LSTM часто быстро переобучаются (и мы это видим по точности на контроле). Чтобы с этим бороться, часто используют *L2-регуляризацию* и *дропаут*.\n",
    "Однако способов накладывать дропаут на рекуррентный слой достаточно много, и далеко не все хорошо работают. По [ссылке](https://medium.com/@bingobee01/a-review-of-dropout-as-applied-to-rnns-72e79ecd5b7b) доступен хороший обзор дропаутов для RNN.\n",
    "\n",
    "Мы реализуем два варианта DropOut для RNN (и третий дополнительно). Заодно увидим, что для реализации различных усовершенствований рекуррентной архитектуры приходится \"вскрывать\" слой до различной \"глубины\"."
   ]
  },
  {
   "cell_type": "markdown",
   "metadata": {},
   "source": [
    "## `Реализация дропаута по статье Гала и Гарамани. Variational Dropout (1 балл)`"
   ]
  },
  {
   "cell_type": "markdown",
   "metadata": {},
   "source": [
    "Начнем с дропаута, описанного в [статье Гала и Гарамани](https://arxiv.org/abs/1512.05287).\n",
    "Для этого нам потребуется перейти от использования слоя `torch.nn.LSTM`, полностью скрывающего от нас рекуррентную логику, к использованию слоя `torch.nn.LSTMCell`, обрабатывающего лишь один временной шаг нашей последовательности (а всю логику вокруг придется реализовать самостоятельно). \n",
    "\n",
    "Допишите класс `RNNLayer`. При `dropout=0` ваш класс должен работать как обычный слой LSTM, а при `dropout > 0` накладывать бинарную маску на входной и скрытый вектор на каждом временном шаге, причем эта маска должна быть одинаковой во все моменты времени.\n",
    "\n",
    "Дропаут Гала и Гарамани в виде формул (m обозначает маску дропаута):\n",
    "\n",
    "$$\n",
    "h_{t-1} = h_{t-1}*m_h, \\, x_t = x_t * m_x\n",
    "$$\n",
    "\n",
    "Далее обычный шаг рекуррентной архитектуры, например, LSTM:\n",
    "\n",
    "$$\n",
    "i = \\sigma(h_{t-1}W^i + x_t U^i+b_i) \\quad\n",
    "o = \\sigma(h_{t-1}W^o + x_t U^o+b_o) \n",
    "$$\n",
    "$$\n",
    "f = \\sigma(h_{t-1}W^f + x_t U^f+b_f) \\quad \n",
    "g = tanh(h_{t-1} W^g + x_t U^g+b_g) \n",
    "$$\n",
    "$$\n",
    "c_t = f \\odot c_{t-1} +  i \\odot  g \\quad\n",
    "h_t =  o \\odot tanh(c_t)\n",
    "$$"
   ]
  },
  {
   "cell_type": "code",
   "execution_count": 30,
   "metadata": {
    "ExecuteTime": {
     "end_time": "2024-03-30T21:26:14.050691Z",
     "start_time": "2024-03-30T21:26:14.048194Z"
    }
   },
   "outputs": [],
   "source": [
    "def init_h0_c0(num_objects, hidden_size, some_existing_tensor):\n",
    "    \"\"\"\n",
    "    return h0 and c0, use some_existing_tensor.new_zeros() to gen them\n",
    "    h0 shape: num_objects x hidden_size\n",
    "    c0 shape: num_objects x hidden_size\n",
    "    \"\"\"\n",
    "    # YOUR CODE HERE\n",
    "    ..."
   ]
  },
  {
   "cell_type": "code",
   "execution_count": 31,
   "metadata": {
    "ExecuteTime": {
     "end_time": "2024-03-30T21:26:14.063117Z",
     "start_time": "2024-03-30T21:26:14.052307Z"
    }
   },
   "outputs": [],
   "source": [
    "def gen_dropout_mask(input_size, hidden_size, is_training, p, some_existing_tensor):\n",
    "    \"\"\"\n",
    "    is_training: if True, gen masks from Bernoulli\n",
    "                 if False, gen masks consisting of (1-p)\n",
    "    \n",
    "    return dropout masks of size input_size, hidden_size if p is not None\n",
    "    return one masks if p is None\n",
    "    \"\"\"\n",
    "    # YOUR CODE HERE\n",
    "    ..."
   ]
  },
  {
   "cell_type": "markdown",
   "metadata": {
    "ExecuteTime": {
     "end_time": "2021-04-01T21:09:12.282613Z",
     "start_time": "2021-04-01T21:09:12.256019Z"
    }
   },
   "source": [
    "Допишите класс-обёртку над `LSTMCell` для реализации Variational Dropout. **Используйте только цикл по времени**"
   ]
  },
  {
   "cell_type": "markdown",
   "metadata": {},
   "source": [
    "**Для каждого тензора в функции `forward` подпишите в комментарии его размеры**"
   ]
  },
  {
   "cell_type": "code",
   "execution_count": 32,
   "metadata": {
    "ExecuteTime": {
     "end_time": "2024-03-30T21:26:14.072540Z",
     "start_time": "2024-03-30T21:26:14.064809Z"
    }
   },
   "outputs": [],
   "source": [
    "class RNNLayer(torch.nn.Module):\n",
    "    def __init__(self, input_size, hidden_size, dropout=None):\n",
    "        super().__init__()\n",
    "\n",
    "        self.dropout = dropout\n",
    "        self.input_size = input_size\n",
    "        self.hidden_size = hidden_size\n",
    "        \n",
    "        self.rnn_cell = torch.nn.LSTMCell(self.input_size, self.hidden_size)\n",
    "        \n",
    "    def forward(self, x):\n",
    "        # Initialize h_0, c_0\n",
    "        # YOUR CODE HERE\n",
    "        ...\n",
    "        \n",
    "        # Gen masks for input and hidden state\n",
    "        # YOUR CODE HERE\n",
    "        ...\n",
    "        \n",
    "        # Implement recurrent logic and return what nn.LSTM returns\n",
    "        # Do not forget to apply generated dropout masks!\n",
    "        # YOUR CODE HERE\n",
    "        ..."
   ]
  },
  {
   "cell_type": "markdown",
   "metadata": {},
   "source": [
    "Протестируйте реализованную модель с выключенным дропаутом (слой `RNNLayer` надо передать в `RNNClassifier` в качестве `rec_layer`). Замерьте время обучения. Сильно ли оно увеличилось по сравнению с `torch.nn.LSTM` (LSTM \"из коробки\")?"
   ]
  },
  {
   "cell_type": "markdown",
   "metadata": {},
   "source": [
    "**Сохраните все метрики и время работы модели. Это потребуется в конце первой части для построения графиков обучения и сравнения времени работы для всех моделей в этой секции**"
   ]
  },
  {
   "cell_type": "code",
   "execution_count": 33,
   "metadata": {
    "ExecuteTime": {
     "end_time": "2024-03-30T21:37:48.546191Z",
     "start_time": "2024-03-30T21:26:14.073988Z"
    }
   },
   "outputs": [
    {
     "name": "stderr",
     "output_type": "stream",
     "text": [
      "skipping cudagraphs due to index put with accumulate. Found from : \n",
      "   File \"/tmp/ipykernel_688604/1056636409.py\", line 52, in forward\n",
      "    h = output[tokens_lens - 1, torch.arange(tokens_lens.shape[0])]\n",
      "\n",
      "skipping cudagraphs due to index put with accumulate. Found from : \n",
      "   File \"/tmp/ipykernel_688604/1056636409.py\", line 52, in forward\n",
      "    h = output[tokens_lens - 1, torch.arange(tokens_lens.shape[0])]\n",
      "\n"
     ]
    },
    {
     "name": "stdout",
     "output_type": "stream",
     "text": [
      "Epoch: 1/15. Loss (Train/Test): 1.997/2.003. Accuracy (Train/Test): 0.250/0.248\n",
      "Epoch: 2/15. Loss (Train/Test): 1.740/1.791. Accuracy (Train/Test): 0.346/0.334\n",
      "Epoch: 3/15. Loss (Train/Test): 1.682/1.772. Accuracy (Train/Test): 0.366/0.335\n",
      "Epoch: 4/15. Loss (Train/Test): 1.481/1.656. Accuracy (Train/Test): 0.428/0.357\n",
      "Epoch: 5/15. Loss (Train/Test): 1.394/1.647. Accuracy (Train/Test): 0.447/0.378\n",
      "Epoch: 6/15. Loss (Train/Test): 1.293/1.636. Accuracy (Train/Test): 0.495/0.372\n",
      "Epoch: 7/15. Loss (Train/Test): 1.241/1.711. Accuracy (Train/Test): 0.522/0.361\n",
      "Epoch: 8/15. Loss (Train/Test): 1.124/1.733. Accuracy (Train/Test): 0.563/0.373\n",
      "Epoch: 9/15. Loss (Train/Test): 1.006/1.760. Accuracy (Train/Test): 0.624/0.361\n",
      "Epoch: 10/15. Loss (Train/Test): 0.945/1.914. Accuracy (Train/Test): 0.636/0.363\n",
      "Epoch: 11/15. Loss (Train/Test): 0.818/2.020. Accuracy (Train/Test): 0.700/0.356\n",
      "Epoch: 12/15. Loss (Train/Test): 0.688/2.102. Accuracy (Train/Test): 0.773/0.342\n",
      "Epoch: 13/15. Loss (Train/Test): 0.592/2.293. Accuracy (Train/Test): 0.802/0.346\n",
      "Epoch: 14/15. Loss (Train/Test): 0.484/2.536. Accuracy (Train/Test): 0.847/0.333\n",
      "Epoch: 15/15. Loss (Train/Test): 0.389/2.657. Accuracy (Train/Test): 0.885/0.339\n"
     ]
    },
    {
     "name": "stderr",
     "output_type": "stream",
     "text": [
      "Process ForkProcess-149:\n",
      "Process ForkProcess-141:\n",
      "Process ForkProcess-153:\n",
      "Process ForkProcess-147:\n",
      "Process ForkProcess-144:\n",
      "Process ForkProcess-148:\n",
      "Process ForkProcess-143:\n",
      "Process ForkProcess-152:\n",
      "Process ForkProcess-150:\n",
      "Process ForkProcess-151:\n",
      "Process ForkProcess-145:\n",
      "Process ForkProcess-154:\n",
      "Process ForkProcess-142:\n",
      "Process ForkProcess-146:\n",
      "Process ForkProcess-139:\n",
      "Process ForkProcess-140:\n",
      "Traceback (most recent call last):\n",
      "Traceback (most recent call last):\n",
      "Traceback (most recent call last):\n",
      "Traceback (most recent call last):\n",
      "Traceback (most recent call last):\n",
      "Traceback (most recent call last):\n",
      "Traceback (most recent call last):\n",
      "Traceback (most recent call last):\n",
      "Traceback (most recent call last):\n",
      "Traceback (most recent call last):\n",
      "Traceback (most recent call last):\n",
      "Traceback (most recent call last):\n",
      "Traceback (most recent call last):\n",
      "Traceback (most recent call last):\n",
      "  File \"/usr/lib/python3.10/multiprocessing/process.py\", line 314, in _bootstrap\n",
      "    self.run()\n",
      "Traceback (most recent call last):\n",
      "Traceback (most recent call last):\n",
      "  File \"/usr/lib/python3.10/multiprocessing/process.py\", line 314, in _bootstrap\n",
      "    self.run()\n",
      "  File \"/usr/lib/python3.10/multiprocessing/process.py\", line 314, in _bootstrap\n",
      "    self.run()\n",
      "  File \"/usr/lib/python3.10/multiprocessing/process.py\", line 314, in _bootstrap\n",
      "    self.run()\n",
      "  File \"/usr/lib/python3.10/multiprocessing/process.py\", line 314, in _bootstrap\n",
      "    self.run()\n",
      "  File \"/usr/lib/python3.10/multiprocessing/process.py\", line 314, in _bootstrap\n",
      "    self.run()\n",
      "  File \"/usr/lib/python3.10/multiprocessing/process.py\", line 314, in _bootstrap\n",
      "    self.run()\n",
      "  File \"/usr/lib/python3.10/multiprocessing/process.py\", line 314, in _bootstrap\n",
      "    self.run()\n",
      "  File \"/usr/lib/python3.10/multiprocessing/process.py\", line 314, in _bootstrap\n",
      "    self.run()\n",
      "  File \"/usr/lib/python3.10/multiprocessing/process.py\", line 314, in _bootstrap\n",
      "    self.run()\n",
      "  File \"/usr/lib/python3.10/multiprocessing/process.py\", line 314, in _bootstrap\n",
      "    self.run()\n",
      "  File \"/usr/lib/python3.10/multiprocessing/process.py\", line 314, in _bootstrap\n",
      "    self.run()\n",
      "  File \"/usr/lib/python3.10/multiprocessing/process.py\", line 314, in _bootstrap\n",
      "    self.run()\n",
      "  File \"/usr/lib/python3.10/multiprocessing/process.py\", line 314, in _bootstrap\n",
      "    self.run()\n",
      "  File \"/usr/lib/python3.10/multiprocessing/process.py\", line 108, in run\n",
      "    self._target(*self._args, **self._kwargs)\n",
      "  File \"/usr/lib/python3.10/multiprocessing/process.py\", line 314, in _bootstrap\n",
      "    self.run()\n",
      "  File \"/usr/lib/python3.10/multiprocessing/process.py\", line 314, in _bootstrap\n",
      "    self.run()\n",
      "  File \"/usr/lib/python3.10/multiprocessing/process.py\", line 108, in run\n",
      "    self._target(*self._args, **self._kwargs)\n",
      "  File \"/usr/lib/python3.10/multiprocessing/process.py\", line 108, in run\n",
      "    self._target(*self._args, **self._kwargs)\n",
      "  File \"/usr/lib/python3.10/multiprocessing/process.py\", line 108, in run\n",
      "    self._target(*self._args, **self._kwargs)\n",
      "  File \"/usr/lib/python3.10/multiprocessing/process.py\", line 108, in run\n",
      "    self._target(*self._args, **self._kwargs)\n",
      "  File \"/usr/lib/python3.10/multiprocessing/process.py\", line 108, in run\n",
      "    self._target(*self._args, **self._kwargs)\n",
      "  File \"/usr/lib/python3.10/multiprocessing/process.py\", line 108, in run\n",
      "    self._target(*self._args, **self._kwargs)\n",
      "  File \"/usr/lib/python3.10/multiprocessing/process.py\", line 108, in run\n",
      "    self._target(*self._args, **self._kwargs)\n",
      "  File \"/usr/lib/python3.10/multiprocessing/process.py\", line 108, in run\n",
      "    self._target(*self._args, **self._kwargs)\n",
      "  File \"/usr/lib/python3.10/multiprocessing/process.py\", line 108, in run\n",
      "    self._target(*self._args, **self._kwargs)\n",
      "  File \"/usr/lib/python3.10/multiprocessing/process.py\", line 108, in run\n",
      "    self._target(*self._args, **self._kwargs)\n",
      "  File \"/usr/lib/python3.10/multiprocessing/process.py\", line 108, in run\n",
      "    self._target(*self._args, **self._kwargs)\n",
      "  File \"/usr/lib/python3.10/multiprocessing/process.py\", line 108, in run\n",
      "    self._target(*self._args, **self._kwargs)\n",
      "  File \"/usr/lib/python3.10/multiprocessing/process.py\", line 108, in run\n",
      "    self._target(*self._args, **self._kwargs)\n",
      "  File \"/usr/lib/python3.10/concurrent/futures/process.py\", line 240, in _process_worker\n",
      "    call_item = call_queue.get(block=True)\n",
      "  File \"/usr/lib/python3.10/multiprocessing/process.py\", line 108, in run\n",
      "    self._target(*self._args, **self._kwargs)\n",
      "  File \"/usr/lib/python3.10/multiprocessing/process.py\", line 108, in run\n",
      "    self._target(*self._args, **self._kwargs)\n",
      "  File \"/usr/lib/python3.10/concurrent/futures/process.py\", line 240, in _process_worker\n",
      "    call_item = call_queue.get(block=True)\n",
      "  File \"/usr/lib/python3.10/concurrent/futures/process.py\", line 240, in _process_worker\n",
      "    call_item = call_queue.get(block=True)\n",
      "  File \"/usr/lib/python3.10/concurrent/futures/process.py\", line 240, in _process_worker\n",
      "    call_item = call_queue.get(block=True)\n",
      "  File \"/usr/lib/python3.10/concurrent/futures/process.py\", line 240, in _process_worker\n",
      "    call_item = call_queue.get(block=True)\n",
      "  File \"/usr/lib/python3.10/concurrent/futures/process.py\", line 240, in _process_worker\n",
      "    call_item = call_queue.get(block=True)\n",
      "  File \"/usr/lib/python3.10/concurrent/futures/process.py\", line 240, in _process_worker\n",
      "    call_item = call_queue.get(block=True)\n",
      "  File \"/usr/lib/python3.10/concurrent/futures/process.py\", line 240, in _process_worker\n",
      "    call_item = call_queue.get(block=True)\n",
      "  File \"/usr/lib/python3.10/concurrent/futures/process.py\", line 240, in _process_worker\n",
      "    call_item = call_queue.get(block=True)\n",
      "  File \"/usr/lib/python3.10/concurrent/futures/process.py\", line 240, in _process_worker\n",
      "    call_item = call_queue.get(block=True)\n",
      "  File \"/usr/lib/python3.10/concurrent/futures/process.py\", line 240, in _process_worker\n",
      "    call_item = call_queue.get(block=True)\n",
      "  File \"/usr/lib/python3.10/concurrent/futures/process.py\", line 240, in _process_worker\n",
      "    call_item = call_queue.get(block=True)\n",
      "  File \"/usr/lib/python3.10/concurrent/futures/process.py\", line 240, in _process_worker\n",
      "    call_item = call_queue.get(block=True)\n",
      "  File \"/usr/lib/python3.10/concurrent/futures/process.py\", line 240, in _process_worker\n",
      "    call_item = call_queue.get(block=True)\n",
      "  File \"/usr/lib/python3.10/multiprocessing/queues.py\", line 102, in get\n",
      "    with self._rlock:\n",
      "  File \"/usr/lib/python3.10/concurrent/futures/process.py\", line 240, in _process_worker\n",
      "    call_item = call_queue.get(block=True)\n",
      "  File \"/usr/lib/python3.10/concurrent/futures/process.py\", line 240, in _process_worker\n",
      "    call_item = call_queue.get(block=True)\n",
      "  File \"/usr/lib/python3.10/multiprocessing/queues.py\", line 102, in get\n",
      "    with self._rlock:\n",
      "  File \"/usr/lib/python3.10/multiprocessing/queues.py\", line 102, in get\n",
      "    with self._rlock:\n",
      "  File \"/usr/lib/python3.10/multiprocessing/queues.py\", line 102, in get\n",
      "    with self._rlock:\n",
      "  File \"/usr/lib/python3.10/multiprocessing/queues.py\", line 102, in get\n",
      "    with self._rlock:\n",
      "  File \"/usr/lib/python3.10/multiprocessing/queues.py\", line 102, in get\n",
      "    with self._rlock:\n",
      "  File \"/usr/lib/python3.10/multiprocessing/queues.py\", line 102, in get\n",
      "    with self._rlock:\n",
      "  File \"/usr/lib/python3.10/multiprocessing/queues.py\", line 102, in get\n",
      "    with self._rlock:\n",
      "  File \"/usr/lib/python3.10/multiprocessing/queues.py\", line 103, in get\n",
      "    res = self._recv_bytes()\n",
      "  File \"/usr/lib/python3.10/multiprocessing/queues.py\", line 102, in get\n",
      "    with self._rlock:\n",
      "  File \"/usr/lib/python3.10/multiprocessing/queues.py\", line 102, in get\n",
      "    with self._rlock:\n",
      "  File \"/usr/lib/python3.10/multiprocessing/queues.py\", line 102, in get\n",
      "    with self._rlock:\n",
      "  File \"/usr/lib/python3.10/multiprocessing/queues.py\", line 102, in get\n",
      "    with self._rlock:\n",
      "  File \"/usr/lib/python3.10/multiprocessing/synchronize.py\", line 95, in __enter__\n",
      "    return self._semlock.__enter__()\n",
      "  File \"/usr/lib/python3.10/multiprocessing/queues.py\", line 102, in get\n",
      "    with self._rlock:\n",
      "  File \"/usr/lib/python3.10/multiprocessing/queues.py\", line 102, in get\n",
      "    with self._rlock:\n",
      "  File \"/usr/lib/python3.10/multiprocessing/queues.py\", line 102, in get\n",
      "    with self._rlock:\n",
      "  File \"/usr/lib/python3.10/multiprocessing/synchronize.py\", line 95, in __enter__\n",
      "    return self._semlock.__enter__()\n"
     ]
    },
    {
     "name": "stderr",
     "output_type": "stream",
     "text": [
      "  File \"/usr/lib/python3.10/multiprocessing/synchronize.py\", line 95, in __enter__\n",
      "    return self._semlock.__enter__()\n",
      "  File \"/usr/lib/python3.10/multiprocessing/synchronize.py\", line 95, in __enter__\n",
      "    return self._semlock.__enter__()\n",
      "  File \"/usr/lib/python3.10/multiprocessing/synchronize.py\", line 95, in __enter__\n",
      "    return self._semlock.__enter__()\n",
      "  File \"/usr/lib/python3.10/multiprocessing/synchronize.py\", line 95, in __enter__\n",
      "    return self._semlock.__enter__()\n",
      "  File \"/usr/lib/python3.10/multiprocessing/synchronize.py\", line 95, in __enter__\n",
      "    return self._semlock.__enter__()\n",
      "  File \"/usr/lib/python3.10/multiprocessing/synchronize.py\", line 95, in __enter__\n",
      "    return self._semlock.__enter__()\n",
      "  File \"/usr/lib/python3.10/multiprocessing/synchronize.py\", line 95, in __enter__\n",
      "    return self._semlock.__enter__()\n",
      "  File \"/usr/lib/python3.10/multiprocessing/connection.py\", line 216, in recv_bytes\n",
      "    buf = self._recv_bytes(maxlength)\n",
      "  File \"/usr/lib/python3.10/multiprocessing/synchronize.py\", line 95, in __enter__\n",
      "    return self._semlock.__enter__()\n",
      "  File \"/usr/lib/python3.10/multiprocessing/synchronize.py\", line 95, in __enter__\n",
      "    return self._semlock.__enter__()\n",
      "  File \"/usr/lib/python3.10/multiprocessing/synchronize.py\", line 95, in __enter__\n",
      "    return self._semlock.__enter__()\n",
      "  File \"/usr/lib/python3.10/multiprocessing/synchronize.py\", line 95, in __enter__\n",
      "    return self._semlock.__enter__()\n",
      "KeyboardInterrupt\n",
      "  File \"/usr/lib/python3.10/multiprocessing/synchronize.py\", line 95, in __enter__\n",
      "    return self._semlock.__enter__()\n",
      "  File \"/usr/lib/python3.10/multiprocessing/synchronize.py\", line 95, in __enter__\n",
      "    return self._semlock.__enter__()\n",
      "KeyboardInterrupt\n",
      "KeyboardInterrupt\n",
      "KeyboardInterrupt\n",
      "KeyboardInterrupt\n",
      "KeyboardInterrupt\n",
      "KeyboardInterrupt\n",
      "KeyboardInterrupt\n",
      "  File \"/usr/lib/python3.10/multiprocessing/connection.py\", line 414, in _recv_bytes\n",
      "    buf = self._recv(4)\n",
      "KeyboardInterrupt\n",
      "KeyboardInterrupt\n",
      "KeyboardInterrupt\n",
      "KeyboardInterrupt\n",
      "KeyboardInterrupt\n",
      "  File \"/usr/lib/python3.10/multiprocessing/connection.py\", line 379, in _recv\n",
      "    chunk = read(handle, remaining)\n",
      "KeyboardInterrupt\n",
      "KeyboardInterrupt\n",
      "KeyboardInterrupt\n"
     ]
    }
   ],
   "source": [
    "# YOUR CODE HERE\n",
    "..."
   ]
  },
  {
   "cell_type": "markdown",
   "metadata": {},
   "source": [
    "Протестируйте полученную модель с `dropout=0.25`, вновь замерив время обучения. Получилось ли побороть переобучение? Сильно ли дольше обучается данная модель по сравнению с предыдущей? (доп. время тратится на генерацию масок дропаута)."
   ]
  },
  {
   "cell_type": "code",
   "execution_count": 34,
   "metadata": {
    "ExecuteTime": {
     "end_time": "2024-03-30T21:50:53.803267Z",
     "start_time": "2024-03-30T21:37:48.548250Z"
    }
   },
   "outputs": [
    {
     "name": "stderr",
     "output_type": "stream",
     "text": [
      "skipping cudagraphs due to index put with accumulate. Found from : \n",
      "   File \"/tmp/ipykernel_688604/1056636409.py\", line 52, in forward\n",
      "    h = output[tokens_lens - 1, torch.arange(tokens_lens.shape[0])]\n",
      "\n"
     ]
    },
    {
     "name": "stdout",
     "output_type": "stream",
     "text": [
      "Epoch: 1/15. Loss (Train/Test): 1.990/1.996. Accuracy (Train/Test): 0.258/0.254\n",
      "Epoch: 2/15. Loss (Train/Test): 1.821/1.851. Accuracy (Train/Test): 0.321/0.320\n",
      "Epoch: 3/15. Loss (Train/Test): 1.700/1.755. Accuracy (Train/Test): 0.351/0.343\n",
      "Epoch: 4/15. Loss (Train/Test): 1.589/1.679. Accuracy (Train/Test): 0.377/0.362\n",
      "Epoch: 5/15. Loss (Train/Test): 1.549/1.654. Accuracy (Train/Test): 0.389/0.365\n",
      "Epoch: 6/15. Loss (Train/Test): 1.460/1.610. Accuracy (Train/Test): 0.420/0.380\n",
      "Epoch: 7/15. Loss (Train/Test): 1.404/1.590. Accuracy (Train/Test): 0.447/0.385\n",
      "Epoch: 8/15. Loss (Train/Test): 1.361/1.574. Accuracy (Train/Test): 0.454/0.392\n",
      "Epoch: 9/15. Loss (Train/Test): 1.324/1.579. Accuracy (Train/Test): 0.478/0.387\n",
      "Epoch: 10/15. Loss (Train/Test): 1.274/1.568. Accuracy (Train/Test): 0.485/0.402\n"
     ]
    },
    {
     "name": "stderr",
     "output_type": "stream",
     "text": [
      "skipping cudagraphs due to index put with accumulate. Found from : \n",
      "   File \"/tmp/ipykernel_688604/1056636409.py\", line 52, in forward\n",
      "    h = output[tokens_lens - 1, torch.arange(tokens_lens.shape[0])]\n",
      "\n"
     ]
    },
    {
     "name": "stdout",
     "output_type": "stream",
     "text": [
      "Epoch: 11/15. Loss (Train/Test): 1.233/1.560. Accuracy (Train/Test): 0.506/0.401\n",
      "Epoch: 12/15. Loss (Train/Test): 1.198/1.570. Accuracy (Train/Test): 0.523/0.403\n",
      "Epoch: 13/15. Loss (Train/Test): 1.170/1.582. Accuracy (Train/Test): 0.534/0.403\n",
      "Epoch: 14/15. Loss (Train/Test): 1.137/1.595. Accuracy (Train/Test): 0.551/0.398\n",
      "Epoch: 15/15. Loss (Train/Test): 1.102/1.602. Accuracy (Train/Test): 0.572/0.394\n"
     ]
    }
   ],
   "source": [
    "# YOUR CODE HERE\n",
    "..."
   ]
  },
  {
   "cell_type": "markdown",
   "metadata": {},
   "source": [
    "## `Реализация дропаута по статье Гала и Гарамани. Дубль 2 (1 балл)`"
   ]
  },
  {
   "cell_type": "markdown",
   "metadata": {},
   "source": [
    "<начало взлома pytorch>"
   ]
  },
  {
   "cell_type": "markdown",
   "metadata": {},
   "source": [
    "При разворачивании цикла по времени средствами python обучение рекуррентной нейросети сильно замедляется. Однако для реализации дропаута Гала и Гарамани необязательно явно задавать в коде умножение нейронов на маски. Можно схитрить и обойтись использованием слоя `torch.nn.LSTM`: перед вызовом `forward` слоя `torch.nn.LSTM` подменять его веса на веса, домноженные по строкам на маски. А обучаемые веса хранить отдельно. Именно так этот дропаут реализован в библиотеке `fastai`, код из которой использован в ячейке ниже.\n",
    "\n",
    "Такой слой реализуется в виде обертки над `torch.nn.LSTM`. Допишите класс:"
   ]
  },
  {
   "cell_type": "code",
   "execution_count": 35,
   "metadata": {
    "ExecuteTime": {
     "end_time": "2024-03-30T21:50:53.808422Z",
     "start_time": "2024-03-30T21:50:53.806289Z"
    }
   },
   "outputs": [],
   "source": [
    "import warnings"
   ]
  },
  {
   "cell_type": "code",
   "execution_count": 36,
   "metadata": {
    "ExecuteTime": {
     "end_time": "2024-03-30T21:50:53.819063Z",
     "start_time": "2024-03-30T21:50:53.810046Z"
    }
   },
   "outputs": [],
   "source": [
    "class FastRNNLayer(torch.nn.Module):\n",
    "    def __init__(self, input_size, hidden_size, dropout=0.0, layers_dropout=0.0, num_layers=1):\n",
    "        super().__init__()\n",
    "\n",
    "        self.input_size = input_size\n",
    "        self.hidden_size = hidden_size\n",
    "\n",
    "        self.num_layers = num_layers\n",
    "\n",
    "        self.dropout = dropout\n",
    "        self.layers_dropout = layers_dropout\n",
    "        self.module = torch.nn.LSTM(input_size, hidden_size, dropout=layers_dropout, num_layers=num_layers)\n",
    "\n",
    "        self.layer_names = []\n",
    "        for layer_n in range(self.num_layers):\n",
    "            self.layer_names += [f'weight_hh_l{layer_n}', f'weight_ih_l{layer_n}']\n",
    "\n",
    "        for layer in self.layer_names:\n",
    "            # Get torch.nn.Parameter with weights from torch.nn.LSTM instance\n",
    "            w = getattr(self.module, layer)\n",
    "\n",
    "            # Remove it from model\n",
    "            delattr(self.module, layer)\n",
    "\n",
    "            # And create new torch.nn.Parameter with the same data but different name\n",
    "            self.register_parameter(f'{layer}_raw', torch.nn.Parameter(w.data))\n",
    "\n",
    "            # Note. In torch.nn.LSTM.forward parameter with name `layer` will be used\n",
    "            #     so we must initialize it using `layer_raw` before forward pass\n",
    "\n",
    "    def _setweights(self, x):\n",
    "        \"\"\"\n",
    "            Apply dropout to the raw weights.\n",
    "        \"\"\"\n",
    "        for layer in self.layer_names:\n",
    "            # Get torch.nn.Parameter with weights\n",
    "            raw_w = getattr(self, f'{layer}_raw')\n",
    "\n",
    "            # Generate mask (use function gen_dropout_mask)\n",
    "            # YOUR CODE HERE\n",
    "            ...\n",
    "            \n",
    "            # Apply dropout mask\n",
    "            # YOUR CODE HERE\n",
    "            ...\n",
    "            \n",
    "            # Set modified weights in its place\n",
    "            setattr(self.module, layer, masked_raw_w)\n",
    "\n",
    "    def forward(self, x, h_c=None):\n",
    "        \"\"\"\n",
    "        :param x: tensor containing the features of the input sequence.\n",
    "        :param Optional[Tuple[torch.Tensor, torch.Tensor]] h_c: initial hidden state and initial cell state\n",
    "        \"\"\"\n",
    "        with warnings.catch_warnings():\n",
    "            # To avoid the warning that comes because the weights aren't flattened.\n",
    "            warnings.simplefilter(\"ignore\")\n",
    "\n",
    "            # Set new weights of self.module and call its forward\n",
    "            # Pass h_c with x if it is not None. Otherwise pass only x\n",
    "            # YOUR CODE HERE\n",
    "            ...\n",
    "            \n",
    "    def reset(self):\n",
    "        if hasattr(self.module, 'reset'):\n",
    "            self.module.reset()"
   ]
  },
  {
   "cell_type": "markdown",
   "metadata": {},
   "source": [
    "Протестируйте реализованную модель с выключенным дропаутом (слой `FastRNNLayer` надо передать в `RNNClassifier` в качестве `rec_layer`). Замерьте время обучения. Убедитесь, что модель выдаёт такое же качество, как и оригинальная реализация LSTM."
   ]
  },
  {
   "cell_type": "markdown",
   "metadata": {},
   "source": [
    "**Сохраните все метрики и время работы модели. Это потребуется в конце первой части для построения графиков обучения и сравнения времени работы для всех моделей в этой секции**"
   ]
  },
  {
   "cell_type": "code",
   "execution_count": 37,
   "metadata": {
    "ExecuteTime": {
     "end_time": "2024-03-30T21:52:22.003495Z",
     "start_time": "2024-03-30T21:50:53.820795Z"
    }
   },
   "outputs": [
    {
     "name": "stdout",
     "output_type": "stream",
     "text": [
      "Epoch: 1/15. Loss (Train/Test): 1.942/1.950. Accuracy (Train/Test): 0.285/0.285\n",
      "Epoch: 2/15. Loss (Train/Test): 1.824/1.861. Accuracy (Train/Test): 0.310/0.302\n",
      "Epoch: 3/15. Loss (Train/Test): 1.595/1.689. Accuracy (Train/Test): 0.380/0.358\n",
      "Epoch: 4/15. Loss (Train/Test): 1.470/1.626. Accuracy (Train/Test): 0.424/0.370\n",
      "Epoch: 5/15. Loss (Train/Test): 1.383/1.623. Accuracy (Train/Test): 0.457/0.378\n",
      "Epoch: 6/15. Loss (Train/Test): 1.315/1.617. Accuracy (Train/Test): 0.475/0.390\n",
      "Epoch: 7/15. Loss (Train/Test): 1.223/1.644. Accuracy (Train/Test): 0.521/0.379\n",
      "Epoch: 8/15. Loss (Train/Test): 1.131/1.679. Accuracy (Train/Test): 0.558/0.386\n",
      "Epoch: 9/15. Loss (Train/Test): 1.070/1.729. Accuracy (Train/Test): 0.575/0.386\n",
      "Epoch: 10/15. Loss (Train/Test): 0.975/1.805. Accuracy (Train/Test): 0.622/0.382\n",
      "Epoch: 11/15. Loss (Train/Test): 0.869/1.910. Accuracy (Train/Test): 0.670/0.382\n",
      "Epoch: 12/15. Loss (Train/Test): 0.776/2.025. Accuracy (Train/Test): 0.718/0.371\n",
      "Epoch: 13/15. Loss (Train/Test): 0.666/2.139. Accuracy (Train/Test): 0.775/0.354\n",
      "Epoch: 14/15. Loss (Train/Test): 0.572/2.284. Accuracy (Train/Test): 0.811/0.356\n",
      "Epoch: 15/15. Loss (Train/Test): 0.484/2.501. Accuracy (Train/Test): 0.852/0.345\n"
     ]
    }
   ],
   "source": [
    "# YOUR CODE HERE\n",
    "..."
   ]
  },
  {
   "cell_type": "markdown",
   "metadata": {},
   "source": [
    "Протестируйте полученный слой (вновь подставив его в `RNNClassifier` в качестве `rec_layer`) с `dropout=0.25`. Сравните время обучения с предыдущими моделями. Проследите, чтобы качество получилось такое же, как при первой реализации этого дропаута."
   ]
  },
  {
   "cell_type": "code",
   "execution_count": 38,
   "metadata": {
    "ExecuteTime": {
     "end_time": "2024-03-30T21:53:49.263039Z",
     "start_time": "2024-03-30T21:52:22.005605Z"
    }
   },
   "outputs": [
    {
     "name": "stdout",
     "output_type": "stream",
     "text": [
      "Epoch: 1/15. Loss (Train/Test): 2.021/2.026. Accuracy (Train/Test): 0.213/0.211\n",
      "Epoch: 2/15. Loss (Train/Test): 1.930/1.949. Accuracy (Train/Test): 0.286/0.282\n",
      "Epoch: 3/15. Loss (Train/Test): 1.777/1.843. Accuracy (Train/Test): 0.341/0.325\n",
      "Epoch: 4/15. Loss (Train/Test): 1.656/1.737. Accuracy (Train/Test): 0.363/0.349\n",
      "Epoch: 5/15. Loss (Train/Test): 1.563/1.671. Accuracy (Train/Test): 0.392/0.359\n",
      "Epoch: 6/15. Loss (Train/Test): 1.506/1.651. Accuracy (Train/Test): 0.408/0.362\n",
      "Epoch: 7/15. Loss (Train/Test): 1.453/1.630. Accuracy (Train/Test): 0.431/0.365\n",
      "Epoch: 8/15. Loss (Train/Test): 1.400/1.607. Accuracy (Train/Test): 0.453/0.378\n",
      "Epoch: 9/15. Loss (Train/Test): 1.353/1.580. Accuracy (Train/Test): 0.469/0.389\n",
      "Epoch: 10/15. Loss (Train/Test): 1.321/1.592. Accuracy (Train/Test): 0.474/0.389\n",
      "Epoch: 11/15. Loss (Train/Test): 1.272/1.579. Accuracy (Train/Test): 0.499/0.390\n",
      "Epoch: 12/15. Loss (Train/Test): 1.254/1.599. Accuracy (Train/Test): 0.503/0.394\n",
      "Epoch: 13/15. Loss (Train/Test): 1.194/1.585. Accuracy (Train/Test): 0.527/0.394\n",
      "Epoch: 14/15. Loss (Train/Test): 1.167/1.586. Accuracy (Train/Test): 0.541/0.391\n",
      "Epoch: 15/15. Loss (Train/Test): 1.135/1.597. Accuracy (Train/Test): 0.556/0.397\n"
     ]
    }
   ],
   "source": [
    "# YOUR CODE HERE\n",
    "..."
   ]
  },
  {
   "cell_type": "markdown",
   "metadata": {},
   "source": [
    "</конец взлома pytorch>"
   ]
  },
  {
   "cell_type": "markdown",
   "metadata": {},
   "source": [
    "## `Реализация дропаута по статье Семениуты и др. (1 балл)`"
   ]
  },
  {
   "cell_type": "markdown",
   "metadata": {},
   "source": [
    "Перейдем к реализации дропаута для LSTM по статье [Semeniuta et al](http://www.aclweb.org/anthology/C16-1165). \n",
    "\n",
    "Этот метод применения дропаута не менее популярен, чем предыдущий. Его особенность состоит в том, что он придуман специально для гейтовых архитектур. В контексте LSTM этот дропаут накладывается только на информационный поток ($m_h$ — маска дропаута):\n",
    "$$\n",
    "i = \\sigma(h_{t-1}W^i + x_t U^i+b_i) \\quad\n",
    "o = \\sigma(h_{t-1}W^o + x_t U^o+b_o) \n",
    "$$\n",
    "$$\n",
    "f = \\sigma(h_{t-1}W^f + x_t U^f+b_f) \\quad \n",
    "g = tanh(h_{t-1} W^g + x_t U^g+b_g) \n",
    "$$\n",
    "$$\n",
    "c_t = f \\odot c_{t-1} +  i \\odot g \\odot {\\bf m_h} \\quad\n",
    "h_t =  o \\odot tanh(c_t)\n",
    "$$\n",
    "На входы $x_t$ маска накладывается как в предыдущем дропауте. Впрочем, на входы маску можно наложить вообще до вызова рекуррентного слоя.\n",
    "\n",
    "Согласно статье, маска дропаута может быть как одинаковая, так и разная для всех моментов времени. Мы сделаем одинаковую для всех моментов времени.\n",
    "\n",
    "Для реализации этого дропаута можно: \n",
    "1. самостоятельно реализовать LSTM (интерфейса LSTMCell не хватит) \n",
    "2. снова воспользоваться трюком с установкой весов (но тут мы опираемся на свойство $tanh(0)=0$, к тому же, трюк в данном случае выглядит менее тривиально, чем с дропаутом Гала). \n",
    "\n",
    "Предлагается реализовать дропаут по сценарию 1. Допишите класс:"
   ]
  },
  {
   "cell_type": "markdown",
   "metadata": {},
   "source": [
    "**Для каждого тензора в функции `forward` подпишите в комментарии его размеры**"
   ]
  },
  {
   "cell_type": "code",
   "execution_count": 39,
   "metadata": {
    "ExecuteTime": {
     "end_time": "2024-03-30T21:53:49.270179Z",
     "start_time": "2024-03-30T21:53:49.265063Z"
    }
   },
   "outputs": [],
   "source": [
    "class HandmadeLSTM(torch.nn.Module):\n",
    "    def __init__(self, input_size, hidden_size, dropout=0.0):\n",
    "        super().__init__()\n",
    "        \n",
    "        self.dropout = dropout\n",
    "        self.input_size = input_size\n",
    "        self.hidden_size = hidden_size\n",
    "        \n",
    "        self.input_weights = torch.nn.Linear(input_size, 4 * hidden_size)\n",
    "        self.hidden_weights = torch.nn.Linear(hidden_size, 4 * hidden_size)\n",
    "        \n",
    "        self.reset_params()\n",
    "\n",
    "    def reset_params(self):\n",
    "        \"\"\"\n",
    "        Initialization as in Pytorch. \n",
    "        Do not forget to call this method!\n",
    "        https://pytorch.org/docs/stable/_modules/torch/nn/modules/rnn.html#LSTM\n",
    "        \"\"\"\n",
    "        stdv = 1.0 / np.sqrt(self.hidden_size)\n",
    "        for weight in self.parameters():\n",
    "            torch.nn.init.uniform_(weight, -stdv, stdv)\n",
    "\n",
    "    def forward(self, x):\n",
    "        # Use functions init_h0_c0 and gen_dropout_masks defined above\n",
    "        # YOUR CODE HERE\n",
    "        ...\n",
    "        \n",
    "        # Implement recurrent logic to mimic torch.nn.LSTM\n",
    "        # Do not forget to apply dropout mask\n",
    "        # YOUR CODE HERE\n",
    "        ..."
   ]
  },
  {
   "cell_type": "markdown",
   "metadata": {},
   "source": [
    "Протестируйте вашу реализацию без дропаута (проконтролируйте качество и сравните время обучения с временем обучения `torch.nn.LSTM` и `RNNLayer`), а также с `dropout=0.25`. Сравните качество модели с таким дропаутом с качеством модели с дропаутом Гала и Гарамани."
   ]
  },
  {
   "cell_type": "markdown",
   "metadata": {},
   "source": [
    "**Сохраните все метрики и время работы модели. Это потребуется в конце первой части для построения графиков обучения и сравнения времени работы для всех моделей в этой секции**"
   ]
  },
  {
   "cell_type": "code",
   "execution_count": 41,
   "metadata": {
    "ExecuteTime": {
     "end_time": "2024-03-30T22:22:19.017182Z",
     "start_time": "2024-03-30T22:01:03.279800Z"
    }
   },
   "outputs": [
    {
     "name": "stdout",
     "output_type": "stream",
     "text": [
      "Epoch: 1/15. Loss (Train/Test): 1.929/1.954. Accuracy (Train/Test): 0.290/0.285\n",
      "Epoch: 2/15. Loss (Train/Test): 1.714/1.769. Accuracy (Train/Test): 0.347/0.340\n",
      "Epoch: 3/15. Loss (Train/Test): 1.558/1.680. Accuracy (Train/Test): 0.386/0.362\n",
      "Epoch: 4/15. Loss (Train/Test): 1.460/1.635. Accuracy (Train/Test): 0.424/0.365\n",
      "Epoch: 5/15. Loss (Train/Test): 1.370/1.617. Accuracy (Train/Test): 0.469/0.377\n",
      "Epoch: 6/15. Loss (Train/Test): 1.282/1.630. Accuracy (Train/Test): 0.492/0.384\n",
      "Epoch: 7/15. Loss (Train/Test): 1.189/1.663. Accuracy (Train/Test): 0.532/0.385\n",
      "Epoch: 8/15. Loss (Train/Test): 1.112/1.698. Accuracy (Train/Test): 0.566/0.385\n",
      "Epoch: 9/15. Loss (Train/Test): 1.006/1.813. Accuracy (Train/Test): 0.616/0.370\n",
      "Epoch: 10/15. Loss (Train/Test): 0.909/1.914. Accuracy (Train/Test): 0.664/0.364\n",
      "Epoch: 11/15. Loss (Train/Test): 0.819/1.976. Accuracy (Train/Test): 0.698/0.367\n",
      "Epoch: 12/15. Loss (Train/Test): 0.706/2.097. Accuracy (Train/Test): 0.750/0.354\n",
      "Epoch: 13/15. Loss (Train/Test): 0.605/2.245. Accuracy (Train/Test): 0.798/0.348\n",
      "Epoch: 14/15. Loss (Train/Test): 0.515/2.414. Accuracy (Train/Test): 0.830/0.349\n",
      "Epoch: 15/15. Loss (Train/Test): 0.417/2.603. Accuracy (Train/Test): 0.872/0.340\n"
     ]
    }
   ],
   "source": [
    "# YOUR CODE HERE\n",
    "..."
   ]
  },
  {
   "cell_type": "code",
   "execution_count": 42,
   "metadata": {
    "ExecuteTime": {
     "end_time": "2024-03-30T22:43:31.387698Z",
     "start_time": "2024-03-30T22:22:19.019606Z"
    }
   },
   "outputs": [
    {
     "name": "stdout",
     "output_type": "stream",
     "text": [
      "Epoch: 1/15. Loss (Train/Test): 1.990/1.991. Accuracy (Train/Test): 0.241/0.248\n",
      "Epoch: 2/15. Loss (Train/Test): 1.796/1.835. Accuracy (Train/Test): 0.322/0.317\n",
      "Epoch: 3/15. Loss (Train/Test): 1.767/1.849. Accuracy (Train/Test): 0.340/0.333\n",
      "Epoch: 4/15. Loss (Train/Test): 1.628/1.720. Accuracy (Train/Test): 0.363/0.352\n",
      "Epoch: 5/15. Loss (Train/Test): 1.579/1.695. Accuracy (Train/Test): 0.377/0.357\n",
      "Epoch: 6/15. Loss (Train/Test): 1.527/1.664. Accuracy (Train/Test): 0.388/0.364\n",
      "Epoch: 7/15. Loss (Train/Test): 1.484/1.646. Accuracy (Train/Test): 0.400/0.365\n",
      "Epoch: 8/15. Loss (Train/Test): 1.505/1.698. Accuracy (Train/Test): 0.408/0.368\n",
      "Epoch: 9/15. Loss (Train/Test): 1.414/1.626. Accuracy (Train/Test): 0.425/0.372\n",
      "Epoch: 10/15. Loss (Train/Test): 1.371/1.614. Accuracy (Train/Test): 0.446/0.381\n",
      "Epoch: 11/15. Loss (Train/Test): 1.337/1.605. Accuracy (Train/Test): 0.457/0.389\n",
      "Epoch: 12/15. Loss (Train/Test): 1.307/1.613. Accuracy (Train/Test): 0.468/0.391\n",
      "Epoch: 13/15. Loss (Train/Test): 1.277/1.608. Accuracy (Train/Test): 0.482/0.395\n",
      "Epoch: 14/15. Loss (Train/Test): 1.236/1.610. Accuracy (Train/Test): 0.498/0.392\n",
      "Epoch: 15/15. Loss (Train/Test): 1.227/1.625. Accuracy (Train/Test): 0.493/0.400\n"
     ]
    }
   ],
   "source": [
    "# YOUR CODE HERE\n",
    "..."
   ]
  },
  {
   "cell_type": "markdown",
   "metadata": {
    "ExecuteTime": {
     "end_time": "2021-04-01T23:33:28.831346Z",
     "start_time": "2021-04-01T23:33:28.810453Z"
    }
   },
   "source": [
    "## `Сравнение всех предложенных моделей (1 балл)`"
   ]
  },
  {
   "cell_type": "markdown",
   "metadata": {
    "ExecuteTime": {
     "end_time": "2021-04-01T23:48:05.361634Z",
     "start_time": "2021-04-01T23:48:05.333901Z"
    }
   },
   "source": [
    "Используя замеры времени заполните табличку с временем работы четырёх реализованных моделей в следующей ячейке:"
   ]
  },
  {
   "cell_type": "markdown",
   "metadata": {},
   "source": [
    "| torch.nn.LSTM | RNNLayer | FastRNNLayer | HandmadeLSTM |\n",
    "|---------------|----------|--------------|--------------|\n",
    "| 2m 35s        | 14m 16s  | 2m 41s       | 31m 44s      |"
   ]
  },
  {
   "cell_type": "code",
   "execution_count": 43,
   "metadata": {
    "ExecuteTime": {
     "end_time": "2024-03-30T22:43:31.566217Z",
     "start_time": "2024-03-30T22:43:31.389958Z"
    }
   },
   "outputs": [],
   "source": [
    "import matplotlib.pyplot as plt"
   ]
  },
  {
   "cell_type": "markdown",
   "metadata": {},
   "source": [
    "Крайне желательно рисовать графики в векторном формате. \n",
    "\n",
    "Если по каким-то причинам, отрисовка не будет работать, закомментируйте следующую ячейку."
   ]
  },
  {
   "cell_type": "code",
   "execution_count": 44,
   "metadata": {
    "ExecuteTime": {
     "end_time": "2024-03-30T22:43:31.573342Z",
     "start_time": "2024-03-30T22:43:31.567690Z"
    }
   },
   "outputs": [],
   "source": [
    "%matplotlib inline\n",
    "\n",
    "import matplotlib_inline\n",
    "from IPython.display import set_matplotlib_formats\n",
    "\n",
    "matplotlib_inline.backend_inline.set_matplotlib_formats('pdf', 'svg')"
   ]
  },
  {
   "cell_type": "markdown",
   "metadata": {},
   "source": [
    "Нарисуйте два графика — функция потерь и качество на обучающей и тестовой выборке для всех 7 моделей обученных выше."
   ]
  },
  {
   "cell_type": "code",
   "execution_count": 45,
   "metadata": {
    "ExecuteTime": {
     "end_time": "2024-03-30T22:43:32.290598Z",
     "start_time": "2024-03-30T22:43:31.575031Z"
    }
   },
   "outputs": [
    {
     "data": {
      "application/pdf": "[encoded data removed]",
      "image/svg+xml": [
       "<?xml version=\"1.0\" encoding=\"utf-8\" standalone=\"no\"?>\n",
       "<!DOCTYPE svg PUBLIC \"-//W3C//DTD SVG 1.1//EN\"\n",
       "  \"http://www.w3.org/Graphics/SVG/1.1/DTD/svg11.dtd\">\n",
       "<svg xmlns:xlink=\"http://www.w3.org/1999/xlink\" width=\"712.863125pt\" height=\"711.034375pt\" viewBox=\"0 0 712.863125 711.034375\" xmlns=\"http://www.w3.org/2000/svg\" version=\"1.1\">\n",
       " <metadata>\n",
       "  <rdf:RDF xmlns:dc=\"http://purl.org/dc/elements/1.1/\" xmlns:cc=\"http://creativecommons.org/ns#\" xmlns:rdf=\"http://www.w3.org/1999/02/22-rdf-syntax-ns#\">\n",
       "   <cc:Work>\n",
       "    <dc:type rdf:resource=\"http://purl.org/dc/dcmitype/StillImage\"/>\n",
       "    <dc:date>2024-03-31T01:43:31.863278</dc:date>\n",
       "    <dc:format>image/svg+xml</dc:format>\n",
       "    <dc:creator>\n",
       "     <cc:Agent>\n",
       "      <dc:title>Matplotlib v3.7.1, https://matplotlib.org/</dc:title>\n",
       "     </cc:Agent>\n",
       "    </dc:creator>\n",
       "   </cc:Work>\n",
       "  </rdf:RDF>\n",
       " </metadata>\n",
       " <defs>\n",
       "  <style type=\"text/css\">*{stroke-linejoin: round; stroke-linecap: butt}</style>\n",
       " </defs>\n",
       " <g id=\"figure_1\">\n",
       "  <g id=\"patch_1\">\n",
       "   <path d=\"M 0 711.034375 \n",
       "L 712.863125 711.034375 \n",
       "L 712.863125 0 \n",
       "L 0 0 \n",
       "z\n",
       "\" style=\"fill: #ffffff\"/>\n",
       "  </g>\n",
       "  <g id=\"axes_1\">\n",
       "   <g id=\"patch_2\">\n",
       "    <path d=\"M 30.103125 318.878125 \n",
       "L 705.663125 318.878125 \n",
       "L 705.663125 22.318125 \n",
       "L 30.103125 22.318125 \n",
       "z\n",
       "\" style=\"fill: #ffffff\"/>\n",
       "   </g>\n",
       "   <g id=\"matplotlib.axis_1\">\n",
       "    <g id=\"xtick_1\">\n",
       "     <g id=\"line2d_1\">\n",
       "      <path d=\"M 60.810398 318.878125 \n",
       "L 60.810398 22.318125 \n",
       "\" clip-path=\"url(#p5f8760a969)\" style=\"fill: none; stroke: #b0b0b0; stroke-width: 0.8; stroke-linecap: square\"/>\n",
       "     </g>\n",
       "     <g id=\"line2d_2\">\n",
       "      <defs>\n",
       "       <path id=\"mcb197d4879\" d=\"M 0 0 \n",
       "L 0 3.5 \n",
       "\" style=\"stroke: #000000; stroke-width: 0.8\"/>\n",
       "      </defs>\n",
       "      <g>\n",
       "       <use xlink:href=\"#mcb197d4879\" x=\"60.810398\" y=\"318.878125\" style=\"stroke: #000000; stroke-width: 0.8\"/>\n",
       "      </g>\n",
       "     </g>\n",
       "     <g id=\"text_1\">\n",
       "      <!-- 0 -->\n",
       "      <g transform=\"translate(57.629148 333.476562) scale(0.1 -0.1)\">\n",
       "       <defs>\n",
       "        <path id=\"DejaVuSans-30\" d=\"M 2034 4250 \n",
       "Q 1547 4250 1301 3770 \n",
       "Q 1056 3291 1056 2328 \n",
       "Q 1056 1369 1301 889 \n",
       "Q 1547 409 2034 409 \n",
       "Q 2525 409 2770 889 \n",
       "Q 3016 1369 3016 2328 \n",
       "Q 3016 3291 2770 3770 \n",
       "Q 2525 4250 2034 4250 \n",
       "z\n",
       "M 2034 4750 \n",
       "Q 2819 4750 3233 4129 \n",
       "Q 3647 3509 3647 2328 \n",
       "Q 3647 1150 3233 529 \n",
       "Q 2819 -91 2034 -91 \n",
       "Q 1250 -91 836 529 \n",
       "Q 422 1150 422 2328 \n",
       "Q 422 3509 836 4129 \n",
       "Q 1250 4750 2034 4750 \n",
       "z\n",
       "\" transform=\"scale(0.015625)\"/>\n",
       "       </defs>\n",
       "       <use xlink:href=\"#DejaVuSans-30\"/>\n",
       "      </g>\n",
       "     </g>\n",
       "    </g>\n",
       "    <g id=\"xtick_2\">\n",
       "     <g id=\"line2d_3\">\n",
       "      <path d=\"M 148.545463 318.878125 \n",
       "L 148.545463 22.318125 \n",
       "\" clip-path=\"url(#p5f8760a969)\" style=\"fill: none; stroke: #b0b0b0; stroke-width: 0.8; stroke-linecap: square\"/>\n",
       "     </g>\n",
       "     <g id=\"line2d_4\">\n",
       "      <g>\n",
       "       <use xlink:href=\"#mcb197d4879\" x=\"148.545463\" y=\"318.878125\" style=\"stroke: #000000; stroke-width: 0.8\"/>\n",
       "      </g>\n",
       "     </g>\n",
       "     <g id=\"text_2\">\n",
       "      <!-- 2 -->\n",
       "      <g transform=\"translate(145.364213 333.476562) scale(0.1 -0.1)\">\n",
       "       <defs>\n",
       "        <path id=\"DejaVuSans-32\" d=\"M 1228 531 \n",
       "L 3431 531 \n",
       "L 3431 0 \n",
       "L 469 0 \n",
       "L 469 531 \n",
       "Q 828 903 1448 1529 \n",
       "Q 2069 2156 2228 2338 \n",
       "Q 2531 2678 2651 2914 \n",
       "Q 2772 3150 2772 3378 \n",
       "Q 2772 3750 2511 3984 \n",
       "Q 2250 4219 1831 4219 \n",
       "Q 1534 4219 1204 4116 \n",
       "Q 875 4013 500 3803 \n",
       "L 500 4441 \n",
       "Q 881 4594 1212 4672 \n",
       "Q 1544 4750 1819 4750 \n",
       "Q 2544 4750 2975 4387 \n",
       "Q 3406 4025 3406 3419 \n",
       "Q 3406 3131 3298 2873 \n",
       "Q 3191 2616 2906 2266 \n",
       "Q 2828 2175 2409 1742 \n",
       "Q 1991 1309 1228 531 \n",
       "z\n",
       "\" transform=\"scale(0.015625)\"/>\n",
       "       </defs>\n",
       "       <use xlink:href=\"#DejaVuSans-32\"/>\n",
       "      </g>\n",
       "     </g>\n",
       "    </g>\n",
       "    <g id=\"xtick_3\">\n",
       "     <g id=\"line2d_5\">\n",
       "      <path d=\"M 236.280528 318.878125 \n",
       "L 236.280528 22.318125 \n",
       "\" clip-path=\"url(#p5f8760a969)\" style=\"fill: none; stroke: #b0b0b0; stroke-width: 0.8; stroke-linecap: square\"/>\n",
       "     </g>\n",
       "     <g id=\"line2d_6\">\n",
       "      <g>\n",
       "       <use xlink:href=\"#mcb197d4879\" x=\"236.280528\" y=\"318.878125\" style=\"stroke: #000000; stroke-width: 0.8\"/>\n",
       "      </g>\n",
       "     </g>\n",
       "     <g id=\"text_3\">\n",
       "      <!-- 4 -->\n",
       "      <g transform=\"translate(233.099278 333.476562) scale(0.1 -0.1)\">\n",
       "       <defs>\n",
       "        <path id=\"DejaVuSans-34\" d=\"M 2419 4116 \n",
       "L 825 1625 \n",
       "L 2419 1625 \n",
       "L 2419 4116 \n",
       "z\n",
       "M 2253 4666 \n",
       "L 3047 4666 \n",
       "L 3047 1625 \n",
       "L 3713 1625 \n",
       "L 3713 1100 \n",
       "L 3047 1100 \n",
       "L 3047 0 \n",
       "L 2419 0 \n",
       "L 2419 1100 \n",
       "L 313 1100 \n",
       "L 313 1709 \n",
       "L 2253 4666 \n",
       "z\n",
       "\" transform=\"scale(0.015625)\"/>\n",
       "       </defs>\n",
       "       <use xlink:href=\"#DejaVuSans-34\"/>\n",
       "      </g>\n",
       "     </g>\n",
       "    </g>\n",
       "    <g id=\"xtick_4\">\n",
       "     <g id=\"line2d_7\">\n",
       "      <path d=\"M 324.015593 318.878125 \n",
       "L 324.015593 22.318125 \n",
       "\" clip-path=\"url(#p5f8760a969)\" style=\"fill: none; stroke: #b0b0b0; stroke-width: 0.8; stroke-linecap: square\"/>\n",
       "     </g>\n",
       "     <g id=\"line2d_8\">\n",
       "      <g>\n",
       "       <use xlink:href=\"#mcb197d4879\" x=\"324.015593\" y=\"318.878125\" style=\"stroke: #000000; stroke-width: 0.8\"/>\n",
       "      </g>\n",
       "     </g>\n",
       "     <g id=\"text_4\">\n",
       "      <!-- 6 -->\n",
       "      <g transform=\"translate(320.834343 333.476562) scale(0.1 -0.1)\">\n",
       "       <defs>\n",
       "        <path id=\"DejaVuSans-36\" d=\"M 2113 2584 \n",
       "Q 1688 2584 1439 2293 \n",
       "Q 1191 2003 1191 1497 \n",
       "Q 1191 994 1439 701 \n",
       "Q 1688 409 2113 409 \n",
       "Q 2538 409 2786 701 \n",
       "Q 3034 994 3034 1497 \n",
       "Q 3034 2003 2786 2293 \n",
       "Q 2538 2584 2113 2584 \n",
       "z\n",
       "M 3366 4563 \n",
       "L 3366 3988 \n",
       "Q 3128 4100 2886 4159 \n",
       "Q 2644 4219 2406 4219 \n",
       "Q 1781 4219 1451 3797 \n",
       "Q 1122 3375 1075 2522 \n",
       "Q 1259 2794 1537 2939 \n",
       "Q 1816 3084 2150 3084 \n",
       "Q 2853 3084 3261 2657 \n",
       "Q 3669 2231 3669 1497 \n",
       "Q 3669 778 3244 343 \n",
       "Q 2819 -91 2113 -91 \n",
       "Q 1303 -91 875 529 \n",
       "Q 447 1150 447 2328 \n",
       "Q 447 3434 972 4092 \n",
       "Q 1497 4750 2381 4750 \n",
       "Q 2619 4750 2861 4703 \n",
       "Q 3103 4656 3366 4563 \n",
       "z\n",
       "\" transform=\"scale(0.015625)\"/>\n",
       "       </defs>\n",
       "       <use xlink:href=\"#DejaVuSans-36\"/>\n",
       "      </g>\n",
       "     </g>\n",
       "    </g>\n",
       "    <g id=\"xtick_5\">\n",
       "     <g id=\"line2d_9\">\n",
       "      <path d=\"M 411.750657 318.878125 \n",
       "L 411.750657 22.318125 \n",
       "\" clip-path=\"url(#p5f8760a969)\" style=\"fill: none; stroke: #b0b0b0; stroke-width: 0.8; stroke-linecap: square\"/>\n",
       "     </g>\n",
       "     <g id=\"line2d_10\">\n",
       "      <g>\n",
       "       <use xlink:href=\"#mcb197d4879\" x=\"411.750657\" y=\"318.878125\" style=\"stroke: #000000; stroke-width: 0.8\"/>\n",
       "      </g>\n",
       "     </g>\n",
       "     <g id=\"text_5\">\n",
       "      <!-- 8 -->\n",
       "      <g transform=\"translate(408.569407 333.476562) scale(0.1 -0.1)\">\n",
       "       <defs>\n",
       "        <path id=\"DejaVuSans-38\" d=\"M 2034 2216 \n",
       "Q 1584 2216 1326 1975 \n",
       "Q 1069 1734 1069 1313 \n",
       "Q 1069 891 1326 650 \n",
       "Q 1584 409 2034 409 \n",
       "Q 2484 409 2743 651 \n",
       "Q 3003 894 3003 1313 \n",
       "Q 3003 1734 2745 1975 \n",
       "Q 2488 2216 2034 2216 \n",
       "z\n",
       "M 1403 2484 \n",
       "Q 997 2584 770 2862 \n",
       "Q 544 3141 544 3541 \n",
       "Q 544 4100 942 4425 \n",
       "Q 1341 4750 2034 4750 \n",
       "Q 2731 4750 3128 4425 \n",
       "Q 3525 4100 3525 3541 \n",
       "Q 3525 3141 3298 2862 \n",
       "Q 3072 2584 2669 2484 \n",
       "Q 3125 2378 3379 2068 \n",
       "Q 3634 1759 3634 1313 \n",
       "Q 3634 634 3220 271 \n",
       "Q 2806 -91 2034 -91 \n",
       "Q 1263 -91 848 271 \n",
       "Q 434 634 434 1313 \n",
       "Q 434 1759 690 2068 \n",
       "Q 947 2378 1403 2484 \n",
       "z\n",
       "M 1172 3481 \n",
       "Q 1172 3119 1398 2916 \n",
       "Q 1625 2713 2034 2713 \n",
       "Q 2441 2713 2670 2916 \n",
       "Q 2900 3119 2900 3481 \n",
       "Q 2900 3844 2670 4047 \n",
       "Q 2441 4250 2034 4250 \n",
       "Q 1625 4250 1398 4047 \n",
       "Q 1172 3844 1172 3481 \n",
       "z\n",
       "\" transform=\"scale(0.015625)\"/>\n",
       "       </defs>\n",
       "       <use xlink:href=\"#DejaVuSans-38\"/>\n",
       "      </g>\n",
       "     </g>\n",
       "    </g>\n",
       "    <g id=\"xtick_6\">\n",
       "     <g id=\"line2d_11\">\n",
       "      <path d=\"M 499.485722 318.878125 \n",
       "L 499.485722 22.318125 \n",
       "\" clip-path=\"url(#p5f8760a969)\" style=\"fill: none; stroke: #b0b0b0; stroke-width: 0.8; stroke-linecap: square\"/>\n",
       "     </g>\n",
       "     <g id=\"line2d_12\">\n",
       "      <g>\n",
       "       <use xlink:href=\"#mcb197d4879\" x=\"499.485722\" y=\"318.878125\" style=\"stroke: #000000; stroke-width: 0.8\"/>\n",
       "      </g>\n",
       "     </g>\n",
       "     <g id=\"text_6\">\n",
       "      <!-- 10 -->\n",
       "      <g transform=\"translate(493.123222 333.476562) scale(0.1 -0.1)\">\n",
       "       <defs>\n",
       "        <path id=\"DejaVuSans-31\" d=\"M 794 531 \n",
       "L 1825 531 \n",
       "L 1825 4091 \n",
       "L 703 3866 \n",
       "L 703 4441 \n",
       "L 1819 4666 \n",
       "L 2450 4666 \n",
       "L 2450 531 \n",
       "L 3481 531 \n",
       "L 3481 0 \n",
       "L 794 0 \n",
       "L 794 531 \n",
       "z\n",
       "\" transform=\"scale(0.015625)\"/>\n",
       "       </defs>\n",
       "       <use xlink:href=\"#DejaVuSans-31\"/>\n",
       "       <use xlink:href=\"#DejaVuSans-30\" x=\"63.623047\"/>\n",
       "      </g>\n",
       "     </g>\n",
       "    </g>\n",
       "    <g id=\"xtick_7\">\n",
       "     <g id=\"line2d_13\">\n",
       "      <path d=\"M 587.220787 318.878125 \n",
       "L 587.220787 22.318125 \n",
       "\" clip-path=\"url(#p5f8760a969)\" style=\"fill: none; stroke: #b0b0b0; stroke-width: 0.8; stroke-linecap: square\"/>\n",
       "     </g>\n",
       "     <g id=\"line2d_14\">\n",
       "      <g>\n",
       "       <use xlink:href=\"#mcb197d4879\" x=\"587.220787\" y=\"318.878125\" style=\"stroke: #000000; stroke-width: 0.8\"/>\n",
       "      </g>\n",
       "     </g>\n",
       "     <g id=\"text_7\">\n",
       "      <!-- 12 -->\n",
       "      <g transform=\"translate(580.858287 333.476562) scale(0.1 -0.1)\">\n",
       "       <use xlink:href=\"#DejaVuSans-31\"/>\n",
       "       <use xlink:href=\"#DejaVuSans-32\" x=\"63.623047\"/>\n",
       "      </g>\n",
       "     </g>\n",
       "    </g>\n",
       "    <g id=\"xtick_8\">\n",
       "     <g id=\"line2d_15\">\n",
       "      <path d=\"M 674.955852 318.878125 \n",
       "L 674.955852 22.318125 \n",
       "\" clip-path=\"url(#p5f8760a969)\" style=\"fill: none; stroke: #b0b0b0; stroke-width: 0.8; stroke-linecap: square\"/>\n",
       "     </g>\n",
       "     <g id=\"line2d_16\">\n",
       "      <g>\n",
       "       <use xlink:href=\"#mcb197d4879\" x=\"674.955852\" y=\"318.878125\" style=\"stroke: #000000; stroke-width: 0.8\"/>\n",
       "      </g>\n",
       "     </g>\n",
       "     <g id=\"text_8\">\n",
       "      <!-- 14 -->\n",
       "      <g transform=\"translate(668.593352 333.476562) scale(0.1 -0.1)\">\n",
       "       <use xlink:href=\"#DejaVuSans-31\"/>\n",
       "       <use xlink:href=\"#DejaVuSans-34\" x=\"63.623047\"/>\n",
       "      </g>\n",
       "     </g>\n",
       "    </g>\n",
       "    <g id=\"text_9\">\n",
       "     <!-- Epoch -->\n",
       "     <g transform=\"translate(352.572187 347.154687) scale(0.1 -0.1)\">\n",
       "      <defs>\n",
       "       <path id=\"DejaVuSans-45\" d=\"M 628 4666 \n",
       "L 3578 4666 \n",
       "L 3578 4134 \n",
       "L 1259 4134 \n",
       "L 1259 2753 \n",
       "L 3481 2753 \n",
       "L 3481 2222 \n",
       "L 1259 2222 \n",
       "L 1259 531 \n",
       "L 3634 531 \n",
       "L 3634 0 \n",
       "L 628 0 \n",
       "L 628 4666 \n",
       "z\n",
       "\" transform=\"scale(0.015625)\"/>\n",
       "       <path id=\"DejaVuSans-70\" d=\"M 1159 525 \n",
       "L 1159 -1331 \n",
       "L 581 -1331 \n",
       "L 581 3500 \n",
       "L 1159 3500 \n",
       "L 1159 2969 \n",
       "Q 1341 3281 1617 3432 \n",
       "Q 1894 3584 2278 3584 \n",
       "Q 2916 3584 3314 3078 \n",
       "Q 3713 2572 3713 1747 \n",
       "Q 3713 922 3314 415 \n",
       "Q 2916 -91 2278 -91 \n",
       "Q 1894 -91 1617 61 \n",
       "Q 1341 213 1159 525 \n",
       "z\n",
       "M 3116 1747 \n",
       "Q 3116 2381 2855 2742 \n",
       "Q 2594 3103 2138 3103 \n",
       "Q 1681 3103 1420 2742 \n",
       "Q 1159 2381 1159 1747 \n",
       "Q 1159 1113 1420 752 \n",
       "Q 1681 391 2138 391 \n",
       "Q 2594 391 2855 752 \n",
       "Q 3116 1113 3116 1747 \n",
       "z\n",
       "\" transform=\"scale(0.015625)\"/>\n",
       "       <path id=\"DejaVuSans-6f\" d=\"M 1959 3097 \n",
       "Q 1497 3097 1228 2736 \n",
       "Q 959 2375 959 1747 \n",
       "Q 959 1119 1226 758 \n",
       "Q 1494 397 1959 397 \n",
       "Q 2419 397 2687 759 \n",
       "Q 2956 1122 2956 1747 \n",
       "Q 2956 2369 2687 2733 \n",
       "Q 2419 3097 1959 3097 \n",
       "z\n",
       "M 1959 3584 \n",
       "Q 2709 3584 3137 3096 \n",
       "Q 3566 2609 3566 1747 \n",
       "Q 3566 888 3137 398 \n",
       "Q 2709 -91 1959 -91 \n",
       "Q 1206 -91 779 398 \n",
       "Q 353 888 353 1747 \n",
       "Q 353 2609 779 3096 \n",
       "Q 1206 3584 1959 3584 \n",
       "z\n",
       "\" transform=\"scale(0.015625)\"/>\n",
       "       <path id=\"DejaVuSans-63\" d=\"M 3122 3366 \n",
       "L 3122 2828 \n",
       "Q 2878 2963 2633 3030 \n",
       "Q 2388 3097 2138 3097 \n",
       "Q 1578 3097 1268 2742 \n",
       "Q 959 2388 959 1747 \n",
       "Q 959 1106 1268 751 \n",
       "Q 1578 397 2138 397 \n",
       "Q 2388 397 2633 464 \n",
       "Q 2878 531 3122 666 \n",
       "L 3122 134 \n",
       "Q 2881 22 2623 -34 \n",
       "Q 2366 -91 2075 -91 \n",
       "Q 1284 -91 818 406 \n",
       "Q 353 903 353 1747 \n",
       "Q 353 2603 823 3093 \n",
       "Q 1294 3584 2113 3584 \n",
       "Q 2378 3584 2631 3529 \n",
       "Q 2884 3475 3122 3366 \n",
       "z\n",
       "\" transform=\"scale(0.015625)\"/>\n",
       "       <path id=\"DejaVuSans-68\" d=\"M 3513 2113 \n",
       "L 3513 0 \n",
       "L 2938 0 \n",
       "L 2938 2094 \n",
       "Q 2938 2591 2744 2837 \n",
       "Q 2550 3084 2163 3084 \n",
       "Q 1697 3084 1428 2787 \n",
       "Q 1159 2491 1159 1978 \n",
       "L 1159 0 \n",
       "L 581 0 \n",
       "L 581 4863 \n",
       "L 1159 4863 \n",
       "L 1159 2956 \n",
       "Q 1366 3272 1645 3428 \n",
       "Q 1925 3584 2291 3584 \n",
       "Q 2894 3584 3203 3211 \n",
       "Q 3513 2838 3513 2113 \n",
       "z\n",
       "\" transform=\"scale(0.015625)\"/>\n",
       "      </defs>\n",
       "      <use xlink:href=\"#DejaVuSans-45\"/>\n",
       "      <use xlink:href=\"#DejaVuSans-70\" x=\"63.183594\"/>\n",
       "      <use xlink:href=\"#DejaVuSans-6f\" x=\"126.660156\"/>\n",
       "      <use xlink:href=\"#DejaVuSans-63\" x=\"187.841797\"/>\n",
       "      <use xlink:href=\"#DejaVuSans-68\" x=\"242.822266\"/>\n",
       "     </g>\n",
       "    </g>\n",
       "   </g>\n",
       "   <g id=\"matplotlib.axis_2\">\n",
       "    <g id=\"ytick_1\">\n",
       "     <g id=\"line2d_17\">\n",
       "      <path d=\"M 30.103125 292.194617 \n",
       "L 705.663125 292.194617 \n",
       "\" clip-path=\"url(#p5f8760a969)\" style=\"fill: none; stroke: #b0b0b0; stroke-width: 0.8; stroke-linecap: square\"/>\n",
       "     </g>\n",
       "     <g id=\"line2d_18\">\n",
       "      <defs>\n",
       "       <path id=\"m9b6446da32\" d=\"M 0 0 \n",
       "L -3.5 0 \n",
       "\" style=\"stroke: #000000; stroke-width: 0.8\"/>\n",
       "      </defs>\n",
       "      <g>\n",
       "       <use xlink:href=\"#m9b6446da32\" x=\"30.103125\" y=\"292.194617\" style=\"stroke: #000000; stroke-width: 0.8\"/>\n",
       "      </g>\n",
       "     </g>\n",
       "     <g id=\"text_10\">\n",
       "      <!-- 0.5 -->\n",
       "      <g transform=\"translate(7.2 295.993836) scale(0.1 -0.1)\">\n",
       "       <defs>\n",
       "        <path id=\"DejaVuSans-2e\" d=\"M 684 794 \n",
       "L 1344 794 \n",
       "L 1344 0 \n",
       "L 684 0 \n",
       "L 684 794 \n",
       "z\n",
       "\" transform=\"scale(0.015625)\"/>\n",
       "        <path id=\"DejaVuSans-35\" d=\"M 691 4666 \n",
       "L 3169 4666 \n",
       "L 3169 4134 \n",
       "L 1269 4134 \n",
       "L 1269 2991 \n",
       "Q 1406 3038 1543 3061 \n",
       "Q 1681 3084 1819 3084 \n",
       "Q 2600 3084 3056 2656 \n",
       "Q 3513 2228 3513 1497 \n",
       "Q 3513 744 3044 326 \n",
       "Q 2575 -91 1722 -91 \n",
       "Q 1428 -91 1123 -41 \n",
       "Q 819 9 494 109 \n",
       "L 494 744 \n",
       "Q 775 591 1075 516 \n",
       "Q 1375 441 1709 441 \n",
       "Q 2250 441 2565 725 \n",
       "Q 2881 1009 2881 1497 \n",
       "Q 2881 1984 2565 2268 \n",
       "Q 2250 2553 1709 2553 \n",
       "Q 1456 2553 1204 2497 \n",
       "Q 953 2441 691 2322 \n",
       "L 691 4666 \n",
       "z\n",
       "\" transform=\"scale(0.015625)\"/>\n",
       "       </defs>\n",
       "       <use xlink:href=\"#DejaVuSans-30\"/>\n",
       "       <use xlink:href=\"#DejaVuSans-2e\" x=\"63.623047\"/>\n",
       "       <use xlink:href=\"#DejaVuSans-35\" x=\"95.410156\"/>\n",
       "      </g>\n",
       "     </g>\n",
       "    </g>\n",
       "    <g id=\"ytick_2\">\n",
       "     <g id=\"line2d_19\">\n",
       "      <path d=\"M 30.103125 232.768708 \n",
       "L 705.663125 232.768708 \n",
       "\" clip-path=\"url(#p5f8760a969)\" style=\"fill: none; stroke: #b0b0b0; stroke-width: 0.8; stroke-linecap: square\"/>\n",
       "     </g>\n",
       "     <g id=\"line2d_20\">\n",
       "      <g>\n",
       "       <use xlink:href=\"#m9b6446da32\" x=\"30.103125\" y=\"232.768708\" style=\"stroke: #000000; stroke-width: 0.8\"/>\n",
       "      </g>\n",
       "     </g>\n",
       "     <g id=\"text_11\">\n",
       "      <!-- 1.0 -->\n",
       "      <g transform=\"translate(7.2 236.567927) scale(0.1 -0.1)\">\n",
       "       <use xlink:href=\"#DejaVuSans-31\"/>\n",
       "       <use xlink:href=\"#DejaVuSans-2e\" x=\"63.623047\"/>\n",
       "       <use xlink:href=\"#DejaVuSans-30\" x=\"95.410156\"/>\n",
       "      </g>\n",
       "     </g>\n",
       "    </g>\n",
       "    <g id=\"ytick_3\">\n",
       "     <g id=\"line2d_21\">\n",
       "      <path d=\"M 30.103125 173.342799 \n",
       "L 705.663125 173.342799 \n",
       "\" clip-path=\"url(#p5f8760a969)\" style=\"fill: none; stroke: #b0b0b0; stroke-width: 0.8; stroke-linecap: square\"/>\n",
       "     </g>\n",
       "     <g id=\"line2d_22\">\n",
       "      <g>\n",
       "       <use xlink:href=\"#m9b6446da32\" x=\"30.103125\" y=\"173.342799\" style=\"stroke: #000000; stroke-width: 0.8\"/>\n",
       "      </g>\n",
       "     </g>\n",
       "     <g id=\"text_12\">\n",
       "      <!-- 1.5 -->\n",
       "      <g transform=\"translate(7.2 177.142017) scale(0.1 -0.1)\">\n",
       "       <use xlink:href=\"#DejaVuSans-31\"/>\n",
       "       <use xlink:href=\"#DejaVuSans-2e\" x=\"63.623047\"/>\n",
       "       <use xlink:href=\"#DejaVuSans-35\" x=\"95.410156\"/>\n",
       "      </g>\n",
       "     </g>\n",
       "    </g>\n",
       "    <g id=\"ytick_4\">\n",
       "     <g id=\"line2d_23\">\n",
       "      <path d=\"M 30.103125 113.916889 \n",
       "L 705.663125 113.916889 \n",
       "\" clip-path=\"url(#p5f8760a969)\" style=\"fill: none; stroke: #b0b0b0; stroke-width: 0.8; stroke-linecap: square\"/>\n",
       "     </g>\n",
       "     <g id=\"line2d_24\">\n",
       "      <g>\n",
       "       <use xlink:href=\"#m9b6446da32\" x=\"30.103125\" y=\"113.916889\" style=\"stroke: #000000; stroke-width: 0.8\"/>\n",
       "      </g>\n",
       "     </g>\n",
       "     <g id=\"text_13\">\n",
       "      <!-- 2.0 -->\n",
       "      <g transform=\"translate(7.2 117.716108) scale(0.1 -0.1)\">\n",
       "       <use xlink:href=\"#DejaVuSans-32\"/>\n",
       "       <use xlink:href=\"#DejaVuSans-2e\" x=\"63.623047\"/>\n",
       "       <use xlink:href=\"#DejaVuSans-30\" x=\"95.410156\"/>\n",
       "      </g>\n",
       "     </g>\n",
       "    </g>\n",
       "    <g id=\"ytick_5\">\n",
       "     <g id=\"line2d_25\">\n",
       "      <path d=\"M 30.103125 54.49098 \n",
       "L 705.663125 54.49098 \n",
       "\" clip-path=\"url(#p5f8760a969)\" style=\"fill: none; stroke: #b0b0b0; stroke-width: 0.8; stroke-linecap: square\"/>\n",
       "     </g>\n",
       "     <g id=\"line2d_26\">\n",
       "      <g>\n",
       "       <use xlink:href=\"#m9b6446da32\" x=\"30.103125\" y=\"54.49098\" style=\"stroke: #000000; stroke-width: 0.8\"/>\n",
       "      </g>\n",
       "     </g>\n",
       "     <g id=\"text_14\">\n",
       "      <!-- 2.5 -->\n",
       "      <g transform=\"translate(7.2 58.290199) scale(0.1 -0.1)\">\n",
       "       <use xlink:href=\"#DejaVuSans-32\"/>\n",
       "       <use xlink:href=\"#DejaVuSans-2e\" x=\"63.623047\"/>\n",
       "       <use xlink:href=\"#DejaVuSans-35\" x=\"95.410156\"/>\n",
       "      </g>\n",
       "     </g>\n",
       "    </g>\n",
       "   </g>\n",
       "   <g id=\"line2d_27\">\n",
       "    <path d=\"M 60.810398 115.10228 \n",
       "L 104.67793 158.359785 \n",
       "L 148.545463 173.501357 \n",
       "L 192.412995 187.08107 \n",
       "L 236.280528 196.829338 \n",
       "L 280.14806 205.333836 \n",
       "L 324.015593 216.064944 \n",
       "L 367.883125 223.890336 \n",
       "L 411.750657 237.62737 \n",
       "L 455.61819 248.572743 \n",
       "L 499.485722 255.353149 \n",
       "L 543.353255 272.473457 \n",
       "L 587.220787 282.918479 \n",
       "L 631.08832 290.294573 \n",
       "L 674.955852 300.283105 \n",
       "\" clip-path=\"url(#p5f8760a969)\" style=\"fill: none; stroke: #000000; stroke-width: 1.5; stroke-linecap: square\"/>\n",
       "   </g>\n",
       "   <g id=\"line2d_28\">\n",
       "    <path d=\"M 60.810398 114.26409 \n",
       "L 104.67793 144.793913 \n",
       "L 148.545463 151.726597 \n",
       "L 192.412995 175.62408 \n",
       "L 236.280528 185.908631 \n",
       "L 280.14806 197.95718 \n",
       "L 324.015593 204.127395 \n",
       "L 367.883125 217.989676 \n",
       "L 411.750657 232.038812 \n",
       "L 455.61819 239.358629 \n",
       "L 499.485722 254.452857 \n",
       "L 543.353255 269.904374 \n",
       "L 587.220787 281.211947 \n",
       "L 631.08832 294.113549 \n",
       "L 674.955852 305.398125 \n",
       "\" clip-path=\"url(#p5f8760a969)\" style=\"fill: none; stroke: #ff0000; stroke-width: 1.5; stroke-linecap: square\"/>\n",
       "   </g>\n",
       "   <g id=\"line2d_29\">\n",
       "    <path d=\"M 60.810398 115.110331 \n",
       "L 104.67793 135.168948 \n",
       "L 148.545463 149.588848 \n",
       "L 192.412995 162.74336 \n",
       "L 236.280528 167.501794 \n",
       "L 280.14806 178.095519 \n",
       "L 324.015593 184.697244 \n",
       "L 367.883125 189.809547 \n",
       "L 411.750657 194.299176 \n",
       "L 455.61819 200.215787 \n",
       "L 499.485722 205.11576 \n",
       "L 543.353255 209.255539 \n",
       "L 587.220787 212.520946 \n",
       "L 631.08832 216.501393 \n",
       "L 674.955852 220.595578 \n",
       "\" clip-path=\"url(#p5f8760a969)\" style=\"fill: none; stroke: #0000ff; stroke-width: 1.5; stroke-linecap: square\"/>\n",
       "   </g>\n",
       "   <g id=\"line2d_30\">\n",
       "    <path d=\"M 60.810398 120.79634 \n",
       "L 104.67793 134.886496 \n",
       "L 148.545463 162.035145 \n",
       "L 192.412995 176.941923 \n",
       "L 236.280528 187.269407 \n",
       "L 280.14806 195.380769 \n",
       "L 324.015593 206.25678 \n",
       "L 367.883125 217.205399 \n",
       "L 411.750657 224.426108 \n",
       "L 455.61819 235.695151 \n",
       "L 499.485722 248.352741 \n",
       "L 543.353255 259.370813 \n",
       "L 587.220787 272.46024 \n",
       "L 631.08832 283.690594 \n",
       "L 674.955852 294.09234 \n",
       "\" clip-path=\"url(#p5f8760a969)\" style=\"fill: none; stroke: #008000; stroke-width: 1.5; stroke-linecap: square\"/>\n",
       "   </g>\n",
       "   <g id=\"line2d_31\">\n",
       "    <path d=\"M 60.810398 111.421933 \n",
       "L 104.67793 122.205251 \n",
       "L 148.545463 140.396223 \n",
       "L 192.412995 154.858142 \n",
       "L 236.280528 165.892443 \n",
       "L 280.14806 172.576793 \n",
       "L 324.015593 178.973435 \n",
       "L 367.883125 185.171717 \n",
       "L 411.750657 190.765679 \n",
       "L 455.61819 194.583741 \n",
       "L 499.485722 200.483603 \n",
       "L 543.353255 202.561729 \n",
       "L 587.220787 209.739857 \n",
       "L 631.08832 212.957594 \n",
       "L 674.955852 216.746345 \n",
       "\" clip-path=\"url(#p5f8760a969)\" style=\"fill: none; stroke: #ffa500; stroke-width: 1.5; stroke-linecap: square\"/>\n",
       "   </g>\n",
       "   <g id=\"line2d_32\">\n",
       "    <path d=\"M 60.810398 122.381873 \n",
       "L 104.67793 147.899258 \n",
       "L 148.545463 166.479187 \n",
       "L 192.412995 178.039421 \n",
       "L 236.280528 188.796166 \n",
       "L 280.14806 199.263975 \n",
       "L 324.015593 210.340217 \n",
       "L 367.883125 219.496419 \n",
       "L 411.750657 232.03912 \n",
       "L 455.61819 243.592095 \n",
       "L 499.485722 254.247687 \n",
       "L 543.353255 267.660237 \n",
       "L 587.220787 279.746376 \n",
       "L 631.08832 290.431808 \n",
       "L 674.955852 302.013761 \n",
       "\" clip-path=\"url(#p5f8760a969)\" style=\"fill: none; stroke: #800080; stroke-width: 1.5; stroke-linecap: square\"/>\n",
       "   </g>\n",
       "   <g id=\"line2d_33\">\n",
       "    <path d=\"M 60.810398 115.117341 \n",
       "L 104.67793 138.118587 \n",
       "L 148.545463 141.658857 \n",
       "L 192.412995 158.080117 \n",
       "L 236.280528 163.965753 \n",
       "L 280.14806 170.168419 \n",
       "L 324.015593 175.241588 \n",
       "L 367.883125 172.697 \n",
       "L 411.750657 183.620006 \n",
       "L 455.61819 188.638064 \n",
       "L 499.485722 192.658686 \n",
       "L 543.353255 196.301329 \n",
       "L 587.220787 199.835326 \n",
       "L 631.08832 204.689135 \n",
       "L 674.955852 205.800986 \n",
       "\" clip-path=\"url(#p5f8760a969)\" style=\"fill: none; stroke: #00ffff; stroke-width: 1.5; stroke-linecap: square\"/>\n",
       "   </g>\n",
       "   <g id=\"line2d_34\">\n",
       "    <path d=\"M 60.810398 113.975868 \n",
       "L 104.67793 149.381667 \n",
       "L 148.545463 158.24595 \n",
       "L 192.412995 159.322272 \n",
       "L 236.280528 160.877351 \n",
       "L 280.14806 152.097488 \n",
       "L 324.015593 147.501885 \n",
       "L 367.883125 144.626516 \n",
       "L 411.750657 134.724672 \n",
       "L 455.61819 126.230314 \n",
       "L 499.485722 106.780429 \n",
       "L 543.353255 96.165994 \n",
       "L 587.220787 72.512418 \n",
       "L 631.08832 59.84099 \n",
       "L 674.955852 37.461646 \n",
       "\" clip-path=\"url(#p5f8760a969)\" style=\"fill: none; stroke-dasharray: 5.55,2.4; stroke-dashoffset: 0; stroke: #000000; stroke-width: 1.5\"/>\n",
       "   </g>\n",
       "   <g id=\"line2d_35\">\n",
       "    <path d=\"M 60.810398 113.550866 \n",
       "L 104.67793 138.766646 \n",
       "L 148.545463 141.043312 \n",
       "L 192.412995 154.760914 \n",
       "L 236.280528 155.871725 \n",
       "L 280.14806 157.179291 \n",
       "L 324.015593 148.266356 \n",
       "L 367.883125 145.649776 \n",
       "L 411.750657 142.483736 \n",
       "L 455.61819 124.125609 \n",
       "L 499.485722 111.545595 \n",
       "L 543.353255 101.754991 \n",
       "L 587.220787 79.062609 \n",
       "L 631.08832 50.229064 \n",
       "L 674.955852 35.798125 \n",
       "\" clip-path=\"url(#p5f8760a969)\" style=\"fill: none; stroke-dasharray: 5.55,2.4; stroke-dashoffset: 0; stroke: #ff0000; stroke-width: 1.5\"/>\n",
       "   </g>\n",
       "   <g id=\"line2d_36\">\n",
       "    <path d=\"M 60.810398 114.351663 \n",
       "L 104.67793 131.657305 \n",
       "L 148.545463 143.067431 \n",
       "L 192.412995 152.016185 \n",
       "L 236.280528 155.004311 \n",
       "L 280.14806 160.216067 \n",
       "L 324.015593 162.660891 \n",
       "L 367.883125 164.603681 \n",
       "L 411.750657 163.966876 \n",
       "L 455.61819 165.222704 \n",
       "L 499.485722 166.156756 \n",
       "L 543.353255 165.055044 \n",
       "L 587.220787 163.624673 \n",
       "L 631.08832 162.038649 \n",
       "L 674.955852 161.278505 \n",
       "\" clip-path=\"url(#p5f8760a969)\" style=\"fill: none; stroke-dasharray: 5.55,2.4; stroke-dashoffset: 0; stroke: #0000ff; stroke-width: 1.5\"/>\n",
       "   </g>\n",
       "   <g id=\"line2d_37\">\n",
       "    <path d=\"M 60.810398 119.874939 \n",
       "L 104.67793 130.421517 \n",
       "L 148.545463 150.830824 \n",
       "L 192.412995 158.382454 \n",
       "L 236.280528 158.717823 \n",
       "L 280.14806 159.384445 \n",
       "L 324.015593 156.229582 \n",
       "L 367.883125 152.08697 \n",
       "L 411.750657 146.139498 \n",
       "L 455.61819 137.117157 \n",
       "L 499.485722 124.595163 \n",
       "L 543.353255 110.954333 \n",
       "L 587.220787 97.352418 \n",
       "L 631.08832 80.125828 \n",
       "L 674.955852 54.416194 \n",
       "\" clip-path=\"url(#p5f8760a969)\" style=\"fill: none; stroke-dasharray: 5.55,2.4; stroke-dashoffset: 0; stroke: #008000; stroke-width: 1.5\"/>\n",
       "   </g>\n",
       "   <g id=\"line2d_38\">\n",
       "    <path d=\"M 60.810398 110.800662 \n",
       "L 104.67793 119.926814 \n",
       "L 148.545463 132.541533 \n",
       "L 192.412995 145.13163 \n",
       "L 236.280528 153.009611 \n",
       "L 280.14806 155.42878 \n",
       "L 324.015593 157.875231 \n",
       "L 367.883125 160.580444 \n",
       "L 411.750657 163.801057 \n",
       "L 455.61819 162.373423 \n",
       "L 499.485722 163.947239 \n",
       "L 543.353255 161.550213 \n",
       "L 587.220787 163.281801 \n",
       "L 631.08832 163.177052 \n",
       "L 674.955852 161.858113 \n",
       "\" clip-path=\"url(#p5f8760a969)\" style=\"fill: none; stroke-dasharray: 5.55,2.4; stroke-dashoffset: 0; stroke: #ffa500; stroke-width: 1.5\"/>\n",
       "   </g>\n",
       "   <g id=\"line2d_39\">\n",
       "    <path d=\"M 60.810398 119.427411 \n",
       "L 104.67793 141.390587 \n",
       "L 148.545463 151.94887 \n",
       "L 192.412995 157.322781 \n",
       "L 236.280528 159.398489 \n",
       "L 280.14806 157.885827 \n",
       "L 324.015593 153.984802 \n",
       "L 367.883125 149.793334 \n",
       "L 411.750657 136.145086 \n",
       "L 455.61819 124.094133 \n",
       "L 499.485722 116.725028 \n",
       "L 543.353255 102.415727 \n",
       "L 587.220787 84.757162 \n",
       "L 631.08832 64.736759 \n",
       "L 674.955852 42.292944 \n",
       "\" clip-path=\"url(#p5f8760a969)\" style=\"fill: none; stroke-dasharray: 5.55,2.4; stroke-dashoffset: 0; stroke: #800080; stroke-width: 1.5\"/>\n",
       "   </g>\n",
       "   <g id=\"line2d_40\">\n",
       "    <path d=\"M 60.810398 114.985562 \n",
       "L 104.67793 133.520695 \n",
       "L 148.545463 131.913492 \n",
       "L 192.412995 147.164382 \n",
       "L 236.280528 150.142805 \n",
       "L 280.14806 153.894423 \n",
       "L 324.015593 155.950682 \n",
       "L 367.883125 149.797484 \n",
       "L 411.750657 158.351479 \n",
       "L 455.61819 159.742823 \n",
       "L 499.485722 160.850064 \n",
       "L 543.353255 159.928371 \n",
       "L 587.220787 160.560943 \n",
       "L 631.08832 160.317948 \n",
       "L 674.955852 158.521843 \n",
       "\" clip-path=\"url(#p5f8760a969)\" style=\"fill: none; stroke-dasharray: 5.55,2.4; stroke-dashoffset: 0; stroke: #00ffff; stroke-width: 1.5\"/>\n",
       "   </g>\n",
       "   <g id=\"patch_3\">\n",
       "    <path d=\"M 30.103125 318.878125 \n",
       "L 30.103125 22.318125 \n",
       "\" style=\"fill: none; stroke: #000000; stroke-width: 0.8; stroke-linejoin: miter; stroke-linecap: square\"/>\n",
       "   </g>\n",
       "   <g id=\"patch_4\">\n",
       "    <path d=\"M 705.663125 318.878125 \n",
       "L 705.663125 22.318125 \n",
       "\" style=\"fill: none; stroke: #000000; stroke-width: 0.8; stroke-linejoin: miter; stroke-linecap: square\"/>\n",
       "   </g>\n",
       "   <g id=\"patch_5\">\n",
       "    <path d=\"M 30.103125 318.878125 \n",
       "L 705.663125 318.878125 \n",
       "\" style=\"fill: none; stroke: #000000; stroke-width: 0.8; stroke-linejoin: miter; stroke-linecap: square\"/>\n",
       "   </g>\n",
       "   <g id=\"patch_6\">\n",
       "    <path d=\"M 30.103125 22.318125 \n",
       "L 705.663125 22.318125 \n",
       "\" style=\"fill: none; stroke: #000000; stroke-width: 0.8; stroke-linejoin: miter; stroke-linecap: square\"/>\n",
       "   </g>\n",
       "   <g id=\"text_15\">\n",
       "    <!-- CrossEntropy Loss -->\n",
       "    <g transform=\"translate(313.062812 16.318125) scale(0.12 -0.12)\">\n",
       "     <defs>\n",
       "      <path id=\"DejaVuSans-43\" d=\"M 4122 4306 \n",
       "L 4122 3641 \n",
       "Q 3803 3938 3442 4084 \n",
       "Q 3081 4231 2675 4231 \n",
       "Q 1875 4231 1450 3742 \n",
       "Q 1025 3253 1025 2328 \n",
       "Q 1025 1406 1450 917 \n",
       "Q 1875 428 2675 428 \n",
       "Q 3081 428 3442 575 \n",
       "Q 3803 722 4122 1019 \n",
       "L 4122 359 \n",
       "Q 3791 134 3420 21 \n",
       "Q 3050 -91 2638 -91 \n",
       "Q 1578 -91 968 557 \n",
       "Q 359 1206 359 2328 \n",
       "Q 359 3453 968 4101 \n",
       "Q 1578 4750 2638 4750 \n",
       "Q 3056 4750 3426 4639 \n",
       "Q 3797 4528 4122 4306 \n",
       "z\n",
       "\" transform=\"scale(0.015625)\"/>\n",
       "      <path id=\"DejaVuSans-72\" d=\"M 2631 2963 \n",
       "Q 2534 3019 2420 3045 \n",
       "Q 2306 3072 2169 3072 \n",
       "Q 1681 3072 1420 2755 \n",
       "Q 1159 2438 1159 1844 \n",
       "L 1159 0 \n",
       "L 581 0 \n",
       "L 581 3500 \n",
       "L 1159 3500 \n",
       "L 1159 2956 \n",
       "Q 1341 3275 1631 3429 \n",
       "Q 1922 3584 2338 3584 \n",
       "Q 2397 3584 2469 3576 \n",
       "Q 2541 3569 2628 3553 \n",
       "L 2631 2963 \n",
       "z\n",
       "\" transform=\"scale(0.015625)\"/>\n",
       "      <path id=\"DejaVuSans-73\" d=\"M 2834 3397 \n",
       "L 2834 2853 \n",
       "Q 2591 2978 2328 3040 \n",
       "Q 2066 3103 1784 3103 \n",
       "Q 1356 3103 1142 2972 \n",
       "Q 928 2841 928 2578 \n",
       "Q 928 2378 1081 2264 \n",
       "Q 1234 2150 1697 2047 \n",
       "L 1894 2003 \n",
       "Q 2506 1872 2764 1633 \n",
       "Q 3022 1394 3022 966 \n",
       "Q 3022 478 2636 193 \n",
       "Q 2250 -91 1575 -91 \n",
       "Q 1294 -91 989 -36 \n",
       "Q 684 19 347 128 \n",
       "L 347 722 \n",
       "Q 666 556 975 473 \n",
       "Q 1284 391 1588 391 \n",
       "Q 1994 391 2212 530 \n",
       "Q 2431 669 2431 922 \n",
       "Q 2431 1156 2273 1281 \n",
       "Q 2116 1406 1581 1522 \n",
       "L 1381 1569 \n",
       "Q 847 1681 609 1914 \n",
       "Q 372 2147 372 2553 \n",
       "Q 372 3047 722 3315 \n",
       "Q 1072 3584 1716 3584 \n",
       "Q 2034 3584 2315 3537 \n",
       "Q 2597 3491 2834 3397 \n",
       "z\n",
       "\" transform=\"scale(0.015625)\"/>\n",
       "      <path id=\"DejaVuSans-6e\" d=\"M 3513 2113 \n",
       "L 3513 0 \n",
       "L 2938 0 \n",
       "L 2938 2094 \n",
       "Q 2938 2591 2744 2837 \n",
       "Q 2550 3084 2163 3084 \n",
       "Q 1697 3084 1428 2787 \n",
       "Q 1159 2491 1159 1978 \n",
       "L 1159 0 \n",
       "L 581 0 \n",
       "L 581 3500 \n",
       "L 1159 3500 \n",
       "L 1159 2956 \n",
       "Q 1366 3272 1645 3428 \n",
       "Q 1925 3584 2291 3584 \n",
       "Q 2894 3584 3203 3211 \n",
       "Q 3513 2838 3513 2113 \n",
       "z\n",
       "\" transform=\"scale(0.015625)\"/>\n",
       "      <path id=\"DejaVuSans-74\" d=\"M 1172 4494 \n",
       "L 1172 3500 \n",
       "L 2356 3500 \n",
       "L 2356 3053 \n",
       "L 1172 3053 \n",
       "L 1172 1153 \n",
       "Q 1172 725 1289 603 \n",
       "Q 1406 481 1766 481 \n",
       "L 2356 481 \n",
       "L 2356 0 \n",
       "L 1766 0 \n",
       "Q 1100 0 847 248 \n",
       "Q 594 497 594 1153 \n",
       "L 594 3053 \n",
       "L 172 3053 \n",
       "L 172 3500 \n",
       "L 594 3500 \n",
       "L 594 4494 \n",
       "L 1172 4494 \n",
       "z\n",
       "\" transform=\"scale(0.015625)\"/>\n",
       "      <path id=\"DejaVuSans-79\" d=\"M 2059 -325 \n",
       "Q 1816 -950 1584 -1140 \n",
       "Q 1353 -1331 966 -1331 \n",
       "L 506 -1331 \n",
       "L 506 -850 \n",
       "L 844 -850 \n",
       "Q 1081 -850 1212 -737 \n",
       "Q 1344 -625 1503 -206 \n",
       "L 1606 56 \n",
       "L 191 3500 \n",
       "L 800 3500 \n",
       "L 1894 763 \n",
       "L 2988 3500 \n",
       "L 3597 3500 \n",
       "L 2059 -325 \n",
       "z\n",
       "\" transform=\"scale(0.015625)\"/>\n",
       "      <path id=\"DejaVuSans-20\" transform=\"scale(0.015625)\"/>\n",
       "      <path id=\"DejaVuSans-4c\" d=\"M 628 4666 \n",
       "L 1259 4666 \n",
       "L 1259 531 \n",
       "L 3531 531 \n",
       "L 3531 0 \n",
       "L 628 0 \n",
       "L 628 4666 \n",
       "z\n",
       "\" transform=\"scale(0.015625)\"/>\n",
       "     </defs>\n",
       "     <use xlink:href=\"#DejaVuSans-43\"/>\n",
       "     <use xlink:href=\"#DejaVuSans-72\" x=\"69.824219\"/>\n",
       "     <use xlink:href=\"#DejaVuSans-6f\" x=\"108.6875\"/>\n",
       "     <use xlink:href=\"#DejaVuSans-73\" x=\"169.869141\"/>\n",
       "     <use xlink:href=\"#DejaVuSans-73\" x=\"221.96875\"/>\n",
       "     <use xlink:href=\"#DejaVuSans-45\" x=\"274.068359\"/>\n",
       "     <use xlink:href=\"#DejaVuSans-6e\" x=\"337.251953\"/>\n",
       "     <use xlink:href=\"#DejaVuSans-74\" x=\"400.630859\"/>\n",
       "     <use xlink:href=\"#DejaVuSans-72\" x=\"439.839844\"/>\n",
       "     <use xlink:href=\"#DejaVuSans-6f\" x=\"478.703125\"/>\n",
       "     <use xlink:href=\"#DejaVuSans-70\" x=\"539.884766\"/>\n",
       "     <use xlink:href=\"#DejaVuSans-79\" x=\"603.361328\"/>\n",
       "     <use xlink:href=\"#DejaVuSans-20\" x=\"662.541016\"/>\n",
       "     <use xlink:href=\"#DejaVuSans-4c\" x=\"694.328125\"/>\n",
       "     <use xlink:href=\"#DejaVuSans-6f\" x=\"748.291016\"/>\n",
       "     <use xlink:href=\"#DejaVuSans-73\" x=\"809.472656\"/>\n",
       "     <use xlink:href=\"#DejaVuSans-73\" x=\"861.572266\"/>\n",
       "    </g>\n",
       "   </g>\n",
       "   <g id=\"legend_1\">\n",
       "    <g id=\"patch_7\">\n",
       "     <path d=\"M 575.445937 274.845 \n",
       "L 698.663125 274.845 \n",
       "Q 700.663125 274.845 700.663125 272.845 \n",
       "L 700.663125 68.35125 \n",
       "Q 700.663125 66.35125 698.663125 66.35125 \n",
       "L 575.445937 66.35125 \n",
       "Q 573.445937 66.35125 573.445937 68.35125 \n",
       "L 573.445937 272.845 \n",
       "Q 573.445937 274.845 575.445937 274.845 \n",
       "z\n",
       "\" style=\"fill: #ffffff; opacity: 0.8; stroke: #cccccc; stroke-linejoin: miter\"/>\n",
       "    </g>\n",
       "    <g id=\"line2d_41\">\n",
       "     <path d=\"M 577.445937 74.449687 \n",
       "L 587.445937 74.449687 \n",
       "L 597.445937 74.449687 \n",
       "\" style=\"fill: none; stroke: #000000; stroke-width: 1.5; stroke-linecap: square\"/>\n",
       "    </g>\n",
       "    <g id=\"text_16\">\n",
       "     <!-- Base -->\n",
       "     <g transform=\"translate(605.445937 77.949687) scale(0.1 -0.1)\">\n",
       "      <defs>\n",
       "       <path id=\"DejaVuSans-42\" d=\"M 1259 2228 \n",
       "L 1259 519 \n",
       "L 2272 519 \n",
       "Q 2781 519 3026 730 \n",
       "Q 3272 941 3272 1375 \n",
       "Q 3272 1813 3026 2020 \n",
       "Q 2781 2228 2272 2228 \n",
       "L 1259 2228 \n",
       "z\n",
       "M 1259 4147 \n",
       "L 1259 2741 \n",
       "L 2194 2741 \n",
       "Q 2656 2741 2882 2914 \n",
       "Q 3109 3088 3109 3444 \n",
       "Q 3109 3797 2882 3972 \n",
       "Q 2656 4147 2194 4147 \n",
       "L 1259 4147 \n",
       "z\n",
       "M 628 4666 \n",
       "L 2241 4666 \n",
       "Q 2963 4666 3353 4366 \n",
       "Q 3744 4066 3744 3513 \n",
       "Q 3744 3084 3544 2831 \n",
       "Q 3344 2578 2956 2516 \n",
       "Q 3422 2416 3680 2098 \n",
       "Q 3938 1781 3938 1306 \n",
       "Q 3938 681 3513 340 \n",
       "Q 3088 0 2303 0 \n",
       "L 628 0 \n",
       "L 628 4666 \n",
       "z\n",
       "\" transform=\"scale(0.015625)\"/>\n",
       "       <path id=\"DejaVuSans-61\" d=\"M 2194 1759 \n",
       "Q 1497 1759 1228 1600 \n",
       "Q 959 1441 959 1056 \n",
       "Q 959 750 1161 570 \n",
       "Q 1363 391 1709 391 \n",
       "Q 2188 391 2477 730 \n",
       "Q 2766 1069 2766 1631 \n",
       "L 2766 1759 \n",
       "L 2194 1759 \n",
       "z\n",
       "M 3341 1997 \n",
       "L 3341 0 \n",
       "L 2766 0 \n",
       "L 2766 531 \n",
       "Q 2569 213 2275 61 \n",
       "Q 1981 -91 1556 -91 \n",
       "Q 1019 -91 701 211 \n",
       "Q 384 513 384 1019 \n",
       "Q 384 1609 779 1909 \n",
       "Q 1175 2209 1959 2209 \n",
       "L 2766 2209 \n",
       "L 2766 2266 \n",
       "Q 2766 2663 2505 2880 \n",
       "Q 2244 3097 1772 3097 \n",
       "Q 1472 3097 1187 3025 \n",
       "Q 903 2953 641 2809 \n",
       "L 641 3341 \n",
       "Q 956 3463 1253 3523 \n",
       "Q 1550 3584 1831 3584 \n",
       "Q 2591 3584 2966 3190 \n",
       "Q 3341 2797 3341 1997 \n",
       "z\n",
       "\" transform=\"scale(0.015625)\"/>\n",
       "       <path id=\"DejaVuSans-65\" d=\"M 3597 1894 \n",
       "L 3597 1613 \n",
       "L 953 1613 \n",
       "Q 991 1019 1311 708 \n",
       "Q 1631 397 2203 397 \n",
       "Q 2534 397 2845 478 \n",
       "Q 3156 559 3463 722 \n",
       "L 3463 178 \n",
       "Q 3153 47 2828 -22 \n",
       "Q 2503 -91 2169 -91 \n",
       "Q 1331 -91 842 396 \n",
       "Q 353 884 353 1716 \n",
       "Q 353 2575 817 3079 \n",
       "Q 1281 3584 2069 3584 \n",
       "Q 2775 3584 3186 3129 \n",
       "Q 3597 2675 3597 1894 \n",
       "z\n",
       "M 3022 2063 \n",
       "Q 3016 2534 2758 2815 \n",
       "Q 2500 3097 2075 3097 \n",
       "Q 1594 3097 1305 2825 \n",
       "Q 1016 2553 972 2059 \n",
       "L 3022 2063 \n",
       "z\n",
       "\" transform=\"scale(0.015625)\"/>\n",
       "      </defs>\n",
       "      <use xlink:href=\"#DejaVuSans-42\"/>\n",
       "      <use xlink:href=\"#DejaVuSans-61\" x=\"68.603516\"/>\n",
       "      <use xlink:href=\"#DejaVuSans-73\" x=\"129.882812\"/>\n",
       "      <use xlink:href=\"#DejaVuSans-65\" x=\"181.982422\"/>\n",
       "     </g>\n",
       "    </g>\n",
       "    <g id=\"line2d_42\">\n",
       "     <path d=\"M 577.445937 89.127812 \n",
       "L 587.445937 89.127812 \n",
       "L 597.445937 89.127812 \n",
       "\" style=\"fill: none; stroke: #ff0000; stroke-width: 1.5; stroke-linecap: square\"/>\n",
       "    </g>\n",
       "    <g id=\"text_17\">\n",
       "     <!-- VarDropCheck -->\n",
       "     <g transform=\"translate(605.445937 92.627812) scale(0.1 -0.1)\">\n",
       "      <defs>\n",
       "       <path id=\"DejaVuSans-56\" d=\"M 1831 0 \n",
       "L 50 4666 \n",
       "L 709 4666 \n",
       "L 2188 738 \n",
       "L 3669 4666 \n",
       "L 4325 4666 \n",
       "L 2547 0 \n",
       "L 1831 0 \n",
       "z\n",
       "\" transform=\"scale(0.015625)\"/>\n",
       "       <path id=\"DejaVuSans-44\" d=\"M 1259 4147 \n",
       "L 1259 519 \n",
       "L 2022 519 \n",
       "Q 2988 519 3436 956 \n",
       "Q 3884 1394 3884 2338 \n",
       "Q 3884 3275 3436 3711 \n",
       "Q 2988 4147 2022 4147 \n",
       "L 1259 4147 \n",
       "z\n",
       "M 628 4666 \n",
       "L 1925 4666 \n",
       "Q 3281 4666 3915 4102 \n",
       "Q 4550 3538 4550 2338 \n",
       "Q 4550 1131 3912 565 \n",
       "Q 3275 0 1925 0 \n",
       "L 628 0 \n",
       "L 628 4666 \n",
       "z\n",
       "\" transform=\"scale(0.015625)\"/>\n",
       "       <path id=\"DejaVuSans-6b\" d=\"M 581 4863 \n",
       "L 1159 4863 \n",
       "L 1159 1991 \n",
       "L 2875 3500 \n",
       "L 3609 3500 \n",
       "L 1753 1863 \n",
       "L 3688 0 \n",
       "L 2938 0 \n",
       "L 1159 1709 \n",
       "L 1159 0 \n",
       "L 581 0 \n",
       "L 581 4863 \n",
       "z\n",
       "\" transform=\"scale(0.015625)\"/>\n",
       "      </defs>\n",
       "      <use xlink:href=\"#DejaVuSans-56\"/>\n",
       "      <use xlink:href=\"#DejaVuSans-61\" x=\"60.658203\"/>\n",
       "      <use xlink:href=\"#DejaVuSans-72\" x=\"121.9375\"/>\n",
       "      <use xlink:href=\"#DejaVuSans-44\" x=\"163.050781\"/>\n",
       "      <use xlink:href=\"#DejaVuSans-72\" x=\"240.052734\"/>\n",
       "      <use xlink:href=\"#DejaVuSans-6f\" x=\"278.916016\"/>\n",
       "      <use xlink:href=\"#DejaVuSans-70\" x=\"340.097656\"/>\n",
       "      <use xlink:href=\"#DejaVuSans-43\" x=\"403.574219\"/>\n",
       "      <use xlink:href=\"#DejaVuSans-68\" x=\"473.398438\"/>\n",
       "      <use xlink:href=\"#DejaVuSans-65\" x=\"536.777344\"/>\n",
       "      <use xlink:href=\"#DejaVuSans-63\" x=\"598.300781\"/>\n",
       "      <use xlink:href=\"#DejaVuSans-6b\" x=\"653.28125\"/>\n",
       "     </g>\n",
       "    </g>\n",
       "    <g id=\"line2d_43\">\n",
       "     <path d=\"M 577.445937 103.805937 \n",
       "L 587.445937 103.805937 \n",
       "L 597.445937 103.805937 \n",
       "\" style=\"fill: none; stroke: #0000ff; stroke-width: 1.5; stroke-linecap: square\"/>\n",
       "    </g>\n",
       "    <g id=\"text_18\">\n",
       "     <!-- VarDrop -->\n",
       "     <g transform=\"translate(605.445937 107.305937) scale(0.1 -0.1)\">\n",
       "      <use xlink:href=\"#DejaVuSans-56\"/>\n",
       "      <use xlink:href=\"#DejaVuSans-61\" x=\"60.658203\"/>\n",
       "      <use xlink:href=\"#DejaVuSans-72\" x=\"121.9375\"/>\n",
       "      <use xlink:href=\"#DejaVuSans-44\" x=\"163.050781\"/>\n",
       "      <use xlink:href=\"#DejaVuSans-72\" x=\"240.052734\"/>\n",
       "      <use xlink:href=\"#DejaVuSans-6f\" x=\"278.916016\"/>\n",
       "      <use xlink:href=\"#DejaVuSans-70\" x=\"340.097656\"/>\n",
       "     </g>\n",
       "    </g>\n",
       "    <g id=\"line2d_44\">\n",
       "     <path d=\"M 577.445937 118.484062 \n",
       "L 587.445937 118.484062 \n",
       "L 597.445937 118.484062 \n",
       "\" style=\"fill: none; stroke: #008000; stroke-width: 1.5; stroke-linecap: square\"/>\n",
       "    </g>\n",
       "    <g id=\"text_19\">\n",
       "     <!-- FastVarDropCheck -->\n",
       "     <g transform=\"translate(605.445937 121.984062) scale(0.1 -0.1)\">\n",
       "      <defs>\n",
       "       <path id=\"DejaVuSans-46\" d=\"M 628 4666 \n",
       "L 3309 4666 \n",
       "L 3309 4134 \n",
       "L 1259 4134 \n",
       "L 1259 2759 \n",
       "L 3109 2759 \n",
       "L 3109 2228 \n",
       "L 1259 2228 \n",
       "L 1259 0 \n",
       "L 628 0 \n",
       "L 628 4666 \n",
       "z\n",
       "\" transform=\"scale(0.015625)\"/>\n",
       "      </defs>\n",
       "      <use xlink:href=\"#DejaVuSans-46\"/>\n",
       "      <use xlink:href=\"#DejaVuSans-61\" x=\"48.394531\"/>\n",
       "      <use xlink:href=\"#DejaVuSans-73\" x=\"109.673828\"/>\n",
       "      <use xlink:href=\"#DejaVuSans-74\" x=\"161.773438\"/>\n",
       "      <use xlink:href=\"#DejaVuSans-56\" x=\"200.982422\"/>\n",
       "      <use xlink:href=\"#DejaVuSans-61\" x=\"261.640625\"/>\n",
       "      <use xlink:href=\"#DejaVuSans-72\" x=\"322.919922\"/>\n",
       "      <use xlink:href=\"#DejaVuSans-44\" x=\"364.033203\"/>\n",
       "      <use xlink:href=\"#DejaVuSans-72\" x=\"441.035156\"/>\n",
       "      <use xlink:href=\"#DejaVuSans-6f\" x=\"479.898438\"/>\n",
       "      <use xlink:href=\"#DejaVuSans-70\" x=\"541.080078\"/>\n",
       "      <use xlink:href=\"#DejaVuSans-43\" x=\"604.556641\"/>\n",
       "      <use xlink:href=\"#DejaVuSans-68\" x=\"674.380859\"/>\n",
       "      <use xlink:href=\"#DejaVuSans-65\" x=\"737.759766\"/>\n",
       "      <use xlink:href=\"#DejaVuSans-63\" x=\"799.283203\"/>\n",
       "      <use xlink:href=\"#DejaVuSans-6b\" x=\"854.263672\"/>\n",
       "     </g>\n",
       "    </g>\n",
       "    <g id=\"line2d_45\">\n",
       "     <path d=\"M 577.445937 133.162187 \n",
       "L 587.445937 133.162187 \n",
       "L 597.445937 133.162187 \n",
       "\" style=\"fill: none; stroke: #ffa500; stroke-width: 1.5; stroke-linecap: square\"/>\n",
       "    </g>\n",
       "    <g id=\"text_20\">\n",
       "     <!-- FastVarDrop -->\n",
       "     <g transform=\"translate(605.445937 136.662187) scale(0.1 -0.1)\">\n",
       "      <use xlink:href=\"#DejaVuSans-46\"/>\n",
       "      <use xlink:href=\"#DejaVuSans-61\" x=\"48.394531\"/>\n",
       "      <use xlink:href=\"#DejaVuSans-73\" x=\"109.673828\"/>\n",
       "      <use xlink:href=\"#DejaVuSans-74\" x=\"161.773438\"/>\n",
       "      <use xlink:href=\"#DejaVuSans-56\" x=\"200.982422\"/>\n",
       "      <use xlink:href=\"#DejaVuSans-61\" x=\"261.640625\"/>\n",
       "      <use xlink:href=\"#DejaVuSans-72\" x=\"322.919922\"/>\n",
       "      <use xlink:href=\"#DejaVuSans-44\" x=\"364.033203\"/>\n",
       "      <use xlink:href=\"#DejaVuSans-72\" x=\"441.035156\"/>\n",
       "      <use xlink:href=\"#DejaVuSans-6f\" x=\"479.898438\"/>\n",
       "      <use xlink:href=\"#DejaVuSans-70\" x=\"541.080078\"/>\n",
       "     </g>\n",
       "    </g>\n",
       "    <g id=\"line2d_46\">\n",
       "     <path d=\"M 577.445937 147.840312 \n",
       "L 587.445937 147.840312 \n",
       "L 597.445937 147.840312 \n",
       "\" style=\"fill: none; stroke: #800080; stroke-width: 1.5; stroke-linecap: square\"/>\n",
       "    </g>\n",
       "    <g id=\"text_21\">\n",
       "     <!-- HandmadeCheck -->\n",
       "     <g transform=\"translate(605.445937 151.340312) scale(0.1 -0.1)\">\n",
       "      <defs>\n",
       "       <path id=\"DejaVuSans-48\" d=\"M 628 4666 \n",
       "L 1259 4666 \n",
       "L 1259 2753 \n",
       "L 3553 2753 \n",
       "L 3553 4666 \n",
       "L 4184 4666 \n",
       "L 4184 0 \n",
       "L 3553 0 \n",
       "L 3553 2222 \n",
       "L 1259 2222 \n",
       "L 1259 0 \n",
       "L 628 0 \n",
       "L 628 4666 \n",
       "z\n",
       "\" transform=\"scale(0.015625)\"/>\n",
       "       <path id=\"DejaVuSans-64\" d=\"M 2906 2969 \n",
       "L 2906 4863 \n",
       "L 3481 4863 \n",
       "L 3481 0 \n",
       "L 2906 0 \n",
       "L 2906 525 \n",
       "Q 2725 213 2448 61 \n",
       "Q 2172 -91 1784 -91 \n",
       "Q 1150 -91 751 415 \n",
       "Q 353 922 353 1747 \n",
       "Q 353 2572 751 3078 \n",
       "Q 1150 3584 1784 3584 \n",
       "Q 2172 3584 2448 3432 \n",
       "Q 2725 3281 2906 2969 \n",
       "z\n",
       "M 947 1747 \n",
       "Q 947 1113 1208 752 \n",
       "Q 1469 391 1925 391 \n",
       "Q 2381 391 2643 752 \n",
       "Q 2906 1113 2906 1747 \n",
       "Q 2906 2381 2643 2742 \n",
       "Q 2381 3103 1925 3103 \n",
       "Q 1469 3103 1208 2742 \n",
       "Q 947 2381 947 1747 \n",
       "z\n",
       "\" transform=\"scale(0.015625)\"/>\n",
       "       <path id=\"DejaVuSans-6d\" d=\"M 3328 2828 \n",
       "Q 3544 3216 3844 3400 \n",
       "Q 4144 3584 4550 3584 \n",
       "Q 5097 3584 5394 3201 \n",
       "Q 5691 2819 5691 2113 \n",
       "L 5691 0 \n",
       "L 5113 0 \n",
       "L 5113 2094 \n",
       "Q 5113 2597 4934 2840 \n",
       "Q 4756 3084 4391 3084 \n",
       "Q 3944 3084 3684 2787 \n",
       "Q 3425 2491 3425 1978 \n",
       "L 3425 0 \n",
       "L 2847 0 \n",
       "L 2847 2094 \n",
       "Q 2847 2600 2669 2842 \n",
       "Q 2491 3084 2119 3084 \n",
       "Q 1678 3084 1418 2786 \n",
       "Q 1159 2488 1159 1978 \n",
       "L 1159 0 \n",
       "L 581 0 \n",
       "L 581 3500 \n",
       "L 1159 3500 \n",
       "L 1159 2956 \n",
       "Q 1356 3278 1631 3431 \n",
       "Q 1906 3584 2284 3584 \n",
       "Q 2666 3584 2933 3390 \n",
       "Q 3200 3197 3328 2828 \n",
       "z\n",
       "\" transform=\"scale(0.015625)\"/>\n",
       "      </defs>\n",
       "      <use xlink:href=\"#DejaVuSans-48\"/>\n",
       "      <use xlink:href=\"#DejaVuSans-61\" x=\"75.195312\"/>\n",
       "      <use xlink:href=\"#DejaVuSans-6e\" x=\"136.474609\"/>\n",
       "      <use xlink:href=\"#DejaVuSans-64\" x=\"199.853516\"/>\n",
       "      <use xlink:href=\"#DejaVuSans-6d\" x=\"263.330078\"/>\n",
       "      <use xlink:href=\"#DejaVuSans-61\" x=\"360.742188\"/>\n",
       "      <use xlink:href=\"#DejaVuSans-64\" x=\"422.021484\"/>\n",
       "      <use xlink:href=\"#DejaVuSans-65\" x=\"485.498047\"/>\n",
       "      <use xlink:href=\"#DejaVuSans-43\" x=\"547.021484\"/>\n",
       "      <use xlink:href=\"#DejaVuSans-68\" x=\"616.845703\"/>\n",
       "      <use xlink:href=\"#DejaVuSans-65\" x=\"680.224609\"/>\n",
       "      <use xlink:href=\"#DejaVuSans-63\" x=\"741.748047\"/>\n",
       "      <use xlink:href=\"#DejaVuSans-6b\" x=\"796.728516\"/>\n",
       "     </g>\n",
       "    </g>\n",
       "    <g id=\"line2d_47\">\n",
       "     <path d=\"M 577.445937 162.518437 \n",
       "L 587.445937 162.518437 \n",
       "L 597.445937 162.518437 \n",
       "\" style=\"fill: none; stroke: #00ffff; stroke-width: 1.5; stroke-linecap: square\"/>\n",
       "    </g>\n",
       "    <g id=\"text_22\">\n",
       "     <!-- Handmade -->\n",
       "     <g transform=\"translate(605.445937 166.018437) scale(0.1 -0.1)\">\n",
       "      <use xlink:href=\"#DejaVuSans-48\"/>\n",
       "      <use xlink:href=\"#DejaVuSans-61\" x=\"75.195312\"/>\n",
       "      <use xlink:href=\"#DejaVuSans-6e\" x=\"136.474609\"/>\n",
       "      <use xlink:href=\"#DejaVuSans-64\" x=\"199.853516\"/>\n",
       "      <use xlink:href=\"#DejaVuSans-6d\" x=\"263.330078\"/>\n",
       "      <use xlink:href=\"#DejaVuSans-61\" x=\"360.742188\"/>\n",
       "      <use xlink:href=\"#DejaVuSans-64\" x=\"422.021484\"/>\n",
       "      <use xlink:href=\"#DejaVuSans-65\" x=\"485.498047\"/>\n",
       "     </g>\n",
       "    </g>\n",
       "    <g id=\"line2d_48\">\n",
       "     <path d=\"M 577.445937 177.196562 \n",
       "L 587.445937 177.196562 \n",
       "L 597.445937 177.196562 \n",
       "\" style=\"fill: none; stroke-dasharray: 5.55,2.4; stroke-dashoffset: 0; stroke: #000000; stroke-width: 1.5\"/>\n",
       "    </g>\n",
       "    <g id=\"text_23\">\n",
       "     <!-- Base -->\n",
       "     <g transform=\"translate(605.445937 180.696562) scale(0.1 -0.1)\">\n",
       "      <use xlink:href=\"#DejaVuSans-42\"/>\n",
       "      <use xlink:href=\"#DejaVuSans-61\" x=\"68.603516\"/>\n",
       "      <use xlink:href=\"#DejaVuSans-73\" x=\"129.882812\"/>\n",
       "      <use xlink:href=\"#DejaVuSans-65\" x=\"181.982422\"/>\n",
       "     </g>\n",
       "    </g>\n",
       "    <g id=\"line2d_49\">\n",
       "     <path d=\"M 577.445937 191.874687 \n",
       "L 587.445937 191.874687 \n",
       "L 597.445937 191.874687 \n",
       "\" style=\"fill: none; stroke-dasharray: 5.55,2.4; stroke-dashoffset: 0; stroke: #ff0000; stroke-width: 1.5\"/>\n",
       "    </g>\n",
       "    <g id=\"text_24\">\n",
       "     <!-- VarDropCheck -->\n",
       "     <g transform=\"translate(605.445937 195.374687) scale(0.1 -0.1)\">\n",
       "      <use xlink:href=\"#DejaVuSans-56\"/>\n",
       "      <use xlink:href=\"#DejaVuSans-61\" x=\"60.658203\"/>\n",
       "      <use xlink:href=\"#DejaVuSans-72\" x=\"121.9375\"/>\n",
       "      <use xlink:href=\"#DejaVuSans-44\" x=\"163.050781\"/>\n",
       "      <use xlink:href=\"#DejaVuSans-72\" x=\"240.052734\"/>\n",
       "      <use xlink:href=\"#DejaVuSans-6f\" x=\"278.916016\"/>\n",
       "      <use xlink:href=\"#DejaVuSans-70\" x=\"340.097656\"/>\n",
       "      <use xlink:href=\"#DejaVuSans-43\" x=\"403.574219\"/>\n",
       "      <use xlink:href=\"#DejaVuSans-68\" x=\"473.398438\"/>\n",
       "      <use xlink:href=\"#DejaVuSans-65\" x=\"536.777344\"/>\n",
       "      <use xlink:href=\"#DejaVuSans-63\" x=\"598.300781\"/>\n",
       "      <use xlink:href=\"#DejaVuSans-6b\" x=\"653.28125\"/>\n",
       "     </g>\n",
       "    </g>\n",
       "    <g id=\"line2d_50\">\n",
       "     <path d=\"M 577.445937 206.552812 \n",
       "L 587.445937 206.552812 \n",
       "L 597.445937 206.552812 \n",
       "\" style=\"fill: none; stroke-dasharray: 5.55,2.4; stroke-dashoffset: 0; stroke: #0000ff; stroke-width: 1.5\"/>\n",
       "    </g>\n",
       "    <g id=\"text_25\">\n",
       "     <!-- VarDrop -->\n",
       "     <g transform=\"translate(605.445937 210.052812) scale(0.1 -0.1)\">\n",
       "      <use xlink:href=\"#DejaVuSans-56\"/>\n",
       "      <use xlink:href=\"#DejaVuSans-61\" x=\"60.658203\"/>\n",
       "      <use xlink:href=\"#DejaVuSans-72\" x=\"121.9375\"/>\n",
       "      <use xlink:href=\"#DejaVuSans-44\" x=\"163.050781\"/>\n",
       "      <use xlink:href=\"#DejaVuSans-72\" x=\"240.052734\"/>\n",
       "      <use xlink:href=\"#DejaVuSans-6f\" x=\"278.916016\"/>\n",
       "      <use xlink:href=\"#DejaVuSans-70\" x=\"340.097656\"/>\n",
       "     </g>\n",
       "    </g>\n",
       "    <g id=\"line2d_51\">\n",
       "     <path d=\"M 577.445937 221.230937 \n",
       "L 587.445937 221.230937 \n",
       "L 597.445937 221.230937 \n",
       "\" style=\"fill: none; stroke-dasharray: 5.55,2.4; stroke-dashoffset: 0; stroke: #008000; stroke-width: 1.5\"/>\n",
       "    </g>\n",
       "    <g id=\"text_26\">\n",
       "     <!-- FastVarDropCheck -->\n",
       "     <g transform=\"translate(605.445937 224.730937) scale(0.1 -0.1)\">\n",
       "      <use xlink:href=\"#DejaVuSans-46\"/>\n",
       "      <use xlink:href=\"#DejaVuSans-61\" x=\"48.394531\"/>\n",
       "      <use xlink:href=\"#DejaVuSans-73\" x=\"109.673828\"/>\n",
       "      <use xlink:href=\"#DejaVuSans-74\" x=\"161.773438\"/>\n",
       "      <use xlink:href=\"#DejaVuSans-56\" x=\"200.982422\"/>\n",
       "      <use xlink:href=\"#DejaVuSans-61\" x=\"261.640625\"/>\n",
       "      <use xlink:href=\"#DejaVuSans-72\" x=\"322.919922\"/>\n",
       "      <use xlink:href=\"#DejaVuSans-44\" x=\"364.033203\"/>\n",
       "      <use xlink:href=\"#DejaVuSans-72\" x=\"441.035156\"/>\n",
       "      <use xlink:href=\"#DejaVuSans-6f\" x=\"479.898438\"/>\n",
       "      <use xlink:href=\"#DejaVuSans-70\" x=\"541.080078\"/>\n",
       "      <use xlink:href=\"#DejaVuSans-43\" x=\"604.556641\"/>\n",
       "      <use xlink:href=\"#DejaVuSans-68\" x=\"674.380859\"/>\n",
       "      <use xlink:href=\"#DejaVuSans-65\" x=\"737.759766\"/>\n",
       "      <use xlink:href=\"#DejaVuSans-63\" x=\"799.283203\"/>\n",
       "      <use xlink:href=\"#DejaVuSans-6b\" x=\"854.263672\"/>\n",
       "     </g>\n",
       "    </g>\n",
       "    <g id=\"line2d_52\">\n",
       "     <path d=\"M 577.445937 235.909062 \n",
       "L 587.445937 235.909062 \n",
       "L 597.445937 235.909062 \n",
       "\" style=\"fill: none; stroke-dasharray: 5.55,2.4; stroke-dashoffset: 0; stroke: #ffa500; stroke-width: 1.5\"/>\n",
       "    </g>\n",
       "    <g id=\"text_27\">\n",
       "     <!-- FastVarDrop -->\n",
       "     <g transform=\"translate(605.445937 239.409062) scale(0.1 -0.1)\">\n",
       "      <use xlink:href=\"#DejaVuSans-46\"/>\n",
       "      <use xlink:href=\"#DejaVuSans-61\" x=\"48.394531\"/>\n",
       "      <use xlink:href=\"#DejaVuSans-73\" x=\"109.673828\"/>\n",
       "      <use xlink:href=\"#DejaVuSans-74\" x=\"161.773438\"/>\n",
       "      <use xlink:href=\"#DejaVuSans-56\" x=\"200.982422\"/>\n",
       "      <use xlink:href=\"#DejaVuSans-61\" x=\"261.640625\"/>\n",
       "      <use xlink:href=\"#DejaVuSans-72\" x=\"322.919922\"/>\n",
       "      <use xlink:href=\"#DejaVuSans-44\" x=\"364.033203\"/>\n",
       "      <use xlink:href=\"#DejaVuSans-72\" x=\"441.035156\"/>\n",
       "      <use xlink:href=\"#DejaVuSans-6f\" x=\"479.898438\"/>\n",
       "      <use xlink:href=\"#DejaVuSans-70\" x=\"541.080078\"/>\n",
       "     </g>\n",
       "    </g>\n",
       "    <g id=\"line2d_53\">\n",
       "     <path d=\"M 577.445937 250.587187 \n",
       "L 587.445937 250.587187 \n",
       "L 597.445937 250.587187 \n",
       "\" style=\"fill: none; stroke-dasharray: 5.55,2.4; stroke-dashoffset: 0; stroke: #800080; stroke-width: 1.5\"/>\n",
       "    </g>\n",
       "    <g id=\"text_28\">\n",
       "     <!-- HandmadeCheck -->\n",
       "     <g transform=\"translate(605.445937 254.087187) scale(0.1 -0.1)\">\n",
       "      <use xlink:href=\"#DejaVuSans-48\"/>\n",
       "      <use xlink:href=\"#DejaVuSans-61\" x=\"75.195312\"/>\n",
       "      <use xlink:href=\"#DejaVuSans-6e\" x=\"136.474609\"/>\n",
       "      <use xlink:href=\"#DejaVuSans-64\" x=\"199.853516\"/>\n",
       "      <use xlink:href=\"#DejaVuSans-6d\" x=\"263.330078\"/>\n",
       "      <use xlink:href=\"#DejaVuSans-61\" x=\"360.742188\"/>\n",
       "      <use xlink:href=\"#DejaVuSans-64\" x=\"422.021484\"/>\n",
       "      <use xlink:href=\"#DejaVuSans-65\" x=\"485.498047\"/>\n",
       "      <use xlink:href=\"#DejaVuSans-43\" x=\"547.021484\"/>\n",
       "      <use xlink:href=\"#DejaVuSans-68\" x=\"616.845703\"/>\n",
       "      <use xlink:href=\"#DejaVuSans-65\" x=\"680.224609\"/>\n",
       "      <use xlink:href=\"#DejaVuSans-63\" x=\"741.748047\"/>\n",
       "      <use xlink:href=\"#DejaVuSans-6b\" x=\"796.728516\"/>\n",
       "     </g>\n",
       "    </g>\n",
       "    <g id=\"line2d_54\">\n",
       "     <path d=\"M 577.445937 265.265312 \n",
       "L 587.445937 265.265312 \n",
       "L 597.445937 265.265312 \n",
       "\" style=\"fill: none; stroke-dasharray: 5.55,2.4; stroke-dashoffset: 0; stroke: #00ffff; stroke-width: 1.5\"/>\n",
       "    </g>\n",
       "    <g id=\"text_29\">\n",
       "     <!-- Handmade -->\n",
       "     <g transform=\"translate(605.445937 268.765312) scale(0.1 -0.1)\">\n",
       "      <use xlink:href=\"#DejaVuSans-48\"/>\n",
       "      <use xlink:href=\"#DejaVuSans-61\" x=\"75.195312\"/>\n",
       "      <use xlink:href=\"#DejaVuSans-6e\" x=\"136.474609\"/>\n",
       "      <use xlink:href=\"#DejaVuSans-64\" x=\"199.853516\"/>\n",
       "      <use xlink:href=\"#DejaVuSans-6d\" x=\"263.330078\"/>\n",
       "      <use xlink:href=\"#DejaVuSans-61\" x=\"360.742188\"/>\n",
       "      <use xlink:href=\"#DejaVuSans-64\" x=\"422.021484\"/>\n",
       "      <use xlink:href=\"#DejaVuSans-65\" x=\"485.498047\"/>\n",
       "     </g>\n",
       "    </g>\n",
       "   </g>\n",
       "  </g>\n",
       "  <g id=\"axes_2\">\n",
       "   <g id=\"patch_8\">\n",
       "    <path d=\"M 30.103125 673.478125 \n",
       "L 705.663125 673.478125 \n",
       "L 705.663125 376.918125 \n",
       "L 30.103125 376.918125 \n",
       "z\n",
       "\" style=\"fill: #ffffff\"/>\n",
       "   </g>\n",
       "   <g id=\"matplotlib.axis_3\">\n",
       "    <g id=\"xtick_9\">\n",
       "     <g id=\"line2d_55\">\n",
       "      <path d=\"M 60.810398 673.478125 \n",
       "L 60.810398 376.918125 \n",
       "\" clip-path=\"url(#pc5743a24cd)\" style=\"fill: none; stroke: #b0b0b0; stroke-width: 0.8; stroke-linecap: square\"/>\n",
       "     </g>\n",
       "     <g id=\"line2d_56\">\n",
       "      <g>\n",
       "       <use xlink:href=\"#mcb197d4879\" x=\"60.810398\" y=\"673.478125\" style=\"stroke: #000000; stroke-width: 0.8\"/>\n",
       "      </g>\n",
       "     </g>\n",
       "     <g id=\"text_30\">\n",
       "      <!-- 0 -->\n",
       "      <g transform=\"translate(57.629148 688.076562) scale(0.1 -0.1)\">\n",
       "       <use xlink:href=\"#DejaVuSans-30\"/>\n",
       "      </g>\n",
       "     </g>\n",
       "    </g>\n",
       "    <g id=\"xtick_10\">\n",
       "     <g id=\"line2d_57\">\n",
       "      <path d=\"M 148.545463 673.478125 \n",
       "L 148.545463 376.918125 \n",
       "\" clip-path=\"url(#pc5743a24cd)\" style=\"fill: none; stroke: #b0b0b0; stroke-width: 0.8; stroke-linecap: square\"/>\n",
       "     </g>\n",
       "     <g id=\"line2d_58\">\n",
       "      <g>\n",
       "       <use xlink:href=\"#mcb197d4879\" x=\"148.545463\" y=\"673.478125\" style=\"stroke: #000000; stroke-width: 0.8\"/>\n",
       "      </g>\n",
       "     </g>\n",
       "     <g id=\"text_31\">\n",
       "      <!-- 2 -->\n",
       "      <g transform=\"translate(145.364213 688.076562) scale(0.1 -0.1)\">\n",
       "       <use xlink:href=\"#DejaVuSans-32\"/>\n",
       "      </g>\n",
       "     </g>\n",
       "    </g>\n",
       "    <g id=\"xtick_11\">\n",
       "     <g id=\"line2d_59\">\n",
       "      <path d=\"M 236.280528 673.478125 \n",
       "L 236.280528 376.918125 \n",
       "\" clip-path=\"url(#pc5743a24cd)\" style=\"fill: none; stroke: #b0b0b0; stroke-width: 0.8; stroke-linecap: square\"/>\n",
       "     </g>\n",
       "     <g id=\"line2d_60\">\n",
       "      <g>\n",
       "       <use xlink:href=\"#mcb197d4879\" x=\"236.280528\" y=\"673.478125\" style=\"stroke: #000000; stroke-width: 0.8\"/>\n",
       "      </g>\n",
       "     </g>\n",
       "     <g id=\"text_32\">\n",
       "      <!-- 4 -->\n",
       "      <g transform=\"translate(233.099278 688.076562) scale(0.1 -0.1)\">\n",
       "       <use xlink:href=\"#DejaVuSans-34\"/>\n",
       "      </g>\n",
       "     </g>\n",
       "    </g>\n",
       "    <g id=\"xtick_12\">\n",
       "     <g id=\"line2d_61\">\n",
       "      <path d=\"M 324.015593 673.478125 \n",
       "L 324.015593 376.918125 \n",
       "\" clip-path=\"url(#pc5743a24cd)\" style=\"fill: none; stroke: #b0b0b0; stroke-width: 0.8; stroke-linecap: square\"/>\n",
       "     </g>\n",
       "     <g id=\"line2d_62\">\n",
       "      <g>\n",
       "       <use xlink:href=\"#mcb197d4879\" x=\"324.015593\" y=\"673.478125\" style=\"stroke: #000000; stroke-width: 0.8\"/>\n",
       "      </g>\n",
       "     </g>\n",
       "     <g id=\"text_33\">\n",
       "      <!-- 6 -->\n",
       "      <g transform=\"translate(320.834343 688.076562) scale(0.1 -0.1)\">\n",
       "       <use xlink:href=\"#DejaVuSans-36\"/>\n",
       "      </g>\n",
       "     </g>\n",
       "    </g>\n",
       "    <g id=\"xtick_13\">\n",
       "     <g id=\"line2d_63\">\n",
       "      <path d=\"M 411.750657 673.478125 \n",
       "L 411.750657 376.918125 \n",
       "\" clip-path=\"url(#pc5743a24cd)\" style=\"fill: none; stroke: #b0b0b0; stroke-width: 0.8; stroke-linecap: square\"/>\n",
       "     </g>\n",
       "     <g id=\"line2d_64\">\n",
       "      <g>\n",
       "       <use xlink:href=\"#mcb197d4879\" x=\"411.750657\" y=\"673.478125\" style=\"stroke: #000000; stroke-width: 0.8\"/>\n",
       "      </g>\n",
       "     </g>\n",
       "     <g id=\"text_34\">\n",
       "      <!-- 8 -->\n",
       "      <g transform=\"translate(408.569407 688.076562) scale(0.1 -0.1)\">\n",
       "       <use xlink:href=\"#DejaVuSans-38\"/>\n",
       "      </g>\n",
       "     </g>\n",
       "    </g>\n",
       "    <g id=\"xtick_14\">\n",
       "     <g id=\"line2d_65\">\n",
       "      <path d=\"M 499.485722 673.478125 \n",
       "L 499.485722 376.918125 \n",
       "\" clip-path=\"url(#pc5743a24cd)\" style=\"fill: none; stroke: #b0b0b0; stroke-width: 0.8; stroke-linecap: square\"/>\n",
       "     </g>\n",
       "     <g id=\"line2d_66\">\n",
       "      <g>\n",
       "       <use xlink:href=\"#mcb197d4879\" x=\"499.485722\" y=\"673.478125\" style=\"stroke: #000000; stroke-width: 0.8\"/>\n",
       "      </g>\n",
       "     </g>\n",
       "     <g id=\"text_35\">\n",
       "      <!-- 10 -->\n",
       "      <g transform=\"translate(493.123222 688.076562) scale(0.1 -0.1)\">\n",
       "       <use xlink:href=\"#DejaVuSans-31\"/>\n",
       "       <use xlink:href=\"#DejaVuSans-30\" x=\"63.623047\"/>\n",
       "      </g>\n",
       "     </g>\n",
       "    </g>\n",
       "    <g id=\"xtick_15\">\n",
       "     <g id=\"line2d_67\">\n",
       "      <path d=\"M 587.220787 673.478125 \n",
       "L 587.220787 376.918125 \n",
       "\" clip-path=\"url(#pc5743a24cd)\" style=\"fill: none; stroke: #b0b0b0; stroke-width: 0.8; stroke-linecap: square\"/>\n",
       "     </g>\n",
       "     <g id=\"line2d_68\">\n",
       "      <g>\n",
       "       <use xlink:href=\"#mcb197d4879\" x=\"587.220787\" y=\"673.478125\" style=\"stroke: #000000; stroke-width: 0.8\"/>\n",
       "      </g>\n",
       "     </g>\n",
       "     <g id=\"text_36\">\n",
       "      <!-- 12 -->\n",
       "      <g transform=\"translate(580.858287 688.076562) scale(0.1 -0.1)\">\n",
       "       <use xlink:href=\"#DejaVuSans-31\"/>\n",
       "       <use xlink:href=\"#DejaVuSans-32\" x=\"63.623047\"/>\n",
       "      </g>\n",
       "     </g>\n",
       "    </g>\n",
       "    <g id=\"xtick_16\">\n",
       "     <g id=\"line2d_69\">\n",
       "      <path d=\"M 674.955852 673.478125 \n",
       "L 674.955852 376.918125 \n",
       "\" clip-path=\"url(#pc5743a24cd)\" style=\"fill: none; stroke: #b0b0b0; stroke-width: 0.8; stroke-linecap: square\"/>\n",
       "     </g>\n",
       "     <g id=\"line2d_70\">\n",
       "      <g>\n",
       "       <use xlink:href=\"#mcb197d4879\" x=\"674.955852\" y=\"673.478125\" style=\"stroke: #000000; stroke-width: 0.8\"/>\n",
       "      </g>\n",
       "     </g>\n",
       "     <g id=\"text_37\">\n",
       "      <!-- 14 -->\n",
       "      <g transform=\"translate(668.593352 688.076562) scale(0.1 -0.1)\">\n",
       "       <use xlink:href=\"#DejaVuSans-31\"/>\n",
       "       <use xlink:href=\"#DejaVuSans-34\" x=\"63.623047\"/>\n",
       "      </g>\n",
       "     </g>\n",
       "    </g>\n",
       "    <g id=\"text_38\">\n",
       "     <!-- Epoch -->\n",
       "     <g transform=\"translate(352.572187 701.754687) scale(0.1 -0.1)\">\n",
       "      <use xlink:href=\"#DejaVuSans-45\"/>\n",
       "      <use xlink:href=\"#DejaVuSans-70\" x=\"63.183594\"/>\n",
       "      <use xlink:href=\"#DejaVuSans-6f\" x=\"126.660156\"/>\n",
       "      <use xlink:href=\"#DejaVuSans-63\" x=\"187.841797\"/>\n",
       "      <use xlink:href=\"#DejaVuSans-68\" x=\"242.822266\"/>\n",
       "     </g>\n",
       "    </g>\n",
       "   </g>\n",
       "   <g id=\"matplotlib.axis_4\">\n",
       "    <g id=\"ytick_6\">\n",
       "     <g id=\"line2d_71\">\n",
       "      <path d=\"M 30.103125 664.202133 \n",
       "L 705.663125 664.202133 \n",
       "\" clip-path=\"url(#pc5743a24cd)\" style=\"fill: none; stroke: #b0b0b0; stroke-width: 0.8; stroke-linecap: square\"/>\n",
       "     </g>\n",
       "     <g id=\"line2d_72\">\n",
       "      <g>\n",
       "       <use xlink:href=\"#m9b6446da32\" x=\"30.103125\" y=\"664.202133\" style=\"stroke: #000000; stroke-width: 0.8\"/>\n",
       "      </g>\n",
       "     </g>\n",
       "     <g id=\"text_39\">\n",
       "      <!-- 0.2 -->\n",
       "      <g transform=\"translate(7.2 668.001352) scale(0.1 -0.1)\">\n",
       "       <use xlink:href=\"#DejaVuSans-30\"/>\n",
       "       <use xlink:href=\"#DejaVuSans-2e\" x=\"63.623047\"/>\n",
       "       <use xlink:href=\"#DejaVuSans-32\" x=\"95.410156\"/>\n",
       "      </g>\n",
       "     </g>\n",
       "    </g>\n",
       "    <g id=\"ytick_7\">\n",
       "     <g id=\"line2d_73\">\n",
       "      <path d=\"M 30.103125 624.240079 \n",
       "L 705.663125 624.240079 \n",
       "\" clip-path=\"url(#pc5743a24cd)\" style=\"fill: none; stroke: #b0b0b0; stroke-width: 0.8; stroke-linecap: square\"/>\n",
       "     </g>\n",
       "     <g id=\"line2d_74\">\n",
       "      <g>\n",
       "       <use xlink:href=\"#m9b6446da32\" x=\"30.103125\" y=\"624.240079\" style=\"stroke: #000000; stroke-width: 0.8\"/>\n",
       "      </g>\n",
       "     </g>\n",
       "     <g id=\"text_40\">\n",
       "      <!-- 0.3 -->\n",
       "      <g transform=\"translate(7.2 628.039298) scale(0.1 -0.1)\">\n",
       "       <defs>\n",
       "        <path id=\"DejaVuSans-33\" d=\"M 2597 2516 \n",
       "Q 3050 2419 3304 2112 \n",
       "Q 3559 1806 3559 1356 \n",
       "Q 3559 666 3084 287 \n",
       "Q 2609 -91 1734 -91 \n",
       "Q 1441 -91 1130 -33 \n",
       "Q 819 25 488 141 \n",
       "L 488 750 \n",
       "Q 750 597 1062 519 \n",
       "Q 1375 441 1716 441 \n",
       "Q 2309 441 2620 675 \n",
       "Q 2931 909 2931 1356 \n",
       "Q 2931 1769 2642 2001 \n",
       "Q 2353 2234 1838 2234 \n",
       "L 1294 2234 \n",
       "L 1294 2753 \n",
       "L 1863 2753 \n",
       "Q 2328 2753 2575 2939 \n",
       "Q 2822 3125 2822 3475 \n",
       "Q 2822 3834 2567 4026 \n",
       "Q 2313 4219 1838 4219 \n",
       "Q 1578 4219 1281 4162 \n",
       "Q 984 4106 628 3988 \n",
       "L 628 4550 \n",
       "Q 988 4650 1302 4700 \n",
       "Q 1616 4750 1894 4750 \n",
       "Q 2613 4750 3031 4423 \n",
       "Q 3450 4097 3450 3541 \n",
       "Q 3450 3153 3228 2886 \n",
       "Q 3006 2619 2597 2516 \n",
       "z\n",
       "\" transform=\"scale(0.015625)\"/>\n",
       "       </defs>\n",
       "       <use xlink:href=\"#DejaVuSans-30\"/>\n",
       "       <use xlink:href=\"#DejaVuSans-2e\" x=\"63.623047\"/>\n",
       "       <use xlink:href=\"#DejaVuSans-33\" x=\"95.410156\"/>\n",
       "      </g>\n",
       "     </g>\n",
       "    </g>\n",
       "    <g id=\"ytick_8\">\n",
       "     <g id=\"line2d_75\">\n",
       "      <path d=\"M 30.103125 584.278025 \n",
       "L 705.663125 584.278025 \n",
       "\" clip-path=\"url(#pc5743a24cd)\" style=\"fill: none; stroke: #b0b0b0; stroke-width: 0.8; stroke-linecap: square\"/>\n",
       "     </g>\n",
       "     <g id=\"line2d_76\">\n",
       "      <g>\n",
       "       <use xlink:href=\"#m9b6446da32\" x=\"30.103125\" y=\"584.278025\" style=\"stroke: #000000; stroke-width: 0.8\"/>\n",
       "      </g>\n",
       "     </g>\n",
       "     <g id=\"text_41\">\n",
       "      <!-- 0.4 -->\n",
       "      <g transform=\"translate(7.2 588.077244) scale(0.1 -0.1)\">\n",
       "       <use xlink:href=\"#DejaVuSans-30\"/>\n",
       "       <use xlink:href=\"#DejaVuSans-2e\" x=\"63.623047\"/>\n",
       "       <use xlink:href=\"#DejaVuSans-34\" x=\"95.410156\"/>\n",
       "      </g>\n",
       "     </g>\n",
       "    </g>\n",
       "    <g id=\"ytick_9\">\n",
       "     <g id=\"line2d_77\">\n",
       "      <path d=\"M 30.103125 544.315972 \n",
       "L 705.663125 544.315972 \n",
       "\" clip-path=\"url(#pc5743a24cd)\" style=\"fill: none; stroke: #b0b0b0; stroke-width: 0.8; stroke-linecap: square\"/>\n",
       "     </g>\n",
       "     <g id=\"line2d_78\">\n",
       "      <g>\n",
       "       <use xlink:href=\"#m9b6446da32\" x=\"30.103125\" y=\"544.315972\" style=\"stroke: #000000; stroke-width: 0.8\"/>\n",
       "      </g>\n",
       "     </g>\n",
       "     <g id=\"text_42\">\n",
       "      <!-- 0.5 -->\n",
       "      <g transform=\"translate(7.2 548.11519) scale(0.1 -0.1)\">\n",
       "       <use xlink:href=\"#DejaVuSans-30\"/>\n",
       "       <use xlink:href=\"#DejaVuSans-2e\" x=\"63.623047\"/>\n",
       "       <use xlink:href=\"#DejaVuSans-35\" x=\"95.410156\"/>\n",
       "      </g>\n",
       "     </g>\n",
       "    </g>\n",
       "    <g id=\"ytick_10\">\n",
       "     <g id=\"line2d_79\">\n",
       "      <path d=\"M 30.103125 504.353918 \n",
       "L 705.663125 504.353918 \n",
       "\" clip-path=\"url(#pc5743a24cd)\" style=\"fill: none; stroke: #b0b0b0; stroke-width: 0.8; stroke-linecap: square\"/>\n",
       "     </g>\n",
       "     <g id=\"line2d_80\">\n",
       "      <g>\n",
       "       <use xlink:href=\"#m9b6446da32\" x=\"30.103125\" y=\"504.353918\" style=\"stroke: #000000; stroke-width: 0.8\"/>\n",
       "      </g>\n",
       "     </g>\n",
       "     <g id=\"text_43\">\n",
       "      <!-- 0.6 -->\n",
       "      <g transform=\"translate(7.2 508.153136) scale(0.1 -0.1)\">\n",
       "       <use xlink:href=\"#DejaVuSans-30\"/>\n",
       "       <use xlink:href=\"#DejaVuSans-2e\" x=\"63.623047\"/>\n",
       "       <use xlink:href=\"#DejaVuSans-36\" x=\"95.410156\"/>\n",
       "      </g>\n",
       "     </g>\n",
       "    </g>\n",
       "    <g id=\"ytick_11\">\n",
       "     <g id=\"line2d_81\">\n",
       "      <path d=\"M 30.103125 464.391864 \n",
       "L 705.663125 464.391864 \n",
       "\" clip-path=\"url(#pc5743a24cd)\" style=\"fill: none; stroke: #b0b0b0; stroke-width: 0.8; stroke-linecap: square\"/>\n",
       "     </g>\n",
       "     <g id=\"line2d_82\">\n",
       "      <g>\n",
       "       <use xlink:href=\"#m9b6446da32\" x=\"30.103125\" y=\"464.391864\" style=\"stroke: #000000; stroke-width: 0.8\"/>\n",
       "      </g>\n",
       "     </g>\n",
       "     <g id=\"text_44\">\n",
       "      <!-- 0.7 -->\n",
       "      <g transform=\"translate(7.2 468.191083) scale(0.1 -0.1)\">\n",
       "       <defs>\n",
       "        <path id=\"DejaVuSans-37\" d=\"M 525 4666 \n",
       "L 3525 4666 \n",
       "L 3525 4397 \n",
       "L 1831 0 \n",
       "L 1172 0 \n",
       "L 2766 4134 \n",
       "L 525 4134 \n",
       "L 525 4666 \n",
       "z\n",
       "\" transform=\"scale(0.015625)\"/>\n",
       "       </defs>\n",
       "       <use xlink:href=\"#DejaVuSans-30\"/>\n",
       "       <use xlink:href=\"#DejaVuSans-2e\" x=\"63.623047\"/>\n",
       "       <use xlink:href=\"#DejaVuSans-37\" x=\"95.410156\"/>\n",
       "      </g>\n",
       "     </g>\n",
       "    </g>\n",
       "    <g id=\"ytick_12\">\n",
       "     <g id=\"line2d_83\">\n",
       "      <path d=\"M 30.103125 424.42981 \n",
       "L 705.663125 424.42981 \n",
       "\" clip-path=\"url(#pc5743a24cd)\" style=\"fill: none; stroke: #b0b0b0; stroke-width: 0.8; stroke-linecap: square\"/>\n",
       "     </g>\n",
       "     <g id=\"line2d_84\">\n",
       "      <g>\n",
       "       <use xlink:href=\"#m9b6446da32\" x=\"30.103125\" y=\"424.42981\" style=\"stroke: #000000; stroke-width: 0.8\"/>\n",
       "      </g>\n",
       "     </g>\n",
       "     <g id=\"text_45\">\n",
       "      <!-- 0.8 -->\n",
       "      <g transform=\"translate(7.2 428.229029) scale(0.1 -0.1)\">\n",
       "       <use xlink:href=\"#DejaVuSans-30\"/>\n",
       "       <use xlink:href=\"#DejaVuSans-2e\" x=\"63.623047\"/>\n",
       "       <use xlink:href=\"#DejaVuSans-38\" x=\"95.410156\"/>\n",
       "      </g>\n",
       "     </g>\n",
       "    </g>\n",
       "    <g id=\"ytick_13\">\n",
       "     <g id=\"line2d_85\">\n",
       "      <path d=\"M 30.103125 384.467756 \n",
       "L 705.663125 384.467756 \n",
       "\" clip-path=\"url(#pc5743a24cd)\" style=\"fill: none; stroke: #b0b0b0; stroke-width: 0.8; stroke-linecap: square\"/>\n",
       "     </g>\n",
       "     <g id=\"line2d_86\">\n",
       "      <g>\n",
       "       <use xlink:href=\"#m9b6446da32\" x=\"30.103125\" y=\"384.467756\" style=\"stroke: #000000; stroke-width: 0.8\"/>\n",
       "      </g>\n",
       "     </g>\n",
       "     <g id=\"text_46\">\n",
       "      <!-- 0.9 -->\n",
       "      <g transform=\"translate(7.2 388.266975) scale(0.1 -0.1)\">\n",
       "       <defs>\n",
       "        <path id=\"DejaVuSans-39\" d=\"M 703 97 \n",
       "L 703 672 \n",
       "Q 941 559 1184 500 \n",
       "Q 1428 441 1663 441 \n",
       "Q 2288 441 2617 861 \n",
       "Q 2947 1281 2994 2138 \n",
       "Q 2813 1869 2534 1725 \n",
       "Q 2256 1581 1919 1581 \n",
       "Q 1219 1581 811 2004 \n",
       "Q 403 2428 403 3163 \n",
       "Q 403 3881 828 4315 \n",
       "Q 1253 4750 1959 4750 \n",
       "Q 2769 4750 3195 4129 \n",
       "Q 3622 3509 3622 2328 \n",
       "Q 3622 1225 3098 567 \n",
       "Q 2575 -91 1691 -91 \n",
       "Q 1453 -91 1209 -44 \n",
       "Q 966 3 703 97 \n",
       "z\n",
       "M 1959 2075 \n",
       "Q 2384 2075 2632 2365 \n",
       "Q 2881 2656 2881 3163 \n",
       "Q 2881 3666 2632 3958 \n",
       "Q 2384 4250 1959 4250 \n",
       "Q 1534 4250 1286 3958 \n",
       "Q 1038 3666 1038 3163 \n",
       "Q 1038 2656 1286 2365 \n",
       "Q 1534 2075 1959 2075 \n",
       "z\n",
       "\" transform=\"scale(0.015625)\"/>\n",
       "       </defs>\n",
       "       <use xlink:href=\"#DejaVuSans-30\"/>\n",
       "       <use xlink:href=\"#DejaVuSans-2e\" x=\"63.623047\"/>\n",
       "       <use xlink:href=\"#DejaVuSans-39\" x=\"95.410156\"/>\n",
       "      </g>\n",
       "     </g>\n",
       "    </g>\n",
       "   </g>\n",
       "   <g id=\"line2d_87\">\n",
       "    <path d=\"M 60.810398 639.953159 \n",
       "L 104.67793 594.012782 \n",
       "L 148.545463 575.230616 \n",
       "L 192.412995 563.785484 \n",
       "L 236.280528 549.670887 \n",
       "L 280.14806 538.321663 \n",
       "L 324.015593 523.743506 \n",
       "L 367.883125 512.570116 \n",
       "L 411.750657 489.392125 \n",
       "L 455.61819 472.320335 \n",
       "L 499.485722 464.040198 \n",
       "L 543.353255 434.676081 \n",
       "L 587.220787 422.112011 \n",
       "L 631.08832 414.15157 \n",
       "L 674.955852 399.685306 \n",
       "\" clip-path=\"url(#pc5743a24cd)\" style=\"fill: none; stroke: #000000; stroke-width: 1.5; stroke-linecap: square\"/>\n",
       "   </g>\n",
       "   <g id=\"line2d_88\">\n",
       "    <path d=\"M 60.810398 644.077243 \n",
       "L 104.67793 606.049352 \n",
       "L 148.545463 597.72126 \n",
       "L 192.412995 573.024711 \n",
       "L 236.280528 565.655708 \n",
       "L 280.14806 546.505892 \n",
       "L 324.015593 535.700153 \n",
       "L 367.883125 518.980029 \n",
       "L 411.750657 494.683101 \n",
       "L 455.61819 489.791745 \n",
       "L 499.485722 464.31194 \n",
       "L 543.353255 435.363428 \n",
       "L 587.220787 423.438751 \n",
       "L 631.08832 405.66363 \n",
       "L 674.955852 390.398125 \n",
       "\" clip-path=\"url(#pc5743a24cd)\" style=\"fill: none; stroke: #ff0000; stroke-width: 1.5; stroke-linecap: square\"/>\n",
       "   </g>\n",
       "   <g id=\"line2d_89\">\n",
       "    <path d=\"M 60.810398 641.168005 \n",
       "L 104.67793 615.6882 \n",
       "L 148.545463 603.811477 \n",
       "L 192.412995 593.661116 \n",
       "L 236.280528 588.514003 \n",
       "L 280.14806 576.157736 \n",
       "L 324.015593 565.559799 \n",
       "L 367.883125 562.554653 \n",
       "L 411.750657 552.947775 \n",
       "L 455.61819 550.166416 \n",
       "L 499.485722 541.822339 \n",
       "L 543.353255 534.948866 \n",
       "L 587.220787 530.696904 \n",
       "L 631.08832 523.839415 \n",
       "L 674.955852 515.447384 \n",
       "\" clip-path=\"url(#pc5743a24cd)\" style=\"fill: none; stroke: #0000ff; stroke-width: 1.5; stroke-linecap: square\"/>\n",
       "   </g>\n",
       "   <g id=\"line2d_90\">\n",
       "    <path d=\"M 60.810398 630.138478 \n",
       "L 104.67793 620.307813 \n",
       "L 148.545463 592.286421 \n",
       "L 192.412995 574.543269 \n",
       "L 236.280528 561.403746 \n",
       "L 280.14806 554.226561 \n",
       "L 324.015593 536.003864 \n",
       "L 367.883125 521.20192 \n",
       "L 411.750657 514.264507 \n",
       "L 455.61819 495.386433 \n",
       "L 499.485722 476.300556 \n",
       "L 543.353255 457.390512 \n",
       "L 587.220787 434.30843 \n",
       "L 631.08832 419.890121 \n",
       "L 674.955852 403.473709 \n",
       "\" clip-path=\"url(#pc5743a24cd)\" style=\"fill: none; stroke: #008000; stroke-width: 1.5; stroke-linecap: square\"/>\n",
       "   </g>\n",
       "   <g id=\"line2d_91\">\n",
       "    <path d=\"M 60.810398 658.863203 \n",
       "L 104.67793 629.770827 \n",
       "L 148.545463 608.03147 \n",
       "L 192.412995 599.255803 \n",
       "L 236.280528 587.427035 \n",
       "L 280.14806 580.905228 \n",
       "L 324.015593 572.065622 \n",
       "L 367.883125 563.050182 \n",
       "L 411.750657 556.608299 \n",
       "L 455.61819 554.881939 \n",
       "L 499.485722 544.587714 \n",
       "L 543.353255 543.181049 \n",
       "L 587.220787 533.654096 \n",
       "L 631.08832 527.931529 \n",
       "L 674.955852 521.857297 \n",
       "\" clip-path=\"url(#pc5743a24cd)\" style=\"fill: none; stroke: #ffa500; stroke-width: 1.5; stroke-linecap: square\"/>\n",
       "   </g>\n",
       "   <g id=\"line2d_92\">\n",
       "    <path d=\"M 60.810398 628.300224 \n",
       "L 104.67793 605.425944 \n",
       "L 148.545463 589.968622 \n",
       "L 192.412995 574.543269 \n",
       "L 236.280528 556.768148 \n",
       "L 280.14806 547.640814 \n",
       "L 324.015593 531.496145 \n",
       "L 367.883125 518.100864 \n",
       "L 411.750657 497.880065 \n",
       "L 455.61819 478.730249 \n",
       "L 499.485722 465.191105 \n",
       "L 543.353255 444.314928 \n",
       "L 587.220787 425.277006 \n",
       "L 631.08832 412.313315 \n",
       "L 674.955852 395.497283 \n",
       "\" clip-path=\"url(#pc5743a24cd)\" style=\"fill: none; stroke: #800080; stroke-width: 1.5; stroke-linecap: square\"/>\n",
       "   </g>\n",
       "   <g id=\"line2d_93\">\n",
       "    <path d=\"M 60.810398 647.785721 \n",
       "L 104.67793 615.592291 \n",
       "L 148.545463 608.079425 \n",
       "L 192.412995 598.952092 \n",
       "L 236.280528 593.325434 \n",
       "L 280.14806 588.993548 \n",
       "L 324.015593 584.150147 \n",
       "L 367.883125 581.192955 \n",
       "L 411.750657 574.127664 \n",
       "L 455.61819 565.703663 \n",
       "L 499.485722 561.611548 \n",
       "L 543.353255 557.263677 \n",
       "L 587.220787 551.668989 \n",
       "L 631.08832 545.083243 \n",
       "L 674.955852 547.1293 \n",
       "\" clip-path=\"url(#pc5743a24cd)\" style=\"fill: none; stroke: #00ffff; stroke-width: 1.5; stroke-linecap: square\"/>\n",
       "   </g>\n",
       "   <g id=\"line2d_94\">\n",
       "    <path d=\"M 60.810398 636.388544 \n",
       "L 104.67793 603.395872 \n",
       "L 148.545463 595.435431 \n",
       "L 192.412995 591.790892 \n",
       "L 236.280528 589.041502 \n",
       "L 280.14806 591.647028 \n",
       "L 324.015593 591.119529 \n",
       "L 367.883125 593.501267 \n",
       "L 411.750657 596.794141 \n",
       "L 455.61819 598.856183 \n",
       "L 499.485722 602.868373 \n",
       "L 543.353255 603.427842 \n",
       "L 587.220787 604.131174 \n",
       "L 631.08832 601.877314 \n",
       "L 674.955852 604.370946 \n",
       "\" clip-path=\"url(#pc5743a24cd)\" style=\"fill: none; stroke-dasharray: 5.55,2.4; stroke-dashoffset: 0; stroke: #000000; stroke-width: 1.5\"/>\n",
       "   </g>\n",
       "   <g id=\"line2d_95\">\n",
       "    <path d=\"M 60.810398 644.892469 \n",
       "L 104.67793 610.605026 \n",
       "L 148.545463 610.349269 \n",
       "L 192.412995 601.285876 \n",
       "L 236.280528 593.085662 \n",
       "L 280.14806 595.435431 \n",
       "L 324.015593 599.911181 \n",
       "L 367.883125 595.115734 \n",
       "L 411.750657 599.847242 \n",
       "L 455.61819 598.888152 \n",
       "L 499.485722 601.781405 \n",
       "L 543.353255 607.376093 \n",
       "L 587.220787 605.713671 \n",
       "L 631.08832 610.940708 \n",
       "L 674.955852 608.46306 \n",
       "\" clip-path=\"url(#pc5743a24cd)\" style=\"fill: none; stroke-dasharray: 5.55,2.4; stroke-dashoffset: 0; stroke: #ff0000; stroke-width: 1.5\"/>\n",
       "   </g>\n",
       "   <g id=\"line2d_96\">\n",
       "    <path d=\"M 60.810398 642.51073 \n",
       "L 104.67793 616.263653 \n",
       "L 148.545463 607.056396 \n",
       "L 192.412995 599.351712 \n",
       "L 236.280528 598.088911 \n",
       "L 280.14806 592.174527 \n",
       "L 324.015593 590.416197 \n",
       "L 367.883125 587.427035 \n",
       "L 411.750657 589.648925 \n",
       "L 455.61819 583.510754 \n",
       "L 499.485722 583.766511 \n",
       "L 543.353255 583.079164 \n",
       "L 587.220787 582.9353 \n",
       "L 631.08832 585.157191 \n",
       "L 674.955852 586.787642 \n",
       "\" clip-path=\"url(#pc5743a24cd)\" style=\"fill: none; stroke-dasharray: 5.55,2.4; stroke-dashoffset: 0; stroke: #0000ff; stroke-width: 1.5\"/>\n",
       "   </g>\n",
       "   <g id=\"line2d_97\">\n",
       "    <path d=\"M 60.810398 630.266357 \n",
       "L 104.67793 623.504777 \n",
       "L 148.545463 601.110042 \n",
       "L 192.412995 596.218687 \n",
       "L 236.280528 592.877859 \n",
       "L 280.14806 588.434079 \n",
       "L 324.015593 592.590133 \n",
       "L 367.883125 590.064531 \n",
       "L 411.750657 589.808774 \n",
       "L 455.61819 591.343317 \n",
       "L 499.485722 591.279377 \n",
       "L 543.353255 595.691188 \n",
       "L 587.220787 602.724509 \n",
       "L 631.08832 601.76542 \n",
       "L 674.955852 606.369049 \n",
       "\" clip-path=\"url(#pc5743a24cd)\" style=\"fill: none; stroke-dasharray: 5.55,2.4; stroke-dashoffset: 0; stroke: #008000; stroke-width: 1.5\"/>\n",
       "   </g>\n",
       "   <g id=\"line2d_98\">\n",
       "    <path d=\"M 60.810398 659.998125 \n",
       "L 104.67793 631.257416 \n",
       "L 148.545463 614.281535 \n",
       "L 192.412995 604.706627 \n",
       "L 236.280528 600.486634 \n",
       "L 280.14806 599.351712 \n",
       "L 324.015593 598.168835 \n",
       "L 367.883125 593.117632 \n",
       "L 411.750657 588.689836 \n",
       "L 455.61819 588.76976 \n",
       "L 499.485722 588.210291 \n",
       "L 543.353255 586.675749 \n",
       "L 587.220787 586.483931 \n",
       "L 631.08832 587.810671 \n",
       "L 674.955852 585.476887 \n",
       "\" clip-path=\"url(#pc5743a24cd)\" style=\"fill: none; stroke-dasharray: 5.55,2.4; stroke-dashoffset: 0; stroke: #ffa500; stroke-width: 1.5\"/>\n",
       "   </g>\n",
       "   <g id=\"line2d_99\">\n",
       "    <path d=\"M 60.810398 630.138478 \n",
       "L 104.67793 608.111394 \n",
       "L 148.545463 599.559515 \n",
       "L 192.412995 598.120881 \n",
       "L 236.280528 593.613161 \n",
       "L 280.14806 590.624 \n",
       "L 324.015593 590.336273 \n",
       "L 367.883125 590.144455 \n",
       "L 411.750657 596.314596 \n",
       "L 455.61819 598.504517 \n",
       "L 499.485722 597.32164 \n",
       "L 543.353255 602.804434 \n",
       "L 587.220787 604.866476 \n",
       "L 631.08832 604.514809 \n",
       "L 674.955852 608.319197 \n",
       "\" clip-path=\"url(#pc5743a24cd)\" style=\"fill: none; stroke-dasharray: 5.55,2.4; stroke-dashoffset: 0; stroke: #800080; stroke-width: 1.5\"/>\n",
       "   </g>\n",
       "   <g id=\"line2d_100\">\n",
       "    <path d=\"M 60.810398 645.116256 \n",
       "L 104.67793 617.254712 \n",
       "L 148.545463 610.988662 \n",
       "L 192.412995 603.347917 \n",
       "L 236.280528 601.493678 \n",
       "L 280.14806 598.472547 \n",
       "L 324.015593 598.248759 \n",
       "L 367.883125 596.938004 \n",
       "L 411.750657 595.659218 \n",
       "L 455.61819 592.014679 \n",
       "L 499.485722 588.80173 \n",
       "L 543.353255 587.778701 \n",
       "L 587.220787 586.419991 \n",
       "L 631.08832 587.427035 \n",
       "L 674.955852 584.437874 \n",
       "\" clip-path=\"url(#pc5743a24cd)\" style=\"fill: none; stroke-dasharray: 5.55,2.4; stroke-dashoffset: 0; stroke: #00ffff; stroke-width: 1.5\"/>\n",
       "   </g>\n",
       "   <g id=\"patch_9\">\n",
       "    <path d=\"M 30.103125 673.478125 \n",
       "L 30.103125 376.918125 \n",
       "\" style=\"fill: none; stroke: #000000; stroke-width: 0.8; stroke-linejoin: miter; stroke-linecap: square\"/>\n",
       "   </g>\n",
       "   <g id=\"patch_10\">\n",
       "    <path d=\"M 705.663125 673.478125 \n",
       "L 705.663125 376.918125 \n",
       "\" style=\"fill: none; stroke: #000000; stroke-width: 0.8; stroke-linejoin: miter; stroke-linecap: square\"/>\n",
       "   </g>\n",
       "   <g id=\"patch_11\">\n",
       "    <path d=\"M 30.103125 673.478125 \n",
       "L 705.663125 673.478125 \n",
       "\" style=\"fill: none; stroke: #000000; stroke-width: 0.8; stroke-linejoin: miter; stroke-linecap: square\"/>\n",
       "   </g>\n",
       "   <g id=\"patch_12\">\n",
       "    <path d=\"M 30.103125 376.918125 \n",
       "L 705.663125 376.918125 \n",
       "\" style=\"fill: none; stroke: #000000; stroke-width: 0.8; stroke-linejoin: miter; stroke-linecap: square\"/>\n",
       "   </g>\n",
       "   <g id=\"text_47\">\n",
       "    <!-- Accuracy -->\n",
       "    <g transform=\"translate(340.489375 370.918125) scale(0.12 -0.12)\">\n",
       "     <defs>\n",
       "      <path id=\"DejaVuSans-41\" d=\"M 2188 4044 \n",
       "L 1331 1722 \n",
       "L 3047 1722 \n",
       "L 2188 4044 \n",
       "z\n",
       "M 1831 4666 \n",
       "L 2547 4666 \n",
       "L 4325 0 \n",
       "L 3669 0 \n",
       "L 3244 1197 \n",
       "L 1141 1197 \n",
       "L 716 0 \n",
       "L 50 0 \n",
       "L 1831 4666 \n",
       "z\n",
       "\" transform=\"scale(0.015625)\"/>\n",
       "      <path id=\"DejaVuSans-75\" d=\"M 544 1381 \n",
       "L 544 3500 \n",
       "L 1119 3500 \n",
       "L 1119 1403 \n",
       "Q 1119 906 1312 657 \n",
       "Q 1506 409 1894 409 \n",
       "Q 2359 409 2629 706 \n",
       "Q 2900 1003 2900 1516 \n",
       "L 2900 3500 \n",
       "L 3475 3500 \n",
       "L 3475 0 \n",
       "L 2900 0 \n",
       "L 2900 538 \n",
       "Q 2691 219 2414 64 \n",
       "Q 2138 -91 1772 -91 \n",
       "Q 1169 -91 856 284 \n",
       "Q 544 659 544 1381 \n",
       "z\n",
       "M 1991 3584 \n",
       "L 1991 3584 \n",
       "z\n",
       "\" transform=\"scale(0.015625)\"/>\n",
       "     </defs>\n",
       "     <use xlink:href=\"#DejaVuSans-41\"/>\n",
       "     <use xlink:href=\"#DejaVuSans-63\" x=\"66.658203\"/>\n",
       "     <use xlink:href=\"#DejaVuSans-63\" x=\"121.638672\"/>\n",
       "     <use xlink:href=\"#DejaVuSans-75\" x=\"176.619141\"/>\n",
       "     <use xlink:href=\"#DejaVuSans-72\" x=\"239.998047\"/>\n",
       "     <use xlink:href=\"#DejaVuSans-61\" x=\"281.111328\"/>\n",
       "     <use xlink:href=\"#DejaVuSans-63\" x=\"342.390625\"/>\n",
       "     <use xlink:href=\"#DejaVuSans-79\" x=\"397.371094\"/>\n",
       "    </g>\n",
       "   </g>\n",
       "   <g id=\"legend_2\">\n",
       "    <g id=\"patch_13\">\n",
       "     <path d=\"M 37.103125 590.411875 \n",
       "L 160.320313 590.411875 \n",
       "Q 162.320313 590.411875 162.320313 588.411875 \n",
       "L 162.320313 383.918125 \n",
       "Q 162.320313 381.918125 160.320313 381.918125 \n",
       "L 37.103125 381.918125 \n",
       "Q 35.103125 381.918125 35.103125 383.918125 \n",
       "L 35.103125 588.411875 \n",
       "Q 35.103125 590.411875 37.103125 590.411875 \n",
       "z\n",
       "\" style=\"fill: #ffffff; opacity: 0.8; stroke: #cccccc; stroke-linejoin: miter\"/>\n",
       "    </g>\n",
       "    <g id=\"line2d_101\">\n",
       "     <path d=\"M 39.103125 390.016562 \n",
       "L 49.103125 390.016562 \n",
       "L 59.103125 390.016562 \n",
       "\" style=\"fill: none; stroke: #000000; stroke-width: 1.5; stroke-linecap: square\"/>\n",
       "    </g>\n",
       "    <g id=\"text_48\">\n",
       "     <!-- Base -->\n",
       "     <g transform=\"translate(67.103125 393.516562) scale(0.1 -0.1)\">\n",
       "      <use xlink:href=\"#DejaVuSans-42\"/>\n",
       "      <use xlink:href=\"#DejaVuSans-61\" x=\"68.603516\"/>\n",
       "      <use xlink:href=\"#DejaVuSans-73\" x=\"129.882812\"/>\n",
       "      <use xlink:href=\"#DejaVuSans-65\" x=\"181.982422\"/>\n",
       "     </g>\n",
       "    </g>\n",
       "    <g id=\"line2d_102\">\n",
       "     <path d=\"M 39.103125 404.694687 \n",
       "L 49.103125 404.694687 \n",
       "L 59.103125 404.694687 \n",
       "\" style=\"fill: none; stroke: #ff0000; stroke-width: 1.5; stroke-linecap: square\"/>\n",
       "    </g>\n",
       "    <g id=\"text_49\">\n",
       "     <!-- VarDropCheck -->\n",
       "     <g transform=\"translate(67.103125 408.194687) scale(0.1 -0.1)\">\n",
       "      <use xlink:href=\"#DejaVuSans-56\"/>\n",
       "      <use xlink:href=\"#DejaVuSans-61\" x=\"60.658203\"/>\n",
       "      <use xlink:href=\"#DejaVuSans-72\" x=\"121.9375\"/>\n",
       "      <use xlink:href=\"#DejaVuSans-44\" x=\"163.050781\"/>\n",
       "      <use xlink:href=\"#DejaVuSans-72\" x=\"240.052734\"/>\n",
       "      <use xlink:href=\"#DejaVuSans-6f\" x=\"278.916016\"/>\n",
       "      <use xlink:href=\"#DejaVuSans-70\" x=\"340.097656\"/>\n",
       "      <use xlink:href=\"#DejaVuSans-43\" x=\"403.574219\"/>\n",
       "      <use xlink:href=\"#DejaVuSans-68\" x=\"473.398438\"/>\n",
       "      <use xlink:href=\"#DejaVuSans-65\" x=\"536.777344\"/>\n",
       "      <use xlink:href=\"#DejaVuSans-63\" x=\"598.300781\"/>\n",
       "      <use xlink:href=\"#DejaVuSans-6b\" x=\"653.28125\"/>\n",
       "     </g>\n",
       "    </g>\n",
       "    <g id=\"line2d_103\">\n",
       "     <path d=\"M 39.103125 419.372812 \n",
       "L 49.103125 419.372812 \n",
       "L 59.103125 419.372812 \n",
       "\" style=\"fill: none; stroke: #0000ff; stroke-width: 1.5; stroke-linecap: square\"/>\n",
       "    </g>\n",
       "    <g id=\"text_50\">\n",
       "     <!-- VarDrop -->\n",
       "     <g transform=\"translate(67.103125 422.872812) scale(0.1 -0.1)\">\n",
       "      <use xlink:href=\"#DejaVuSans-56\"/>\n",
       "      <use xlink:href=\"#DejaVuSans-61\" x=\"60.658203\"/>\n",
       "      <use xlink:href=\"#DejaVuSans-72\" x=\"121.9375\"/>\n",
       "      <use xlink:href=\"#DejaVuSans-44\" x=\"163.050781\"/>\n",
       "      <use xlink:href=\"#DejaVuSans-72\" x=\"240.052734\"/>\n",
       "      <use xlink:href=\"#DejaVuSans-6f\" x=\"278.916016\"/>\n",
       "      <use xlink:href=\"#DejaVuSans-70\" x=\"340.097656\"/>\n",
       "     </g>\n",
       "    </g>\n",
       "    <g id=\"line2d_104\">\n",
       "     <path d=\"M 39.103125 434.050937 \n",
       "L 49.103125 434.050937 \n",
       "L 59.103125 434.050937 \n",
       "\" style=\"fill: none; stroke: #008000; stroke-width: 1.5; stroke-linecap: square\"/>\n",
       "    </g>\n",
       "    <g id=\"text_51\">\n",
       "     <!-- FastVarDropCheck -->\n",
       "     <g transform=\"translate(67.103125 437.550937) scale(0.1 -0.1)\">\n",
       "      <use xlink:href=\"#DejaVuSans-46\"/>\n",
       "      <use xlink:href=\"#DejaVuSans-61\" x=\"48.394531\"/>\n",
       "      <use xlink:href=\"#DejaVuSans-73\" x=\"109.673828\"/>\n",
       "      <use xlink:href=\"#DejaVuSans-74\" x=\"161.773438\"/>\n",
       "      <use xlink:href=\"#DejaVuSans-56\" x=\"200.982422\"/>\n",
       "      <use xlink:href=\"#DejaVuSans-61\" x=\"261.640625\"/>\n",
       "      <use xlink:href=\"#DejaVuSans-72\" x=\"322.919922\"/>\n",
       "      <use xlink:href=\"#DejaVuSans-44\" x=\"364.033203\"/>\n",
       "      <use xlink:href=\"#DejaVuSans-72\" x=\"441.035156\"/>\n",
       "      <use xlink:href=\"#DejaVuSans-6f\" x=\"479.898438\"/>\n",
       "      <use xlink:href=\"#DejaVuSans-70\" x=\"541.080078\"/>\n",
       "      <use xlink:href=\"#DejaVuSans-43\" x=\"604.556641\"/>\n",
       "      <use xlink:href=\"#DejaVuSans-68\" x=\"674.380859\"/>\n",
       "      <use xlink:href=\"#DejaVuSans-65\" x=\"737.759766\"/>\n",
       "      <use xlink:href=\"#DejaVuSans-63\" x=\"799.283203\"/>\n",
       "      <use xlink:href=\"#DejaVuSans-6b\" x=\"854.263672\"/>\n",
       "     </g>\n",
       "    </g>\n",
       "    <g id=\"line2d_105\">\n",
       "     <path d=\"M 39.103125 448.729062 \n",
       "L 49.103125 448.729062 \n",
       "L 59.103125 448.729062 \n",
       "\" style=\"fill: none; stroke: #ffa500; stroke-width: 1.5; stroke-linecap: square\"/>\n",
       "    </g>\n",
       "    <g id=\"text_52\">\n",
       "     <!-- FastVarDrop -->\n",
       "     <g transform=\"translate(67.103125 452.229062) scale(0.1 -0.1)\">\n",
       "      <use xlink:href=\"#DejaVuSans-46\"/>\n",
       "      <use xlink:href=\"#DejaVuSans-61\" x=\"48.394531\"/>\n",
       "      <use xlink:href=\"#DejaVuSans-73\" x=\"109.673828\"/>\n",
       "      <use xlink:href=\"#DejaVuSans-74\" x=\"161.773438\"/>\n",
       "      <use xlink:href=\"#DejaVuSans-56\" x=\"200.982422\"/>\n",
       "      <use xlink:href=\"#DejaVuSans-61\" x=\"261.640625\"/>\n",
       "      <use xlink:href=\"#DejaVuSans-72\" x=\"322.919922\"/>\n",
       "      <use xlink:href=\"#DejaVuSans-44\" x=\"364.033203\"/>\n",
       "      <use xlink:href=\"#DejaVuSans-72\" x=\"441.035156\"/>\n",
       "      <use xlink:href=\"#DejaVuSans-6f\" x=\"479.898438\"/>\n",
       "      <use xlink:href=\"#DejaVuSans-70\" x=\"541.080078\"/>\n",
       "     </g>\n",
       "    </g>\n",
       "    <g id=\"line2d_106\">\n",
       "     <path d=\"M 39.103125 463.407187 \n",
       "L 49.103125 463.407187 \n",
       "L 59.103125 463.407187 \n",
       "\" style=\"fill: none; stroke: #800080; stroke-width: 1.5; stroke-linecap: square\"/>\n",
       "    </g>\n",
       "    <g id=\"text_53\">\n",
       "     <!-- HandmadeCheck -->\n",
       "     <g transform=\"translate(67.103125 466.907187) scale(0.1 -0.1)\">\n",
       "      <use xlink:href=\"#DejaVuSans-48\"/>\n",
       "      <use xlink:href=\"#DejaVuSans-61\" x=\"75.195312\"/>\n",
       "      <use xlink:href=\"#DejaVuSans-6e\" x=\"136.474609\"/>\n",
       "      <use xlink:href=\"#DejaVuSans-64\" x=\"199.853516\"/>\n",
       "      <use xlink:href=\"#DejaVuSans-6d\" x=\"263.330078\"/>\n",
       "      <use xlink:href=\"#DejaVuSans-61\" x=\"360.742188\"/>\n",
       "      <use xlink:href=\"#DejaVuSans-64\" x=\"422.021484\"/>\n",
       "      <use xlink:href=\"#DejaVuSans-65\" x=\"485.498047\"/>\n",
       "      <use xlink:href=\"#DejaVuSans-43\" x=\"547.021484\"/>\n",
       "      <use xlink:href=\"#DejaVuSans-68\" x=\"616.845703\"/>\n",
       "      <use xlink:href=\"#DejaVuSans-65\" x=\"680.224609\"/>\n",
       "      <use xlink:href=\"#DejaVuSans-63\" x=\"741.748047\"/>\n",
       "      <use xlink:href=\"#DejaVuSans-6b\" x=\"796.728516\"/>\n",
       "     </g>\n",
       "    </g>\n",
       "    <g id=\"line2d_107\">\n",
       "     <path d=\"M 39.103125 478.085312 \n",
       "L 49.103125 478.085312 \n",
       "L 59.103125 478.085312 \n",
       "\" style=\"fill: none; stroke: #00ffff; stroke-width: 1.5; stroke-linecap: square\"/>\n",
       "    </g>\n",
       "    <g id=\"text_54\">\n",
       "     <!-- Handmade -->\n",
       "     <g transform=\"translate(67.103125 481.585312) scale(0.1 -0.1)\">\n",
       "      <use xlink:href=\"#DejaVuSans-48\"/>\n",
       "      <use xlink:href=\"#DejaVuSans-61\" x=\"75.195312\"/>\n",
       "      <use xlink:href=\"#DejaVuSans-6e\" x=\"136.474609\"/>\n",
       "      <use xlink:href=\"#DejaVuSans-64\" x=\"199.853516\"/>\n",
       "      <use xlink:href=\"#DejaVuSans-6d\" x=\"263.330078\"/>\n",
       "      <use xlink:href=\"#DejaVuSans-61\" x=\"360.742188\"/>\n",
       "      <use xlink:href=\"#DejaVuSans-64\" x=\"422.021484\"/>\n",
       "      <use xlink:href=\"#DejaVuSans-65\" x=\"485.498047\"/>\n",
       "     </g>\n",
       "    </g>\n",
       "    <g id=\"line2d_108\">\n",
       "     <path d=\"M 39.103125 492.763437 \n",
       "L 49.103125 492.763437 \n",
       "L 59.103125 492.763437 \n",
       "\" style=\"fill: none; stroke-dasharray: 5.55,2.4; stroke-dashoffset: 0; stroke: #000000; stroke-width: 1.5\"/>\n",
       "    </g>\n",
       "    <g id=\"text_55\">\n",
       "     <!-- Base -->\n",
       "     <g transform=\"translate(67.103125 496.263437) scale(0.1 -0.1)\">\n",
       "      <use xlink:href=\"#DejaVuSans-42\"/>\n",
       "      <use xlink:href=\"#DejaVuSans-61\" x=\"68.603516\"/>\n",
       "      <use xlink:href=\"#DejaVuSans-73\" x=\"129.882812\"/>\n",
       "      <use xlink:href=\"#DejaVuSans-65\" x=\"181.982422\"/>\n",
       "     </g>\n",
       "    </g>\n",
       "    <g id=\"line2d_109\">\n",
       "     <path d=\"M 39.103125 507.441562 \n",
       "L 49.103125 507.441562 \n",
       "L 59.103125 507.441562 \n",
       "\" style=\"fill: none; stroke-dasharray: 5.55,2.4; stroke-dashoffset: 0; stroke: #ff0000; stroke-width: 1.5\"/>\n",
       "    </g>\n",
       "    <g id=\"text_56\">\n",
       "     <!-- VarDropCheck -->\n",
       "     <g transform=\"translate(67.103125 510.941562) scale(0.1 -0.1)\">\n",
       "      <use xlink:href=\"#DejaVuSans-56\"/>\n",
       "      <use xlink:href=\"#DejaVuSans-61\" x=\"60.658203\"/>\n",
       "      <use xlink:href=\"#DejaVuSans-72\" x=\"121.9375\"/>\n",
       "      <use xlink:href=\"#DejaVuSans-44\" x=\"163.050781\"/>\n",
       "      <use xlink:href=\"#DejaVuSans-72\" x=\"240.052734\"/>\n",
       "      <use xlink:href=\"#DejaVuSans-6f\" x=\"278.916016\"/>\n",
       "      <use xlink:href=\"#DejaVuSans-70\" x=\"340.097656\"/>\n",
       "      <use xlink:href=\"#DejaVuSans-43\" x=\"403.574219\"/>\n",
       "      <use xlink:href=\"#DejaVuSans-68\" x=\"473.398438\"/>\n",
       "      <use xlink:href=\"#DejaVuSans-65\" x=\"536.777344\"/>\n",
       "      <use xlink:href=\"#DejaVuSans-63\" x=\"598.300781\"/>\n",
       "      <use xlink:href=\"#DejaVuSans-6b\" x=\"653.28125\"/>\n",
       "     </g>\n",
       "    </g>\n",
       "    <g id=\"line2d_110\">\n",
       "     <path d=\"M 39.103125 522.119687 \n",
       "L 49.103125 522.119687 \n",
       "L 59.103125 522.119687 \n",
       "\" style=\"fill: none; stroke-dasharray: 5.55,2.4; stroke-dashoffset: 0; stroke: #0000ff; stroke-width: 1.5\"/>\n",
       "    </g>\n",
       "    <g id=\"text_57\">\n",
       "     <!-- VarDrop -->\n",
       "     <g transform=\"translate(67.103125 525.619687) scale(0.1 -0.1)\">\n",
       "      <use xlink:href=\"#DejaVuSans-56\"/>\n",
       "      <use xlink:href=\"#DejaVuSans-61\" x=\"60.658203\"/>\n",
       "      <use xlink:href=\"#DejaVuSans-72\" x=\"121.9375\"/>\n",
       "      <use xlink:href=\"#DejaVuSans-44\" x=\"163.050781\"/>\n",
       "      <use xlink:href=\"#DejaVuSans-72\" x=\"240.052734\"/>\n",
       "      <use xlink:href=\"#DejaVuSans-6f\" x=\"278.916016\"/>\n",
       "      <use xlink:href=\"#DejaVuSans-70\" x=\"340.097656\"/>\n",
       "     </g>\n",
       "    </g>\n",
       "    <g id=\"line2d_111\">\n",
       "     <path d=\"M 39.103125 536.797812 \n",
       "L 49.103125 536.797812 \n",
       "L 59.103125 536.797812 \n",
       "\" style=\"fill: none; stroke-dasharray: 5.55,2.4; stroke-dashoffset: 0; stroke: #008000; stroke-width: 1.5\"/>\n",
       "    </g>\n",
       "    <g id=\"text_58\">\n",
       "     <!-- FastVarDropCheck -->\n",
       "     <g transform=\"translate(67.103125 540.297812) scale(0.1 -0.1)\">\n",
       "      <use xlink:href=\"#DejaVuSans-46\"/>\n",
       "      <use xlink:href=\"#DejaVuSans-61\" x=\"48.394531\"/>\n",
       "      <use xlink:href=\"#DejaVuSans-73\" x=\"109.673828\"/>\n",
       "      <use xlink:href=\"#DejaVuSans-74\" x=\"161.773438\"/>\n",
       "      <use xlink:href=\"#DejaVuSans-56\" x=\"200.982422\"/>\n",
       "      <use xlink:href=\"#DejaVuSans-61\" x=\"261.640625\"/>\n",
       "      <use xlink:href=\"#DejaVuSans-72\" x=\"322.919922\"/>\n",
       "      <use xlink:href=\"#DejaVuSans-44\" x=\"364.033203\"/>\n",
       "      <use xlink:href=\"#DejaVuSans-72\" x=\"441.035156\"/>\n",
       "      <use xlink:href=\"#DejaVuSans-6f\" x=\"479.898438\"/>\n",
       "      <use xlink:href=\"#DejaVuSans-70\" x=\"541.080078\"/>\n",
       "      <use xlink:href=\"#DejaVuSans-43\" x=\"604.556641\"/>\n",
       "      <use xlink:href=\"#DejaVuSans-68\" x=\"674.380859\"/>\n",
       "      <use xlink:href=\"#DejaVuSans-65\" x=\"737.759766\"/>\n",
       "      <use xlink:href=\"#DejaVuSans-63\" x=\"799.283203\"/>\n",
       "      <use xlink:href=\"#DejaVuSans-6b\" x=\"854.263672\"/>\n",
       "     </g>\n",
       "    </g>\n",
       "    <g id=\"line2d_112\">\n",
       "     <path d=\"M 39.103125 551.475937 \n",
       "L 49.103125 551.475937 \n",
       "L 59.103125 551.475937 \n",
       "\" style=\"fill: none; stroke-dasharray: 5.55,2.4; stroke-dashoffset: 0; stroke: #ffa500; stroke-width: 1.5\"/>\n",
       "    </g>\n",
       "    <g id=\"text_59\">\n",
       "     <!-- FastVarDrop -->\n",
       "     <g transform=\"translate(67.103125 554.975937) scale(0.1 -0.1)\">\n",
       "      <use xlink:href=\"#DejaVuSans-46\"/>\n",
       "      <use xlink:href=\"#DejaVuSans-61\" x=\"48.394531\"/>\n",
       "      <use xlink:href=\"#DejaVuSans-73\" x=\"109.673828\"/>\n",
       "      <use xlink:href=\"#DejaVuSans-74\" x=\"161.773438\"/>\n",
       "      <use xlink:href=\"#DejaVuSans-56\" x=\"200.982422\"/>\n",
       "      <use xlink:href=\"#DejaVuSans-61\" x=\"261.640625\"/>\n",
       "      <use xlink:href=\"#DejaVuSans-72\" x=\"322.919922\"/>\n",
       "      <use xlink:href=\"#DejaVuSans-44\" x=\"364.033203\"/>\n",
       "      <use xlink:href=\"#DejaVuSans-72\" x=\"441.035156\"/>\n",
       "      <use xlink:href=\"#DejaVuSans-6f\" x=\"479.898438\"/>\n",
       "      <use xlink:href=\"#DejaVuSans-70\" x=\"541.080078\"/>\n",
       "     </g>\n",
       "    </g>\n",
       "    <g id=\"line2d_113\">\n",
       "     <path d=\"M 39.103125 566.154062 \n",
       "L 49.103125 566.154062 \n",
       "L 59.103125 566.154062 \n",
       "\" style=\"fill: none; stroke-dasharray: 5.55,2.4; stroke-dashoffset: 0; stroke: #800080; stroke-width: 1.5\"/>\n",
       "    </g>\n",
       "    <g id=\"text_60\">\n",
       "     <!-- HandmadeCheck -->\n",
       "     <g transform=\"translate(67.103125 569.654062) scale(0.1 -0.1)\">\n",
       "      <use xlink:href=\"#DejaVuSans-48\"/>\n",
       "      <use xlink:href=\"#DejaVuSans-61\" x=\"75.195312\"/>\n",
       "      <use xlink:href=\"#DejaVuSans-6e\" x=\"136.474609\"/>\n",
       "      <use xlink:href=\"#DejaVuSans-64\" x=\"199.853516\"/>\n",
       "      <use xlink:href=\"#DejaVuSans-6d\" x=\"263.330078\"/>\n",
       "      <use xlink:href=\"#DejaVuSans-61\" x=\"360.742188\"/>\n",
       "      <use xlink:href=\"#DejaVuSans-64\" x=\"422.021484\"/>\n",
       "      <use xlink:href=\"#DejaVuSans-65\" x=\"485.498047\"/>\n",
       "      <use xlink:href=\"#DejaVuSans-43\" x=\"547.021484\"/>\n",
       "      <use xlink:href=\"#DejaVuSans-68\" x=\"616.845703\"/>\n",
       "      <use xlink:href=\"#DejaVuSans-65\" x=\"680.224609\"/>\n",
       "      <use xlink:href=\"#DejaVuSans-63\" x=\"741.748047\"/>\n",
       "      <use xlink:href=\"#DejaVuSans-6b\" x=\"796.728516\"/>\n",
       "     </g>\n",
       "    </g>\n",
       "    <g id=\"line2d_114\">\n",
       "     <path d=\"M 39.103125 580.832187 \n",
       "L 49.103125 580.832187 \n",
       "L 59.103125 580.832187 \n",
       "\" style=\"fill: none; stroke-dasharray: 5.55,2.4; stroke-dashoffset: 0; stroke: #00ffff; stroke-width: 1.5\"/>\n",
       "    </g>\n",
       "    <g id=\"text_61\">\n",
       "     <!-- Handmade -->\n",
       "     <g transform=\"translate(67.103125 584.332187) scale(0.1 -0.1)\">\n",
       "      <use xlink:href=\"#DejaVuSans-48\"/>\n",
       "      <use xlink:href=\"#DejaVuSans-61\" x=\"75.195312\"/>\n",
       "      <use xlink:href=\"#DejaVuSans-6e\" x=\"136.474609\"/>\n",
       "      <use xlink:href=\"#DejaVuSans-64\" x=\"199.853516\"/>\n",
       "      <use xlink:href=\"#DejaVuSans-6d\" x=\"263.330078\"/>\n",
       "      <use xlink:href=\"#DejaVuSans-61\" x=\"360.742188\"/>\n",
       "      <use xlink:href=\"#DejaVuSans-64\" x=\"422.021484\"/>\n",
       "      <use xlink:href=\"#DejaVuSans-65\" x=\"485.498047\"/>\n",
       "     </g>\n",
       "    </g>\n",
       "   </g>\n",
       "  </g>\n",
       " </g>\n",
       " <defs>\n",
       "  <clipPath id=\"p5f8760a969\">\n",
       "   <rect x=\"30.103125\" y=\"22.318125\" width=\"675.56\" height=\"296.56\"/>\n",
       "  </clipPath>\n",
       "  <clipPath id=\"pc5743a24cd\">\n",
       "   <rect x=\"30.103125\" y=\"376.918125\" width=\"675.56\" height=\"296.56\"/>\n",
       "  </clipPath>\n",
       " </defs>\n",
       "</svg>\n"
      ],
      "text/plain": [
       "<Figure size 1000x1000 with 2 Axes>"
      ]
     },
     "metadata": {},
     "output_type": "display_data"
    }
   ],
   "source": [
    "fig, axes = plt.subplots(2, 1, figsize=(10, 10))\n",
    "\n",
    "# YOUR CODE HERE\n",
    "...\n",
    "\n",
    "axes[0].legend()\n",
    "axes[0].grid(True)\n",
    "axes[0].set_xlabel('Epoch')\n",
    "axes[0].set_title('CrossEntropy Loss')\n",
    "\n",
    "axes[1].legend()\n",
    "axes[1].grid(True)\n",
    "axes[1].set_xlabel('Epoch')\n",
    "axes[1].set_title('Accuracy')\n",
    "\n",
    "fig.tight_layout()\n",
    "plt.show()"
   ]
  },
  {
   "cell_type": "markdown",
   "metadata": {},
   "source": [
    "Сделайте итоговые выводы о качестве работы моделей с разными реализациями DropOut:"
   ]
  },
  {
   "cell_type": "markdown",
   "metadata": {},
   "source": [
    "**Ответ:**"
   ]
  },
  {
   "cell_type": "markdown",
   "metadata": {
    "collapsed": true
   },
   "source": [
    "## `Бонус. Zoneout (0.5 балла)`"
   ]
  },
  {
   "cell_type": "markdown",
   "metadata": {
    "collapsed": true
   },
   "source": [
    "Это еще одна модификация идеи дропаута применительно к рекуррентным нейросетям. В Zoneout на каждом временном шаге с вероятностью $p$ компонента скрытого состояния обновляется, а с вероятностью $1-p$ берется с предыдущего шага. \n",
    "В Виде формул ($m^t_h$ - бинарная маска):\n",
    " \n",
    "(сначала обычный рекуррентный переход, например LSTM)\n",
    "$$\n",
    "i = \\sigma(h_{t-1}W^i + x_t U^i+b_i) \\quad\n",
    "o = \\sigma(h_{t-1}W^o + x_t U^o+b_o) \n",
    "$$\n",
    "$$\n",
    "f = \\sigma(h_{t-1}W^f + x_t U^f+b_f) \\quad \n",
    "g = tanh(h_{t-1} W^g + x_t U^g+b_g) \n",
    "$$\n",
    "$$\n",
    "c_t = f \\odot c_{t-1} +  i \\odot  g \\quad\n",
    "h_t =  o \\odot tanh(c_t)\n",
    "$$\n",
    "Затем Zoneout:\n",
    "$$\n",
    "h_t = h_t * m_h^t + h_{t-1}*(1-m_h^t)\n",
    "$$\n",
    "В этом методе маска уже должна быть разная во все моменты времени (иначе метод упрощается до дропаута Гала и Гарамани). На входы $x_t$ вновь можно накладывать маску до начала работы рекуррентного слоя.  \n",
    "\n",
    "Если у вас осталось время, вы можете реализовать этот метод. Выберите основу из трех рассмотренных случаев самостоятельно.\n",
    "\n",
    "**Полный балл ставится только при наличии качественного и количественного сравнения с предыдущими моделями.**"
   ]
  },
  {
   "cell_type": "markdown",
   "metadata": {
    "ExecuteTime": {
     "end_time": "2021-03-31T16:05:00.702763Z",
     "start_time": "2021-03-31T16:05:00.674835Z"
    }
   },
   "source": [
    "# `Часть 2. Language Modeling с помощью LSTM (5 баллов)`"
   ]
  },
  {
   "cell_type": "markdown",
   "metadata": {},
   "source": [
    "Во второй части мы попробуем обучить модель для генерации отзывов по их началу."
   ]
  },
  {
   "cell_type": "markdown",
   "metadata": {},
   "source": [
    "Концептуально модель будет выглядеть следующим образом:\n",
    "    \n",
    "![image info](https://blog.feedly.com/wp-content/uploads/2019/03/Screen-Shot-2019-03-06-at-12.08.35-PM.png)"
   ]
  },
  {
   "cell_type": "markdown",
   "metadata": {},
   "source": [
    "В процессе обучения будем тренировать сеть предсказывать вероятность следующего символа при условии всех предыдущих. Эту вероятность можно моделировать с помощью скрытого состояния $h^{(t)}$ пропуская его через линейный слой с выходной размерностью равной размерности словаря:\n",
    "$$\n",
    "p(x^{t}|x^{t-1}, ..., x^{1}) = SoftMax(Linear(h^{(t)}))\n",
    "$$"
   ]
  },
  {
   "cell_type": "markdown",
   "metadata": {},
   "source": [
    "Обратите внимание, что для вычисления $p(x^{t}|x^{t-1}, ..., x^{1})$ для всех моментов времени достаточно сделать один проход по RNN, а затем применить линейное преобразование ко всем скрытым состояниям."
   ]
  },
  {
   "cell_type": "markdown",
   "metadata": {
    "ExecuteTime": {
     "end_time": "2021-04-02T00:37:56.100520Z",
     "start_time": "2021-04-02T00:37:56.072747Z"
    }
   },
   "source": [
    "В качестве функции потерь необходимо использовать `CrossEntropy`."
   ]
  },
  {
   "cell_type": "markdown",
   "metadata": {},
   "source": [
    "Рассмотрим другой важный момент. Для того, чтобы решить данную задачу, модель должна уметь определять момент начала генерации предложения и оповещать о завершении генерации — конце предложения. Для этого добавим в словарь вспомогательные токены `<sos>`, `<eos>`. Добавив `<sos>` в начало каждого предложения и `<eos>` в конец.\n",
    "\n",
    "Модель сможет начинать генерацию как только ей будет передан токен `<sos>` и заканчивать генерацию, как только на очередном месте самым вероятным токеном оказывается `<eos>`."
   ]
  },
  {
   "cell_type": "markdown",
   "metadata": {},
   "source": [
    "Для решения этой задачи мы воспользуемся уже реализованной LSTM с дропаутом `FastRNNLayer` и классом `RNNClassifier`, то есть архитектура сети принципиально не поменяется. "
   ]
  },
  {
   "cell_type": "markdown",
   "metadata": {},
   "source": [
    "## `Реализация модели и цикла обучения (2 балла)`"
   ]
  },
  {
   "cell_type": "markdown",
   "metadata": {},
   "source": [
    "**Не используйте циклы в `RNNLM`, `LMCrossEntropyLoss`, `LMAccuracy`**"
   ]
  },
  {
   "cell_type": "code",
   "execution_count": 46,
   "metadata": {
    "ExecuteTime": {
     "end_time": "2024-03-30T22:43:32.296358Z",
     "start_time": "2024-03-30T22:43:32.292787Z"
    }
   },
   "outputs": [],
   "source": [
    "class RNNLM(RNNClassifier):\n",
    "    def __init__(\n",
    "        self, embedding_dim, hidden_dim, vocab, dropout=0.5, layers_dropout=0.5, num_layers=1\n",
    "    ):\n",
    "        super().__init__(\n",
    "            embedding_dim=embedding_dim, hidden_dim=hidden_dim, output_size=len(vocab), vocab=vocab,\n",
    "            rec_layer=FastRNNLayer, dropout=dropout, layers_dropout=layers_dropout, num_layers=num_layers\n",
    "        )\n",
    "    \n",
    "    def forward(self, tokens, tokens_lens):\n",
    "        \"\"\"\n",
    "        :param torch.Tensor(dtype=torch.long) tokens: \n",
    "            Batch of texts represented with tokens. Shape: [T, B]\n",
    "        :param torch.Tensor(dtype=torch.long) tokens_lens: \n",
    "            Number of non-padding tokens for each object in batch. Shape: [B]\n",
    "        :return torch.Tensor: \n",
    "            Distribution of next token for each time step. Shape: [T, B, V], V — size of vocabulary\n",
    "        \"\"\"\n",
    "        # Make embeddings for all tokens\n",
    "        # YOUR CODE HERE\n",
    "        ...\n",
    "        \n",
    "        # Forward pass embeddings through network\n",
    "        # YOUR CODE HERE\n",
    "        ...\n",
    "        \n",
    "        # Take all hidden states from the last layer of LSTM for each step and perform linear transformation\n",
    "        # YOUR CODE HERE\n",
    "        ..."
   ]
  },
  {
   "cell_type": "markdown",
   "metadata": {},
   "source": [
    "Реализуем функцию потерь для данной задачи. \n",
    "\n",
    "Моменты на которые нужно обратить внимание:\n",
    "1. Распределение вероятности следующего токена для последнего токена в последовательности не участвует в подсчёте функции потерь.\n",
    "2. Необходимо учитывать, что в одном батче могут быть тексты разной длины."
   ]
  },
  {
   "cell_type": "markdown",
   "metadata": {},
   "source": [
    "Для решения второй проблемы можно воспользоваться функцией `torch.nn.utils.rnn.pack_padded_sequence`. \n",
    "\n",
    "Принимая на вход батч тензоров и длину каждого тензора без учёта паддинга эта функция позволяет получить все элементы в тензорах, которые не относятся к паддингу в виде плоского массива:"
   ]
  },
  {
   "cell_type": "code",
   "execution_count": 47,
   "metadata": {
    "ExecuteTime": {
     "end_time": "2024-03-30T22:43:32.679509Z",
     "start_time": "2024-03-30T22:43:32.676456Z"
    }
   },
   "outputs": [],
   "source": [
    "padded_tensors = torch.tensor([\n",
    "    [[1, 11, 111], [2, 22, 222], [3, 33, 333]],\n",
    "    [[4, 44, 444], [5, 55, 555], [6, 66, 666]],\n",
    "    [[7, 77, 777], [0, 0, 0], [8, 88, 888]],\n",
    "    [[9, 99, 999], [0, 0, 0], [0, 0, 0]]\n",
    "])\n",
    "tensors_lens = torch.tensor([4, 2, 3])"
   ]
  },
  {
   "cell_type": "markdown",
   "metadata": {},
   "source": [
    "Обратите внимание, что `torch.nn.utils.rnn.pack_padded_sequence` автоматически переупорядочивает тензоры в батче по убыванию их длины."
   ]
  },
  {
   "cell_type": "code",
   "execution_count": 48,
   "metadata": {
    "ExecuteTime": {
     "end_time": "2024-03-30T22:43:32.986692Z",
     "start_time": "2024-03-30T22:43:32.982235Z"
    }
   },
   "outputs": [
    {
     "data": {
      "text/plain": [
       "PackedSequence(data=tensor([[  1,  11, 111],\n",
       "        [  3,  33, 333],\n",
       "        [  2,  22, 222],\n",
       "        [  4,  44, 444],\n",
       "        [  6,  66, 666],\n",
       "        [  5,  55, 555],\n",
       "        [  7,  77, 777],\n",
       "        [  8,  88, 888],\n",
       "        [  9,  99, 999]]), batch_sizes=tensor([3, 3, 2, 1]), sorted_indices=tensor([0, 2, 1]), unsorted_indices=tensor([0, 2, 1]))"
      ]
     },
     "execution_count": 48,
     "metadata": {},
     "output_type": "execute_result"
    }
   ],
   "source": [
    "torch.nn.utils.rnn.pack_padded_sequence(padded_tensors, tensors_lens, batch_first=False, enforce_sorted=False)"
   ]
  },
  {
   "cell_type": "code",
   "execution_count": 49,
   "metadata": {
    "ExecuteTime": {
     "end_time": "2024-03-30T22:43:33.678363Z",
     "start_time": "2024-03-30T22:43:33.675046Z"
    }
   },
   "outputs": [],
   "source": [
    "class LMCrossEntropyLoss(torch.nn.CrossEntropyLoss):\n",
    "    def __init__(self, *args, **kwargs):\n",
    "        super().__init__(*args, **kwargs)\n",
    "        \n",
    "    def forward(self, outputs, tokens, tokens_lens):\n",
    "        \"\"\"\n",
    "        :param torch.Tensor outputs: Output from RNNLM.forward. Shape: [T, B, V]\n",
    "        :param torch.Tensor tokens: Batch of tokens. Shape: [T, B]\n",
    "        :param torch.Tensor tokens_lens: Length of each sequence in batch\n",
    "        :return torch.Tensor: CrossEntropyLoss between corresponding logits and tokens\n",
    "        \"\"\"\n",
    "        # Use torch.nn.utils.rnn.pack_padded_sequence().data to remove padding and flatten logits and tokens\n",
    "        # Do not forget specify enforce_sorted=False and correct value of batch_first \n",
    "        # YOUR CODE HERE\n",
    "        packed_outputs = ...\n",
    "        packed_tokens = ...\n",
    "        \n",
    "        # Use super().forward(..., ...) to compute CrossEntropyLoss\n",
    "        # YOUR CODE HERE\n",
    "        ..."
   ]
  },
  {
   "cell_type": "markdown",
   "metadata": {},
   "source": [
    "Для оценки качества нам также необходимо вычислять долю правильно предсказанных токенов. Реализуйте класс для вычисления точности."
   ]
  },
  {
   "cell_type": "code",
   "execution_count": 50,
   "metadata": {
    "ExecuteTime": {
     "end_time": "2024-03-30T22:43:34.348345Z",
     "start_time": "2024-03-30T22:43:34.343850Z"
    }
   },
   "outputs": [],
   "source": [
    "class LMAccuracy(torch.nn.Module):\n",
    "    def __init__(self):\n",
    "        super().__init__()\n",
    "        \n",
    "    def forward(self, outputs, tokens, tokens_lens):\n",
    "        \"\"\"\n",
    "        :param torch.Tensor outputs: Output from RNNLM.forward. Shape: [T, B, V]\n",
    "        :param torch.Tensor tokens: Batch of tokens. Shape: [T, B]\n",
    "        :param torch.Tensor tokens_lens: Length of each sequence in batch\n",
    "        :return torch.Tensor: Accuracy for given logits and tokens\n",
    "        \"\"\"\n",
    "        # Use torch.nn.utils.rnn.pack_padded_sequence().data to remove padding and flatten logits and tokens\n",
    "        # Do not forget specify enforce_sorted=False and correct value of batch_first \n",
    "        # YOUR CODE HERE\n",
    "        packed_outputs = ...\n",
    "        packed_tokens = ...\n",
    "        ..."
   ]
  },
  {
   "cell_type": "markdown",
   "metadata": {},
   "source": [
    "Модифицируйте функции `train_epoch`, `evaluate`, `train` для обучения LM.\n",
    "\n",
    "**При вычислении точности, обратите внимание на то, что мы не предсказываем первый токен в каждой последовательности и токены, относящиеся к паддингу.**"
   ]
  },
  {
   "cell_type": "code",
   "execution_count": 51,
   "metadata": {
    "ExecuteTime": {
     "end_time": "2024-03-30T22:43:35.025284Z",
     "start_time": "2024-03-30T22:43:35.019283Z"
    }
   },
   "outputs": [],
   "source": [
    "def train_epoch_lm(dataloader, model, loss_fn, optimizer, device):\n",
    "    model.train()\n",
    "    for idx, data in enumerate(dataloader):\n",
    "        # 1. Take data from batch\n",
    "        # 2. Perform forward pass\n",
    "        # 3. Evaluate loss\n",
    "        # 4. Make optimizer step\n",
    "        # YOUR CODE HERE\n",
    "        ...\n",
    "    \n",
    "def evaluate_lm(dataloader, model, loss_fn, device):\n",
    "    model.eval()\n",
    "    \n",
    "    total_tokens = 0\n",
    "    total_loss = 0.0\n",
    "    total_accuracy = 0.0\n",
    "    \n",
    "    accuracy_fn = LMAccuracy()\n",
    "    with torch.no_grad():\n",
    "        for idx, data in enumerate(dataloader):\n",
    "            # 1. Take data from batch\n",
    "            # 2. Perform forward pass\n",
    "            # 3. Evaluate loss\n",
    "            # 4. Evaluate accuracy\n",
    "            # YOUR CODE HERE\n",
    "            ...\n",
    "            \n",
    "    return total_loss / total_tokens, total_accuracy / total_tokens\n",
    "\n",
    "def train_lm(\n",
    "    train_loader, test_loader, model, loss_fn, optimizer, device, num_epochs\n",
    "):\n",
    "    test_losses = []\n",
    "    train_losses = []\n",
    "    test_accuracies = []\n",
    "    train_accuracies = []\n",
    "    for epoch in range(num_epochs):\n",
    "        train_epoch_lm(train_loader, model, loss_fn, optimizer, device)\n",
    "        \n",
    "        train_loss, train_acc = evaluate_lm(train_loader, model, loss_fn, device)\n",
    "        train_accuracies.append(train_acc)\n",
    "        train_losses.append(train_loss)\n",
    "        \n",
    "        test_loss, test_acc = evaluate_lm(test_loader, model, loss_fn, device)\n",
    "        test_accuracies.append(test_acc)\n",
    "        test_losses.append(test_loss)\n",
    "        \n",
    "        print(\n",
    "            'Epoch: {0:d}/{1:d}. Loss (Train/Test): {2:.3f}/{3:.3f}. Accuracy (Train/Test): {4:.3f}/{5:.3f}'.format(\n",
    "                epoch + 1, num_epochs, train_losses[-1], test_losses[-1], train_accuracies[-1], test_accuracies[-1]\n",
    "            )\n",
    "        )\n",
    "    return train_losses, train_accuracies, test_losses, test_accuracies"
   ]
  },
  {
   "cell_type": "markdown",
   "metadata": {},
   "source": [
    "Теперь у нас всё готово для обучения модели."
   ]
  },
  {
   "cell_type": "markdown",
   "metadata": {
    "ExecuteTime": {
     "end_time": "2021-04-02T01:06:12.736180Z",
     "start_time": "2021-04-02T01:06:12.708814Z"
    }
   },
   "source": [
    "Создадим словарь с `<sos>`, `<eos>` токенами.\n",
    "\n",
    "Обратите внимание, что в отличие от классификации текстов нам необходимо значительно увеличить размер словаря, чтобы доля `<unk>` токенов была не велика.\n",
    "\n",
    "Так же, так как задача генерации значительно сложнее задачи классификации текстов будем обучать модель только на префиксах рецензий длины $20$. Это позволяет значительно ускорить обучение."
   ]
  },
  {
   "cell_type": "code",
   "execution_count": 52,
   "metadata": {
    "ExecuteTime": {
     "end_time": "2024-03-30T22:43:35.906116Z",
     "start_time": "2024-03-30T22:43:35.859122Z"
    }
   },
   "outputs": [],
   "source": [
    "specials = ['<pad>', '<unk>', '<sos>', '<eos>']\n",
    "for special in specials:\n",
    "    counter[special] = 0\n",
    "# min_freq=8 is approximately equivalent to max_size=30000. \n",
    "#   You can lower min_freq in order to make model vocabulary more diverse \n",
    "lm_vocab = torchtext.vocab.vocab(counter, specials=specials, special_first=True, min_freq=8)\n",
    "lm_vocab.set_default_index(vocab['<unk>'])"
   ]
  },
  {
   "cell_type": "code",
   "execution_count": 53,
   "metadata": {
    "ExecuteTime": {
     "end_time": "2024-03-30T22:43:49.510042Z",
     "start_time": "2024-03-30T22:43:36.069005Z"
    }
   },
   "outputs": [],
   "source": [
    "lm_test_dataset = LargeMovieReviewDataset(test_data_path, lm_vocab, max_len=20, pad_sos=True, pad_eos=True)\n",
    "lm_train_dataset = LargeMovieReviewDataset(train_data_path, lm_vocab, max_len=20, pad_sos=True, pad_eos=True)"
   ]
  },
  {
   "cell_type": "markdown",
   "metadata": {},
   "source": [
    "Создадим даталоадеры для тестовой и обучающей выборок:"
   ]
  },
  {
   "cell_type": "code",
   "execution_count": 54,
   "metadata": {
    "ExecuteTime": {
     "end_time": "2024-03-30T22:43:49.514599Z",
     "start_time": "2024-03-30T22:43:49.511905Z"
    }
   },
   "outputs": [],
   "source": [
    "lm_test_dataloader = DataLoader(\n",
    "    lm_test_dataset, batch_size=196, shuffle=False, num_workers=4, \n",
    "    collate_fn=partial(collate_fn, padding_value=lm_vocab.lookup_indices(['<pad>'])[0])\n",
    ")\n",
    "lm_train_dataloader = DataLoader(\n",
    "    lm_train_dataset, batch_size=196, shuffle=True, num_workers=4, \n",
    "    collate_fn=partial(collate_fn, padding_value=lm_vocab.lookup_indices(['<pad>'])[0])\n",
    ")"
   ]
  },
  {
   "cell_type": "markdown",
   "metadata": {},
   "source": [
    "Убедитесь, что все предложения имеют в начале `<sos>` токен, а в конце — `<eos>` токен."
   ]
  },
  {
   "cell_type": "code",
   "execution_count": 55,
   "metadata": {
    "ExecuteTime": {
     "end_time": "2024-03-30T22:43:49.750508Z",
     "start_time": "2024-03-30T22:43:49.516160Z"
    }
   },
   "outputs": [
    {
     "data": {
      "text/plain": [
       "(tensor([[    2,     2,     2,  ...,     2,     2,     2],\n",
       "         [  664,   730,    97,  ...,  3233,   984,  4069],\n",
       "         [11914,    98,    39,  ..., 21252,   984,  7490],\n",
       "         ...,\n",
       "         [ 5460,   204,  3413,  ...,  1666,    98,  4209],\n",
       "         [ 1014,   830,     1,  ...,   422,    72,  3609],\n",
       "         [    3,     3,     3,  ...,     3,     3,     3]]),\n",
       " tensor([20, 20, 20, 20, 20, 20, 20, 20, 20, 20, 20, 20, 20, 20, 20, 20, 20, 20,\n",
       "         20, 20, 20, 20, 20, 20, 20, 20, 20, 20, 20, 20, 20, 20, 20, 20, 20, 20,\n",
       "         20, 20, 20, 20, 20, 20, 20, 20, 20, 20, 20, 20, 20, 20, 20, 20, 20, 20,\n",
       "         20, 20, 20, 20, 20, 20, 20, 20, 20, 20, 20, 20, 20, 20, 20, 20, 20, 20,\n",
       "         20, 20, 20, 20, 20, 20, 20, 20, 20, 20, 20, 20, 16, 20, 20, 20, 20, 20,\n",
       "         20, 20, 20, 20, 20, 20, 20, 20, 20, 20, 20, 20, 20, 20, 20, 20, 20, 20,\n",
       "         20, 20, 20, 20, 20, 20, 20, 20, 20, 20, 20, 20, 20, 20, 20, 20, 20, 20,\n",
       "         20, 20, 20, 20, 20, 20, 20, 20, 20, 20, 20, 20, 20, 20, 20, 20, 20, 20,\n",
       "         20, 20, 20, 20, 20, 20, 20, 20, 20, 20, 20, 20, 20, 20, 20, 20, 20, 20,\n",
       "         20, 20, 20, 20, 20, 20, 20, 20, 20, 20, 20, 20, 20, 20, 20, 20, 20, 20,\n",
       "         20, 20, 20, 20, 20, 20, 20, 20, 20, 20, 20, 20, 20, 20, 20, 20]))"
      ]
     },
     "execution_count": 55,
     "metadata": {},
     "output_type": "execute_result"
    }
   ],
   "source": [
    "batch = next(iter(lm_train_dataloader))\n",
    "batch['tokens'], batch['tokens_lens']"
   ]
  },
  {
   "cell_type": "markdown",
   "metadata": {},
   "source": [
    "Создадим модель, функцию потерь и оптимизатор: "
   ]
  },
  {
   "cell_type": "code",
   "execution_count": 60,
   "metadata": {
    "ExecuteTime": {
     "end_time": "2024-03-30T22:44:12.583751Z",
     "start_time": "2024-03-30T22:44:12.396308Z"
    }
   },
   "outputs": [],
   "source": [
    "lm_model = RNNLM(\n",
    "    embedding_dim=512, hidden_dim=512, vocab=lm_vocab, dropout=0.6, layers_dropout=0.6, num_layers=2\n",
    ").to(device=device)"
   ]
  },
  {
   "cell_type": "code",
   "execution_count": 61,
   "metadata": {
    "ExecuteTime": {
     "end_time": "2024-03-30T22:44:13.200355Z",
     "start_time": "2024-03-30T22:44:13.197422Z"
    }
   },
   "outputs": [],
   "source": [
    "lm_loss_fn = LMCrossEntropyLoss(reduction='mean')\n",
    "lm_optimizer = torch.optim.Adam(lm_model.parameters(), lr=0.005, weight_decay=1.2e-6)"
   ]
  },
  {
   "cell_type": "markdown",
   "metadata": {},
   "source": [
    "Обучим модель:"
   ]
  },
  {
   "cell_type": "code",
   "execution_count": 58,
   "metadata": {
    "ExecuteTime": {
     "end_time": "2024-03-30T22:43:49.959423Z",
     "start_time": "2024-03-30T22:43:49.950621Z"
    }
   },
   "outputs": [],
   "source": [
    "lm_model = torch.compile(lm_model)"
   ]
  },
  {
   "cell_type": "code",
   "execution_count": 62,
   "metadata": {
    "ExecuteTime": {
     "end_time": "2024-03-30T22:45:24.729739Z",
     "start_time": "2024-03-30T22:44:15.095894Z"
    }
   },
   "outputs": [
    {
     "name": "stdout",
     "output_type": "stream",
     "text": [
      "Epoch: 1/10. Loss (Train/Test): 7.614/7.744. Accuracy (Train/Test): 0.074/0.074\n",
      "Epoch: 2/10. Loss (Train/Test): 7.507/7.671. Accuracy (Train/Test): 0.080/0.080\n",
      "Epoch: 3/10. Loss (Train/Test): 7.366/7.586. Accuracy (Train/Test): 0.086/0.086\n",
      "Epoch: 4/10. Loss (Train/Test): 7.198/7.497. Accuracy (Train/Test): 0.091/0.090\n",
      "Epoch: 5/10. Loss (Train/Test): 7.033/7.439. Accuracy (Train/Test): 0.093/0.092\n",
      "Epoch: 6/10. Loss (Train/Test): 6.914/7.425. Accuracy (Train/Test): 0.096/0.094\n",
      "Epoch: 7/10. Loss (Train/Test): 6.693/7.369. Accuracy (Train/Test): 0.101/0.098\n",
      "Epoch: 8/10. Loss (Train/Test): 6.526/7.360. Accuracy (Train/Test): 0.104/0.100\n",
      "Epoch: 9/10. Loss (Train/Test): 6.360/7.375. Accuracy (Train/Test): 0.109/0.102\n",
      "Epoch: 10/10. Loss (Train/Test): 6.186/7.385. Accuracy (Train/Test): 0.115/0.105\n"
     ]
    }
   ],
   "source": [
    "lm_train_losses, lm_train_accuracies, lm_test_losses, lm_test_accuracies = train_lm(\n",
    "    lm_train_dataloader, lm_test_dataloader, lm_model, lm_loss_fn, lm_optimizer, device, 10\n",
    ")"
   ]
  },
  {
   "cell_type": "markdown",
   "metadata": {},
   "source": [
    "## `Реализация декодера (1 балл)`"
   ]
  },
  {
   "cell_type": "markdown",
   "metadata": {},
   "source": [
    "Теперь, реализуем последнюю деталь — декодирование с использованием обученной модели.\n",
    "Есть несколько вариантов. Рассмотрим два самых простых:\n",
    "1. **Жадное декодирование.** На каждом шаге мы выбираем токен с максимальной вероятностью и используем его для обновления скрытого состояния RNN.\n",
    "2. **Top-k sampling.** На очередном шаге рассматриваются $k$ токенов с самыми большими вероятностями. Остальные токены игнорируются. Из выбранных токенов семплируется следующий токен пропорционально их вероятностям.\n",
    "\n",
    "Прочитать подробнее про разные варианты декодирования можно по ссылкам:\n",
    "1. [От huggingface](https://huggingface.co/blog/how-to-generate)\n",
    "2. [На towardsdatascience](https://towardsdatascience.com/decoding-strategies-that-you-need-to-know-for-response-generation-ba95ee0faadc)"
   ]
  },
  {
   "cell_type": "markdown",
   "metadata": {},
   "source": [
    "Существенным в процессе декодирования является критерий останова. Как только очередной самый вероятный символ оказался `<eos>`, то данная последовательность считается сгенерированной. Однако, может так оказаться, что `<eos>` никогда не будет выбран, тогда необходимо прекратить генерацию, как только длина последовательности перейдёт порог `max_generated_len`."
   ]
  },
  {
   "cell_type": "code",
   "execution_count": 63,
   "metadata": {
    "ExecuteTime": {
     "end_time": "2024-03-30T22:46:24.344570Z",
     "start_time": "2024-03-30T22:46:24.337751Z"
    }
   },
   "outputs": [],
   "source": [
    "@torch.no_grad()\n",
    "def decode(model, start_tokens, start_tokens_lens, max_generated_len=20, top_k=None):\n",
    "    \"\"\"\n",
    "    :param RNNLM model: Model\n",
    "    :param torch.Tensor start_tokens: Batch of seed tokens. Shape: [T, B]\n",
    "    :param torch.Tensor start_tokens_lens: Length of each sequence in batch. Shape: [B]\n",
    "    :param int max_generated_len: Maximum lenght of generated samples\n",
    "    :param Optional[int] top_k: Number of tokens with the largest probability to sample from\n",
    "    :return Tuple[torch.Tensor, torch.Tensor]. \n",
    "        Newly predicted tokens and length of generated part. Shape [T*, B], [B]\n",
    "    \"\"\"\n",
    "    # Get embedding for start_tokens\n",
    "    # YOUR CODE HERE\n",
    "    embedding = ...\n",
    "    \n",
    "    # Pass embedding through rnn and collect hidden states and cell states for each time moment\n",
    "    all_h, all_c = [], []\n",
    "    h = embedding.new_zeros([model.rnn.num_layers, start_tokens.shape[1], model.hidden_dim])\n",
    "    c = embedding.new_zeros([model.rnn.num_layers, start_tokens.shape[1], model.hidden_dim])\n",
    "    for time_step in range(start_tokens.shape[0]):\n",
    "        # YOUR CODE HERE\n",
    "        ...\n",
    "    \n",
    "    all_h = torch.stack(all_h, dim=1)\n",
    "    all_c = torch.stack(all_c, dim=1)\n",
    "    # Take final hidden state and cell state for each start sequence in batch\n",
    "    # We will use them as h_0, c_0 for generation new tokens\n",
    "    h = all_h[:, start_tokens_lens - 1, torch.arange(start_tokens_lens.shape[0])]\n",
    "    c = all_c[:, start_tokens_lens - 1, torch.arange(start_tokens_lens.shape[0])]\n",
    "    \n",
    "    # List of predicted tokens for each time step\n",
    "    predicted_tokens = []\n",
    "    # Length of generated part for each object in the batch\n",
    "    decoded_lens = torch.zeros_like(start_tokens_lens, dtype=torch.long)\n",
    "    # Boolean mask where we store if the sequence has already generated\n",
    "    # i.e. `<eos>` was selected on any step\n",
    "    is_finished_decoding = torch.zeros_like(start_tokens_lens, dtype=torch.bool)\n",
    "    \n",
    "    # Stop when all sequences in the batch are finished\n",
    "    while not torch.all(is_finished_decoding) and torch.max(decoded_lens) < max_generated_len:\n",
    "        # Evaluate next token distribution using hidden state h.\n",
    "        # Note. Over first dimension h has hidden states for each layer of LSTM.\n",
    "        #     We must use hidden state from the last layer\n",
    "        # YOUR CODE HERE\n",
    "        logits = ...\n",
    "        \n",
    "        if top_k is not None:\n",
    "            # Top-k sampling. Use only top-k most probable logits to sample next token\n",
    "            indices_to_remove = logits < torch.topk(logits, top_k)[0][..., -1, None]\n",
    "            # Mask non top-k logits\n",
    "            logits[indices_to_remove] = -1e10\n",
    "            # Sample next_token. \n",
    "            # YOUR CODE HERE\n",
    "            next_token = ...\n",
    "        else:\n",
    "            # Select most probable token\n",
    "            # YOUR CODE HERE\n",
    "            next_token = ...\n",
    "            \n",
    "        predicted_tokens.append(next_token)\n",
    "        \n",
    "        decoded_lens += (~is_finished_decoding)\n",
    "        is_finished_decoding |= (next_token == torch.tensor(model.vocab.lookup_indices(['<eos>'])[0]))\n",
    "\n",
    "        # Compute embedding for next token\n",
    "        # YOUR CODE HERE\n",
    "        ...\n",
    "        \n",
    "        # Update hidden and cell states\n",
    "        # YOUR CODE HERE\n",
    "        ...\n",
    "        \n",
    "    return torch.stack(predicted_tokens), decoded_lens"
   ]
  },
  {
   "cell_type": "markdown",
   "metadata": {
    "ExecuteTime": {
     "end_time": "2021-04-02T01:38:06.232189Z",
     "start_time": "2021-04-02T01:38:06.205413Z"
    }
   },
   "source": [
    "Попробуем сгенерировать продолжения для нескольких префиксов:"
   ]
  },
  {
   "cell_type": "code",
   "execution_count": 64,
   "metadata": {
    "ExecuteTime": {
     "end_time": "2024-03-30T22:46:25.138264Z",
     "start_time": "2024-03-30T22:46:25.135301Z"
    }
   },
   "outputs": [],
   "source": [
    "start_tokens = torch.tensor([\n",
    "    lm_model.vocab.lookup_indices(['<sos>', '<pad>', '<pad>', '<pad>']),\n",
    "    lm_model.vocab.lookup_indices(['<sos>', 'my', 'favorite', 'movie']),\n",
    "    lm_model.vocab.lookup_indices(['<sos>', 'the', 'best', 'movie']),\n",
    "    lm_model.vocab.lookup_indices(['<sos>', 'the', 'worst', 'movie']),\n",
    "]).T\n",
    "\n",
    "start_tokens_lens = torch.tensor([1, 4, 4, 4])"
   ]
  },
  {
   "cell_type": "code",
   "execution_count": 65,
   "metadata": {
    "ExecuteTime": {
     "end_time": "2024-03-30T22:46:25.775584Z",
     "start_time": "2024-03-30T22:46:25.524089Z"
    }
   },
   "outputs": [],
   "source": [
    "lm_model = lm_model.cpu()\n",
    "lm_model.eval()\n",
    "decoded_tokens, decoded_lens = decode(lm_model, start_tokens, start_tokens_lens, max_generated_len=10, top_k=5)"
   ]
  },
  {
   "cell_type": "code",
   "execution_count": 66,
   "metadata": {
    "ExecuteTime": {
     "end_time": "2024-03-30T22:46:25.826630Z",
     "start_time": "2024-03-30T22:46:25.777128Z"
    }
   },
   "outputs": [
    {
     "data": {
      "text/markdown": [
       "<div class=\"alert alert-block alert-info\"> <b>&lt;sos&gt; movie bad bad bad movies seen long time see one</b></div>"
      ],
      "text/plain": [
       "<IPython.core.display.Markdown object>"
      ]
     },
     "metadata": {},
     "output_type": "display_data"
    },
    {
     "data": {
      "text/markdown": [
       "<div class=\"alert alert-block alert-info\"> <b>&lt;sos&gt; &lt;unk&gt; favorite movie time years old man really liked movie one best films</b></div>"
      ],
      "text/plain": [
       "<IPython.core.display.Markdown object>"
      ]
     },
     "metadata": {},
     "output_type": "display_data"
    },
    {
     "data": {
      "text/markdown": [
       "<div class=\"alert alert-block alert-info\"> <b>&lt;sos&gt; &lt;unk&gt; best movie ever seen one best movies ever seen one best movies</b></div>"
      ],
      "text/plain": [
       "<IPython.core.display.Markdown object>"
      ]
     },
     "metadata": {},
     "output_type": "display_data"
    },
    {
     "data": {
      "text/markdown": [
       "<div class=\"alert alert-block alert-info\"> <b>&lt;sos&gt; &lt;unk&gt; worst movie ever seen life bad acting bad plot bad acting bad</b></div>"
      ],
      "text/plain": [
       "<IPython.core.display.Markdown object>"
      ]
     },
     "metadata": {},
     "output_type": "display_data"
    }
   ],
   "source": [
    "for text_idx in range(start_tokens.shape[1]):\n",
    "    decoded_text_tokens = decoded_tokens[:decoded_lens[text_idx], text_idx]\n",
    "    tokens = start_tokens[:start_tokens_lens[text_idx], text_idx].tolist() + decoded_text_tokens.tolist()\n",
    "    words = np.array(lm_model.vocab.get_itos())[np.array(tokens)]\n",
    "    \n",
    "    text = ' '.join(words).replace('<', '&lt;').replace('>', '&gt;')\n",
    "    display(Markdown(f'<div class=\"alert alert-block alert-info\"> <b>{text}</b></div>'))"
   ]
  },
  {
   "cell_type": "markdown",
   "metadata": {},
   "source": [
    "Попробуйте выполнить семплирование для разных $k$. Сравните результаты top-k семплирования с жадным декодированием. Опишите ваши наблюдения."
   ]
  },
  {
   "cell_type": "code",
   "execution_count": 67,
   "metadata": {
    "ExecuteTime": {
     "end_time": "2024-03-30T22:46:28.556188Z",
     "start_time": "2024-03-30T22:46:28.553997Z"
    }
   },
   "outputs": [],
   "source": [
    "# YOUR CODE HERE"
   ]
  },
  {
   "cell_type": "markdown",
   "metadata": {},
   "source": [
    "**Ответ:**"
   ]
  },
  {
   "cell_type": "markdown",
   "metadata": {},
   "source": [
    "## `Beam Search (2 балла)`"
   ]
  },
  {
   "cell_type": "markdown",
   "metadata": {},
   "source": [
    "Рассмотрим более продвинутый алгоритм для декодирования. Реализуйте алгоритм Beam Search."
   ]
  },
  {
   "cell_type": "markdown",
   "metadata": {},
   "source": [
    "Несколько замечаний по имплементации:\n",
    "\n",
    "1. При больших размерах `beam_size` число гипотез ($B \\times \\text{beam\\_size}$) на очередном шаге может быть слишком большим. Поэтому может потребоваться разбить все гипотезы на отдельные батчи и делать forward-pass в несколько итераций. Используйте [`torch.split`](https://pytorch.org/docs/stable/generated/torch.split.html)\n",
    "2. Для выбора лучших гипотез используйте [`torch.topk`](https://pytorch.org/docs/stable/generated/torch.topk.html). Обратите внимание на индексы, которые возвращает эта функция (может пригодиться метод [`torch.remainder`](https://pytorch.org/docs/stable/generated/torch.remainder.html))\n",
    "3. Можно отслеживать, какие элементы в батче (или какие гипотезы) закончили генерацию. Делая forward-pass только для незавершённых гипотез, можно ускорить декодинг, однако, это усложнит реализацию"
   ]
  },
  {
   "cell_type": "code",
   "execution_count": 68,
   "metadata": {
    "ExecuteTime": {
     "end_time": "2024-03-30T22:46:29.834960Z",
     "start_time": "2024-03-30T22:46:29.824795Z"
    }
   },
   "outputs": [],
   "source": [
    "@torch.no_grad()\n",
    "def decode_beam_search(model, start_tokens, start_tokens_lens, max_generated_len=20, beam_size=5):\n",
    "    \"\"\"\n",
    "    :param RNNLM model: Model\n",
    "    :param torch.Tensor start_tokens: Batch of seed tokens. Shape: [T, B]\n",
    "    :param torch.Tensor start_tokens_lens: Length of each sequence in batch. Shape: [B]\n",
    "    :param int max_generated_len: Maximum length of generated samples\n",
    "    :param int beam_size: Size of beam\n",
    "    :return Tuple[torch.Tensor, torch.Tensor, torch.Tensor]. \n",
    "        Newly predicted tokens, lengths of generated parts and log probabilities for each hypotheses \n",
    "        Shape [T*, B, beam_size], [T*, beam_size], [T*, beam_size]\n",
    "    \"\"\"\n",
    "    \n",
    "    # L — number of RNN layers in the model, H — hidden size, BS — beam size\n",
    "    #\n",
    "    # 1. Make forward pass of start_tokens through the model. \n",
    "    #      Obtain the last cell and hidden state for each element in the batch \n",
    "    #          (i.e. tensors of shape [L, B, H])\n",
    "    #      Use those states as the initialization for each hypotheses in the beam \n",
    "    #          (i.e. tensors of shape [L, B * BS, H])\n",
    "    #      Initialize probabilities for each hypotheses in the beam with 1.0\n",
    "    #          (i.e. tensor of shape [B * BS])\n",
    "    #      Initialize vector that show whether hypothesis is finished\n",
    "    #          (i.e. tensor of shape [B * BS])\n",
    "    # 2. While all sequences do not end with <eos> and their length less than max_generated_len\n",
    "    #      1. Get probabilities for the next token for each hypothesis \n",
    "    #          (i.e. tensor of shape [B * BS, V])\n",
    "    #      2. Use those probabilities to compute probability for each extension of each hypothesis\n",
    "    #          (i.e. tensor of shape [B * BS, V])\n",
    "    #      3. For each element in the batch select new BS best hypotheses\n",
    "    #          Note, that some of the hypotheses on the previous step have been finished\n",
    "    #            so their probability should not change. So you have to select BS best hypotheses\n",
    "    #            among all extension of unfinished hypotheses and finished hypotheses\n",
    "    #          As a result you will have a new token for best extensions of unfinished hypotheses\n",
    "    #          For simplisity you can use <EOS> token if you select finished hypothesis in the beam\n",
    "    #            i.e. tensor of shape [B * BS] of indices for selected hypotheses and\n",
    "    #                 tensor of shape [B * BS] of extension tokens for each hypothesis\n",
    "    #      4. Update probabilities for each hypotheses and is_finished state for each hypothesis\n",
    "    #          Concat new tokens to the existing prefixes\n",
    "    #      5. Update hidden and cell state to correspond to the selected hypothesis\n",
    "\n",
    "    eos_idx = model.vocab.get_stoi()['<eos>']\n",
    "    \n",
    "    # Get embeddings for the start tokens\n",
    "    # YOUR CODE HERE\n",
    "    ...\n",
    "    \n",
    "    # Make forward pass through the RNN and \n",
    "    #   obtain the last cell and hidden state for each element in the batch\n",
    "    # YOUR CODE HERE\n",
    "    ...\n",
    "\n",
    "    start_h = ... # [L, B, H]\n",
    "    start_c = ... # [L, B, H]\n",
    "\n",
    "    # Use those states as the initialization for each hypotheses in the beam\n",
    "    # YOUR CODE HERE\n",
    "    ...\n",
    "    h = ... # [L, B * BS, H]\n",
    "    c = ... # [L, B * BS, H]\n",
    "    \n",
    "    # Select initial tokens for each hypotheses in the beam\n",
    "    #   Compute log probabilities and select top-beam_size tokens for each element\n",
    "    #   Use them to initialize beam search state\n",
    "    # YOUR CODE HERE\n",
    "    ...\n",
    "    \n",
    "    new_tokens = ... # [B * BS]\n",
    "    log_probas = ... # [B * BS]\n",
    "    hypotesis = ... # [1, B * BS]\n",
    "    \n",
    "    is_finished = ... # [B * BS]\n",
    "    decoded_lens = ... # [B * BS]\n",
    "\n",
    "    while not torch.all(is_finished) and hypotesis.shape[0] < max_generated_len:\n",
    "        # Get probabilities for the next token for each hypothesis\n",
    "        # YOUR CODE HERE\n",
    "        ...\n",
    "\n",
    "        next_token_log_probas = ... # [B * BS, V]\n",
    "        \n",
    "        # Use those probabilities to compute probability for each extension of each hypothesis\n",
    "        # YOUR CODE HERE\n",
    "        ...\n",
    "        extension_log_probas = ... # [B * BS, V]\n",
    "\n",
    "        # For each element in the batch select new BS best hypotheses\n",
    "        #   You can use loop over different beams\n",
    "        # YOUR CODE HERE\n",
    "        ...\n",
    "\n",
    "        # Update probabilities for each hypotheses and is_finished state and decoded_lens for each hypothesis\n",
    "        # YOUR CODE HERE\n",
    "        ...\n",
    "\n",
    "        # Concat new tokens to the existing prefixes\n",
    "        # YOUR CODE HERE\n",
    "        ...\n",
    "        \n",
    "        # Update hidden and cell state to correspond to the selected hypothesis\n",
    "        # YOUR CODE HERE\n",
    "        ...\n",
    "        \n",
    "    return (\n",
    "        hypotesis.view(-1, start_tokens.shape[1], beam_size), \n",
    "        decoded_lens.view(start_tokens.shape[1], beam_size),\n",
    "        log_probas.view(start_tokens.shape[1], beam_size)\n",
    "    )"
   ]
  },
  {
   "cell_type": "code",
   "execution_count": 69,
   "metadata": {
    "ExecuteTime": {
     "end_time": "2024-03-30T22:46:30.504262Z",
     "start_time": "2024-03-30T22:46:30.501331Z"
    }
   },
   "outputs": [],
   "source": [
    "start_tokens = torch.tensor([\n",
    "    lm_model.vocab.lookup_indices(['<sos>', '<pad>', '<pad>', '<pad>']),\n",
    "    lm_model.vocab.lookup_indices(['<sos>', 'my', 'favorite', 'movie']),\n",
    "    lm_model.vocab.lookup_indices(['<sos>', 'the', 'best', 'movie']),\n",
    "    lm_model.vocab.lookup_indices(['<sos>', 'the', 'worst', 'movie']),\n",
    "]).T\n",
    "\n",
    "start_tokens_lens = torch.tensor([1, 4, 4, 4])"
   ]
  },
  {
   "cell_type": "code",
   "execution_count": 70,
   "metadata": {
    "ExecuteTime": {
     "end_time": "2024-03-30T22:46:31.081687Z",
     "start_time": "2024-03-30T22:46:30.966597Z"
    }
   },
   "outputs": [],
   "source": [
    "lm_model.to(device).eval()\n",
    "start_tokens = start_tokens.to(device)\n",
    "start_tokens_lens = start_tokens_lens.to(device)"
   ]
  },
  {
   "cell_type": "code",
   "execution_count": 71,
   "metadata": {
    "ExecuteTime": {
     "end_time": "2024-03-30T22:46:31.910807Z",
     "start_time": "2024-03-30T22:46:31.646253Z"
    }
   },
   "outputs": [],
   "source": [
    "beam_size = 100\n",
    "decoded_tokens, decoded_lens, log_probas = decode_beam_search(\n",
    "    lm_model, start_tokens, start_tokens_lens, max_generated_len=10, beam_size=beam_size\n",
    ")"
   ]
  },
  {
   "cell_type": "code",
   "execution_count": 72,
   "metadata": {
    "ExecuteTime": {
     "end_time": "2024-03-30T22:46:32.320606Z",
     "start_time": "2024-03-30T22:46:32.169949Z"
    },
    "scrolled": false
   },
   "outputs": [
    {
     "data": {
      "text/markdown": [
       "<div class=\"alert alert-block alert-info\"> <b>&lt;sos&gt;</b></div>"
      ],
      "text/plain": [
       "<IPython.core.display.Markdown object>"
      ]
     },
     "metadata": {},
     "output_type": "display_data"
    },
    {
     "data": {
      "text/markdown": [
       "<div class=\"alert alert-block alert-success\"> <b>-14.700: one worst movies ever seen one worst movies ever seen</b></div>"
      ],
      "text/plain": [
       "<IPython.core.display.Markdown object>"
      ]
     },
     "metadata": {},
     "output_type": "display_data"
    },
    {
     "data": {
      "text/markdown": [
       "<div class=\"alert alert-block alert-success\"> <b>-15.791: one worst movies ever seen bad acting bad acting bad</b></div>"
      ],
      "text/plain": [
       "<IPython.core.display.Markdown object>"
      ]
     },
     "metadata": {},
     "output_type": "display_data"
    },
    {
     "data": {
      "text/markdown": [
       "<div class=\"alert alert-block alert-success\"> <b>-16.008: one worst movies ever seen one worst movies ever made</b></div>"
      ],
      "text/plain": [
       "<IPython.core.display.Markdown object>"
      ]
     },
     "metadata": {},
     "output_type": "display_data"
    },
    {
     "data": {
      "text/markdown": [
       "<div class=\"alert alert-block alert-info\"> <b>&lt;sos&gt; &lt;unk&gt; favorite movie</b></div>"
      ],
      "text/plain": [
       "<IPython.core.display.Markdown object>"
      ]
     },
     "metadata": {},
     "output_type": "display_data"
    },
    {
     "data": {
      "text/markdown": [
       "<div class=\"alert alert-block alert-success\"> <b>-16.961: one worst movies ever seen one worst movies ever seen</b></div>"
      ],
      "text/plain": [
       "<IPython.core.display.Markdown object>"
      ]
     },
     "metadata": {},
     "output_type": "display_data"
    },
    {
     "data": {
      "text/markdown": [
       "<div class=\"alert alert-block alert-success\"> <b>-17.999: ever seen one worst movies ever seen bad acting bad</b></div>"
      ],
      "text/plain": [
       "<IPython.core.display.Markdown object>"
      ]
     },
     "metadata": {},
     "output_type": "display_data"
    },
    {
     "data": {
      "text/markdown": [
       "<div class=\"alert alert-block alert-success\"> <b>-18.038: one worst movies ever seen one worst movies ever made</b></div>"
      ],
      "text/plain": [
       "<IPython.core.display.Markdown object>"
      ]
     },
     "metadata": {},
     "output_type": "display_data"
    },
    {
     "data": {
      "text/markdown": [
       "<div class=\"alert alert-block alert-info\"> <b>&lt;sos&gt; &lt;unk&gt; best movie</b></div>"
      ],
      "text/plain": [
       "<IPython.core.display.Markdown object>"
      ]
     },
     "metadata": {},
     "output_type": "display_data"
    },
    {
     "data": {
      "text/markdown": [
       "<div class=\"alert alert-block alert-success\"> <b>-15.690: ever seen one worst movies ever seen bad acting bad</b></div>"
      ],
      "text/plain": [
       "<IPython.core.display.Markdown object>"
      ]
     },
     "metadata": {},
     "output_type": "display_data"
    },
    {
     "data": {
      "text/markdown": [
       "<div class=\"alert alert-block alert-success\"> <b>-16.193: ever seen one worst movies ever seen long time life</b></div>"
      ],
      "text/plain": [
       "<IPython.core.display.Markdown object>"
      ]
     },
     "metadata": {},
     "output_type": "display_data"
    },
    {
     "data": {
      "text/markdown": [
       "<div class=\"alert alert-block alert-success\"> <b>-16.346: ever seen one one worst movies ever seen long time</b></div>"
      ],
      "text/plain": [
       "<IPython.core.display.Markdown object>"
      ]
     },
     "metadata": {},
     "output_type": "display_data"
    },
    {
     "data": {
      "text/markdown": [
       "<div class=\"alert alert-block alert-info\"> <b>&lt;sos&gt; &lt;unk&gt; worst movie</b></div>"
      ],
      "text/plain": [
       "<IPython.core.display.Markdown object>"
      ]
     },
     "metadata": {},
     "output_type": "display_data"
    },
    {
     "data": {
      "text/markdown": [
       "<div class=\"alert alert-block alert-success\"> <b>-14.730: ever seen one worst movies ever seen bad acting bad</b></div>"
      ],
      "text/plain": [
       "<IPython.core.display.Markdown object>"
      ]
     },
     "metadata": {},
     "output_type": "display_data"
    },
    {
     "data": {
      "text/markdown": [
       "<div class=\"alert alert-block alert-success\"> <b>-14.844: ever seen bad acting bad acting bad bad acting bad</b></div>"
      ],
      "text/plain": [
       "<IPython.core.display.Markdown object>"
      ]
     },
     "metadata": {},
     "output_type": "display_data"
    },
    {
     "data": {
      "text/markdown": [
       "<div class=\"alert alert-block alert-success\"> <b>-14.857: ever seen life one worst movies ever seen long time</b></div>"
      ],
      "text/plain": [
       "<IPython.core.display.Markdown object>"
      ]
     },
     "metadata": {},
     "output_type": "display_data"
    }
   ],
   "source": [
    "for start_tokens_elem, start_tokens_lens_elem, decoded_tokens_elem, decoded_lens_elem, log_probas_elem in zip(\n",
    "    start_tokens.T, start_tokens_lens,\n",
    "    decoded_tokens.permute(1, 2, 0), decoded_lens.permute(0, 1), log_probas.permute(0, 1)\n",
    "):\n",
    "    start_tokens_elem = start_tokens_elem[:start_tokens_lens_elem].tolist()\n",
    "    start_words = np.array(lm_model.vocab.get_itos())[np.array(start_tokens_elem)]\n",
    "    \n",
    "    start_text = ' '.join(start_words).replace('<', '&lt;').replace('>', '&gt;')\n",
    "    display(Markdown(f'<div class=\"alert alert-block alert-info\"> <b>{start_text}</b></div>'))\n",
    "    \n",
    "    for idx, (hyp, hyp_len, hyp_log_prob) in enumerate(zip(decoded_tokens_elem, decoded_lens_elem, log_probas_elem)):\n",
    "        if idx >= 3:\n",
    "            break\n",
    "            \n",
    "        hyp = hyp[:hyp_len].tolist()\n",
    "        hyp_words = np.array(lm_model.vocab.get_itos())[np.array(hyp)]\n",
    "        hyp_text = ' '.join(hyp_words).replace('<', '&lt;').replace('>', '&gt;')\n",
    "        display(Markdown(\n",
    "            f'<div class=\"alert alert-block alert-success\"> <b>{hyp_log_prob:.3f}: {hyp_text}</b></div>'\n",
    "        ))"
   ]
  },
  {
   "cell_type": "markdown",
   "metadata": {},
   "source": [
    "Попробуйте выполнить декодинг для разных `beam_size`. Убедитесь, что при `beam_search=1` семплирование совпадает с top-1 (greedy decoding) подходом. \n",
    "\n",
    "Сравните результаты Beam Search с top-k семплированием и жадным декодированием. Опишите ваши наблюдения."
   ]
  },
  {
   "cell_type": "code",
   "execution_count": null,
   "metadata": {
    "ExecuteTime": {
     "end_time": "2024-03-30T22:00:59.682820Z",
     "start_time": "2024-03-30T22:00:59.682812Z"
    }
   },
   "outputs": [],
   "source": [
    "# YOUR CODE HERE"
   ]
  },
  {
   "cell_type": "markdown",
   "metadata": {
    "ExecuteTime": {
     "end_time": "2021-04-02T15:04:51.678260Z",
     "start_time": "2021-04-02T15:04:51.673587Z"
    }
   },
   "source": [
    "## `Бонус. Существенное улучшение качества (до 6 баллов)`"
   ]
  },
  {
   "cell_type": "markdown",
   "metadata": {},
   "source": [
    "Та модель, которая использовалась в предыдущей части во многом заимствует улучшения LSTM из статьи [Regularizing and Optimizing LSTM Language Models](https://arxiv.org/pdf/1708.02182.pdf). Вы можете попробовать применить другие варианты регуляризации из данной статьи для существенного улучшения качества LM.\n",
    "\n",
    "Например:\n",
    "1. Dropout для эмбеддингов **(+0.25)**\n",
    "2. Dropout входов и выходов RNN **(+0.25)**\n",
    "3. Регуляризация активаций (AR/TAR) **(+1.0)**\n",
    "4. NT-ASGD **(+1.5)**\n",
    "5. Tied веса эмбеддингов и софтмакса **(+1.0)**\n",
    "6. Attention **(+2.0)**\n",
    "\n",
    "**Полные баллы ставятся только при наличии качественного и количественного сравнения с бейзлайном.**\n",
    "\n",
    "**Для эксперимента с Attention необходимо изобразить Attention Maps для нескольких примеров.**"
   ]
  }
 ],
 "metadata": {
  "kernelspec": {
   "display_name": "Python 3 (ipykernel)",
   "language": "python",
   "name": "python3"
  },
  "language_info": {
   "codemirror_mode": {
    "name": "ipython",
    "version": 3
   },
   "file_extension": ".py",
   "mimetype": "text/x-python",
   "name": "python",
   "nbconvert_exporter": "python",
   "pygments_lexer": "ipython3",
   "version": "3.10.12"
  },
  "toc": {
   "base_numbering": 1,
   "nav_menu": {},
   "number_sections": false,
   "sideBar": true,
   "skip_h1_title": false,
   "title_cell": "Table of Contents",
   "title_sidebar": "Contents",
   "toc_cell": false,
   "toc_position": {
    "height": "804px",
    "left": "148px",
    "top": "50px",
    "width": "555.391px"
   },
   "toc_section_display": true,
   "toc_window_display": false
  },
  "varInspector": {
   "cols": {
    "lenName": 16,
    "lenType": 16,
    "lenVar": 40
   },
   "kernels_config": {
    "python": {
     "delete_cmd_postfix": "",
     "delete_cmd_prefix": "del ",
     "library": "var_list.py",
     "varRefreshCmd": "print(var_dic_list())"
    },
    "r": {
     "delete_cmd_postfix": ") ",
     "delete_cmd_prefix": "rm(",
     "library": "var_list.r",
     "varRefreshCmd": "cat(var_dic_list()) "
    }
   },
   "position": {
    "height": "313px",
    "left": "926px",
    "right": "27px",
    "top": "120px",
    "width": "343px"
   },
   "types_to_exclude": [
    "module",
    "function",
    "builtin_function_or_method",
    "instance",
    "_Feature"
   ],
   "window_display": false
  }
 },
 "nbformat": 4,
 "nbformat_minor": 2
}
