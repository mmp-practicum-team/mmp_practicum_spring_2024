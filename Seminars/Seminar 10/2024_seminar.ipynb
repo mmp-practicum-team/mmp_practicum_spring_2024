{
  "cells": [
    {
      "cell_type": "markdown",
      "metadata": {
        "id": "ynK8Lm7duzX-"
      },
      "source": [
        "# `Занятие 9: Transformers + 🤗`\n",
        "Воробьев Сергей | t.me/serv01 | sergei.vorobyov01@gmail.com"
      ]
    },
    {
      "cell_type": "markdown",
      "metadata": {
        "id": "PZYlL3Elv2H3"
      },
      "source": [
        "# `0. Вступление`"
      ]
    },
    {
      "cell_type": "markdown",
      "metadata": {
        "id": "o2ahSDTZv67b"
      },
      "source": [
        "*Напиши краткое вступление к практическому занятию по трансформерам: почему это актуально и какие сейчас задачи решаются с помощью моделей архитектуры GPT*\n",
        "\n",
        "> Добро пожаловать на наше практическое занятие по трансформерам! В последние годы модели на основе трансформеров, такие как BERT, GPT, и их производные, стали основным инструментом для решения качественных задач в области обработки естественного языка (NLP).\n",
        "\n",
        "> Трансформеры представляют собой класс моделей, которые используют механизм внимания для генерации выходных данных по входным данным. Они стали основой для подавляющего большинства современных моделей обработки естественного языка, таких как GPT (Generative Pre-trained Transformer).\n",
        "\n",
        "> Особенно сейчас, когда GPT-3 и его вариации определяют состояние техники в области генерации текста и обработки естественного языка, эти модели актуальны более чем когда-либо.\n",
        "\n",
        "> С GPT вы можете решать широкий спектр задач, таких как генерация текста, перевод, ответы на вопросы, извлечение текста, семантическое представление и многие другие. Они значительно улучшили качество и разнообразие наших способностей по обработке языка и продолжают обладать огромным потенциалом.\n",
        "\n",
        "> В течение этого занятия мы углубимся в изучение этих моделей, чтобы понять, как они устроены внутри, как их обучать, и как их использовать на практике в контексте различных задач NLP. Будет увлекательно, так что приготовьтесь познакомиться с миром трансформеров!\n",
        "\n",
        "**На семинаре мы обсудим:**\n",
        "\n",
        "1. Посмотрим откуда берутся тексты для обучения LLM и как они попадают в модель\n",
        "2. Откуда берутся сами модели\n",
        "3. Как они обучаются\n",
        "4. Куда все это движется"
      ]
    },
    {
      "cell_type": "markdown",
      "metadata": {
        "id": "ACSzptyMqq48"
      },
      "source": [
        "# `1. Данные`"
      ]
    },
    {
      "cell_type": "markdown",
      "metadata": {
        "id": "Pv2CwFrZzwHq"
      },
      "source": [
        "Для начала посмотрим на классический этап обучения ассистента на основе LLM:\n",
        "\n",
        "<img src=\"https://miro.medium.com/v2/resize:fit:1200/1*WibZ0afyV8ZwaXjDx0Xu-g.png\" width=\"700\">\n",
        "\n",
        "Автор: Andrej Karpathy, [лекция](https://www.youtube.com/watch?v=bZQun8Y4L2A)"
      ]
    },
    {
      "cell_type": "code",
      "execution_count": 1,
      "metadata": {},
      "outputs": [],
      "source": [
        "%load_ext autoreload\n",
        "%autoreload 2"
      ]
    },
    {
      "cell_type": "code",
      "execution_count": 38,
      "metadata": {},
      "outputs": [
        {
          "name": "stderr",
          "output_type": "stream",
          "text": [
            "Gemma's activation function should be approximate GeLU and not exact GeLU.\n",
            "Changing the activation function to `gelu_pytorch_tanh`.if you want to use the legacy `gelu`, edit the `model.config` to set `hidden_activation=gelu`   instead of `hidden_act`. See https://github.com/huggingface/transformers/pull/29402 for more details.\n",
            "Loading checkpoint shards: 100%|██████████| 2/2 [00:10<00:00,  5.26s/it]\n"
          ]
        }
      ],
      "source": [
        "from transformers import AutoTokenizer, AutoModelForCausalLM\n",
        "\n",
        "tokenizer = AutoTokenizer.from_pretrained(\"./gemma-2b\")\n",
        "model = AutoModelForCausalLM.from_pretrained(\"./gemma-2b\", device_map=\"mps\")"
      ]
    },
    {
      "cell_type": "code",
      "execution_count": 41,
      "metadata": {},
      "outputs": [
        {
          "name": "stdout",
          "output_type": "stream",
          "text": [
            "<bos>Франция это Париж, Великобритания это Лондон, Россия это Москва, Китай это Пекин, Япония это Токио, США это Вашингтон, Австралия это Мельбурн, Индия это Нью-Дели\n"
          ]
        }
      ],
      "source": [
        "# input_text = \"Write reasons to become an ML engineer\"\n",
        "# input_text = \"Россия это\"\n",
        "input_text = \"Франция это Париж, Великобритания это Лондон, Россия это\"\n",
        "input_ids = tokenizer(input_text, return_tensors=\"pt\").to(\"mps\")\n",
        "\n",
        "outputs = model.generate(**input_ids, max_length=50)\n",
        "print(tokenizer.decode(outputs[0]))"
      ]
    },
    {
      "cell_type": "code",
      "execution_count": 42,
      "metadata": {},
      "outputs": [
        {
          "name": "stderr",
          "output_type": "stream",
          "text": [
            "Loading checkpoint shards: 100%|██████████| 2/2 [00:05<00:00,  2.63s/it]\n"
          ]
        }
      ],
      "source": [
        "del model # иначе оперативка закончится\n",
        "model_it = AutoModelForCausalLM.from_pretrained(\"./gemma-1.1-2b-it\", device_map=\"mps\")"
      ]
    },
    {
      "cell_type": "code",
      "execution_count": 43,
      "metadata": {},
      "outputs": [
        {
          "name": "stdout",
          "output_type": "stream",
          "text": [
            "<bos>Write reasons to become an ML engineer.\n",
            "\n",
            "**1. High Demand and Job Security:**\n",
            "\n",
            "* The demand for ML engineers is expected to grow significantly in the coming years.\n",
            "* Job security is high, with projections of high employment rates in\n"
          ]
        }
      ],
      "source": [
        "input_text = \"Write reasons to become an ML engineer\"\n",
        "# input_text = \"Россия это\"\n",
        "# input_text = \"Франция это Париж, Великобритания это Лондон, Россия это\"\n",
        "input_ids = tokenizer(input_text, return_tensors=\"pt\").to(\"mps\")\n",
        "\n",
        "outputs = model_it.generate(**input_ids, max_length=50)\n",
        "print(tokenizer.decode(outputs[0]))\n",
        "del model_it"
      ]
    },
    {
      "cell_type": "markdown",
      "metadata": {
        "id": "MbO9NW3jxl9y"
      },
      "source": [
        "Подход к сборке и предобработке данных крайне важен при обучении больших языковых моделей. Этот этап влияет на качество и объективность модели, а также определяет, насколько хорошо модель будет справляться с реальными задачами."
      ]
    },
    {
      "cell_type": "markdown",
      "metadata": {
        "id": "0Gim26cXrEqL"
      },
      "source": [
        "- Для претрейна как правило данные собираются со всего интернета, они тщательно фильтруются и отбираются\n",
        "\n",
        "- Далее в зависимости от задачи производится SFT, для ассистентов берут датасеты с инструкциями\n"
      ]
    },
    {
      "cell_type": "markdown",
      "metadata": {
        "id": "O8Iuj6fi1_gt"
      },
      "source": [
        "Например, состав данных для претрейна может быть таким:\n",
        "\n",
        "<img src=\"https://sun9-57.userapi.com/impg/_FV6r9zmUFv080cf9oGEYnc5mk5cnvC1kADYpg/9Nw1X7qU_kw.jpg?size=1602x1348&quality=95&sign=ad1911625ead2a02c0461dac503f0cc1&type=album\" width=\"500\">\n",
        "\n",
        "https://arxiv.org/pdf/2302.13971.pdf"
      ]
    },
    {
      "cell_type": "markdown",
      "metadata": {
        "id": "bvB50IKFtM4M"
      },
      "source": [
        "### Как собирают итоговый датасет претрейна\n",
        "\n",
        "- Дедупликация\n",
        "- Классификация и отбор\n",
        "- Вычищение тестовых бенчмарков (Test set is all you need: https://arxiv.org/pdf/2309.08632.pdf)\n",
        "- И так далее... (например AskLLM: https://arxiv.org/pdf/2402.09668.pdf)"
      ]
    },
    {
      "cell_type": "markdown",
      "metadata": {
        "id": "Mbdg0-aXtb1_"
      },
      "source": [
        "### 🤗 Datasets"
      ]
    },
    {
      "cell_type": "markdown",
      "metadata": {
        "id": "y_V2xD9V6d8e"
      },
      "source": [
        "Датасет претрейна например: https://huggingface.co/datasets/allenai/c4"
      ]
    },
    {
      "cell_type": "code",
      "execution_count": null,
      "metadata": {
        "id": "v_v5ExzdtmXQ"
      },
      "outputs": [],
      "source": [
        "# !pip3 install datasets"
      ]
    },
    {
      "cell_type": "code",
      "execution_count": 21,
      "metadata": {
        "colab": {
          "base_uri": "https://localhost:8080/",
          "height": 113,
          "referenced_widgets": [
            "91ab5de825c2455c8459f9c538b0a25a",
            "7bf34c85fed3414a89d179a7a44cead2",
            "a724302345824ed0878346fa554a5726",
            "1c1a2a7821d744a0baee9fa701c7e150",
            "c72a10a328394b4fb87340eb4b51719b",
            "a1837616abfa46839fb5ca4f870f7840",
            "c6b72043614c43458859fc775c73af15",
            "6099fcd2d08441c8901e0a3a488a5bf0",
            "5fe29c39fc914194a334ae69e2036a1b",
            "9e0c53ef58e34f5a84501670e689897f",
            "4728ab2302984f0c9566ef894e5900a1",
            "fdeb211691514d818ba110a81c0e320a",
            "66eb2554563a430b942cca6e5f22f213",
            "a88e715a8a07423db500e60bfefd6dd3",
            "f7cadb8b1f184e35ba3b549259012662",
            "3c3b88004e6946bcb401f5e7e7c0d8f3",
            "a010bd9882d54614953f680ac3caaa10",
            "4a6c144690f6406880e12e9af4ab6186",
            "7e6808a5fbfa463fa8753ba69fd820e0",
            "061c196fa14b452a9cc0f35c5599dccc",
            "d9f0820b7cae49e297f168e5a5b6364d",
            "6ace661ba36b4e49b031d12d858d052a",
            "c6f07d6b5b50415ab4fc71ad1f41e3ef",
            "1a7b994605e047599c829c718dd98cfd",
            "939db286fb46404c9ebcc126e309a5a9",
            "fcbb453a6d0440278ca4d007a73c4eb3",
            "932507d7d6aa4bbea403a327d42108b2",
            "17df8358372e464b910493cba5e0bb01",
            "f5fb87d67af645d7bc29252d15059a2a",
            "a0bdf91cf1874f11b5e5dceb37d4fe80",
            "78e2e086f22f4d2b8a509bd5e3446dd0",
            "1ecd1ac890e545f4b4d046cfd8a98c61",
            "d01010e4c2dc48f2bb1c6e5640aa55a2"
          ]
        },
        "id": "njGs3PPanioS",
        "outputId": "8fbad5bf-5e2f-4aae-b5f0-b3853835ab78"
      },
      "outputs": [
        {
          "name": "stderr",
          "output_type": "stream",
          "text": [
            "Downloading readme: 100%|██████████| 4.53k/4.53k [00:00<00:00, 8.76MB/s]\n",
            "Downloading data: 100%|██████████| 375M/375M [00:46<00:00, 8.09MB/s] \n",
            "Generating train split: 143000 examples [00:01, 82348.37 examples/s]\n"
          ]
        }
      ],
      "source": [
        "from datasets import load_dataset\n",
        "instruct_dataset = load_dataset(\"WizardLM/WizardLM_evol_instruct_V2_196k\")"
      ]
    },
    {
      "cell_type": "code",
      "execution_count": 22,
      "metadata": {
        "colab": {
          "base_uri": "https://localhost:8080/"
        },
        "id": "pwNBYx2843Sl",
        "outputId": "dcfb7354-b696-4b3a-c895-9d1da9b76252"
      },
      "outputs": [
        {
          "data": {
            "text/plain": [
              "{'idx': 'zQCptr6',\n",
              " 'conversations': [{'from': 'human',\n",
              "   'value': 'Please develop a Python program that generates a list of prime numbers up to a specific upper limit value provided by the user by applying the Sieve of Eratosthenes algorithm, while ensuring that the program also optimizes the memory usage and runs in a timely manner even when dealing with extremely large datasets. Additionally, the program should have the ability to identify and exclude composite numbers from the list before outputting the final prime numbers.'},\n",
              "  {'from': 'gpt',\n",
              "   'value': 'Here is a Python program that uses the Sieve of Eratosthenes algorithm to generate a list of prime numbers up to a specific upper limit value provided by the user. It also optimizes the memory usage and runs in a timely manner even when dealing with extremely large datasets. Additionally, it identifies and excludes composite numbers from the list before outputting the final prime numbers:\\r\\n\\r\\n```python\\r\\nimport math\\r\\n\\r\\ndef eratosthenes_sieve(limit):\\r\\n    primes = [True] * (limit + 1)\\r\\n    primes[0] = primes[1] = False\\r\\n    for i in range(2, int(math.sqrt(limit)) + 1):\\r\\n        if primes[i]:\\r\\n            for j in range(i * i, limit + 1, i):\\r\\n                primes[j] = False\\r\\n    return [i for i in range(2, limit + 1) if primes[i]]\\r\\n\\r\\ndef main():\\r\\n    limit = int(input(\"Enter the upper limit value: \"))\\r\\n    primes = eratosthenes_sieve(limit)\\r\\n    print(\"Prime numbers up to\", limit, \"are:\", primes)\\r\\n\\r\\nif __name__ == \\'__main__\\':\\r\\n    main()\\r\\n```\\r\\n\\r\\nThe `eratosthenes_sieve` function takes an integer `limit` as input and returns a list of all the prime numbers up to `limit`. It implements the Sieve of Eratosthenes algorithm, which works as follows:\\r\\n\\r\\n1. Create a boolean array `primes` of size `limit+1` and initialize all elements to `True`.\\r\\n2. Set `primes[0] = primes[1] = False` since 0 and 1 are not prime numbers.\\r\\n3. Loop over all integers `i` from 2 to the square root of `limit`. If `primes[i]` is `True`, then it is a prime number, so mark all multiples of `i` (starting from `i*i`) as composite by setting `primes[j] = False` for `j` in range `i*i` to `limit` in increments of `i`.\\r\\n4. Return a list of all the prime numbers by filtering the `primes` array to keep only the elements with a value of `True`. The resulting list contains all the prime numbers up to `limit`.\\r\\n\\r\\nThe `main` function prompts the user to enter the upper limit value, calls the `eratosthenes_sieve` function to generate the list of prime numbers up to the limit, and then outputs the list to the console.\\r\\n\\r\\nThis program optimizes memory usage by using a boolean array to represent the list of numbers, rather than a list of integers. This reduces the memory usage by a factor of 8 on most systems (since boolean values take up 1 byte each, while integers take up 8 bytes each).\\r\\n\\r\\nAdditionally, the program runs in a timely manner even when dealing with extremely large datasets by using the optimized Sieve of Eratosthenes algorithm, which has a time complexity of O(n log log n) (where n is the number of integers up to the limit). This is significantly faster than other algorithms that generate all prime numbers up to a limit, such as the trial division algorithm (which has a time complexity of O(n^2)).'}]}"
            ]
          },
          "execution_count": 22,
          "metadata": {},
          "output_type": "execute_result"
        }
      ],
      "source": [
        "instruct_dataset[\"train\"][2]"
      ]
    },
    {
      "cell_type": "markdown",
      "metadata": {
        "id": "TRVz7jpGuuLE"
      },
      "source": [
        "### Свой собственный датасет"
      ]
    },
    {
      "cell_type": "code",
      "execution_count": 44,
      "metadata": {
        "id": "PD-NoEJ1uxw_"
      },
      "outputs": [],
      "source": [
        "with open(\"./wap1.txt\", \"rb\") as f:\n",
        "    part1 = f.read()\n",
        "with open(\"./wap2.txt\", \"rb\") as f:\n",
        "    part2 = f.read()"
      ]
    },
    {
      "cell_type": "code",
      "execution_count": 45,
      "metadata": {
        "id": "JZJKTyVnQyvQ"
      },
      "outputs": [],
      "source": [
        "war_and_peace = part1.decode(\"cp1251\") + part2.decode(\"cp1251\")\n",
        "war_and_peace = war_and_peace.replace(\"\\r\", \"\")"
      ]
    },
    {
      "cell_type": "code",
      "execution_count": 46,
      "metadata": {
        "colab": {
          "base_uri": "https://localhost:8080/"
        },
        "id": "Gzwi4tPptVc2",
        "outputId": "e5f9462c-c3bb-4837-da1c-5bbb9afd5d01"
      },
      "outputs": [
        {
          "data": {
            "text/plain": [
              "3083048"
            ]
          },
          "execution_count": 46,
          "metadata": {},
          "output_type": "execute_result"
        }
      ],
      "source": [
        "len(war_and_peace)"
      ]
    },
    {
      "cell_type": "code",
      "execution_count": 47,
      "metadata": {
        "colab": {
          "base_uri": "https://localhost:8080/",
          "height": 131
        },
        "id": "ChZQzSDMSqwK",
        "outputId": "cf5474e8-c9f1-4c31-fe96-fa85bcce3345"
      },
      "outputs": [
        {
          "data": {
            "text/plain": [
              "' его отличали, взял за руку фрейлину, поцеловал ее и, поцеловав, помахал фрейлинскою рукой, развалившись на креслах и глядя в сторону.\\n\\n–\\xa0Attendez,[27 - Постойте.] – сказала Анна Павловна, соображая.\\xa0– Я нынче же поговорю с Lise (la femme du jeune Болконский).[28 - Лизе (жене Болконского).] И, может быть, это уладится. Ce sera dans votre famille que je ferai mon apprentissage de vieille fille.[29 - Я в вашем семействе начну обучаться ремеслу старой девицы.]\\n\\n\\n\\n\\nII\\n\\n\\nГостиная Анны Павловны начала понемногу наполняться. Приехала высшая знать Петербурга, люди самые разнородные по возрастам и характерам, но одинаковые по обществу, в каком все жили; приехала дочь князя Василия, красавица Элен, заехавшая за отцом, чтобы с ним вместе ехать на праздник посланника. Она была в шифре и бальном платье. Приехала и известная, как la femme la plus sеduisante de Pеtersbourg,[30 - самая обворожительная женщина в Петербурге.] молодая, маленькая княгиня Болконская, прошлую зиму вышедшая замуж и теперь не выезжавшая в большой свет по причине своей беременности, но ездившая еще на небольшие вечера. Приех'"
            ]
          },
          "execution_count": 47,
          "metadata": {},
          "output_type": "execute_result"
        }
      ],
      "source": [
        "war_and_peace[12312:13412]"
      ]
    },
    {
      "cell_type": "code",
      "execution_count": 48,
      "metadata": {
        "id": "StCU4hqOTpAa"
      },
      "outputs": [],
      "source": [
        "f = open(\"war_and_peace.txt\", \"a\")\n",
        "f.write(war_and_peace)\n",
        "f.close()"
      ]
    },
    {
      "cell_type": "markdown",
      "metadata": {
        "id": "G93EbmYcu41Y"
      },
      "source": [
        "# `2. Токенизация`"
      ]
    },
    {
      "cell_type": "markdown",
      "metadata": {
        "id": "nUpX8Pn7tm5l"
      },
      "source": [
        "Нереально полезное видео чтобы погрузиться в токенизацию:\n",
        "\n",
        "https://youtu.be/zduSFxRajkE?si=NVceMQolN5sTixAk"
      ]
    },
    {
      "cell_type": "markdown",
      "metadata": {
        "id": "eULRFl0_7Fmo"
      },
      "source": [
        "Очевидно, что мы не можем засунуть текст в модель – она ожидает получить числа.\n",
        "В трансформерах используется обучаемая матрица ембеддингов, но нам все равно нужно перевести изначальное слово в OHE. И тут возникают проблемы:\n",
        "\n",
        "1. В богатых на словоформы языках типа русского слов с одним корнем может быть очень много слов -> гигантская размерность словаря -> гигантская размерность обучаемой матрицы эмбеддингов.\n",
        "2. Мы всегда встретим какое-то новое слово, являющееся формой или комбинацией уже известных, как например в немецком.\n",
        "\n",
        "Эти проблемы помогает решить особый способ токенизации. Ниже разберем самый популярный вариант, который использовался в трансформере, а пока давайте посмотрим на иллюстрицию, которая помогает понять смысл токенизации:\n"
      ]
    },
    {
      "cell_type": "markdown",
      "metadata": {
        "id": "5jJwyVOA7Hd3"
      },
      "source": [
        "<img src=\"https://www.oreilly.com/api/v2/epubs/9781492062561/files/assets/anlp_0401.png\" width=\"700\">\n",
        "\n",
        "[источник картинки](https://www.oreilly.com/api/v2/epubs/9781492062561/files/assets/anlp_0401.png)"
      ]
    },
    {
      "cell_type": "code",
      "execution_count": 49,
      "metadata": {
        "id": "ZA4Lobc9TSP8"
      },
      "outputs": [],
      "source": [
        "# !pip3 install sentencepiece # already in Google Colab\n",
        "# https://github.com/google/sentencepiece\n",
        "import sentencepiece as spm"
      ]
    },
    {
      "cell_type": "code",
      "execution_count": null,
      "metadata": {
        "id": "NRINzlCyTXmB"
      },
      "outputs": [],
      "source": [
        "spm.SentencePieceTrainer.train(input=\"war_and_peace.txt\", model_prefix='wap', vocab_size=1000)"
      ]
    },
    {
      "cell_type": "code",
      "execution_count": 50,
      "metadata": {
        "id": "Z62dTIo5ULjv"
      },
      "outputs": [],
      "source": [
        "tokenizer = spm.SentencePieceProcessor(model_file=\"./wap.model\")"
      ]
    },
    {
      "cell_type": "code",
      "execution_count": 51,
      "metadata": {
        "colab": {
          "base_uri": "https://localhost:8080/"
        },
        "id": "nPzUHMeYUWFV",
        "outputId": "088692e3-36d7-444f-b78e-0c6f345f1be9"
      },
      "outputs": [
        {
          "data": {
            "text/plain": [
              "[175, 111, 10, 68, 4, 106, 90, 69, 52, 9, 224, 8, 22]"
            ]
          },
          "execution_count": 51,
          "metadata": {},
          "output_type": "execute_result"
        }
      ],
      "source": [
        "tokenizer.Encode(\"Привет, это Война и Мир\")"
      ]
    },
    {
      "cell_type": "code",
      "execution_count": 52,
      "metadata": {
        "colab": {
          "base_uri": "https://localhost:8080/",
          "height": 36
        },
        "id": "nZ3-l93KUaIo",
        "outputId": "33838de0-5c77-494a-88da-5ee0bed57e9e"
      },
      "outputs": [
        {
          "data": {
            "text/plain": [
              "'Привет, это Война и Мир'"
            ]
          },
          "execution_count": 52,
          "metadata": {},
          "output_type": "execute_result"
        }
      ],
      "source": [
        "tokenizer.Decode(tokenizer.Encode(\"Привет, это Война и Мир\"))"
      ]
    },
    {
      "cell_type": "markdown",
      "metadata": {
        "id": "eOmjZDSce4xe"
      },
      "source": [
        "Можно скачать токенизатор из Hugging Face"
      ]
    },
    {
      "cell_type": "code",
      "execution_count": 53,
      "metadata": {
        "colab": {
          "base_uri": "https://localhost:8080/",
          "height": 322,
          "referenced_widgets": [
            "8a396c37e6c3480e804e1a4d0e32beda",
            "8b901a8955744e66882930928b7a751a",
            "45b3e4b0f79942aba830c982e4a91027",
            "35df026c048d41c996863b593ec3ac8c",
            "97b84e5e086c4da086670366ae6fb936",
            "3282e2d40ee0444c95ca1d42f1805d21",
            "9d6662547026402088f145c5aab16fb0",
            "e09a90aec1ba436e88f9e33768e049f2",
            "94c5638ff9c94873adece5574689dcdc",
            "9b10a34bd1ef4bbda2cc2eaaaf917fc4",
            "3ac16deec3724f89b3fd1bb27ea95bec",
            "fbe3ae244d464348a348e742e87f4a7f",
            "c76185c77fc44c5aa205e31746579887",
            "692bd3ff52bd4596a1b8d20ee82134ae",
            "b183343fd35944a988876935baeb05a9",
            "9d6c97966b1241aca3f38c3e0ecbfe77",
            "d404f2b242874eff808ef51bc58132db",
            "27b817a9990441f39541fca6607e9d8f",
            "e81f8c2fa14e4dc09d5b9d4398dc7e1f",
            "ceab821e0cf448f1a2f19521232542e5",
            "c11ed6450815473b8abdcff90d14e974",
            "49f21afdf5714a45abb55b82f69f7100",
            "c3f0e1051b444837803f4f5b353c72d6",
            "510c0ed87af6493391a8252db6c90d68",
            "5c80f83da02a48b8a9308fee8e0732fa",
            "639d624ceb124d0aa0099346e3b34fd8",
            "386aa1c4ff76480791761883f3dc456c",
            "75c3e2c90cda4fdcb42537250f2d5fa7",
            "8d628476503142d5bde4831fb5e10902",
            "21770b6742514363ae139a837825b42b",
            "6fe7662ee56f4609817df5b628636479",
            "b6445611b5854442ac1e9f985e0d37f9",
            "7992037916f74be8ae825468b3906593"
          ]
        },
        "id": "myDZtAWGndnz",
        "outputId": "11c83280-9a5e-47ff-ac4a-679c5dacd4ed"
      },
      "outputs": [
        {
          "name": "stderr",
          "output_type": "stream",
          "text": [
            "The tokenizer class you load from this checkpoint is not the same type as the class this function is called from. It may result in unexpected tokenization. \n",
            "The tokenizer class you load from this checkpoint is 'GPT2Tokenizer'. \n",
            "The class this function is called from is 'PreTrainedTokenizerFast'.\n"
          ]
        },
        {
          "data": {
            "text/plain": [
              "1"
            ]
          },
          "execution_count": 53,
          "metadata": {},
          "output_type": "execute_result"
        }
      ],
      "source": [
        "from transformers import PreTrainedTokenizerFast\n",
        "tokenizer1 = PreTrainedTokenizerFast.from_pretrained(\"gpt2\")\n",
        "tokenizer1.add_special_tokens({'pad_token': '[PAD]'})"
      ]
    },
    {
      "cell_type": "code",
      "execution_count": 54,
      "metadata": {
        "colab": {
          "base_uri": "https://localhost:8080/"
        },
        "id": "ewocs702fAXw",
        "outputId": "a23e8d4d-3672-4f3b-c089-7aadae88fe85"
      },
      "outputs": [
        {
          "data": {
            "text/plain": [
              "[140,\n",
              " 253,\n",
              " 21169,\n",
              " 18849,\n",
              " 38857,\n",
              " 16843,\n",
              " 20375,\n",
              " 11,\n",
              " 220,\n",
              " 141,\n",
              " 235,\n",
              " 20375,\n",
              " 15166,\n",
              " 12466,\n",
              " 110,\n",
              " 25443,\n",
              " 117,\n",
              " 22177,\n",
              " 16142,\n",
              " 12466,\n",
              " 116,\n",
              " 12466,\n",
              " 120,\n",
              " 18849,\n",
              " 21169]"
            ]
          },
          "execution_count": 54,
          "metadata": {},
          "output_type": "execute_result"
        }
      ],
      "source": [
        "tokenizer1.encode(\"Привет, это война и мир\")"
      ]
    },
    {
      "cell_type": "code",
      "execution_count": 60,
      "metadata": {},
      "outputs": [
        {
          "data": {
            "text/plain": [
              "','"
            ]
          },
          "execution_count": 60,
          "metadata": {},
          "output_type": "execute_result"
        }
      ],
      "source": [
        "tokenizer1.decode([11])"
      ]
    },
    {
      "cell_type": "markdown",
      "metadata": {
        "id": "ygFsRodJfilw"
      },
      "source": [
        "Песочница: https://tiktokenizer.vercel.app/\n",
        "\n",
        "Что бывает когда вы обучаете токенизатор на данных, которых нет в претрейне:\n",
        "\n",
        "https://www.lesswrong.com/posts/aPeJE8bSo6rAFoLqg/solidgoldmagikarp-plus-prompt-generation"
      ]
    },
    {
      "cell_type": "markdown",
      "metadata": {
        "id": "aE_ArRlve86e"
      },
      "source": [
        "Создадим датасет:"
      ]
    },
    {
      "cell_type": "code",
      "execution_count": 61,
      "metadata": {
        "id": "pCfoYWeyd-vG"
      },
      "outputs": [],
      "source": [
        "import torch\n",
        "from torch.utils.data import Dataset, DataLoader\n",
        "\n",
        "class WarAndPeaceDataset(Dataset):\n",
        "    def __init__(self, rawtext, tokenizer, max_seq_len=32):\n",
        "        # lines = rawtext.split('\\n')\n",
        "        self.tokenized_dataset = tokenizer.encode(rawtext)\n",
        "        self.max_seq_len = 32\n",
        "\n",
        "    def __len__(self):\n",
        "        return len(self.tokenized_dataset)\n",
        "\n",
        "    def __getitem__(self, i):\n",
        "        idx = torch.randint(0, len(self.tokenized_dataset) - self.max_seq_len - 1, (1,))\n",
        "        seq = torch.Tensor(self.tokenized_dataset[idx.item():idx.item()+self.max_seq_len+1]).to(torch.long)\n",
        "        return seq[:-1], seq[1:]"
      ]
    },
    {
      "cell_type": "markdown",
      "metadata": {},
      "source": [
        "# `3. Создание transformer-based модели`"
      ]
    },
    {
      "cell_type": "markdown",
      "metadata": {
        "id": "hW_JRxPswFtq"
      },
      "source": [
        "Не хочется писать велосипед, лучше потратить время с пользой и полистать чей-нибудь код"
      ]
    },
    {
      "cell_type": "code",
      "execution_count": null,
      "metadata": {
        "colab": {
          "base_uri": "https://localhost:8080/"
        },
        "id": "eX9cLnO8FXmS",
        "outputId": "95013303-d536-4b6d-912b-d9a1a3894c77"
      },
      "outputs": [],
      "source": [
        "!git clone https://github.com/karpathy/minGPT.git\n",
        "!pip3 install -e minGPT"
      ]
    },
    {
      "cell_type": "code",
      "execution_count": 22,
      "metadata": {},
      "outputs": [],
      "source": [
        "# import sys\n",
        "# sys.path.append(\"/Users/serv01/Documents/gitprojects/2024_seminar/minGPT\")"
      ]
    },
    {
      "cell_type": "code",
      "execution_count": 62,
      "metadata": {
        "id": "EDnov7k8vnMC"
      },
      "outputs": [
        {
          "name": "stdout",
          "output_type": "stream",
          "text": [
            "number of parameters: 85.85M\n"
          ]
        }
      ],
      "source": [
        "from mingpt.model import GPT\n",
        "model_config = GPT.get_default_config()\n",
        "model_config.model_type = 'gpt2'\n",
        "model_config.vocab_size = 1000 # openai's model vocabulary\n",
        "model_config.block_size = 32  # openai's model block_size (i.e. input context length)\n",
        "model = GPT(model_config)"
      ]
    },
    {
      "cell_type": "code",
      "execution_count": 65,
      "metadata": {
        "id": "_cKXhxRn_JCM"
      },
      "outputs": [
        {
          "name": "stdout",
          "output_type": "stream",
          "text": [
            "running on device cpu\n"
          ]
        }
      ],
      "source": [
        "train_dataset = WarAndPeaceDataset(war_and_peace, tokenizer)\n",
        "\n",
        "from mingpt.trainer import Trainer\n",
        "train_config = Trainer.get_default_config()\n",
        "train_config.learning_rate = 5e-4 # many possible options, see the file\n",
        "train_config.max_iters = 1000\n",
        "train_config.batch_size = 32\n",
        "train_config.device = \"cpu\"\n",
        "trainer = Trainer(train_config, model, train_dataset)"
      ]
    },
    {
      "cell_type": "markdown",
      "metadata": {},
      "source": [
        "# `4. Обучение transformer-based модели`"
      ]
    },
    {
      "cell_type": "markdown",
      "metadata": {
        "id": "0bf_ZaOnhXVm"
      },
      "source": [
        "Запускаем обучение:"
      ]
    },
    {
      "cell_type": "code",
      "execution_count": null,
      "metadata": {
        "id": "Q_3bW5vvwjTX"
      },
      "outputs": [],
      "source": [
        "trainer.run()"
      ]
    },
    {
      "cell_type": "markdown",
      "metadata": {
        "id": "n1ZrJlkihY_t"
      },
      "source": [
        "Обязательно сохраняем чекпоинт:"
      ]
    },
    {
      "cell_type": "code",
      "execution_count": null,
      "metadata": {
        "id": "1aFG2D5whWmR"
      },
      "outputs": [],
      "source": [
        "# torch.save(model.state_dict(), \"86M_wap_m1.pt\")"
      ]
    },
    {
      "cell_type": "markdown",
      "metadata": {
        "id": "OSOgW7qpiTxL"
      },
      "source": [
        "Обучать модель лучше с помощью [готовых инструментов](https://huggingface.co/docs/transformers/v4.39.3/en/main_classes/trainer):"
      ]
    },
    {
      "cell_type": "markdown",
      "metadata": {
        "id": "4QjDI7U8iuj0"
      },
      "source": [
        "```python\n",
        "from transformers import Trainer\n",
        "\n",
        "trainer = Trainer(\n",
        "    model,\n",
        "    training_args,\n",
        "    train_dataset=tokenized_datasets[\"train\"],\n",
        "    eval_dataset=tokenized_datasets[\"validation\"],\n",
        "    data_collator=data_collator,\n",
        "    tokenizer=tokenizer,\n",
        ")\n",
        "```"
      ]
    },
    {
      "cell_type": "markdown",
      "metadata": {
        "id": "rAnVnzzchdh9"
      },
      "source": [
        "Лучше сохранять по ходу обучения: https://pytorch.org/tutorials/recipes/recipes/saving_and_loading_a_general_checkpoint.html"
      ]
    },
    {
      "cell_type": "code",
      "execution_count": 67,
      "metadata": {
        "id": "XHc3BXK0hp0e"
      },
      "outputs": [],
      "source": [
        "model_state_dict = torch.load(\"86M_wap.pt\", map_location=\"cpu\")\n",
        "tokenizer = spm.SentencePieceProcessor(model_file=\"./true_wap.model\") # это тоже очень важно!!!"
      ]
    },
    {
      "cell_type": "code",
      "execution_count": 73,
      "metadata": {
        "id": "oSe-Iha1hzp1"
      },
      "outputs": [
        {
          "name": "stdout",
          "output_type": "stream",
          "text": [
            "number of parameters: 85.85M\n"
          ]
        },
        {
          "data": {
            "text/plain": [
              "<All keys matched successfully>"
            ]
          },
          "execution_count": 73,
          "metadata": {},
          "output_type": "execute_result"
        }
      ],
      "source": [
        "model_config = GPT.get_default_config()\n",
        "model_config.model_type = 'gpt2'\n",
        "model_config.vocab_size = 1000 # openai's model vocabulary\n",
        "model_config.block_size = 32  # openai's model block_size (i.e. input context length)\n",
        "model1 = GPT(model_config)\n",
        "model1.load_state_dict(model_state_dict)"
      ]
    },
    {
      "cell_type": "code",
      "execution_count": 74,
      "metadata": {
        "id": "AiBiOBTdh2U4"
      },
      "outputs": [
        {
          "data": {
            "text/plain": [
              "'Он раскрыл глаза, надеясь увидать, чем кончилась борьба французов. –  ⁇ ui, il faut ? l’Empereur, il faut ? le prince, – сказал он, – que j’ai prieux, – сказал Шиншин, – – il caus pour fait pour tout pour moi,[337 - Государь, – сказал Шиншин, – а то, что ей было то, что он не мог отстать от них, но не мог не отстать от них. –  ⁇ icolas, – сказал он, – c’est bel fait pour le pri'"
            ]
          },
          "execution_count": 74,
          "metadata": {},
          "output_type": "execute_result"
        }
      ],
      "source": [
        "model1.to(\"mps\")\n",
        "batch = torch.Tensor([tokenizer.Encode(\"Он раскрыл глаза, надеясь увидать, чем кончилась борьба французов\")]).to(torch.long).to(\"mps\")\n",
        "output = model1.generate(batch, max_new_tokens=200)\n",
        "tokenizer.Decode(output.tolist()[0])"
      ]
    },
    {
      "cell_type": "markdown",
      "metadata": {
        "id": "osMKjgmS-YcF"
      },
      "source": [
        "### Хитрости обучения\n",
        "\n",
        "> К сожалению, если вы просто напишете код Transformer-нейросети и попробуете сразу обучить что-то содержательное, используя привычные для других архитектур гиперпараметры, то вас с большой вероятностью постигнет неудача. Оптимизационный процесс для таких моделей зачастую требуется изменить, и недостаточное внимание к этому может повлечь за собой существенные потери в итоговом качестве или вообще привести к нестабильному обучению.\n",
        "\n",
        "> Первый момент, на который стоит обратить внимание, — размер батча для обучения. Практически все современные Transformer-модели обучаются на больших батчах, которые для самых больших языковых моделей могут достигать миллионов токенов. Разумеется, ни одна современная GPU не может обработать столько данных за один шаг: на помощь приходят распределенное обучение и чуть более универсальный трюк с аккумуляцией градиентов по микробатчам. Также в последних статьях зачастую прибегают к увеличению размера батча по ходу обучения: идея заключается в том, что на ранних этапах важнее быстрее совершить много шагов градиентного спуска, а на поздних становится важнее иметь точную оценку градиента.\n",
        "\n",
        "Я кратко пройдусь по некоторым опциям, которые могут быть полезны:\n",
        "\n",
        "1. Optimizers\n",
        "2. Warm up + LR schedulers\n",
        "2. Mixed precision training\n",
        "3. Gradient accumulating"
      ]
    },
    {
      "cell_type": "markdown",
      "metadata": {
        "id": "Qr51K-D_jcay"
      },
      "source": [
        "**Optimizers**\n",
        "\n",
        "Вот так выглядит Adam\n",
        "\n",
        "<img src=\"https://sun9-80.userapi.com/impg/x7er3KBsSCCHYtaEcOU72hm0Dg-GoRBh99wOqQ/LmwnU6U_ufY.jpg?size=858x374&quality=95&sign=05f1ce2f2a52fe7e62a9902fd92809b4&type=album\" width=450>\n",
        "\n",
        "> Adam требует хранения как параметров модели, так и градиентов, накопленного импульса и нормировочных констант (cache). Т.е. достижение более быстрой (с точки зрения количества итераций/объема рассмотренных данных) сходимости требует больших объемов памяти. Кроме того, если вы решите продолжить обучение модели, остановленное на некоторой точке, необходимо восстановить из чекпоинта не только веса модели, но и накопленные параметры Adam. В противном случае оптимизатор начнёт сбор всех своих статистик с нуля, что может сильно сказаться на качестве дообучения. То же самое касается вообще всех описанных выше методов, так как каждый из них накапливает какие-то статистики во время обучения.\n",
        "\n",
        "Источник: https://education.yandex.ru/handbook/ml/article/optimizaciya-v-ml"
      ]
    },
    {
      "cell_type": "markdown",
      "metadata": {
        "id": "97Klx72lqpvx"
      },
      "source": [
        "Оптимизаторы занимают очень много места\n",
        "\n",
        "<img src=\"https://sun9-38.userapi.com/impg/mUJ4sI7yrYAwpJo2IIIYwt1912vxip50bV-1Lg/YPJDDNYpTBQ.jpg?size=2306x1370&quality=95&sign=8f95b4865127bf44782af2b684a1673b&type=album\" width=600>\n",
        "\n",
        "Статья про ZeRO: https://arxiv.org/pdf/1910.02054.pdf"
      ]
    },
    {
      "cell_type": "markdown",
      "metadata": {
        "id": "i8cAvEiLT53b"
      },
      "source": [
        "**Warm up + LR Scheduler**\n",
        "\n",
        "В [оригинальной статье](https://arxiv.org/pdf/1706.03762.pdf) про трансформер:\n",
        "\n",
        "<img src=\"https://sun9-8.userapi.com/impg/NIeh1dxKgnWtvg9T6U55_VDzqxwTMWfbv5uYjQ/daqoujlQb2I.jpg?size=1592x726&quality=95&sign=9fee44549dc43428df481d6d1c4497fa&type=album\" width=\"700\">\n",
        "\n",
        "Этот скорее эвристичесикй метод используется для изменения learning rate во время обучения, добавляется просто параметрами `Trainer`\n",
        "\n",
        "Гайд на Kaggle: https://www.kaggle.com/code/isbhargav/guide-to-pytorch-learning-rate-scheduling"
      ]
    },
    {
      "cell_type": "markdown",
      "metadata": {
        "id": "xQNLkxrqUrl6"
      },
      "source": [
        "**Mixed precision**\n",
        "\n",
        "Наша модель обучается с помощью float32 градиентов. Возможно, эта точность излишняя, давайте попробуем обучать используя float16. Очень часто, этой точночти хватает для тренировки, при этом мы получаем существенное ускорение процесса обучения:"
      ]
    },
    {
      "cell_type": "code",
      "execution_count": null,
      "metadata": {
        "id": "Y8XbZm03U8mA"
      },
      "outputs": [],
      "source": [
        "additional_training_args = {\n",
        "    \"fp16\": True,\n",
        "}"
      ]
    },
    {
      "cell_type": "markdown",
      "metadata": {},
      "source": [
        "<img src=\"https://developer-blogs.nvidia.com/wp-content/uploads/2019/01/pasted-image-0-21.png\" width=600>"
      ]
    },
    {
      "cell_type": "markdown",
      "metadata": {},
      "source": [
        "Ссылки:\n",
        "- [Blog post about reduced precision FP formats](https://moocaholic.medium.com/fp64-fp32-fp16-bfloat16-tf32-and-other-members-of-the-zoo-a1ca7897d407)\n",
        "- [Blog posts about mixed precision training with Tensor Cores](https://developer.nvidia.com/blog/video-mixed-precision-techniques-tensor-cores-deep-learning/)\n",
        "- [AMP and other Torch magic](https://pytorch.org/tutorials/recipes/recipes/tuning_guide.html#)"
      ]
    },
    {
      "cell_type": "markdown",
      "metadata": {},
      "source": [
        "Некоторые кстати пошли еще дальше...\n",
        "\n",
        "<img src=\"https://sun9-8.userapi.com/impg/xs3qYhaXa2gdmaaN_JUqyA0AuQu7urGU4kSePA/JczrKQ_6Wbg.jpg?size=2390x782&quality=95&sign=06130557254fc140922eaba79b198469&type=album\" width=900>\n",
        "\n",
        "<img src=\"https://docs.nvidia.com/deeplearning/transformer-engine/user-guide/_images/fp8_formats.png\" width=600>\n",
        "\n",
        "https://arxiv.org/abs/2310.18313"
      ]
    },
    {
      "cell_type": "markdown",
      "metadata": {
        "id": "3bZ4nAn9VEiX"
      },
      "source": [
        "**Gradient accumulating**\n",
        "\n",
        "Часто, желаемый размер батча просто не помещается в нашу видеокарту. Давайте просто делить батч на несколько подбатчей и аккумульровать результаты:\n",
        "\n",
        "Tutorial: https://huggingface.co/docs/accelerate/en/usage_guides/gradient_accumulation"
      ]
    },
    {
      "cell_type": "code",
      "execution_count": null,
      "metadata": {
        "id": "puJwZ-2sVEzf"
      },
      "outputs": [],
      "source": [
        "additional_training_args = {\n",
        "    'per_device_train_batch_size': 12,\n",
        "    'per_device_eval_batch_size': 12,\n",
        "    'gradient_accumulation_steps': 2,\n",
        "    'gradient_checkpointing': True,\n",
        "}"
      ]
    },
    {
      "cell_type": "markdown",
      "metadata": {},
      "source": [
        "<img src=\"https://substackcdn.com/image/fetch/f_auto,q_auto:good,fl_progressive:steep/https%3A%2F%2Fsubstack-post-media.s3.amazonaws.com%2Fpublic%2Fimages%2F6f60f972-12e9-4b6a-908e-a287a0273605_3640x2216.png\" width=500>\n",
        "\n",
        "Source: https://blog.dailydoseofds.com/p/gradient-accumulation-increase-batch"
      ]
    },
    {
      "cell_type": "markdown",
      "metadata": {
        "id": "EnbwWfqNwjjf"
      },
      "source": [
        "# `5. Дообучение готовых моделей, LoRA`"
      ]
    },
    {
      "cell_type": "markdown",
      "metadata": {
        "id": "2ScOjsAgnbxD"
      },
      "source": [
        "Еще одним подходом, который ускоряет fine-tunning, является Low-Rank Adaptation\n",
        "\n",
        "<img src=\"https://adapterhub.ml/static/images/lora.png\" width=\"400\">\n",
        "\n",
        "Low-Rank Adaptation (LoRA) — это эффективный метод дообучения, предложенный [Hu et al. (2021)](https://arxiv.org/pdf/2106.09685.pdf). LoRA вводит обучаемые матрицы разложения низкого ранга в слои предварительно обученной модели. Поэтому для любого слоя модели, выраженного в виде умножения матриц формы $h=W_0x$, он выполняет перепараметризацию, так что:\n",
        "$$\n",
        "h = W_0x + \\frac{\\alpha}{r}BAx\n",
        "$$\n",
        "где $A \\in R^{r \\times k}$ $B \\in R^{d \\times r}$ – являются матрицами разложения, а $r$ – низкоразмерный ранг разложения, является наиболее важным гиперпараметром."
      ]
    },
    {
      "cell_type": "markdown",
      "metadata": {
        "id": "VYiIYlPEpGX_"
      },
      "source": [
        "Хотя, в принципе, эта репараметризация может быть применена к любой матрице весов в модели, исходная статья адаптирует только веса self-attention. `adapter-transformers` дополнительно позволяют внедрять LoRA в FCN слои в промежуточных и выходных компонентах блока Transformer. Вы можете настроить места, в которые должны быть добавлены веса LoRA, используя атрибуты в классе `LoRAConfig`.\n",
        "\n",
        "https://huggingface.co/docs/diffusers/en/training/lora"
      ]
    },
    {
      "cell_type": "code",
      "execution_count": null,
      "metadata": {
        "id": "OIW3CIJOpcAJ"
      },
      "outputs": [],
      "source": [
        "from transformers.adapters import LoRAConfig\n",
        "\n",
        "config = LoRAConfig(r=8, alpha=16)\n",
        "model.add_adapter(\"lora_adapter\", config=config)"
      ]
    },
    {
      "cell_type": "markdown",
      "metadata": {
        "id": "UGp__a4Epo7j"
      },
      "source": [
        "В статье [Hu et al. (2021)](https://arxiv.org/pdf/2106.09685.pdf) также уделяют особое внимание тому, чтобы свести к минимуму время обучения по сравнению с полным дообучением. Для этого репараметризация LoRA может быть объединена с исходными предварительно обученными весами модели. Таким образом, веса адаптера напрямую используются в каждом forward pass без передачи активаций через дополнительный модуль. В `adapter-transformers`\n",
        " это можно реализовать с помощью встроенного метода `merge_adapter()`:"
      ]
    },
    {
      "cell_type": "code",
      "execution_count": null,
      "metadata": {
        "id": "w9_YshHpqkUv"
      },
      "outputs": [],
      "source": [
        "model.merge_adapter(\"lora_adapter\")"
      ]
    },
    {
      "cell_type": "markdown",
      "metadata": {
        "id": "LVR9fZdZqk38"
      },
      "source": [
        "Чтобы продолжить обучение с этим адаптером LoRA или полностью отключить его, сначала необходимо снова сбросить объединенные веса:"
      ]
    },
    {
      "cell_type": "code",
      "execution_count": null,
      "metadata": {
        "id": "E-BVBIIJqouS"
      },
      "outputs": [],
      "source": [
        "model.reset_adapter(\"lora_adapter\")"
      ]
    },
    {
      "cell_type": "markdown",
      "metadata": {
        "id": "-f9A_z7ke1eM"
      },
      "source": [
        "**Материалы:**\n",
        "\n",
        "1. https://arxiv.org/pdf/2106.09685.pdf\n",
        "2. https://adapterhub.ml/blog/2022/09/updates-in-adapter-transformers-v3-1/"
      ]
    },
    {
      "cell_type": "markdown",
      "metadata": {},
      "source": [
        "# `6. Дальнейшее развитие трансформеров`"
      ]
    },
    {
      "cell_type": "markdown",
      "metadata": {
        "id": "LgJ6mHHLv7sW"
      },
      "source": [
        "LLaMA\n",
        "\n",
        "<img src=\"https://sun9-4.userapi.com/impg/c3yM2t5AfMDMf0_c5CL0efV5fgm0JUFPhhUIrQ/sGWCwmdMGA4.jpg?size=1400x789&quality=95&sign=252ca0155b08bc60ccc846b012aff019&type=album\" width=700>"
      ]
    },
    {
      "cell_type": "markdown",
      "metadata": {},
      "source": [
        "MoE\n",
        "\n",
        "<img src=\"https://huggingface.co/datasets/huggingface/documentation-images/resolve/main/blog/moe/00_switch_transformer.png\" width=600>\n",
        "\n",
        "[MoE Explained](https://huggingface.co/blog/moe)"
      ]
    },
    {
      "cell_type": "markdown",
      "metadata": {},
      "source": [
        "Следить за топом моделей можно тут:\n",
        "\n",
        "[LMSYS Chatbot Arena Leaderboard](https://huggingface.co/spaces/lmsys/chatbot-arena-leaderboard)"
      ]
    },
    {
      "cell_type": "markdown",
      "metadata": {},
      "source": [
        "# `(Opt.) 6.1 Embeddings`"
      ]
    },
    {
      "cell_type": "markdown",
      "metadata": {},
      "source": [
        "> The Embeddings class is a class designed for interfacing with text embedding models. There are lots of embedding model providers (OpenAI, Cohere, Hugging Face, etc) - this class is designed to provide a standard interface for all of them.\n",
        "\n",
        "> Embeddings create a vector representation of a piece of text. This is useful because it means we can think about text in the vector space, and do things like semantic search where we look for pieces of text that are most similar in the vector space.\n",
        "\n",
        "> The base Embeddings class in LangChain provides two methods: one for embedding documents and one for embedding a query. The former takes as input multiple texts, while the latter takes a single text. The reason for having these as two separate methods is that some embedding providers have different embedding methods for documents (to be searched over) vs queries (the search query itself).\n",
        "\n",
        "- Source: https://developers.sber.ru/docs/ru/gigachat/sdk/modules/data-connection/text-embedding/overview\n",
        "- Nice paper: https://arxiv.org/pdf/2401.00368.pdf\n",
        "- Nice model: https://huggingface.co/intfloat/e5-mistral-7b-instruct"
      ]
    },
    {
      "cell_type": "markdown",
      "metadata": {
        "id": "p-9TJFEixcA9"
      },
      "source": [
        "# `7. Доп материалы`"
      ]
    },
    {
      "cell_type": "markdown",
      "metadata": {
        "id": "xT7sBhgHxjDy"
      },
      "source": [
        "- [ML handbook](https://education.yandex.ru/handbook/ml/article/transformery)\n",
        "- [Let's build GPT: from scratch, in code, spelled out.](https://www.youtube.com/watch?v=kCc8FmEb1nY)\n",
        "- [Scaling ChatGPT: Five Real-World Engineering Challenges](https://newsletter.pragmaticengineer.com/p/scaling-chatgpt)\n",
        "- [Current Best Practices for Training LLMs from Scratch](https://wandb.ai/site/resources/whitepapers/llm-whitepaper)"
      ]
    }
  ],
  "metadata": {
    "colab": {
      "collapsed_sections": [
        "uK943aeAwXnC",
        "EnbwWfqNwjjf",
        "qNWVyeg7POO1",
        "p-9TJFEixcA9"
      ],
      "provenance": []
    },
    "kernelspec": {
      "display_name": "Python 3",
      "name": "python3"
    },
    "language_info": {
      "codemirror_mode": {
        "name": "ipython",
        "version": 3
      },
      "file_extension": ".py",
      "mimetype": "text/x-python",
      "name": "python",
      "nbconvert_exporter": "python",
      "pygments_lexer": "ipython3",
      "version": "3.9.6"
    },
    "widgets": {
      "application/vnd.jupyter.widget-state+json": {
        "061c196fa14b452a9cc0f35c5599dccc": {
          "model_module": "@jupyter-widgets/controls",
          "model_module_version": "1.5.0",
          "model_name": "ProgressStyleModel",
          "state": {
            "_model_module": "@jupyter-widgets/controls",
            "_model_module_version": "1.5.0",
            "_model_name": "ProgressStyleModel",
            "_view_count": null,
            "_view_module": "@jupyter-widgets/base",
            "_view_module_version": "1.2.0",
            "_view_name": "StyleView",
            "bar_color": null,
            "description_width": ""
          }
        },
        "17df8358372e464b910493cba5e0bb01": {
          "model_module": "@jupyter-widgets/base",
          "model_module_version": "1.2.0",
          "model_name": "LayoutModel",
          "state": {
            "_model_module": "@jupyter-widgets/base",
            "_model_module_version": "1.2.0",
            "_model_name": "LayoutModel",
            "_view_count": null,
            "_view_module": "@jupyter-widgets/base",
            "_view_module_version": "1.2.0",
            "_view_name": "LayoutView",
            "align_content": null,
            "align_items": null,
            "align_self": null,
            "border": null,
            "bottom": null,
            "display": null,
            "flex": null,
            "flex_flow": null,
            "grid_area": null,
            "grid_auto_columns": null,
            "grid_auto_flow": null,
            "grid_auto_rows": null,
            "grid_column": null,
            "grid_gap": null,
            "grid_row": null,
            "grid_template_areas": null,
            "grid_template_columns": null,
            "grid_template_rows": null,
            "height": null,
            "justify_content": null,
            "justify_items": null,
            "left": null,
            "margin": null,
            "max_height": null,
            "max_width": null,
            "min_height": null,
            "min_width": null,
            "object_fit": null,
            "object_position": null,
            "order": null,
            "overflow": null,
            "overflow_x": null,
            "overflow_y": null,
            "padding": null,
            "right": null,
            "top": null,
            "visibility": null,
            "width": null
          }
        },
        "1a7b994605e047599c829c718dd98cfd": {
          "model_module": "@jupyter-widgets/controls",
          "model_module_version": "1.5.0",
          "model_name": "HTMLModel",
          "state": {
            "_dom_classes": [],
            "_model_module": "@jupyter-widgets/controls",
            "_model_module_version": "1.5.0",
            "_model_name": "HTMLModel",
            "_view_count": null,
            "_view_module": "@jupyter-widgets/controls",
            "_view_module_version": "1.5.0",
            "_view_name": "HTMLView",
            "description": "",
            "description_tooltip": null,
            "layout": "IPY_MODEL_17df8358372e464b910493cba5e0bb01",
            "placeholder": "​",
            "style": "IPY_MODEL_f5fb87d67af645d7bc29252d15059a2a",
            "value": "Generating train split: "
          }
        },
        "1c1a2a7821d744a0baee9fa701c7e150": {
          "model_module": "@jupyter-widgets/controls",
          "model_module_version": "1.5.0",
          "model_name": "HTMLModel",
          "state": {
            "_dom_classes": [],
            "_model_module": "@jupyter-widgets/controls",
            "_model_module_version": "1.5.0",
            "_model_name": "HTMLModel",
            "_view_count": null,
            "_view_module": "@jupyter-widgets/controls",
            "_view_module_version": "1.5.0",
            "_view_name": "HTMLView",
            "description": "",
            "description_tooltip": null,
            "layout": "IPY_MODEL_9e0c53ef58e34f5a84501670e689897f",
            "placeholder": "​",
            "style": "IPY_MODEL_4728ab2302984f0c9566ef894e5900a1",
            "value": " 4.53k/4.53k [00:00&lt;00:00, 89.6kB/s]"
          }
        },
        "1ecd1ac890e545f4b4d046cfd8a98c61": {
          "model_module": "@jupyter-widgets/base",
          "model_module_version": "1.2.0",
          "model_name": "LayoutModel",
          "state": {
            "_model_module": "@jupyter-widgets/base",
            "_model_module_version": "1.2.0",
            "_model_name": "LayoutModel",
            "_view_count": null,
            "_view_module": "@jupyter-widgets/base",
            "_view_module_version": "1.2.0",
            "_view_name": "LayoutView",
            "align_content": null,
            "align_items": null,
            "align_self": null,
            "border": null,
            "bottom": null,
            "display": null,
            "flex": null,
            "flex_flow": null,
            "grid_area": null,
            "grid_auto_columns": null,
            "grid_auto_flow": null,
            "grid_auto_rows": null,
            "grid_column": null,
            "grid_gap": null,
            "grid_row": null,
            "grid_template_areas": null,
            "grid_template_columns": null,
            "grid_template_rows": null,
            "height": null,
            "justify_content": null,
            "justify_items": null,
            "left": null,
            "margin": null,
            "max_height": null,
            "max_width": null,
            "min_height": null,
            "min_width": null,
            "object_fit": null,
            "object_position": null,
            "order": null,
            "overflow": null,
            "overflow_x": null,
            "overflow_y": null,
            "padding": null,
            "right": null,
            "top": null,
            "visibility": null,
            "width": null
          }
        },
        "21770b6742514363ae139a837825b42b": {
          "model_module": "@jupyter-widgets/base",
          "model_module_version": "1.2.0",
          "model_name": "LayoutModel",
          "state": {
            "_model_module": "@jupyter-widgets/base",
            "_model_module_version": "1.2.0",
            "_model_name": "LayoutModel",
            "_view_count": null,
            "_view_module": "@jupyter-widgets/base",
            "_view_module_version": "1.2.0",
            "_view_name": "LayoutView",
            "align_content": null,
            "align_items": null,
            "align_self": null,
            "border": null,
            "bottom": null,
            "display": null,
            "flex": null,
            "flex_flow": null,
            "grid_area": null,
            "grid_auto_columns": null,
            "grid_auto_flow": null,
            "grid_auto_rows": null,
            "grid_column": null,
            "grid_gap": null,
            "grid_row": null,
            "grid_template_areas": null,
            "grid_template_columns": null,
            "grid_template_rows": null,
            "height": null,
            "justify_content": null,
            "justify_items": null,
            "left": null,
            "margin": null,
            "max_height": null,
            "max_width": null,
            "min_height": null,
            "min_width": null,
            "object_fit": null,
            "object_position": null,
            "order": null,
            "overflow": null,
            "overflow_x": null,
            "overflow_y": null,
            "padding": null,
            "right": null,
            "top": null,
            "visibility": null,
            "width": null
          }
        },
        "27b817a9990441f39541fca6607e9d8f": {
          "model_module": "@jupyter-widgets/controls",
          "model_module_version": "1.5.0",
          "model_name": "DescriptionStyleModel",
          "state": {
            "_model_module": "@jupyter-widgets/controls",
            "_model_module_version": "1.5.0",
            "_model_name": "DescriptionStyleModel",
            "_view_count": null,
            "_view_module": "@jupyter-widgets/base",
            "_view_module_version": "1.2.0",
            "_view_name": "StyleView",
            "description_width": ""
          }
        },
        "3282e2d40ee0444c95ca1d42f1805d21": {
          "model_module": "@jupyter-widgets/base",
          "model_module_version": "1.2.0",
          "model_name": "LayoutModel",
          "state": {
            "_model_module": "@jupyter-widgets/base",
            "_model_module_version": "1.2.0",
            "_model_name": "LayoutModel",
            "_view_count": null,
            "_view_module": "@jupyter-widgets/base",
            "_view_module_version": "1.2.0",
            "_view_name": "LayoutView",
            "align_content": null,
            "align_items": null,
            "align_self": null,
            "border": null,
            "bottom": null,
            "display": null,
            "flex": null,
            "flex_flow": null,
            "grid_area": null,
            "grid_auto_columns": null,
            "grid_auto_flow": null,
            "grid_auto_rows": null,
            "grid_column": null,
            "grid_gap": null,
            "grid_row": null,
            "grid_template_areas": null,
            "grid_template_columns": null,
            "grid_template_rows": null,
            "height": null,
            "justify_content": null,
            "justify_items": null,
            "left": null,
            "margin": null,
            "max_height": null,
            "max_width": null,
            "min_height": null,
            "min_width": null,
            "object_fit": null,
            "object_position": null,
            "order": null,
            "overflow": null,
            "overflow_x": null,
            "overflow_y": null,
            "padding": null,
            "right": null,
            "top": null,
            "visibility": null,
            "width": null
          }
        },
        "35df026c048d41c996863b593ec3ac8c": {
          "model_module": "@jupyter-widgets/controls",
          "model_module_version": "1.5.0",
          "model_name": "HTMLModel",
          "state": {
            "_dom_classes": [],
            "_model_module": "@jupyter-widgets/controls",
            "_model_module_version": "1.5.0",
            "_model_name": "HTMLModel",
            "_view_count": null,
            "_view_module": "@jupyter-widgets/controls",
            "_view_module_version": "1.5.0",
            "_view_name": "HTMLView",
            "description": "",
            "description_tooltip": null,
            "layout": "IPY_MODEL_9b10a34bd1ef4bbda2cc2eaaaf917fc4",
            "placeholder": "​",
            "style": "IPY_MODEL_3ac16deec3724f89b3fd1bb27ea95bec",
            "value": " 26.0/26.0 [00:00&lt;00:00, 1.27kB/s]"
          }
        },
        "386aa1c4ff76480791761883f3dc456c": {
          "model_module": "@jupyter-widgets/base",
          "model_module_version": "1.2.0",
          "model_name": "LayoutModel",
          "state": {
            "_model_module": "@jupyter-widgets/base",
            "_model_module_version": "1.2.0",
            "_model_name": "LayoutModel",
            "_view_count": null,
            "_view_module": "@jupyter-widgets/base",
            "_view_module_version": "1.2.0",
            "_view_name": "LayoutView",
            "align_content": null,
            "align_items": null,
            "align_self": null,
            "border": null,
            "bottom": null,
            "display": null,
            "flex": null,
            "flex_flow": null,
            "grid_area": null,
            "grid_auto_columns": null,
            "grid_auto_flow": null,
            "grid_auto_rows": null,
            "grid_column": null,
            "grid_gap": null,
            "grid_row": null,
            "grid_template_areas": null,
            "grid_template_columns": null,
            "grid_template_rows": null,
            "height": null,
            "justify_content": null,
            "justify_items": null,
            "left": null,
            "margin": null,
            "max_height": null,
            "max_width": null,
            "min_height": null,
            "min_width": null,
            "object_fit": null,
            "object_position": null,
            "order": null,
            "overflow": null,
            "overflow_x": null,
            "overflow_y": null,
            "padding": null,
            "right": null,
            "top": null,
            "visibility": null,
            "width": null
          }
        },
        "3ac16deec3724f89b3fd1bb27ea95bec": {
          "model_module": "@jupyter-widgets/controls",
          "model_module_version": "1.5.0",
          "model_name": "DescriptionStyleModel",
          "state": {
            "_model_module": "@jupyter-widgets/controls",
            "_model_module_version": "1.5.0",
            "_model_name": "DescriptionStyleModel",
            "_view_count": null,
            "_view_module": "@jupyter-widgets/base",
            "_view_module_version": "1.2.0",
            "_view_name": "StyleView",
            "description_width": ""
          }
        },
        "3c3b88004e6946bcb401f5e7e7c0d8f3": {
          "model_module": "@jupyter-widgets/base",
          "model_module_version": "1.2.0",
          "model_name": "LayoutModel",
          "state": {
            "_model_module": "@jupyter-widgets/base",
            "_model_module_version": "1.2.0",
            "_model_name": "LayoutModel",
            "_view_count": null,
            "_view_module": "@jupyter-widgets/base",
            "_view_module_version": "1.2.0",
            "_view_name": "LayoutView",
            "align_content": null,
            "align_items": null,
            "align_self": null,
            "border": null,
            "bottom": null,
            "display": null,
            "flex": null,
            "flex_flow": null,
            "grid_area": null,
            "grid_auto_columns": null,
            "grid_auto_flow": null,
            "grid_auto_rows": null,
            "grid_column": null,
            "grid_gap": null,
            "grid_row": null,
            "grid_template_areas": null,
            "grid_template_columns": null,
            "grid_template_rows": null,
            "height": null,
            "justify_content": null,
            "justify_items": null,
            "left": null,
            "margin": null,
            "max_height": null,
            "max_width": null,
            "min_height": null,
            "min_width": null,
            "object_fit": null,
            "object_position": null,
            "order": null,
            "overflow": null,
            "overflow_x": null,
            "overflow_y": null,
            "padding": null,
            "right": null,
            "top": null,
            "visibility": null,
            "width": null
          }
        },
        "45b3e4b0f79942aba830c982e4a91027": {
          "model_module": "@jupyter-widgets/controls",
          "model_module_version": "1.5.0",
          "model_name": "FloatProgressModel",
          "state": {
            "_dom_classes": [],
            "_model_module": "@jupyter-widgets/controls",
            "_model_module_version": "1.5.0",
            "_model_name": "FloatProgressModel",
            "_view_count": null,
            "_view_module": "@jupyter-widgets/controls",
            "_view_module_version": "1.5.0",
            "_view_name": "ProgressView",
            "bar_style": "success",
            "description": "",
            "description_tooltip": null,
            "layout": "IPY_MODEL_e09a90aec1ba436e88f9e33768e049f2",
            "max": 26,
            "min": 0,
            "orientation": "horizontal",
            "style": "IPY_MODEL_94c5638ff9c94873adece5574689dcdc",
            "value": 26
          }
        },
        "4728ab2302984f0c9566ef894e5900a1": {
          "model_module": "@jupyter-widgets/controls",
          "model_module_version": "1.5.0",
          "model_name": "DescriptionStyleModel",
          "state": {
            "_model_module": "@jupyter-widgets/controls",
            "_model_module_version": "1.5.0",
            "_model_name": "DescriptionStyleModel",
            "_view_count": null,
            "_view_module": "@jupyter-widgets/base",
            "_view_module_version": "1.2.0",
            "_view_name": "StyleView",
            "description_width": ""
          }
        },
        "49f21afdf5714a45abb55b82f69f7100": {
          "model_module": "@jupyter-widgets/controls",
          "model_module_version": "1.5.0",
          "model_name": "DescriptionStyleModel",
          "state": {
            "_model_module": "@jupyter-widgets/controls",
            "_model_module_version": "1.5.0",
            "_model_name": "DescriptionStyleModel",
            "_view_count": null,
            "_view_module": "@jupyter-widgets/base",
            "_view_module_version": "1.2.0",
            "_view_name": "StyleView",
            "description_width": ""
          }
        },
        "4a6c144690f6406880e12e9af4ab6186": {
          "model_module": "@jupyter-widgets/controls",
          "model_module_version": "1.5.0",
          "model_name": "DescriptionStyleModel",
          "state": {
            "_model_module": "@jupyter-widgets/controls",
            "_model_module_version": "1.5.0",
            "_model_name": "DescriptionStyleModel",
            "_view_count": null,
            "_view_module": "@jupyter-widgets/base",
            "_view_module_version": "1.2.0",
            "_view_name": "StyleView",
            "description_width": ""
          }
        },
        "510c0ed87af6493391a8252db6c90d68": {
          "model_module": "@jupyter-widgets/controls",
          "model_module_version": "1.5.0",
          "model_name": "HTMLModel",
          "state": {
            "_dom_classes": [],
            "_model_module": "@jupyter-widgets/controls",
            "_model_module_version": "1.5.0",
            "_model_name": "HTMLModel",
            "_view_count": null,
            "_view_module": "@jupyter-widgets/controls",
            "_view_module_version": "1.5.0",
            "_view_name": "HTMLView",
            "description": "",
            "description_tooltip": null,
            "layout": "IPY_MODEL_75c3e2c90cda4fdcb42537250f2d5fa7",
            "placeholder": "​",
            "style": "IPY_MODEL_8d628476503142d5bde4831fb5e10902",
            "value": "config.json: 100%"
          }
        },
        "5c80f83da02a48b8a9308fee8e0732fa": {
          "model_module": "@jupyter-widgets/controls",
          "model_module_version": "1.5.0",
          "model_name": "FloatProgressModel",
          "state": {
            "_dom_classes": [],
            "_model_module": "@jupyter-widgets/controls",
            "_model_module_version": "1.5.0",
            "_model_name": "FloatProgressModel",
            "_view_count": null,
            "_view_module": "@jupyter-widgets/controls",
            "_view_module_version": "1.5.0",
            "_view_name": "ProgressView",
            "bar_style": "success",
            "description": "",
            "description_tooltip": null,
            "layout": "IPY_MODEL_21770b6742514363ae139a837825b42b",
            "max": 665,
            "min": 0,
            "orientation": "horizontal",
            "style": "IPY_MODEL_6fe7662ee56f4609817df5b628636479",
            "value": 665
          }
        },
        "5fe29c39fc914194a334ae69e2036a1b": {
          "model_module": "@jupyter-widgets/controls",
          "model_module_version": "1.5.0",
          "model_name": "ProgressStyleModel",
          "state": {
            "_model_module": "@jupyter-widgets/controls",
            "_model_module_version": "1.5.0",
            "_model_name": "ProgressStyleModel",
            "_view_count": null,
            "_view_module": "@jupyter-widgets/base",
            "_view_module_version": "1.2.0",
            "_view_name": "StyleView",
            "bar_color": null,
            "description_width": ""
          }
        },
        "6099fcd2d08441c8901e0a3a488a5bf0": {
          "model_module": "@jupyter-widgets/base",
          "model_module_version": "1.2.0",
          "model_name": "LayoutModel",
          "state": {
            "_model_module": "@jupyter-widgets/base",
            "_model_module_version": "1.2.0",
            "_model_name": "LayoutModel",
            "_view_count": null,
            "_view_module": "@jupyter-widgets/base",
            "_view_module_version": "1.2.0",
            "_view_name": "LayoutView",
            "align_content": null,
            "align_items": null,
            "align_self": null,
            "border": null,
            "bottom": null,
            "display": null,
            "flex": null,
            "flex_flow": null,
            "grid_area": null,
            "grid_auto_columns": null,
            "grid_auto_flow": null,
            "grid_auto_rows": null,
            "grid_column": null,
            "grid_gap": null,
            "grid_row": null,
            "grid_template_areas": null,
            "grid_template_columns": null,
            "grid_template_rows": null,
            "height": null,
            "justify_content": null,
            "justify_items": null,
            "left": null,
            "margin": null,
            "max_height": null,
            "max_width": null,
            "min_height": null,
            "min_width": null,
            "object_fit": null,
            "object_position": null,
            "order": null,
            "overflow": null,
            "overflow_x": null,
            "overflow_y": null,
            "padding": null,
            "right": null,
            "top": null,
            "visibility": null,
            "width": null
          }
        },
        "639d624ceb124d0aa0099346e3b34fd8": {
          "model_module": "@jupyter-widgets/controls",
          "model_module_version": "1.5.0",
          "model_name": "HTMLModel",
          "state": {
            "_dom_classes": [],
            "_model_module": "@jupyter-widgets/controls",
            "_model_module_version": "1.5.0",
            "_model_name": "HTMLModel",
            "_view_count": null,
            "_view_module": "@jupyter-widgets/controls",
            "_view_module_version": "1.5.0",
            "_view_name": "HTMLView",
            "description": "",
            "description_tooltip": null,
            "layout": "IPY_MODEL_b6445611b5854442ac1e9f985e0d37f9",
            "placeholder": "​",
            "style": "IPY_MODEL_7992037916f74be8ae825468b3906593",
            "value": " 665/665 [00:00&lt;00:00, 31.0kB/s]"
          }
        },
        "66eb2554563a430b942cca6e5f22f213": {
          "model_module": "@jupyter-widgets/controls",
          "model_module_version": "1.5.0",
          "model_name": "HTMLModel",
          "state": {
            "_dom_classes": [],
            "_model_module": "@jupyter-widgets/controls",
            "_model_module_version": "1.5.0",
            "_model_name": "HTMLModel",
            "_view_count": null,
            "_view_module": "@jupyter-widgets/controls",
            "_view_module_version": "1.5.0",
            "_view_name": "HTMLView",
            "description": "",
            "description_tooltip": null,
            "layout": "IPY_MODEL_a010bd9882d54614953f680ac3caaa10",
            "placeholder": "​",
            "style": "IPY_MODEL_4a6c144690f6406880e12e9af4ab6186",
            "value": "Downloading data: 100%"
          }
        },
        "692bd3ff52bd4596a1b8d20ee82134ae": {
          "model_module": "@jupyter-widgets/controls",
          "model_module_version": "1.5.0",
          "model_name": "FloatProgressModel",
          "state": {
            "_dom_classes": [],
            "_model_module": "@jupyter-widgets/controls",
            "_model_module_version": "1.5.0",
            "_model_name": "FloatProgressModel",
            "_view_count": null,
            "_view_module": "@jupyter-widgets/controls",
            "_view_module_version": "1.5.0",
            "_view_name": "ProgressView",
            "bar_style": "success",
            "description": "",
            "description_tooltip": null,
            "layout": "IPY_MODEL_e81f8c2fa14e4dc09d5b9d4398dc7e1f",
            "max": 1355256,
            "min": 0,
            "orientation": "horizontal",
            "style": "IPY_MODEL_ceab821e0cf448f1a2f19521232542e5",
            "value": 1355256
          }
        },
        "6ace661ba36b4e49b031d12d858d052a": {
          "model_module": "@jupyter-widgets/controls",
          "model_module_version": "1.5.0",
          "model_name": "DescriptionStyleModel",
          "state": {
            "_model_module": "@jupyter-widgets/controls",
            "_model_module_version": "1.5.0",
            "_model_name": "DescriptionStyleModel",
            "_view_count": null,
            "_view_module": "@jupyter-widgets/base",
            "_view_module_version": "1.2.0",
            "_view_name": "StyleView",
            "description_width": ""
          }
        },
        "6fe7662ee56f4609817df5b628636479": {
          "model_module": "@jupyter-widgets/controls",
          "model_module_version": "1.5.0",
          "model_name": "ProgressStyleModel",
          "state": {
            "_model_module": "@jupyter-widgets/controls",
            "_model_module_version": "1.5.0",
            "_model_name": "ProgressStyleModel",
            "_view_count": null,
            "_view_module": "@jupyter-widgets/base",
            "_view_module_version": "1.2.0",
            "_view_name": "StyleView",
            "bar_color": null,
            "description_width": ""
          }
        },
        "75c3e2c90cda4fdcb42537250f2d5fa7": {
          "model_module": "@jupyter-widgets/base",
          "model_module_version": "1.2.0",
          "model_name": "LayoutModel",
          "state": {
            "_model_module": "@jupyter-widgets/base",
            "_model_module_version": "1.2.0",
            "_model_name": "LayoutModel",
            "_view_count": null,
            "_view_module": "@jupyter-widgets/base",
            "_view_module_version": "1.2.0",
            "_view_name": "LayoutView",
            "align_content": null,
            "align_items": null,
            "align_self": null,
            "border": null,
            "bottom": null,
            "display": null,
            "flex": null,
            "flex_flow": null,
            "grid_area": null,
            "grid_auto_columns": null,
            "grid_auto_flow": null,
            "grid_auto_rows": null,
            "grid_column": null,
            "grid_gap": null,
            "grid_row": null,
            "grid_template_areas": null,
            "grid_template_columns": null,
            "grid_template_rows": null,
            "height": null,
            "justify_content": null,
            "justify_items": null,
            "left": null,
            "margin": null,
            "max_height": null,
            "max_width": null,
            "min_height": null,
            "min_width": null,
            "object_fit": null,
            "object_position": null,
            "order": null,
            "overflow": null,
            "overflow_x": null,
            "overflow_y": null,
            "padding": null,
            "right": null,
            "top": null,
            "visibility": null,
            "width": null
          }
        },
        "78e2e086f22f4d2b8a509bd5e3446dd0": {
          "model_module": "@jupyter-widgets/controls",
          "model_module_version": "1.5.0",
          "model_name": "ProgressStyleModel",
          "state": {
            "_model_module": "@jupyter-widgets/controls",
            "_model_module_version": "1.5.0",
            "_model_name": "ProgressStyleModel",
            "_view_count": null,
            "_view_module": "@jupyter-widgets/base",
            "_view_module_version": "1.2.0",
            "_view_name": "StyleView",
            "bar_color": null,
            "description_width": ""
          }
        },
        "7992037916f74be8ae825468b3906593": {
          "model_module": "@jupyter-widgets/controls",
          "model_module_version": "1.5.0",
          "model_name": "DescriptionStyleModel",
          "state": {
            "_model_module": "@jupyter-widgets/controls",
            "_model_module_version": "1.5.0",
            "_model_name": "DescriptionStyleModel",
            "_view_count": null,
            "_view_module": "@jupyter-widgets/base",
            "_view_module_version": "1.2.0",
            "_view_name": "StyleView",
            "description_width": ""
          }
        },
        "7bf34c85fed3414a89d179a7a44cead2": {
          "model_module": "@jupyter-widgets/controls",
          "model_module_version": "1.5.0",
          "model_name": "HTMLModel",
          "state": {
            "_dom_classes": [],
            "_model_module": "@jupyter-widgets/controls",
            "_model_module_version": "1.5.0",
            "_model_name": "HTMLModel",
            "_view_count": null,
            "_view_module": "@jupyter-widgets/controls",
            "_view_module_version": "1.5.0",
            "_view_name": "HTMLView",
            "description": "",
            "description_tooltip": null,
            "layout": "IPY_MODEL_a1837616abfa46839fb5ca4f870f7840",
            "placeholder": "​",
            "style": "IPY_MODEL_c6b72043614c43458859fc775c73af15",
            "value": "Downloading readme: 100%"
          }
        },
        "7e6808a5fbfa463fa8753ba69fd820e0": {
          "model_module": "@jupyter-widgets/base",
          "model_module_version": "1.2.0",
          "model_name": "LayoutModel",
          "state": {
            "_model_module": "@jupyter-widgets/base",
            "_model_module_version": "1.2.0",
            "_model_name": "LayoutModel",
            "_view_count": null,
            "_view_module": "@jupyter-widgets/base",
            "_view_module_version": "1.2.0",
            "_view_name": "LayoutView",
            "align_content": null,
            "align_items": null,
            "align_self": null,
            "border": null,
            "bottom": null,
            "display": null,
            "flex": null,
            "flex_flow": null,
            "grid_area": null,
            "grid_auto_columns": null,
            "grid_auto_flow": null,
            "grid_auto_rows": null,
            "grid_column": null,
            "grid_gap": null,
            "grid_row": null,
            "grid_template_areas": null,
            "grid_template_columns": null,
            "grid_template_rows": null,
            "height": null,
            "justify_content": null,
            "justify_items": null,
            "left": null,
            "margin": null,
            "max_height": null,
            "max_width": null,
            "min_height": null,
            "min_width": null,
            "object_fit": null,
            "object_position": null,
            "order": null,
            "overflow": null,
            "overflow_x": null,
            "overflow_y": null,
            "padding": null,
            "right": null,
            "top": null,
            "visibility": null,
            "width": null
          }
        },
        "8a396c37e6c3480e804e1a4d0e32beda": {
          "model_module": "@jupyter-widgets/controls",
          "model_module_version": "1.5.0",
          "model_name": "HBoxModel",
          "state": {
            "_dom_classes": [],
            "_model_module": "@jupyter-widgets/controls",
            "_model_module_version": "1.5.0",
            "_model_name": "HBoxModel",
            "_view_count": null,
            "_view_module": "@jupyter-widgets/controls",
            "_view_module_version": "1.5.0",
            "_view_name": "HBoxView",
            "box_style": "",
            "children": [
              "IPY_MODEL_8b901a8955744e66882930928b7a751a",
              "IPY_MODEL_45b3e4b0f79942aba830c982e4a91027",
              "IPY_MODEL_35df026c048d41c996863b593ec3ac8c"
            ],
            "layout": "IPY_MODEL_97b84e5e086c4da086670366ae6fb936"
          }
        },
        "8b901a8955744e66882930928b7a751a": {
          "model_module": "@jupyter-widgets/controls",
          "model_module_version": "1.5.0",
          "model_name": "HTMLModel",
          "state": {
            "_dom_classes": [],
            "_model_module": "@jupyter-widgets/controls",
            "_model_module_version": "1.5.0",
            "_model_name": "HTMLModel",
            "_view_count": null,
            "_view_module": "@jupyter-widgets/controls",
            "_view_module_version": "1.5.0",
            "_view_name": "HTMLView",
            "description": "",
            "description_tooltip": null,
            "layout": "IPY_MODEL_3282e2d40ee0444c95ca1d42f1805d21",
            "placeholder": "​",
            "style": "IPY_MODEL_9d6662547026402088f145c5aab16fb0",
            "value": "tokenizer_config.json: 100%"
          }
        },
        "8d628476503142d5bde4831fb5e10902": {
          "model_module": "@jupyter-widgets/controls",
          "model_module_version": "1.5.0",
          "model_name": "DescriptionStyleModel",
          "state": {
            "_model_module": "@jupyter-widgets/controls",
            "_model_module_version": "1.5.0",
            "_model_name": "DescriptionStyleModel",
            "_view_count": null,
            "_view_module": "@jupyter-widgets/base",
            "_view_module_version": "1.2.0",
            "_view_name": "StyleView",
            "description_width": ""
          }
        },
        "91ab5de825c2455c8459f9c538b0a25a": {
          "model_module": "@jupyter-widgets/controls",
          "model_module_version": "1.5.0",
          "model_name": "HBoxModel",
          "state": {
            "_dom_classes": [],
            "_model_module": "@jupyter-widgets/controls",
            "_model_module_version": "1.5.0",
            "_model_name": "HBoxModel",
            "_view_count": null,
            "_view_module": "@jupyter-widgets/controls",
            "_view_module_version": "1.5.0",
            "_view_name": "HBoxView",
            "box_style": "",
            "children": [
              "IPY_MODEL_7bf34c85fed3414a89d179a7a44cead2",
              "IPY_MODEL_a724302345824ed0878346fa554a5726",
              "IPY_MODEL_1c1a2a7821d744a0baee9fa701c7e150"
            ],
            "layout": "IPY_MODEL_c72a10a328394b4fb87340eb4b51719b"
          }
        },
        "932507d7d6aa4bbea403a327d42108b2": {
          "model_module": "@jupyter-widgets/base",
          "model_module_version": "1.2.0",
          "model_name": "LayoutModel",
          "state": {
            "_model_module": "@jupyter-widgets/base",
            "_model_module_version": "1.2.0",
            "_model_name": "LayoutModel",
            "_view_count": null,
            "_view_module": "@jupyter-widgets/base",
            "_view_module_version": "1.2.0",
            "_view_name": "LayoutView",
            "align_content": null,
            "align_items": null,
            "align_self": null,
            "border": null,
            "bottom": null,
            "display": null,
            "flex": null,
            "flex_flow": null,
            "grid_area": null,
            "grid_auto_columns": null,
            "grid_auto_flow": null,
            "grid_auto_rows": null,
            "grid_column": null,
            "grid_gap": null,
            "grid_row": null,
            "grid_template_areas": null,
            "grid_template_columns": null,
            "grid_template_rows": null,
            "height": null,
            "justify_content": null,
            "justify_items": null,
            "left": null,
            "margin": null,
            "max_height": null,
            "max_width": null,
            "min_height": null,
            "min_width": null,
            "object_fit": null,
            "object_position": null,
            "order": null,
            "overflow": null,
            "overflow_x": null,
            "overflow_y": null,
            "padding": null,
            "right": null,
            "top": null,
            "visibility": null,
            "width": null
          }
        },
        "939db286fb46404c9ebcc126e309a5a9": {
          "model_module": "@jupyter-widgets/controls",
          "model_module_version": "1.5.0",
          "model_name": "FloatProgressModel",
          "state": {
            "_dom_classes": [],
            "_model_module": "@jupyter-widgets/controls",
            "_model_module_version": "1.5.0",
            "_model_name": "FloatProgressModel",
            "_view_count": null,
            "_view_module": "@jupyter-widgets/controls",
            "_view_module_version": "1.5.0",
            "_view_name": "ProgressView",
            "bar_style": "success",
            "description": "",
            "description_tooltip": null,
            "layout": "IPY_MODEL_a0bdf91cf1874f11b5e5dceb37d4fe80",
            "max": 1,
            "min": 0,
            "orientation": "horizontal",
            "style": "IPY_MODEL_78e2e086f22f4d2b8a509bd5e3446dd0",
            "value": 1
          }
        },
        "94c5638ff9c94873adece5574689dcdc": {
          "model_module": "@jupyter-widgets/controls",
          "model_module_version": "1.5.0",
          "model_name": "ProgressStyleModel",
          "state": {
            "_model_module": "@jupyter-widgets/controls",
            "_model_module_version": "1.5.0",
            "_model_name": "ProgressStyleModel",
            "_view_count": null,
            "_view_module": "@jupyter-widgets/base",
            "_view_module_version": "1.2.0",
            "_view_name": "StyleView",
            "bar_color": null,
            "description_width": ""
          }
        },
        "97b84e5e086c4da086670366ae6fb936": {
          "model_module": "@jupyter-widgets/base",
          "model_module_version": "1.2.0",
          "model_name": "LayoutModel",
          "state": {
            "_model_module": "@jupyter-widgets/base",
            "_model_module_version": "1.2.0",
            "_model_name": "LayoutModel",
            "_view_count": null,
            "_view_module": "@jupyter-widgets/base",
            "_view_module_version": "1.2.0",
            "_view_name": "LayoutView",
            "align_content": null,
            "align_items": null,
            "align_self": null,
            "border": null,
            "bottom": null,
            "display": null,
            "flex": null,
            "flex_flow": null,
            "grid_area": null,
            "grid_auto_columns": null,
            "grid_auto_flow": null,
            "grid_auto_rows": null,
            "grid_column": null,
            "grid_gap": null,
            "grid_row": null,
            "grid_template_areas": null,
            "grid_template_columns": null,
            "grid_template_rows": null,
            "height": null,
            "justify_content": null,
            "justify_items": null,
            "left": null,
            "margin": null,
            "max_height": null,
            "max_width": null,
            "min_height": null,
            "min_width": null,
            "object_fit": null,
            "object_position": null,
            "order": null,
            "overflow": null,
            "overflow_x": null,
            "overflow_y": null,
            "padding": null,
            "right": null,
            "top": null,
            "visibility": null,
            "width": null
          }
        },
        "9b10a34bd1ef4bbda2cc2eaaaf917fc4": {
          "model_module": "@jupyter-widgets/base",
          "model_module_version": "1.2.0",
          "model_name": "LayoutModel",
          "state": {
            "_model_module": "@jupyter-widgets/base",
            "_model_module_version": "1.2.0",
            "_model_name": "LayoutModel",
            "_view_count": null,
            "_view_module": "@jupyter-widgets/base",
            "_view_module_version": "1.2.0",
            "_view_name": "LayoutView",
            "align_content": null,
            "align_items": null,
            "align_self": null,
            "border": null,
            "bottom": null,
            "display": null,
            "flex": null,
            "flex_flow": null,
            "grid_area": null,
            "grid_auto_columns": null,
            "grid_auto_flow": null,
            "grid_auto_rows": null,
            "grid_column": null,
            "grid_gap": null,
            "grid_row": null,
            "grid_template_areas": null,
            "grid_template_columns": null,
            "grid_template_rows": null,
            "height": null,
            "justify_content": null,
            "justify_items": null,
            "left": null,
            "margin": null,
            "max_height": null,
            "max_width": null,
            "min_height": null,
            "min_width": null,
            "object_fit": null,
            "object_position": null,
            "order": null,
            "overflow": null,
            "overflow_x": null,
            "overflow_y": null,
            "padding": null,
            "right": null,
            "top": null,
            "visibility": null,
            "width": null
          }
        },
        "9d6662547026402088f145c5aab16fb0": {
          "model_module": "@jupyter-widgets/controls",
          "model_module_version": "1.5.0",
          "model_name": "DescriptionStyleModel",
          "state": {
            "_model_module": "@jupyter-widgets/controls",
            "_model_module_version": "1.5.0",
            "_model_name": "DescriptionStyleModel",
            "_view_count": null,
            "_view_module": "@jupyter-widgets/base",
            "_view_module_version": "1.2.0",
            "_view_name": "StyleView",
            "description_width": ""
          }
        },
        "9d6c97966b1241aca3f38c3e0ecbfe77": {
          "model_module": "@jupyter-widgets/base",
          "model_module_version": "1.2.0",
          "model_name": "LayoutModel",
          "state": {
            "_model_module": "@jupyter-widgets/base",
            "_model_module_version": "1.2.0",
            "_model_name": "LayoutModel",
            "_view_count": null,
            "_view_module": "@jupyter-widgets/base",
            "_view_module_version": "1.2.0",
            "_view_name": "LayoutView",
            "align_content": null,
            "align_items": null,
            "align_self": null,
            "border": null,
            "bottom": null,
            "display": null,
            "flex": null,
            "flex_flow": null,
            "grid_area": null,
            "grid_auto_columns": null,
            "grid_auto_flow": null,
            "grid_auto_rows": null,
            "grid_column": null,
            "grid_gap": null,
            "grid_row": null,
            "grid_template_areas": null,
            "grid_template_columns": null,
            "grid_template_rows": null,
            "height": null,
            "justify_content": null,
            "justify_items": null,
            "left": null,
            "margin": null,
            "max_height": null,
            "max_width": null,
            "min_height": null,
            "min_width": null,
            "object_fit": null,
            "object_position": null,
            "order": null,
            "overflow": null,
            "overflow_x": null,
            "overflow_y": null,
            "padding": null,
            "right": null,
            "top": null,
            "visibility": null,
            "width": null
          }
        },
        "9e0c53ef58e34f5a84501670e689897f": {
          "model_module": "@jupyter-widgets/base",
          "model_module_version": "1.2.0",
          "model_name": "LayoutModel",
          "state": {
            "_model_module": "@jupyter-widgets/base",
            "_model_module_version": "1.2.0",
            "_model_name": "LayoutModel",
            "_view_count": null,
            "_view_module": "@jupyter-widgets/base",
            "_view_module_version": "1.2.0",
            "_view_name": "LayoutView",
            "align_content": null,
            "align_items": null,
            "align_self": null,
            "border": null,
            "bottom": null,
            "display": null,
            "flex": null,
            "flex_flow": null,
            "grid_area": null,
            "grid_auto_columns": null,
            "grid_auto_flow": null,
            "grid_auto_rows": null,
            "grid_column": null,
            "grid_gap": null,
            "grid_row": null,
            "grid_template_areas": null,
            "grid_template_columns": null,
            "grid_template_rows": null,
            "height": null,
            "justify_content": null,
            "justify_items": null,
            "left": null,
            "margin": null,
            "max_height": null,
            "max_width": null,
            "min_height": null,
            "min_width": null,
            "object_fit": null,
            "object_position": null,
            "order": null,
            "overflow": null,
            "overflow_x": null,
            "overflow_y": null,
            "padding": null,
            "right": null,
            "top": null,
            "visibility": null,
            "width": null
          }
        },
        "a010bd9882d54614953f680ac3caaa10": {
          "model_module": "@jupyter-widgets/base",
          "model_module_version": "1.2.0",
          "model_name": "LayoutModel",
          "state": {
            "_model_module": "@jupyter-widgets/base",
            "_model_module_version": "1.2.0",
            "_model_name": "LayoutModel",
            "_view_count": null,
            "_view_module": "@jupyter-widgets/base",
            "_view_module_version": "1.2.0",
            "_view_name": "LayoutView",
            "align_content": null,
            "align_items": null,
            "align_self": null,
            "border": null,
            "bottom": null,
            "display": null,
            "flex": null,
            "flex_flow": null,
            "grid_area": null,
            "grid_auto_columns": null,
            "grid_auto_flow": null,
            "grid_auto_rows": null,
            "grid_column": null,
            "grid_gap": null,
            "grid_row": null,
            "grid_template_areas": null,
            "grid_template_columns": null,
            "grid_template_rows": null,
            "height": null,
            "justify_content": null,
            "justify_items": null,
            "left": null,
            "margin": null,
            "max_height": null,
            "max_width": null,
            "min_height": null,
            "min_width": null,
            "object_fit": null,
            "object_position": null,
            "order": null,
            "overflow": null,
            "overflow_x": null,
            "overflow_y": null,
            "padding": null,
            "right": null,
            "top": null,
            "visibility": null,
            "width": null
          }
        },
        "a0bdf91cf1874f11b5e5dceb37d4fe80": {
          "model_module": "@jupyter-widgets/base",
          "model_module_version": "1.2.0",
          "model_name": "LayoutModel",
          "state": {
            "_model_module": "@jupyter-widgets/base",
            "_model_module_version": "1.2.0",
            "_model_name": "LayoutModel",
            "_view_count": null,
            "_view_module": "@jupyter-widgets/base",
            "_view_module_version": "1.2.0",
            "_view_name": "LayoutView",
            "align_content": null,
            "align_items": null,
            "align_self": null,
            "border": null,
            "bottom": null,
            "display": null,
            "flex": null,
            "flex_flow": null,
            "grid_area": null,
            "grid_auto_columns": null,
            "grid_auto_flow": null,
            "grid_auto_rows": null,
            "grid_column": null,
            "grid_gap": null,
            "grid_row": null,
            "grid_template_areas": null,
            "grid_template_columns": null,
            "grid_template_rows": null,
            "height": null,
            "justify_content": null,
            "justify_items": null,
            "left": null,
            "margin": null,
            "max_height": null,
            "max_width": null,
            "min_height": null,
            "min_width": null,
            "object_fit": null,
            "object_position": null,
            "order": null,
            "overflow": null,
            "overflow_x": null,
            "overflow_y": null,
            "padding": null,
            "right": null,
            "top": null,
            "visibility": null,
            "width": "20px"
          }
        },
        "a1837616abfa46839fb5ca4f870f7840": {
          "model_module": "@jupyter-widgets/base",
          "model_module_version": "1.2.0",
          "model_name": "LayoutModel",
          "state": {
            "_model_module": "@jupyter-widgets/base",
            "_model_module_version": "1.2.0",
            "_model_name": "LayoutModel",
            "_view_count": null,
            "_view_module": "@jupyter-widgets/base",
            "_view_module_version": "1.2.0",
            "_view_name": "LayoutView",
            "align_content": null,
            "align_items": null,
            "align_self": null,
            "border": null,
            "bottom": null,
            "display": null,
            "flex": null,
            "flex_flow": null,
            "grid_area": null,
            "grid_auto_columns": null,
            "grid_auto_flow": null,
            "grid_auto_rows": null,
            "grid_column": null,
            "grid_gap": null,
            "grid_row": null,
            "grid_template_areas": null,
            "grid_template_columns": null,
            "grid_template_rows": null,
            "height": null,
            "justify_content": null,
            "justify_items": null,
            "left": null,
            "margin": null,
            "max_height": null,
            "max_width": null,
            "min_height": null,
            "min_width": null,
            "object_fit": null,
            "object_position": null,
            "order": null,
            "overflow": null,
            "overflow_x": null,
            "overflow_y": null,
            "padding": null,
            "right": null,
            "top": null,
            "visibility": null,
            "width": null
          }
        },
        "a724302345824ed0878346fa554a5726": {
          "model_module": "@jupyter-widgets/controls",
          "model_module_version": "1.5.0",
          "model_name": "FloatProgressModel",
          "state": {
            "_dom_classes": [],
            "_model_module": "@jupyter-widgets/controls",
            "_model_module_version": "1.5.0",
            "_model_name": "FloatProgressModel",
            "_view_count": null,
            "_view_module": "@jupyter-widgets/controls",
            "_view_module_version": "1.5.0",
            "_view_name": "ProgressView",
            "bar_style": "success",
            "description": "",
            "description_tooltip": null,
            "layout": "IPY_MODEL_6099fcd2d08441c8901e0a3a488a5bf0",
            "max": 4531,
            "min": 0,
            "orientation": "horizontal",
            "style": "IPY_MODEL_5fe29c39fc914194a334ae69e2036a1b",
            "value": 4531
          }
        },
        "a88e715a8a07423db500e60bfefd6dd3": {
          "model_module": "@jupyter-widgets/controls",
          "model_module_version": "1.5.0",
          "model_name": "FloatProgressModel",
          "state": {
            "_dom_classes": [],
            "_model_module": "@jupyter-widgets/controls",
            "_model_module_version": "1.5.0",
            "_model_name": "FloatProgressModel",
            "_view_count": null,
            "_view_module": "@jupyter-widgets/controls",
            "_view_module_version": "1.5.0",
            "_view_name": "ProgressView",
            "bar_style": "success",
            "description": "",
            "description_tooltip": null,
            "layout": "IPY_MODEL_7e6808a5fbfa463fa8753ba69fd820e0",
            "max": 374925619,
            "min": 0,
            "orientation": "horizontal",
            "style": "IPY_MODEL_061c196fa14b452a9cc0f35c5599dccc",
            "value": 374925619
          }
        },
        "b183343fd35944a988876935baeb05a9": {
          "model_module": "@jupyter-widgets/controls",
          "model_module_version": "1.5.0",
          "model_name": "HTMLModel",
          "state": {
            "_dom_classes": [],
            "_model_module": "@jupyter-widgets/controls",
            "_model_module_version": "1.5.0",
            "_model_name": "HTMLModel",
            "_view_count": null,
            "_view_module": "@jupyter-widgets/controls",
            "_view_module_version": "1.5.0",
            "_view_name": "HTMLView",
            "description": "",
            "description_tooltip": null,
            "layout": "IPY_MODEL_c11ed6450815473b8abdcff90d14e974",
            "placeholder": "​",
            "style": "IPY_MODEL_49f21afdf5714a45abb55b82f69f7100",
            "value": " 1.36M/1.36M [00:00&lt;00:00, 9.49MB/s]"
          }
        },
        "b6445611b5854442ac1e9f985e0d37f9": {
          "model_module": "@jupyter-widgets/base",
          "model_module_version": "1.2.0",
          "model_name": "LayoutModel",
          "state": {
            "_model_module": "@jupyter-widgets/base",
            "_model_module_version": "1.2.0",
            "_model_name": "LayoutModel",
            "_view_count": null,
            "_view_module": "@jupyter-widgets/base",
            "_view_module_version": "1.2.0",
            "_view_name": "LayoutView",
            "align_content": null,
            "align_items": null,
            "align_self": null,
            "border": null,
            "bottom": null,
            "display": null,
            "flex": null,
            "flex_flow": null,
            "grid_area": null,
            "grid_auto_columns": null,
            "grid_auto_flow": null,
            "grid_auto_rows": null,
            "grid_column": null,
            "grid_gap": null,
            "grid_row": null,
            "grid_template_areas": null,
            "grid_template_columns": null,
            "grid_template_rows": null,
            "height": null,
            "justify_content": null,
            "justify_items": null,
            "left": null,
            "margin": null,
            "max_height": null,
            "max_width": null,
            "min_height": null,
            "min_width": null,
            "object_fit": null,
            "object_position": null,
            "order": null,
            "overflow": null,
            "overflow_x": null,
            "overflow_y": null,
            "padding": null,
            "right": null,
            "top": null,
            "visibility": null,
            "width": null
          }
        },
        "c11ed6450815473b8abdcff90d14e974": {
          "model_module": "@jupyter-widgets/base",
          "model_module_version": "1.2.0",
          "model_name": "LayoutModel",
          "state": {
            "_model_module": "@jupyter-widgets/base",
            "_model_module_version": "1.2.0",
            "_model_name": "LayoutModel",
            "_view_count": null,
            "_view_module": "@jupyter-widgets/base",
            "_view_module_version": "1.2.0",
            "_view_name": "LayoutView",
            "align_content": null,
            "align_items": null,
            "align_self": null,
            "border": null,
            "bottom": null,
            "display": null,
            "flex": null,
            "flex_flow": null,
            "grid_area": null,
            "grid_auto_columns": null,
            "grid_auto_flow": null,
            "grid_auto_rows": null,
            "grid_column": null,
            "grid_gap": null,
            "grid_row": null,
            "grid_template_areas": null,
            "grid_template_columns": null,
            "grid_template_rows": null,
            "height": null,
            "justify_content": null,
            "justify_items": null,
            "left": null,
            "margin": null,
            "max_height": null,
            "max_width": null,
            "min_height": null,
            "min_width": null,
            "object_fit": null,
            "object_position": null,
            "order": null,
            "overflow": null,
            "overflow_x": null,
            "overflow_y": null,
            "padding": null,
            "right": null,
            "top": null,
            "visibility": null,
            "width": null
          }
        },
        "c3f0e1051b444837803f4f5b353c72d6": {
          "model_module": "@jupyter-widgets/controls",
          "model_module_version": "1.5.0",
          "model_name": "HBoxModel",
          "state": {
            "_dom_classes": [],
            "_model_module": "@jupyter-widgets/controls",
            "_model_module_version": "1.5.0",
            "_model_name": "HBoxModel",
            "_view_count": null,
            "_view_module": "@jupyter-widgets/controls",
            "_view_module_version": "1.5.0",
            "_view_name": "HBoxView",
            "box_style": "",
            "children": [
              "IPY_MODEL_510c0ed87af6493391a8252db6c90d68",
              "IPY_MODEL_5c80f83da02a48b8a9308fee8e0732fa",
              "IPY_MODEL_639d624ceb124d0aa0099346e3b34fd8"
            ],
            "layout": "IPY_MODEL_386aa1c4ff76480791761883f3dc456c"
          }
        },
        "c6b72043614c43458859fc775c73af15": {
          "model_module": "@jupyter-widgets/controls",
          "model_module_version": "1.5.0",
          "model_name": "DescriptionStyleModel",
          "state": {
            "_model_module": "@jupyter-widgets/controls",
            "_model_module_version": "1.5.0",
            "_model_name": "DescriptionStyleModel",
            "_view_count": null,
            "_view_module": "@jupyter-widgets/base",
            "_view_module_version": "1.2.0",
            "_view_name": "StyleView",
            "description_width": ""
          }
        },
        "c6f07d6b5b50415ab4fc71ad1f41e3ef": {
          "model_module": "@jupyter-widgets/controls",
          "model_module_version": "1.5.0",
          "model_name": "HBoxModel",
          "state": {
            "_dom_classes": [],
            "_model_module": "@jupyter-widgets/controls",
            "_model_module_version": "1.5.0",
            "_model_name": "HBoxModel",
            "_view_count": null,
            "_view_module": "@jupyter-widgets/controls",
            "_view_module_version": "1.5.0",
            "_view_name": "HBoxView",
            "box_style": "",
            "children": [
              "IPY_MODEL_1a7b994605e047599c829c718dd98cfd",
              "IPY_MODEL_939db286fb46404c9ebcc126e309a5a9",
              "IPY_MODEL_fcbb453a6d0440278ca4d007a73c4eb3"
            ],
            "layout": "IPY_MODEL_932507d7d6aa4bbea403a327d42108b2"
          }
        },
        "c72a10a328394b4fb87340eb4b51719b": {
          "model_module": "@jupyter-widgets/base",
          "model_module_version": "1.2.0",
          "model_name": "LayoutModel",
          "state": {
            "_model_module": "@jupyter-widgets/base",
            "_model_module_version": "1.2.0",
            "_model_name": "LayoutModel",
            "_view_count": null,
            "_view_module": "@jupyter-widgets/base",
            "_view_module_version": "1.2.0",
            "_view_name": "LayoutView",
            "align_content": null,
            "align_items": null,
            "align_self": null,
            "border": null,
            "bottom": null,
            "display": null,
            "flex": null,
            "flex_flow": null,
            "grid_area": null,
            "grid_auto_columns": null,
            "grid_auto_flow": null,
            "grid_auto_rows": null,
            "grid_column": null,
            "grid_gap": null,
            "grid_row": null,
            "grid_template_areas": null,
            "grid_template_columns": null,
            "grid_template_rows": null,
            "height": null,
            "justify_content": null,
            "justify_items": null,
            "left": null,
            "margin": null,
            "max_height": null,
            "max_width": null,
            "min_height": null,
            "min_width": null,
            "object_fit": null,
            "object_position": null,
            "order": null,
            "overflow": null,
            "overflow_x": null,
            "overflow_y": null,
            "padding": null,
            "right": null,
            "top": null,
            "visibility": null,
            "width": null
          }
        },
        "c76185c77fc44c5aa205e31746579887": {
          "model_module": "@jupyter-widgets/controls",
          "model_module_version": "1.5.0",
          "model_name": "HTMLModel",
          "state": {
            "_dom_classes": [],
            "_model_module": "@jupyter-widgets/controls",
            "_model_module_version": "1.5.0",
            "_model_name": "HTMLModel",
            "_view_count": null,
            "_view_module": "@jupyter-widgets/controls",
            "_view_module_version": "1.5.0",
            "_view_name": "HTMLView",
            "description": "",
            "description_tooltip": null,
            "layout": "IPY_MODEL_d404f2b242874eff808ef51bc58132db",
            "placeholder": "​",
            "style": "IPY_MODEL_27b817a9990441f39541fca6607e9d8f",
            "value": "tokenizer.json: 100%"
          }
        },
        "ceab821e0cf448f1a2f19521232542e5": {
          "model_module": "@jupyter-widgets/controls",
          "model_module_version": "1.5.0",
          "model_name": "ProgressStyleModel",
          "state": {
            "_model_module": "@jupyter-widgets/controls",
            "_model_module_version": "1.5.0",
            "_model_name": "ProgressStyleModel",
            "_view_count": null,
            "_view_module": "@jupyter-widgets/base",
            "_view_module_version": "1.2.0",
            "_view_name": "StyleView",
            "bar_color": null,
            "description_width": ""
          }
        },
        "d01010e4c2dc48f2bb1c6e5640aa55a2": {
          "model_module": "@jupyter-widgets/controls",
          "model_module_version": "1.5.0",
          "model_name": "DescriptionStyleModel",
          "state": {
            "_model_module": "@jupyter-widgets/controls",
            "_model_module_version": "1.5.0",
            "_model_name": "DescriptionStyleModel",
            "_view_count": null,
            "_view_module": "@jupyter-widgets/base",
            "_view_module_version": "1.2.0",
            "_view_name": "StyleView",
            "description_width": ""
          }
        },
        "d404f2b242874eff808ef51bc58132db": {
          "model_module": "@jupyter-widgets/base",
          "model_module_version": "1.2.0",
          "model_name": "LayoutModel",
          "state": {
            "_model_module": "@jupyter-widgets/base",
            "_model_module_version": "1.2.0",
            "_model_name": "LayoutModel",
            "_view_count": null,
            "_view_module": "@jupyter-widgets/base",
            "_view_module_version": "1.2.0",
            "_view_name": "LayoutView",
            "align_content": null,
            "align_items": null,
            "align_self": null,
            "border": null,
            "bottom": null,
            "display": null,
            "flex": null,
            "flex_flow": null,
            "grid_area": null,
            "grid_auto_columns": null,
            "grid_auto_flow": null,
            "grid_auto_rows": null,
            "grid_column": null,
            "grid_gap": null,
            "grid_row": null,
            "grid_template_areas": null,
            "grid_template_columns": null,
            "grid_template_rows": null,
            "height": null,
            "justify_content": null,
            "justify_items": null,
            "left": null,
            "margin": null,
            "max_height": null,
            "max_width": null,
            "min_height": null,
            "min_width": null,
            "object_fit": null,
            "object_position": null,
            "order": null,
            "overflow": null,
            "overflow_x": null,
            "overflow_y": null,
            "padding": null,
            "right": null,
            "top": null,
            "visibility": null,
            "width": null
          }
        },
        "d9f0820b7cae49e297f168e5a5b6364d": {
          "model_module": "@jupyter-widgets/base",
          "model_module_version": "1.2.0",
          "model_name": "LayoutModel",
          "state": {
            "_model_module": "@jupyter-widgets/base",
            "_model_module_version": "1.2.0",
            "_model_name": "LayoutModel",
            "_view_count": null,
            "_view_module": "@jupyter-widgets/base",
            "_view_module_version": "1.2.0",
            "_view_name": "LayoutView",
            "align_content": null,
            "align_items": null,
            "align_self": null,
            "border": null,
            "bottom": null,
            "display": null,
            "flex": null,
            "flex_flow": null,
            "grid_area": null,
            "grid_auto_columns": null,
            "grid_auto_flow": null,
            "grid_auto_rows": null,
            "grid_column": null,
            "grid_gap": null,
            "grid_row": null,
            "grid_template_areas": null,
            "grid_template_columns": null,
            "grid_template_rows": null,
            "height": null,
            "justify_content": null,
            "justify_items": null,
            "left": null,
            "margin": null,
            "max_height": null,
            "max_width": null,
            "min_height": null,
            "min_width": null,
            "object_fit": null,
            "object_position": null,
            "order": null,
            "overflow": null,
            "overflow_x": null,
            "overflow_y": null,
            "padding": null,
            "right": null,
            "top": null,
            "visibility": null,
            "width": null
          }
        },
        "e09a90aec1ba436e88f9e33768e049f2": {
          "model_module": "@jupyter-widgets/base",
          "model_module_version": "1.2.0",
          "model_name": "LayoutModel",
          "state": {
            "_model_module": "@jupyter-widgets/base",
            "_model_module_version": "1.2.0",
            "_model_name": "LayoutModel",
            "_view_count": null,
            "_view_module": "@jupyter-widgets/base",
            "_view_module_version": "1.2.0",
            "_view_name": "LayoutView",
            "align_content": null,
            "align_items": null,
            "align_self": null,
            "border": null,
            "bottom": null,
            "display": null,
            "flex": null,
            "flex_flow": null,
            "grid_area": null,
            "grid_auto_columns": null,
            "grid_auto_flow": null,
            "grid_auto_rows": null,
            "grid_column": null,
            "grid_gap": null,
            "grid_row": null,
            "grid_template_areas": null,
            "grid_template_columns": null,
            "grid_template_rows": null,
            "height": null,
            "justify_content": null,
            "justify_items": null,
            "left": null,
            "margin": null,
            "max_height": null,
            "max_width": null,
            "min_height": null,
            "min_width": null,
            "object_fit": null,
            "object_position": null,
            "order": null,
            "overflow": null,
            "overflow_x": null,
            "overflow_y": null,
            "padding": null,
            "right": null,
            "top": null,
            "visibility": null,
            "width": null
          }
        },
        "e81f8c2fa14e4dc09d5b9d4398dc7e1f": {
          "model_module": "@jupyter-widgets/base",
          "model_module_version": "1.2.0",
          "model_name": "LayoutModel",
          "state": {
            "_model_module": "@jupyter-widgets/base",
            "_model_module_version": "1.2.0",
            "_model_name": "LayoutModel",
            "_view_count": null,
            "_view_module": "@jupyter-widgets/base",
            "_view_module_version": "1.2.0",
            "_view_name": "LayoutView",
            "align_content": null,
            "align_items": null,
            "align_self": null,
            "border": null,
            "bottom": null,
            "display": null,
            "flex": null,
            "flex_flow": null,
            "grid_area": null,
            "grid_auto_columns": null,
            "grid_auto_flow": null,
            "grid_auto_rows": null,
            "grid_column": null,
            "grid_gap": null,
            "grid_row": null,
            "grid_template_areas": null,
            "grid_template_columns": null,
            "grid_template_rows": null,
            "height": null,
            "justify_content": null,
            "justify_items": null,
            "left": null,
            "margin": null,
            "max_height": null,
            "max_width": null,
            "min_height": null,
            "min_width": null,
            "object_fit": null,
            "object_position": null,
            "order": null,
            "overflow": null,
            "overflow_x": null,
            "overflow_y": null,
            "padding": null,
            "right": null,
            "top": null,
            "visibility": null,
            "width": null
          }
        },
        "f5fb87d67af645d7bc29252d15059a2a": {
          "model_module": "@jupyter-widgets/controls",
          "model_module_version": "1.5.0",
          "model_name": "DescriptionStyleModel",
          "state": {
            "_model_module": "@jupyter-widgets/controls",
            "_model_module_version": "1.5.0",
            "_model_name": "DescriptionStyleModel",
            "_view_count": null,
            "_view_module": "@jupyter-widgets/base",
            "_view_module_version": "1.2.0",
            "_view_name": "StyleView",
            "description_width": ""
          }
        },
        "f7cadb8b1f184e35ba3b549259012662": {
          "model_module": "@jupyter-widgets/controls",
          "model_module_version": "1.5.0",
          "model_name": "HTMLModel",
          "state": {
            "_dom_classes": [],
            "_model_module": "@jupyter-widgets/controls",
            "_model_module_version": "1.5.0",
            "_model_name": "HTMLModel",
            "_view_count": null,
            "_view_module": "@jupyter-widgets/controls",
            "_view_module_version": "1.5.0",
            "_view_name": "HTMLView",
            "description": "",
            "description_tooltip": null,
            "layout": "IPY_MODEL_d9f0820b7cae49e297f168e5a5b6364d",
            "placeholder": "​",
            "style": "IPY_MODEL_6ace661ba36b4e49b031d12d858d052a",
            "value": " 375M/375M [00:25&lt;00:00, 15.5MB/s]"
          }
        },
        "fbe3ae244d464348a348e742e87f4a7f": {
          "model_module": "@jupyter-widgets/controls",
          "model_module_version": "1.5.0",
          "model_name": "HBoxModel",
          "state": {
            "_dom_classes": [],
            "_model_module": "@jupyter-widgets/controls",
            "_model_module_version": "1.5.0",
            "_model_name": "HBoxModel",
            "_view_count": null,
            "_view_module": "@jupyter-widgets/controls",
            "_view_module_version": "1.5.0",
            "_view_name": "HBoxView",
            "box_style": "",
            "children": [
              "IPY_MODEL_c76185c77fc44c5aa205e31746579887",
              "IPY_MODEL_692bd3ff52bd4596a1b8d20ee82134ae",
              "IPY_MODEL_b183343fd35944a988876935baeb05a9"
            ],
            "layout": "IPY_MODEL_9d6c97966b1241aca3f38c3e0ecbfe77"
          }
        },
        "fcbb453a6d0440278ca4d007a73c4eb3": {
          "model_module": "@jupyter-widgets/controls",
          "model_module_version": "1.5.0",
          "model_name": "HTMLModel",
          "state": {
            "_dom_classes": [],
            "_model_module": "@jupyter-widgets/controls",
            "_model_module_version": "1.5.0",
            "_model_name": "HTMLModel",
            "_view_count": null,
            "_view_module": "@jupyter-widgets/controls",
            "_view_module_version": "1.5.0",
            "_view_name": "HTMLView",
            "description": "",
            "description_tooltip": null,
            "layout": "IPY_MODEL_1ecd1ac890e545f4b4d046cfd8a98c61",
            "placeholder": "​",
            "style": "IPY_MODEL_d01010e4c2dc48f2bb1c6e5640aa55a2",
            "value": " 143000/0 [00:06&lt;00:00, 23356.33 examples/s]"
          }
        },
        "fdeb211691514d818ba110a81c0e320a": {
          "model_module": "@jupyter-widgets/controls",
          "model_module_version": "1.5.0",
          "model_name": "HBoxModel",
          "state": {
            "_dom_classes": [],
            "_model_module": "@jupyter-widgets/controls",
            "_model_module_version": "1.5.0",
            "_model_name": "HBoxModel",
            "_view_count": null,
            "_view_module": "@jupyter-widgets/controls",
            "_view_module_version": "1.5.0",
            "_view_name": "HBoxView",
            "box_style": "",
            "children": [
              "IPY_MODEL_66eb2554563a430b942cca6e5f22f213",
              "IPY_MODEL_a88e715a8a07423db500e60bfefd6dd3",
              "IPY_MODEL_f7cadb8b1f184e35ba3b549259012662"
            ],
            "layout": "IPY_MODEL_3c3b88004e6946bcb401f5e7e7c0d8f3"
          }
        }
      }
    }
  },
  "nbformat": 4,
  "nbformat_minor": 0
}
